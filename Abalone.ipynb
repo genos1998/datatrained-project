{
  "nbformat": 4,
  "nbformat_minor": 5,
  "metadata": {
    "kernelspec": {
      "display_name": "Python 3",
      "language": "python",
      "name": "python3"
    },
    "language_info": {
      "codemirror_mode": {
        "name": "ipython",
        "version": 3
      },
      "file_extension": ".py",
      "mimetype": "text/x-python",
      "name": "python",
      "nbconvert_exporter": "python",
      "pygments_lexer": "ipython3",
      "version": "3.8.8"
    },
    "colab": {
      "name": "Abalone.ipynb",
      "provenance": [],
      "collapsed_sections": [
        "b4884d53",
        "d0964dee",
        "69c193c9",
        "106c29e5",
        "2395e628",
        "24cc5dc2",
        "1f0a2cf3"
      ]
    }
  },
  "cells": [
    {
      "cell_type": "code",
      "metadata": {
        "id": "90d5a17e"
      },
      "source": [
        "from sklearn.model_selection import train_test_split\n",
        "from sklearn.metrics import confusion_matrix\n",
        "import pandas as pd\n",
        "import matplotlib.pyplot as plt\n",
        "#from imblearn.over_sampling import SMOTE\n",
        "import warnings\n",
        "warnings.filterwarnings(\"ignore\")\n",
        "import seaborn as sn\n",
        "import numpy as np\n",
        "import scipy.stats as stats\n",
        "from scipy.stats import zscore\n",
        "from sklearn.preprocessing import StandardScaler\n",
        "from sklearn.decomposition import PCA\n",
        "from sklearn.model_selection import cross_val_score\n",
        "from statsmodels.stats.outliers_influence import variance_inflation_factor\n",
        "from sklearn.ensemble import RandomForestRegressor\n",
        "from sklearn.tree import DecisionTreeRegressor\n",
        "from sklearn.svm import SVR\n",
        "from sklearn.linear_model import LogisticRegression\n",
        "from sklearn.neighbors import KNeighborsRegressor\n",
        "from lazypredict.Supervised import LazyRegressor\n",
        "from sklearn.model_selection import GridSearchCV\n",
        "from sklearn.metrics import r2_score,mean_absolute_error,mean_squared_error\n",
        "from sklearn.svm import NuSVR\n",
        "import joblib"
      ],
      "id": "90d5a17e",
      "execution_count": 1,
      "outputs": []
    },
    {
      "cell_type": "code",
      "metadata": {
        "colab": {
          "base_uri": "https://localhost:8080/",
          "height": 417
        },
        "id": "4b73938e",
        "outputId": "7a237d43-df77-406d-847c-d67408b02904"
      },
      "source": [
        "df=pd.read_csv('abalone.csv')\n",
        "df"
      ],
      "id": "4b73938e",
      "execution_count": 2,
      "outputs": [
        {
          "output_type": "execute_result",
          "data": {
            "text/html": [
              "<div>\n",
              "<style scoped>\n",
              "    .dataframe tbody tr th:only-of-type {\n",
              "        vertical-align: middle;\n",
              "    }\n",
              "\n",
              "    .dataframe tbody tr th {\n",
              "        vertical-align: top;\n",
              "    }\n",
              "\n",
              "    .dataframe thead th {\n",
              "        text-align: right;\n",
              "    }\n",
              "</style>\n",
              "<table border=\"1\" class=\"dataframe\">\n",
              "  <thead>\n",
              "    <tr style=\"text-align: right;\">\n",
              "      <th></th>\n",
              "      <th>Sex</th>\n",
              "      <th>Length</th>\n",
              "      <th>Diameter</th>\n",
              "      <th>Height</th>\n",
              "      <th>Whole weight</th>\n",
              "      <th>Shucked weight</th>\n",
              "      <th>Viscera weight</th>\n",
              "      <th>Shell weight</th>\n",
              "      <th>Rings</th>\n",
              "    </tr>\n",
              "  </thead>\n",
              "  <tbody>\n",
              "    <tr>\n",
              "      <th>0</th>\n",
              "      <td>M</td>\n",
              "      <td>0.46</td>\n",
              "      <td>0.36</td>\n",
              "      <td>0.10</td>\n",
              "      <td>0.51</td>\n",
              "      <td>0.22</td>\n",
              "      <td>0.10</td>\n",
              "      <td>0.15</td>\n",
              "      <td>15</td>\n",
              "    </tr>\n",
              "    <tr>\n",
              "      <th>1</th>\n",
              "      <td>M</td>\n",
              "      <td>0.35</td>\n",
              "      <td>0.27</td>\n",
              "      <td>0.09</td>\n",
              "      <td>0.23</td>\n",
              "      <td>0.10</td>\n",
              "      <td>0.05</td>\n",
              "      <td>0.07</td>\n",
              "      <td>7</td>\n",
              "    </tr>\n",
              "    <tr>\n",
              "      <th>2</th>\n",
              "      <td>F</td>\n",
              "      <td>0.53</td>\n",
              "      <td>0.42</td>\n",
              "      <td>0.14</td>\n",
              "      <td>0.68</td>\n",
              "      <td>0.26</td>\n",
              "      <td>0.14</td>\n",
              "      <td>0.21</td>\n",
              "      <td>9</td>\n",
              "    </tr>\n",
              "    <tr>\n",
              "      <th>3</th>\n",
              "      <td>M</td>\n",
              "      <td>0.44</td>\n",
              "      <td>0.36</td>\n",
              "      <td>0.12</td>\n",
              "      <td>0.52</td>\n",
              "      <td>0.22</td>\n",
              "      <td>0.11</td>\n",
              "      <td>0.15</td>\n",
              "      <td>10</td>\n",
              "    </tr>\n",
              "    <tr>\n",
              "      <th>4</th>\n",
              "      <td>I</td>\n",
              "      <td>0.33</td>\n",
              "      <td>0.26</td>\n",
              "      <td>0.08</td>\n",
              "      <td>0.20</td>\n",
              "      <td>0.09</td>\n",
              "      <td>0.04</td>\n",
              "      <td>0.06</td>\n",
              "      <td>7</td>\n",
              "    </tr>\n",
              "    <tr>\n",
              "      <th>...</th>\n",
              "      <td>...</td>\n",
              "      <td>...</td>\n",
              "      <td>...</td>\n",
              "      <td>...</td>\n",
              "      <td>...</td>\n",
              "      <td>...</td>\n",
              "      <td>...</td>\n",
              "      <td>...</td>\n",
              "      <td>...</td>\n",
              "    </tr>\n",
              "    <tr>\n",
              "      <th>4172</th>\n",
              "      <td>F</td>\n",
              "      <td>0.56</td>\n",
              "      <td>0.45</td>\n",
              "      <td>0.17</td>\n",
              "      <td>0.89</td>\n",
              "      <td>0.37</td>\n",
              "      <td>0.24</td>\n",
              "      <td>0.25</td>\n",
              "      <td>11</td>\n",
              "    </tr>\n",
              "    <tr>\n",
              "      <th>4173</th>\n",
              "      <td>M</td>\n",
              "      <td>0.59</td>\n",
              "      <td>0.44</td>\n",
              "      <td>0.14</td>\n",
              "      <td>0.97</td>\n",
              "      <td>0.44</td>\n",
              "      <td>0.21</td>\n",
              "      <td>0.26</td>\n",
              "      <td>10</td>\n",
              "    </tr>\n",
              "    <tr>\n",
              "      <th>4174</th>\n",
              "      <td>M</td>\n",
              "      <td>0.60</td>\n",
              "      <td>0.47</td>\n",
              "      <td>0.20</td>\n",
              "      <td>1.18</td>\n",
              "      <td>0.53</td>\n",
              "      <td>0.29</td>\n",
              "      <td>0.31</td>\n",
              "      <td>9</td>\n",
              "    </tr>\n",
              "    <tr>\n",
              "      <th>4175</th>\n",
              "      <td>F</td>\n",
              "      <td>0.62</td>\n",
              "      <td>0.48</td>\n",
              "      <td>0.15</td>\n",
              "      <td>1.09</td>\n",
              "      <td>0.53</td>\n",
              "      <td>0.26</td>\n",
              "      <td>0.30</td>\n",
              "      <td>10</td>\n",
              "    </tr>\n",
              "    <tr>\n",
              "      <th>4176</th>\n",
              "      <td>M</td>\n",
              "      <td>0.71</td>\n",
              "      <td>0.56</td>\n",
              "      <td>0.20</td>\n",
              "      <td>1.95</td>\n",
              "      <td>0.95</td>\n",
              "      <td>0.38</td>\n",
              "      <td>0.49</td>\n",
              "      <td>12</td>\n",
              "    </tr>\n",
              "  </tbody>\n",
              "</table>\n",
              "<p>4177 rows × 9 columns</p>\n",
              "</div>"
            ],
            "text/plain": [
              "     Sex  Length  Diameter  ...  Viscera weight  Shell weight  Rings\n",
              "0      M    0.46      0.36  ...            0.10          0.15     15\n",
              "1      M    0.35      0.27  ...            0.05          0.07      7\n",
              "2      F    0.53      0.42  ...            0.14          0.21      9\n",
              "3      M    0.44      0.36  ...            0.11          0.15     10\n",
              "4      I    0.33      0.26  ...            0.04          0.06      7\n",
              "...   ..     ...       ...  ...             ...           ...    ...\n",
              "4172   F    0.56      0.45  ...            0.24          0.25     11\n",
              "4173   M    0.59      0.44  ...            0.21          0.26     10\n",
              "4174   M    0.60      0.47  ...            0.29          0.31      9\n",
              "4175   F    0.62      0.48  ...            0.26          0.30     10\n",
              "4176   M    0.71      0.56  ...            0.38          0.49     12\n",
              "\n",
              "[4177 rows x 9 columns]"
            ]
          },
          "metadata": {
            "tags": []
          },
          "execution_count": 2
        }
      ]
    },
    {
      "cell_type": "markdown",
      "metadata": {
        "id": "4c6331dc"
      },
      "source": [
        "### The number of rings is the value to predict. \n",
        "### age of abalone: rings +1.5 gives the age in years."
      ],
      "id": "4c6331dc"
    },
    {
      "cell_type": "markdown",
      "metadata": {
        "id": "9e8a92fa"
      },
      "source": [
        "### Sex / nominal / -- / M, F, and I (infant)\n",
        "### Length / continuous / mm / Longest shell measurement\n",
        "### Diameter / continuous / mm / perpendicular to length\n",
        "### Height / continuous / mm / with meat in shell\n",
        "### Whole weight / continuous / grams / whole abalone\n",
        "### Shucked weight / continuous / grams / weight of meat\n",
        "### Viscera weight / continuous / grams / gut weight (after bleeding)\n",
        "### Shell weight / continuous / grams / after being dried"
      ],
      "id": "9e8a92fa"
    },
    {
      "cell_type": "code",
      "metadata": {
        "colab": {
          "base_uri": "https://localhost:8080/"
        },
        "id": "6189f810",
        "outputId": "d83c9a34-2737-459a-c6b0-1fbb47eaac5d"
      },
      "source": [
        "print('Number of rows x columns in dataset are:',df.shape)"
      ],
      "id": "6189f810",
      "execution_count": 3,
      "outputs": [
        {
          "output_type": "stream",
          "text": [
            "Number of rows x columns in dataset are: (4177, 9)\n"
          ],
          "name": "stdout"
        }
      ]
    },
    {
      "cell_type": "code",
      "metadata": {
        "colab": {
          "base_uri": "https://localhost:8080/"
        },
        "id": "651a9129",
        "outputId": "770c111e-e2a5-4f48-a323-6bba6372bdbb"
      },
      "source": [
        "print('Dataset contains any null values:',df.isnull().values.any())"
      ],
      "id": "651a9129",
      "execution_count": 4,
      "outputs": [
        {
          "output_type": "stream",
          "text": [
            "Dataset contains any null values: False\n"
          ],
          "name": "stdout"
        }
      ]
    },
    {
      "cell_type": "code",
      "metadata": {
        "colab": {
          "base_uri": "https://localhost:8080/"
        },
        "id": "8db3b6de",
        "outputId": "dcdd4b4d-2e02-4a18-9e90-86ae73969609"
      },
      "source": [
        "df.dtypes"
      ],
      "id": "8db3b6de",
      "execution_count": 5,
      "outputs": [
        {
          "output_type": "execute_result",
          "data": {
            "text/plain": [
              "Sex                object\n",
              "Length            float64\n",
              "Diameter          float64\n",
              "Height            float64\n",
              "Whole weight      float64\n",
              "Shucked weight    float64\n",
              "Viscera weight    float64\n",
              "Shell weight      float64\n",
              "Rings               int64\n",
              "dtype: object"
            ]
          },
          "metadata": {
            "tags": []
          },
          "execution_count": 5
        }
      ]
    },
    {
      "cell_type": "markdown",
      "metadata": {
        "id": "0b51762e"
      },
      "source": [
        "### sex is categorical value\n",
        "### rings is int value\n",
        "### rest all are float value"
      ],
      "id": "0b51762e"
    },
    {
      "cell_type": "markdown",
      "metadata": {
        "id": "5a439048"
      },
      "source": [
        "### conv alphabets to numerical data\n",
        "### assign each alphabet a unique value"
      ],
      "id": "5a439048"
    },
    {
      "cell_type": "code",
      "metadata": {
        "colab": {
          "base_uri": "https://localhost:8080/"
        },
        "id": "3af94b86",
        "outputId": "25075c61-2aab-4a88-c4c9-7504078ee3f7"
      },
      "source": [
        "dicty={}\n",
        "for i in df[['Sex']]:\n",
        "    dicto={}\n",
        "    for j in range(len(df[i].unique())):\n",
        "        dicto[df[i].unique()[j]]=j\n",
        "    dicty[i]=dicto\n",
        "dicty"
      ],
      "id": "3af94b86",
      "execution_count": 6,
      "outputs": [
        {
          "output_type": "execute_result",
          "data": {
            "text/plain": [
              "{'Sex': {'F': 1, 'I': 2, 'M': 0}}"
            ]
          },
          "metadata": {
            "tags": []
          },
          "execution_count": 6
        }
      ]
    },
    {
      "cell_type": "markdown",
      "metadata": {
        "id": "2f3ce896"
      },
      "source": [
        "### substitue categorical data in dataset to numeric"
      ],
      "id": "2f3ce896"
    },
    {
      "cell_type": "code",
      "metadata": {
        "id": "5984079d"
      },
      "source": [
        "for i in ['Sex']:\n",
        "    df[i]=df[i].apply(lambda x:dicty[i][x])"
      ],
      "id": "5984079d",
      "execution_count": 7,
      "outputs": []
    },
    {
      "cell_type": "code",
      "metadata": {
        "colab": {
          "base_uri": "https://localhost:8080/",
          "height": 417
        },
        "id": "017d2be0",
        "outputId": "846751ed-2e5f-4cbc-b098-0cd00b777507"
      },
      "source": [
        "df"
      ],
      "id": "017d2be0",
      "execution_count": 8,
      "outputs": [
        {
          "output_type": "execute_result",
          "data": {
            "text/html": [
              "<div>\n",
              "<style scoped>\n",
              "    .dataframe tbody tr th:only-of-type {\n",
              "        vertical-align: middle;\n",
              "    }\n",
              "\n",
              "    .dataframe tbody tr th {\n",
              "        vertical-align: top;\n",
              "    }\n",
              "\n",
              "    .dataframe thead th {\n",
              "        text-align: right;\n",
              "    }\n",
              "</style>\n",
              "<table border=\"1\" class=\"dataframe\">\n",
              "  <thead>\n",
              "    <tr style=\"text-align: right;\">\n",
              "      <th></th>\n",
              "      <th>Sex</th>\n",
              "      <th>Length</th>\n",
              "      <th>Diameter</th>\n",
              "      <th>Height</th>\n",
              "      <th>Whole weight</th>\n",
              "      <th>Shucked weight</th>\n",
              "      <th>Viscera weight</th>\n",
              "      <th>Shell weight</th>\n",
              "      <th>Rings</th>\n",
              "    </tr>\n",
              "  </thead>\n",
              "  <tbody>\n",
              "    <tr>\n",
              "      <th>0</th>\n",
              "      <td>0</td>\n",
              "      <td>0.46</td>\n",
              "      <td>0.36</td>\n",
              "      <td>0.10</td>\n",
              "      <td>0.51</td>\n",
              "      <td>0.22</td>\n",
              "      <td>0.10</td>\n",
              "      <td>0.15</td>\n",
              "      <td>15</td>\n",
              "    </tr>\n",
              "    <tr>\n",
              "      <th>1</th>\n",
              "      <td>0</td>\n",
              "      <td>0.35</td>\n",
              "      <td>0.27</td>\n",
              "      <td>0.09</td>\n",
              "      <td>0.23</td>\n",
              "      <td>0.10</td>\n",
              "      <td>0.05</td>\n",
              "      <td>0.07</td>\n",
              "      <td>7</td>\n",
              "    </tr>\n",
              "    <tr>\n",
              "      <th>2</th>\n",
              "      <td>1</td>\n",
              "      <td>0.53</td>\n",
              "      <td>0.42</td>\n",
              "      <td>0.14</td>\n",
              "      <td>0.68</td>\n",
              "      <td>0.26</td>\n",
              "      <td>0.14</td>\n",
              "      <td>0.21</td>\n",
              "      <td>9</td>\n",
              "    </tr>\n",
              "    <tr>\n",
              "      <th>3</th>\n",
              "      <td>0</td>\n",
              "      <td>0.44</td>\n",
              "      <td>0.36</td>\n",
              "      <td>0.12</td>\n",
              "      <td>0.52</td>\n",
              "      <td>0.22</td>\n",
              "      <td>0.11</td>\n",
              "      <td>0.15</td>\n",
              "      <td>10</td>\n",
              "    </tr>\n",
              "    <tr>\n",
              "      <th>4</th>\n",
              "      <td>2</td>\n",
              "      <td>0.33</td>\n",
              "      <td>0.26</td>\n",
              "      <td>0.08</td>\n",
              "      <td>0.20</td>\n",
              "      <td>0.09</td>\n",
              "      <td>0.04</td>\n",
              "      <td>0.06</td>\n",
              "      <td>7</td>\n",
              "    </tr>\n",
              "    <tr>\n",
              "      <th>...</th>\n",
              "      <td>...</td>\n",
              "      <td>...</td>\n",
              "      <td>...</td>\n",
              "      <td>...</td>\n",
              "      <td>...</td>\n",
              "      <td>...</td>\n",
              "      <td>...</td>\n",
              "      <td>...</td>\n",
              "      <td>...</td>\n",
              "    </tr>\n",
              "    <tr>\n",
              "      <th>4172</th>\n",
              "      <td>1</td>\n",
              "      <td>0.56</td>\n",
              "      <td>0.45</td>\n",
              "      <td>0.17</td>\n",
              "      <td>0.89</td>\n",
              "      <td>0.37</td>\n",
              "      <td>0.24</td>\n",
              "      <td>0.25</td>\n",
              "      <td>11</td>\n",
              "    </tr>\n",
              "    <tr>\n",
              "      <th>4173</th>\n",
              "      <td>0</td>\n",
              "      <td>0.59</td>\n",
              "      <td>0.44</td>\n",
              "      <td>0.14</td>\n",
              "      <td>0.97</td>\n",
              "      <td>0.44</td>\n",
              "      <td>0.21</td>\n",
              "      <td>0.26</td>\n",
              "      <td>10</td>\n",
              "    </tr>\n",
              "    <tr>\n",
              "      <th>4174</th>\n",
              "      <td>0</td>\n",
              "      <td>0.60</td>\n",
              "      <td>0.47</td>\n",
              "      <td>0.20</td>\n",
              "      <td>1.18</td>\n",
              "      <td>0.53</td>\n",
              "      <td>0.29</td>\n",
              "      <td>0.31</td>\n",
              "      <td>9</td>\n",
              "    </tr>\n",
              "    <tr>\n",
              "      <th>4175</th>\n",
              "      <td>1</td>\n",
              "      <td>0.62</td>\n",
              "      <td>0.48</td>\n",
              "      <td>0.15</td>\n",
              "      <td>1.09</td>\n",
              "      <td>0.53</td>\n",
              "      <td>0.26</td>\n",
              "      <td>0.30</td>\n",
              "      <td>10</td>\n",
              "    </tr>\n",
              "    <tr>\n",
              "      <th>4176</th>\n",
              "      <td>0</td>\n",
              "      <td>0.71</td>\n",
              "      <td>0.56</td>\n",
              "      <td>0.20</td>\n",
              "      <td>1.95</td>\n",
              "      <td>0.95</td>\n",
              "      <td>0.38</td>\n",
              "      <td>0.49</td>\n",
              "      <td>12</td>\n",
              "    </tr>\n",
              "  </tbody>\n",
              "</table>\n",
              "<p>4177 rows × 9 columns</p>\n",
              "</div>"
            ],
            "text/plain": [
              "      Sex  Length  Diameter  ...  Viscera weight  Shell weight  Rings\n",
              "0       0    0.46      0.36  ...            0.10          0.15     15\n",
              "1       0    0.35      0.27  ...            0.05          0.07      7\n",
              "2       1    0.53      0.42  ...            0.14          0.21      9\n",
              "3       0    0.44      0.36  ...            0.11          0.15     10\n",
              "4       2    0.33      0.26  ...            0.04          0.06      7\n",
              "...   ...     ...       ...  ...             ...           ...    ...\n",
              "4172    1    0.56      0.45  ...            0.24          0.25     11\n",
              "4173    0    0.59      0.44  ...            0.21          0.26     10\n",
              "4174    0    0.60      0.47  ...            0.29          0.31      9\n",
              "4175    1    0.62      0.48  ...            0.26          0.30     10\n",
              "4176    0    0.71      0.56  ...            0.38          0.49     12\n",
              "\n",
              "[4177 rows x 9 columns]"
            ]
          },
          "metadata": {
            "tags": []
          },
          "execution_count": 8
        }
      ]
    },
    {
      "cell_type": "markdown",
      "metadata": {
        "id": "239ca261"
      },
      "source": [
        "### check the correlation in new dataset to consider relevant columns"
      ],
      "id": "239ca261"
    },
    {
      "cell_type": "code",
      "metadata": {
        "colab": {
          "base_uri": "https://localhost:8080/",
          "height": 326
        },
        "id": "1f3e762e",
        "outputId": "a100e045-17d0-4224-ce59-134140dbc610"
      },
      "source": [
        "df.corr()"
      ],
      "id": "1f3e762e",
      "execution_count": 9,
      "outputs": [
        {
          "output_type": "execute_result",
          "data": {
            "text/html": [
              "<div>\n",
              "<style scoped>\n",
              "    .dataframe tbody tr th:only-of-type {\n",
              "        vertical-align: middle;\n",
              "    }\n",
              "\n",
              "    .dataframe tbody tr th {\n",
              "        vertical-align: top;\n",
              "    }\n",
              "\n",
              "    .dataframe thead th {\n",
              "        text-align: right;\n",
              "    }\n",
              "</style>\n",
              "<table border=\"1\" class=\"dataframe\">\n",
              "  <thead>\n",
              "    <tr style=\"text-align: right;\">\n",
              "      <th></th>\n",
              "      <th>Sex</th>\n",
              "      <th>Length</th>\n",
              "      <th>Diameter</th>\n",
              "      <th>Height</th>\n",
              "      <th>Whole weight</th>\n",
              "      <th>Shucked weight</th>\n",
              "      <th>Viscera weight</th>\n",
              "      <th>Shell weight</th>\n",
              "      <th>Rings</th>\n",
              "    </tr>\n",
              "  </thead>\n",
              "  <tbody>\n",
              "    <tr>\n",
              "      <th>Sex</th>\n",
              "      <td>1.00</td>\n",
              "      <td>-0.45</td>\n",
              "      <td>-0.46</td>\n",
              "      <td>-0.42</td>\n",
              "      <td>-0.46</td>\n",
              "      <td>-0.44</td>\n",
              "      <td>-0.45</td>\n",
              "      <td>-0.45</td>\n",
              "      <td>-0.35</td>\n",
              "    </tr>\n",
              "    <tr>\n",
              "      <th>Length</th>\n",
              "      <td>-0.45</td>\n",
              "      <td>1.00</td>\n",
              "      <td>0.99</td>\n",
              "      <td>0.83</td>\n",
              "      <td>0.93</td>\n",
              "      <td>0.90</td>\n",
              "      <td>0.90</td>\n",
              "      <td>0.90</td>\n",
              "      <td>0.56</td>\n",
              "    </tr>\n",
              "    <tr>\n",
              "      <th>Diameter</th>\n",
              "      <td>-0.46</td>\n",
              "      <td>0.99</td>\n",
              "      <td>1.00</td>\n",
              "      <td>0.83</td>\n",
              "      <td>0.93</td>\n",
              "      <td>0.89</td>\n",
              "      <td>0.90</td>\n",
              "      <td>0.91</td>\n",
              "      <td>0.57</td>\n",
              "    </tr>\n",
              "    <tr>\n",
              "      <th>Height</th>\n",
              "      <td>-0.42</td>\n",
              "      <td>0.83</td>\n",
              "      <td>0.83</td>\n",
              "      <td>1.00</td>\n",
              "      <td>0.82</td>\n",
              "      <td>0.77</td>\n",
              "      <td>0.80</td>\n",
              "      <td>0.82</td>\n",
              "      <td>0.56</td>\n",
              "    </tr>\n",
              "    <tr>\n",
              "      <th>Whole weight</th>\n",
              "      <td>-0.46</td>\n",
              "      <td>0.93</td>\n",
              "      <td>0.93</td>\n",
              "      <td>0.82</td>\n",
              "      <td>1.00</td>\n",
              "      <td>0.97</td>\n",
              "      <td>0.97</td>\n",
              "      <td>0.96</td>\n",
              "      <td>0.54</td>\n",
              "    </tr>\n",
              "    <tr>\n",
              "      <th>Shucked weight</th>\n",
              "      <td>-0.44</td>\n",
              "      <td>0.90</td>\n",
              "      <td>0.89</td>\n",
              "      <td>0.77</td>\n",
              "      <td>0.97</td>\n",
              "      <td>1.00</td>\n",
              "      <td>0.93</td>\n",
              "      <td>0.88</td>\n",
              "      <td>0.42</td>\n",
              "    </tr>\n",
              "    <tr>\n",
              "      <th>Viscera weight</th>\n",
              "      <td>-0.45</td>\n",
              "      <td>0.90</td>\n",
              "      <td>0.90</td>\n",
              "      <td>0.80</td>\n",
              "      <td>0.97</td>\n",
              "      <td>0.93</td>\n",
              "      <td>1.00</td>\n",
              "      <td>0.91</td>\n",
              "      <td>0.50</td>\n",
              "    </tr>\n",
              "    <tr>\n",
              "      <th>Shell weight</th>\n",
              "      <td>-0.45</td>\n",
              "      <td>0.90</td>\n",
              "      <td>0.91</td>\n",
              "      <td>0.82</td>\n",
              "      <td>0.96</td>\n",
              "      <td>0.88</td>\n",
              "      <td>0.91</td>\n",
              "      <td>1.00</td>\n",
              "      <td>0.63</td>\n",
              "    </tr>\n",
              "    <tr>\n",
              "      <th>Rings</th>\n",
              "      <td>-0.35</td>\n",
              "      <td>0.56</td>\n",
              "      <td>0.57</td>\n",
              "      <td>0.56</td>\n",
              "      <td>0.54</td>\n",
              "      <td>0.42</td>\n",
              "      <td>0.50</td>\n",
              "      <td>0.63</td>\n",
              "      <td>1.00</td>\n",
              "    </tr>\n",
              "  </tbody>\n",
              "</table>\n",
              "</div>"
            ],
            "text/plain": [
              "                 Sex  Length  Diameter  ...  Viscera weight  Shell weight  Rings\n",
              "Sex             1.00   -0.45     -0.46  ...           -0.45         -0.45  -0.35\n",
              "Length         -0.45    1.00      0.99  ...            0.90          0.90   0.56\n",
              "Diameter       -0.46    0.99      1.00  ...            0.90          0.91   0.57\n",
              "Height         -0.42    0.83      0.83  ...            0.80          0.82   0.56\n",
              "Whole weight   -0.46    0.93      0.93  ...            0.97          0.96   0.54\n",
              "Shucked weight -0.44    0.90      0.89  ...            0.93          0.88   0.42\n",
              "Viscera weight -0.45    0.90      0.90  ...            1.00          0.91   0.50\n",
              "Shell weight   -0.45    0.90      0.91  ...            0.91          1.00   0.63\n",
              "Rings          -0.35    0.56      0.57  ...            0.50          0.63   1.00\n",
              "\n",
              "[9 rows x 9 columns]"
            ]
          },
          "metadata": {
            "tags": []
          },
          "execution_count": 9
        }
      ]
    },
    {
      "cell_type": "code",
      "metadata": {
        "colab": {
          "base_uri": "https://localhost:8080/",
          "height": 682
        },
        "id": "10d0b519",
        "outputId": "502e5399-a31d-43ad-d077-5aa6d3617fcc"
      },
      "source": [
        "fig, ax = plt.subplots(figsize=(10,10))\n",
        "sn.heatmap(df.corr(),annot=True,ax=ax)"
      ],
      "id": "10d0b519",
      "execution_count": 10,
      "outputs": [
        {
          "output_type": "execute_result",
          "data": {
            "text/plain": [
              "<matplotlib.axes._subplots.AxesSubplot at 0x7ff8e6a6f990>"
            ]
          },
          "metadata": {
            "tags": []
          },
          "execution_count": 10
        },
        {
          "output_type": "display_data",
          "data": {
            "image/png": "[encoded data removed]",
            "text/plain": [
              "<Figure size 720x720 with 2 Axes>"
            ]
          },
          "metadata": {
            "tags": [],
            "needs_background": "light"
          }
        }
      ]
    },
    {
      "cell_type": "markdown",
      "metadata": {
        "id": "5b3b532d"
      },
      "source": [
        "### column sex and shucked weight has less corelation drop (for good correlation>= 0.5 and good correlation<=-0.5)"
      ],
      "id": "5b3b532d"
    },
    {
      "cell_type": "code",
      "metadata": {
        "colab": {
          "base_uri": "https://localhost:8080/",
          "height": 417
        },
        "id": "e03a47ba",
        "outputId": "3f333e41-c536-4bb9-8e96-2107dd628944"
      },
      "source": [
        "df=df.drop(['Sex','Shucked weight'],axis=1)\n",
        "df"
      ],
      "id": "e03a47ba",
      "execution_count": 11,
      "outputs": [
        {
          "output_type": "execute_result",
          "data": {
            "text/html": [
              "<div>\n",
              "<style scoped>\n",
              "    .dataframe tbody tr th:only-of-type {\n",
              "        vertical-align: middle;\n",
              "    }\n",
              "\n",
              "    .dataframe tbody tr th {\n",
              "        vertical-align: top;\n",
              "    }\n",
              "\n",
              "    .dataframe thead th {\n",
              "        text-align: right;\n",
              "    }\n",
              "</style>\n",
              "<table border=\"1\" class=\"dataframe\">\n",
              "  <thead>\n",
              "    <tr style=\"text-align: right;\">\n",
              "      <th></th>\n",
              "      <th>Length</th>\n",
              "      <th>Diameter</th>\n",
              "      <th>Height</th>\n",
              "      <th>Whole weight</th>\n",
              "      <th>Viscera weight</th>\n",
              "      <th>Shell weight</th>\n",
              "      <th>Rings</th>\n",
              "    </tr>\n",
              "  </thead>\n",
              "  <tbody>\n",
              "    <tr>\n",
              "      <th>0</th>\n",
              "      <td>0.46</td>\n",
              "      <td>0.36</td>\n",
              "      <td>0.10</td>\n",
              "      <td>0.51</td>\n",
              "      <td>0.10</td>\n",
              "      <td>0.15</td>\n",
              "      <td>15</td>\n",
              "    </tr>\n",
              "    <tr>\n",
              "      <th>1</th>\n",
              "      <td>0.35</td>\n",
              "      <td>0.27</td>\n",
              "      <td>0.09</td>\n",
              "      <td>0.23</td>\n",
              "      <td>0.05</td>\n",
              "      <td>0.07</td>\n",
              "      <td>7</td>\n",
              "    </tr>\n",
              "    <tr>\n",
              "      <th>2</th>\n",
              "      <td>0.53</td>\n",
              "      <td>0.42</td>\n",
              "      <td>0.14</td>\n",
              "      <td>0.68</td>\n",
              "      <td>0.14</td>\n",
              "      <td>0.21</td>\n",
              "      <td>9</td>\n",
              "    </tr>\n",
              "    <tr>\n",
              "      <th>3</th>\n",
              "      <td>0.44</td>\n",
              "      <td>0.36</td>\n",
              "      <td>0.12</td>\n",
              "      <td>0.52</td>\n",
              "      <td>0.11</td>\n",
              "      <td>0.15</td>\n",
              "      <td>10</td>\n",
              "    </tr>\n",
              "    <tr>\n",
              "      <th>4</th>\n",
              "      <td>0.33</td>\n",
              "      <td>0.26</td>\n",
              "      <td>0.08</td>\n",
              "      <td>0.20</td>\n",
              "      <td>0.04</td>\n",
              "      <td>0.06</td>\n",
              "      <td>7</td>\n",
              "    </tr>\n",
              "    <tr>\n",
              "      <th>...</th>\n",
              "      <td>...</td>\n",
              "      <td>...</td>\n",
              "      <td>...</td>\n",
              "      <td>...</td>\n",
              "      <td>...</td>\n",
              "      <td>...</td>\n",
              "      <td>...</td>\n",
              "    </tr>\n",
              "    <tr>\n",
              "      <th>4172</th>\n",
              "      <td>0.56</td>\n",
              "      <td>0.45</td>\n",
              "      <td>0.17</td>\n",
              "      <td>0.89</td>\n",
              "      <td>0.24</td>\n",
              "      <td>0.25</td>\n",
              "      <td>11</td>\n",
              "    </tr>\n",
              "    <tr>\n",
              "      <th>4173</th>\n",
              "      <td>0.59</td>\n",
              "      <td>0.44</td>\n",
              "      <td>0.14</td>\n",
              "      <td>0.97</td>\n",
              "      <td>0.21</td>\n",
              "      <td>0.26</td>\n",
              "      <td>10</td>\n",
              "    </tr>\n",
              "    <tr>\n",
              "      <th>4174</th>\n",
              "      <td>0.60</td>\n",
              "      <td>0.47</td>\n",
              "      <td>0.20</td>\n",
              "      <td>1.18</td>\n",
              "      <td>0.29</td>\n",
              "      <td>0.31</td>\n",
              "      <td>9</td>\n",
              "    </tr>\n",
              "    <tr>\n",
              "      <th>4175</th>\n",
              "      <td>0.62</td>\n",
              "      <td>0.48</td>\n",
              "      <td>0.15</td>\n",
              "      <td>1.09</td>\n",
              "      <td>0.26</td>\n",
              "      <td>0.30</td>\n",
              "      <td>10</td>\n",
              "    </tr>\n",
              "    <tr>\n",
              "      <th>4176</th>\n",
              "      <td>0.71</td>\n",
              "      <td>0.56</td>\n",
              "      <td>0.20</td>\n",
              "      <td>1.95</td>\n",
              "      <td>0.38</td>\n",
              "      <td>0.49</td>\n",
              "      <td>12</td>\n",
              "    </tr>\n",
              "  </tbody>\n",
              "</table>\n",
              "<p>4177 rows × 7 columns</p>\n",
              "</div>"
            ],
            "text/plain": [
              "      Length  Diameter  Height  ...  Viscera weight  Shell weight  Rings\n",
              "0       0.46      0.36    0.10  ...            0.10          0.15     15\n",
              "1       0.35      0.27    0.09  ...            0.05          0.07      7\n",
              "2       0.53      0.42    0.14  ...            0.14          0.21      9\n",
              "3       0.44      0.36    0.12  ...            0.11          0.15     10\n",
              "4       0.33      0.26    0.08  ...            0.04          0.06      7\n",
              "...      ...       ...     ...  ...             ...           ...    ...\n",
              "4172    0.56      0.45    0.17  ...            0.24          0.25     11\n",
              "4173    0.59      0.44    0.14  ...            0.21          0.26     10\n",
              "4174    0.60      0.47    0.20  ...            0.29          0.31      9\n",
              "4175    0.62      0.48    0.15  ...            0.26          0.30     10\n",
              "4176    0.71      0.56    0.20  ...            0.38          0.49     12\n",
              "\n",
              "[4177 rows x 7 columns]"
            ]
          },
          "metadata": {
            "tags": []
          },
          "execution_count": 11
        }
      ]
    },
    {
      "cell_type": "code",
      "metadata": {
        "colab": {
          "base_uri": "https://localhost:8080/",
          "height": 295
        },
        "id": "b850b4f5",
        "outputId": "4471c0ba-ed0c-4638-e930-85569bfd8c76"
      },
      "source": [
        "df.describe()"
      ],
      "id": "b850b4f5",
      "execution_count": 12,
      "outputs": [
        {
          "output_type": "execute_result",
          "data": {
            "text/html": [
              "<div>\n",
              "<style scoped>\n",
              "    .dataframe tbody tr th:only-of-type {\n",
              "        vertical-align: middle;\n",
              "    }\n",
              "\n",
              "    .dataframe tbody tr th {\n",
              "        vertical-align: top;\n",
              "    }\n",
              "\n",
              "    .dataframe thead th {\n",
              "        text-align: right;\n",
              "    }\n",
              "</style>\n",
              "<table border=\"1\" class=\"dataframe\">\n",
              "  <thead>\n",
              "    <tr style=\"text-align: right;\">\n",
              "      <th></th>\n",
              "      <th>Length</th>\n",
              "      <th>Diameter</th>\n",
              "      <th>Height</th>\n",
              "      <th>Whole weight</th>\n",
              "      <th>Viscera weight</th>\n",
              "      <th>Shell weight</th>\n",
              "      <th>Rings</th>\n",
              "    </tr>\n",
              "  </thead>\n",
              "  <tbody>\n",
              "    <tr>\n",
              "      <th>count</th>\n",
              "      <td>4177.00</td>\n",
              "      <td>4177.00</td>\n",
              "      <td>4177.00</td>\n",
              "      <td>4177.00</td>\n",
              "      <td>4177.00</td>\n",
              "      <td>4177.00</td>\n",
              "      <td>4177.00</td>\n",
              "    </tr>\n",
              "    <tr>\n",
              "      <th>mean</th>\n",
              "      <td>0.52</td>\n",
              "      <td>0.41</td>\n",
              "      <td>0.14</td>\n",
              "      <td>0.83</td>\n",
              "      <td>0.18</td>\n",
              "      <td>0.24</td>\n",
              "      <td>9.93</td>\n",
              "    </tr>\n",
              "    <tr>\n",
              "      <th>std</th>\n",
              "      <td>0.12</td>\n",
              "      <td>0.10</td>\n",
              "      <td>0.04</td>\n",
              "      <td>0.49</td>\n",
              "      <td>0.11</td>\n",
              "      <td>0.14</td>\n",
              "      <td>3.22</td>\n",
              "    </tr>\n",
              "    <tr>\n",
              "      <th>min</th>\n",
              "      <td>0.07</td>\n",
              "      <td>0.06</td>\n",
              "      <td>0.00</td>\n",
              "      <td>0.00</td>\n",
              "      <td>0.00</td>\n",
              "      <td>0.00</td>\n",
              "      <td>1.00</td>\n",
              "    </tr>\n",
              "    <tr>\n",
              "      <th>25%</th>\n",
              "      <td>0.45</td>\n",
              "      <td>0.35</td>\n",
              "      <td>0.12</td>\n",
              "      <td>0.44</td>\n",
              "      <td>0.09</td>\n",
              "      <td>0.13</td>\n",
              "      <td>8.00</td>\n",
              "    </tr>\n",
              "    <tr>\n",
              "      <th>50%</th>\n",
              "      <td>0.55</td>\n",
              "      <td>0.42</td>\n",
              "      <td>0.14</td>\n",
              "      <td>0.80</td>\n",
              "      <td>0.17</td>\n",
              "      <td>0.23</td>\n",
              "      <td>9.00</td>\n",
              "    </tr>\n",
              "    <tr>\n",
              "      <th>75%</th>\n",
              "      <td>0.61</td>\n",
              "      <td>0.48</td>\n",
              "      <td>0.17</td>\n",
              "      <td>1.15</td>\n",
              "      <td>0.25</td>\n",
              "      <td>0.33</td>\n",
              "      <td>11.00</td>\n",
              "    </tr>\n",
              "    <tr>\n",
              "      <th>max</th>\n",
              "      <td>0.81</td>\n",
              "      <td>0.65</td>\n",
              "      <td>1.13</td>\n",
              "      <td>2.83</td>\n",
              "      <td>0.76</td>\n",
              "      <td>1.00</td>\n",
              "      <td>29.00</td>\n",
              "    </tr>\n",
              "  </tbody>\n",
              "</table>\n",
              "</div>"
            ],
            "text/plain": [
              "       Length  Diameter  Height  ...  Viscera weight  Shell weight   Rings\n",
              "count 4177.00   4177.00 4177.00  ...         4177.00       4177.00 4177.00\n",
              "mean     0.52      0.41    0.14  ...            0.18          0.24    9.93\n",
              "std      0.12      0.10    0.04  ...            0.11          0.14    3.22\n",
              "min      0.07      0.06    0.00  ...            0.00          0.00    1.00\n",
              "25%      0.45      0.35    0.12  ...            0.09          0.13    8.00\n",
              "50%      0.55      0.42    0.14  ...            0.17          0.23    9.00\n",
              "75%      0.61      0.48    0.17  ...            0.25          0.33   11.00\n",
              "max      0.81      0.65    1.13  ...            0.76          1.00   29.00\n",
              "\n",
              "[8 rows x 7 columns]"
            ]
          },
          "metadata": {
            "tags": []
          },
          "execution_count": 12
        }
      ]
    },
    {
      "cell_type": "code",
      "metadata": {
        "colab": {
          "base_uri": "https://localhost:8080/"
        },
        "id": "fccd7da3",
        "outputId": "40b6c03e-b8fd-4150-870b-b86346a5a728"
      },
      "source": [
        "print('Number of rows x columns in dataset are:',df.shape)"
      ],
      "id": "fccd7da3",
      "execution_count": 13,
      "outputs": [
        {
          "output_type": "stream",
          "text": [
            "Number of rows x columns in dataset are: (4177, 7)\n"
          ],
          "name": "stdout"
        }
      ]
    },
    {
      "cell_type": "markdown",
      "metadata": {
        "id": "0b9cf746"
      },
      "source": [
        "### check for outliers"
      ],
      "id": "0b9cf746"
    },
    {
      "cell_type": "code",
      "metadata": {
        "colab": {
          "base_uri": "https://localhost:8080/",
          "height": 296
        },
        "id": "409a9455",
        "outputId": "91680bf4-1c27-43e3-88a9-23bb5a10e950"
      },
      "source": [
        "sn.boxplot(df['Length'])"
      ],
      "id": "409a9455",
      "execution_count": 14,
      "outputs": [
        {
          "output_type": "execute_result",
          "data": {
            "text/plain": [
              "<matplotlib.axes._subplots.AxesSubplot at 0x7ff8e3bcba90>"
            ]
          },
          "metadata": {
            "tags": []
          },
          "execution_count": 14
        },
        {
          "output_type": "display_data",
          "data": {
            "image/png": "[encoded data removed]",
            "text/plain": [
              "<Figure size 432x288 with 1 Axes>"
            ]
          },
          "metadata": {
            "tags": [],
            "needs_background": "light"
          }
        }
      ]
    },
    {
      "cell_type": "code",
      "metadata": {
        "colab": {
          "base_uri": "https://localhost:8080/",
          "height": 296
        },
        "id": "ee2d19b4",
        "outputId": "345deba3-beaa-43e7-8fa3-45d5553f51fb"
      },
      "source": [
        "sn.boxplot(df['Diameter'])"
      ],
      "id": "ee2d19b4",
      "execution_count": 15,
      "outputs": [
        {
          "output_type": "execute_result",
          "data": {
            "text/plain": [
              "<matplotlib.axes._subplots.AxesSubplot at 0x7ff8e3bb0850>"
            ]
          },
          "metadata": {
            "tags": []
          },
          "execution_count": 15
        },
        {
          "output_type": "display_data",
          "data": {
            "image/png": "[encoded data removed]",
            "text/plain": [
              "<Figure size 432x288 with 1 Axes>"
            ]
          },
          "metadata": {
            "tags": [],
            "needs_background": "light"
          }
        }
      ]
    },
    {
      "cell_type": "code",
      "metadata": {
        "colab": {
          "base_uri": "https://localhost:8080/",
          "height": 296
        },
        "id": "3abc84a2",
        "outputId": "f8865393-3c15-4ec7-9892-a13d3acf1b70"
      },
      "source": [
        "sn.boxplot(df['Height'])"
      ],
      "id": "3abc84a2",
      "execution_count": 16,
      "outputs": [
        {
          "output_type": "execute_result",
          "data": {
            "text/plain": [
              "<matplotlib.axes._subplots.AxesSubplot at 0x7ff8e3b1eed0>"
            ]
          },
          "metadata": {
            "tags": []
          },
          "execution_count": 16
        },
        {
          "output_type": "display_data",
          "data": {
            "image/png": "[encoded data removed]",
            "text/plain": [
              "<Figure size 432x288 with 1 Axes>"
            ]
          },
          "metadata": {
            "tags": [],
            "needs_background": "light"
          }
        }
      ]
    },
    {
      "cell_type": "code",
      "metadata": {
        "colab": {
          "base_uri": "https://localhost:8080/",
          "height": 296
        },
        "id": "1057e19a",
        "outputId": "0cb6dd67-8e58-46b8-eba9-4c1145765251"
      },
      "source": [
        "sn.boxplot(df['Viscera weight'])"
      ],
      "id": "1057e19a",
      "execution_count": 17,
      "outputs": [
        {
          "output_type": "execute_result",
          "data": {
            "text/plain": [
              "<matplotlib.axes._subplots.AxesSubplot at 0x7ff8e4062910>"
            ]
          },
          "metadata": {
            "tags": []
          },
          "execution_count": 17
        },
        {
          "output_type": "display_data",
          "data": {
            "image/png": "[encoded data removed]",
            "text/plain": [
              "<Figure size 432x288 with 1 Axes>"
            ]
          },
          "metadata": {
            "tags": [],
            "needs_background": "light"
          }
        }
      ]
    },
    {
      "cell_type": "code",
      "metadata": {
        "colab": {
          "base_uri": "https://localhost:8080/",
          "height": 296
        },
        "id": "f2d62f5b",
        "outputId": "1577a1c4-2a55-4b1b-f231-4fed36743aba"
      },
      "source": [
        "sn.boxplot(df['Shell weight'])"
      ],
      "id": "f2d62f5b",
      "execution_count": 18,
      "outputs": [
        {
          "output_type": "execute_result",
          "data": {
            "text/plain": [
              "<matplotlib.axes._subplots.AxesSubplot at 0x7ff8e3b478d0>"
            ]
          },
          "metadata": {
            "tags": []
          },
          "execution_count": 18
        },
        {
          "output_type": "display_data",
          "data": {
            "image/png": "[encoded data removed]",
            "text/plain": [
              "<Figure size 432x288 with 1 Axes>"
            ]
          },
          "metadata": {
            "tags": [],
            "needs_background": "light"
          }
        }
      ]
    },
    {
      "cell_type": "markdown",
      "metadata": {
        "id": "e3e01ed6"
      },
      "source": [
        "### there are outliers present. remove them"
      ],
      "id": "e3e01ed6"
    },
    {
      "cell_type": "code",
      "metadata": {
        "colab": {
          "base_uri": "https://localhost:8080/"
        },
        "id": "44ec83a0",
        "outputId": "76bb42b9-6e19-4626-c44a-2ec8b895d3e6"
      },
      "source": [
        "z_scr=zscore(df)\n",
        "print(df.shape)\n",
        "df_new=df.loc[(abs(z_scr)<3).all(axis=1)]\n",
        "print(df_new.shape)"
      ],
      "id": "44ec83a0",
      "execution_count": 19,
      "outputs": [
        {
          "output_type": "stream",
          "text": [
            "(4177, 7)\n",
            "(4046, 7)\n"
          ],
          "name": "stdout"
        }
      ]
    },
    {
      "cell_type": "code",
      "metadata": {
        "colab": {
          "base_uri": "https://localhost:8080/"
        },
        "id": "62b2adcd",
        "outputId": "f29d7ff7-c719-45b9-8e27-f9a734d58e51"
      },
      "source": [
        "((4177-4046)/4177)*100"
      ],
      "id": "62b2adcd",
      "execution_count": 20,
      "outputs": [
        {
          "output_type": "execute_result",
          "data": {
            "text/plain": [
              "3.136222169020828"
            ]
          },
          "metadata": {
            "tags": []
          },
          "execution_count": 20
        }
      ]
    },
    {
      "cell_type": "markdown",
      "metadata": {
        "id": "62070fdc"
      },
      "source": [
        "### cross check if outliers are removed"
      ],
      "id": "62070fdc"
    },
    {
      "cell_type": "code",
      "metadata": {
        "colab": {
          "base_uri": "https://localhost:8080/",
          "height": 296
        },
        "id": "2882332e",
        "outputId": "aa65696a-9648-4aaa-b10f-d1a280ba76fb"
      },
      "source": [
        "sn.boxplot(df_new['Length'])"
      ],
      "id": "2882332e",
      "execution_count": 21,
      "outputs": [
        {
          "output_type": "execute_result",
          "data": {
            "text/plain": [
              "<matplotlib.axes._subplots.AxesSubplot at 0x7ff8e3a1fbd0>"
            ]
          },
          "metadata": {
            "tags": []
          },
          "execution_count": 21
        },
        {
          "output_type": "display_data",
          "data": {
            "image/png": "[encoded data removed]",
            "text/plain": [
              "<Figure size 432x288 with 1 Axes>"
            ]
          },
          "metadata": {
            "tags": [],
            "needs_background": "light"
          }
        }
      ]
    },
    {
      "cell_type": "markdown",
      "metadata": {
        "id": "60635be8"
      },
      "source": [
        "### nope try iqr and check again"
      ],
      "id": "60635be8"
    },
    {
      "cell_type": "code",
      "metadata": {
        "colab": {
          "base_uri": "https://localhost:8080/"
        },
        "id": "758e80cb",
        "outputId": "7006aecd-a25c-489d-d3ff-c3f7d475a8a5"
      },
      "source": [
        "Q1 = df.quantile(q=.25)\n",
        "Q3 = df.quantile(q=.75)\n",
        "IQR = df.apply(stats.iqr)\n",
        "\n",
        "#only keep rows in dataframe that have values within 1.5*IQR of Q1 and Q3\n",
        "data_clean = df[~((df < (Q1-1.5*IQR)) | (df > (Q3+1.5*IQR))).any(axis=1)]\n",
        "\n",
        "#find how many rows are left in the dataframe \n",
        "data_clean.shape"
      ],
      "id": "758e80cb",
      "execution_count": 22,
      "outputs": [
        {
          "output_type": "execute_result",
          "data": {
            "text/plain": [
              "(3801, 7)"
            ]
          },
          "metadata": {
            "tags": []
          },
          "execution_count": 22
        }
      ]
    },
    {
      "cell_type": "code",
      "metadata": {
        "colab": {
          "base_uri": "https://localhost:8080/"
        },
        "id": "713a6206",
        "outputId": "e00daffd-c23d-4de2-bb86-9957ea7570b2"
      },
      "source": [
        "((4177-3801)/4177)*100"
      ],
      "id": "713a6206",
      "execution_count": 23,
      "outputs": [
        {
          "output_type": "execute_result",
          "data": {
            "text/plain": [
              "9.00167584390711"
            ]
          },
          "metadata": {
            "tags": []
          },
          "execution_count": 23
        }
      ]
    },
    {
      "cell_type": "code",
      "metadata": {
        "colab": {
          "base_uri": "https://localhost:8080/",
          "height": 296
        },
        "id": "f8b61514",
        "outputId": "f1aa9a74-bca4-4a7a-ad67-cf43e841b155"
      },
      "source": [
        "sn.boxplot(data_clean['Length'])"
      ],
      "id": "f8b61514",
      "execution_count": 24,
      "outputs": [
        {
          "output_type": "execute_result",
          "data": {
            "text/plain": [
              "<matplotlib.axes._subplots.AxesSubplot at 0x7ff8e39a9d50>"
            ]
          },
          "metadata": {
            "tags": []
          },
          "execution_count": 24
        },
        {
          "output_type": "display_data",
          "data": {
            "image/png": "[encoded data removed]",
            "text/plain": [
              "<Figure size 432x288 with 1 Axes>"
            ]
          },
          "metadata": {
            "tags": [],
            "needs_background": "light"
          }
        }
      ]
    },
    {
      "cell_type": "markdown",
      "metadata": {
        "id": "dfd23045"
      },
      "source": [
        "### try to remove some more"
      ],
      "id": "dfd23045"
    },
    {
      "cell_type": "code",
      "metadata": {
        "colab": {
          "base_uri": "https://localhost:8080/"
        },
        "id": "1a85bff9",
        "outputId": "f25a2ae4-6565-4c67-9d78-6f4b851d74a6"
      },
      "source": [
        "z_scr=zscore(data_clean)\n",
        "print(data_clean.shape)\n",
        "df_new=data_clean.loc[(abs(z_scr)<3).all(axis=1)]\n",
        "print(df_new.shape)"
      ],
      "id": "1a85bff9",
      "execution_count": 25,
      "outputs": [
        {
          "output_type": "stream",
          "text": [
            "(3801, 7)\n",
            "(3789, 7)\n"
          ],
          "name": "stdout"
        }
      ]
    },
    {
      "cell_type": "code",
      "metadata": {
        "colab": {
          "base_uri": "https://localhost:8080/"
        },
        "id": "efbc4412",
        "outputId": "27c861b7-648f-434f-eb34-b766aa952e8f"
      },
      "source": [
        "((4177-3789)/4177)*100"
      ],
      "id": "efbc4412",
      "execution_count": 26,
      "outputs": [
        {
          "output_type": "execute_result",
          "data": {
            "text/plain": [
              "9.288963370840316"
            ]
          },
          "metadata": {
            "tags": []
          },
          "execution_count": 26
        }
      ]
    },
    {
      "cell_type": "code",
      "metadata": {
        "colab": {
          "base_uri": "https://localhost:8080/",
          "height": 296
        },
        "id": "c6af2b3b",
        "outputId": "1cb34219-54e6-4c55-af91-80435e58e521"
      },
      "source": [
        "sn.boxplot(df_new['Length'])"
      ],
      "id": "c6af2b3b",
      "execution_count": 27,
      "outputs": [
        {
          "output_type": "execute_result",
          "data": {
            "text/plain": [
              "<matplotlib.axes._subplots.AxesSubplot at 0x7ff8e3917e50>"
            ]
          },
          "metadata": {
            "tags": []
          },
          "execution_count": 27
        },
        {
          "output_type": "display_data",
          "data": {
            "image/png": "[encoded data removed]",
            "text/plain": [
              "<Figure size 432x288 with 1 Axes>"
            ]
          },
          "metadata": {
            "tags": [],
            "needs_background": "light"
          }
        }
      ]
    },
    {
      "cell_type": "code",
      "metadata": {
        "colab": {
          "base_uri": "https://localhost:8080/"
        },
        "id": "a7e59520",
        "outputId": "e51069a1-46d8-4b34-eecd-7d39e232770f"
      },
      "source": [
        "Q1 = df_new.quantile(q=.25)\n",
        "Q3 = df_new.quantile(q=.75)\n",
        "IQR = df_new.apply(stats.iqr)\n",
        "\n",
        "#only keep rows in dataframe that have values within 1.5*IQR of Q1 and Q3\n",
        "data_clean = df_new[~((df_new < (Q1-1.5*IQR)) | (df_new > (Q3+1.5*IQR))).any(axis=1)]\n",
        "\n",
        "#find how many rows are left in the dataframe \n",
        "data_clean.shape"
      ],
      "id": "a7e59520",
      "execution_count": 28,
      "outputs": [
        {
          "output_type": "execute_result",
          "data": {
            "text/plain": [
              "(3781, 7)"
            ]
          },
          "metadata": {
            "tags": []
          },
          "execution_count": 28
        }
      ]
    },
    {
      "cell_type": "code",
      "metadata": {
        "colab": {
          "base_uri": "https://localhost:8080/"
        },
        "id": "c1d72cbe",
        "outputId": "280851e6-3972-40d6-e3ec-0e2f1ec8cacb"
      },
      "source": [
        "((4177-3781)/4177)*100"
      ],
      "id": "c1d72cbe",
      "execution_count": 29,
      "outputs": [
        {
          "output_type": "execute_result",
          "data": {
            "text/plain": [
              "9.480488388795786"
            ]
          },
          "metadata": {
            "tags": []
          },
          "execution_count": 29
        }
      ]
    },
    {
      "cell_type": "code",
      "metadata": {
        "colab": {
          "base_uri": "https://localhost:8080/",
          "height": 296
        },
        "id": "1c4ea4cf",
        "outputId": "29e3e6b7-940b-4e29-edd6-7c2fa0df474e"
      },
      "source": [
        "sn.boxplot(data_clean['Length'])"
      ],
      "id": "1c4ea4cf",
      "execution_count": 30,
      "outputs": [
        {
          "output_type": "execute_result",
          "data": {
            "text/plain": [
              "<matplotlib.axes._subplots.AxesSubplot at 0x7ff8e38a1710>"
            ]
          },
          "metadata": {
            "tags": []
          },
          "execution_count": 30
        },
        {
          "output_type": "display_data",
          "data": {
            "image/png": "[encoded data removed]",
            "text/plain": [
              "<Figure size 432x288 with 1 Axes>"
            ]
          },
          "metadata": {
            "tags": [],
            "needs_background": "light"
          }
        }
      ]
    },
    {
      "cell_type": "code",
      "metadata": {
        "colab": {
          "base_uri": "https://localhost:8080/",
          "height": 296
        },
        "id": "47b03224",
        "outputId": "8c4fb159-2f5b-41a3-a463-4c3674a9b1c2"
      },
      "source": [
        "sn.boxplot(data_clean['Diameter'])"
      ],
      "id": "47b03224",
      "execution_count": 31,
      "outputs": [
        {
          "output_type": "execute_result",
          "data": {
            "text/plain": [
              "<matplotlib.axes._subplots.AxesSubplot at 0x7ff8e38522d0>"
            ]
          },
          "metadata": {
            "tags": []
          },
          "execution_count": 31
        },
        {
          "output_type": "display_data",
          "data": {
            "image/png": "[encoded data removed]",
            "text/plain": [
              "<Figure size 432x288 with 1 Axes>"
            ]
          },
          "metadata": {
            "tags": [],
            "needs_background": "light"
          }
        }
      ]
    },
    {
      "cell_type": "code",
      "metadata": {
        "colab": {
          "base_uri": "https://localhost:8080/",
          "height": 296
        },
        "id": "d0a6a7a8",
        "outputId": "38f20116-9368-4f10-9f81-e73e41ba2311"
      },
      "source": [
        "sn.boxplot(data_clean['Height'])"
      ],
      "id": "d0a6a7a8",
      "execution_count": 32,
      "outputs": [
        {
          "output_type": "execute_result",
          "data": {
            "text/plain": [
              "<matplotlib.axes._subplots.AxesSubplot at 0x7ff8e37ef2d0>"
            ]
          },
          "metadata": {
            "tags": []
          },
          "execution_count": 32
        },
        {
          "output_type": "display_data",
          "data": {
            "image/png": "[encoded data removed]",
            "text/plain": [
              "<Figure size 432x288 with 1 Axes>"
            ]
          },
          "metadata": {
            "tags": [],
            "needs_background": "light"
          }
        }
      ]
    },
    {
      "cell_type": "code",
      "metadata": {
        "colab": {
          "base_uri": "https://localhost:8080/",
          "height": 296
        },
        "id": "382b17dd",
        "outputId": "dc9b704b-4958-4aa6-8402-489c10aaabab"
      },
      "source": [
        "sn.boxplot(data_clean['Viscera weight'])"
      ],
      "id": "382b17dd",
      "execution_count": 33,
      "outputs": [
        {
          "output_type": "execute_result",
          "data": {
            "text/plain": [
              "<matplotlib.axes._subplots.AxesSubplot at 0x7ff8e3766610>"
            ]
          },
          "metadata": {
            "tags": []
          },
          "execution_count": 33
        },
        {
          "output_type": "display_data",
          "data": {
            "image/png": "[encoded data removed]",
            "text/plain": [
              "<Figure size 432x288 with 1 Axes>"
            ]
          },
          "metadata": {
            "tags": [],
            "needs_background": "light"
          }
        }
      ]
    },
    {
      "cell_type": "code",
      "metadata": {
        "colab": {
          "base_uri": "https://localhost:8080/",
          "height": 296
        },
        "id": "c2eda6f7",
        "outputId": "a3dbaa7e-efdf-425e-b4a8-edc192897b39"
      },
      "source": [
        "sn.boxplot(data_clean['Shell weight'])"
      ],
      "id": "c2eda6f7",
      "execution_count": 34,
      "outputs": [
        {
          "output_type": "execute_result",
          "data": {
            "text/plain": [
              "<matplotlib.axes._subplots.AxesSubplot at 0x7ff8e36cc290>"
            ]
          },
          "metadata": {
            "tags": []
          },
          "execution_count": 34
        },
        {
          "output_type": "display_data",
          "data": {
            "image/png": "[encoded data removed]",
            "text/plain": [
              "<Figure size 432x288 with 1 Axes>"
            ]
          },
          "metadata": {
            "tags": [],
            "needs_background": "light"
          }
        }
      ]
    },
    {
      "cell_type": "code",
      "metadata": {
        "colab": {
          "base_uri": "https://localhost:8080/",
          "height": 296
        },
        "id": "d5dff8ee",
        "outputId": "5bb9ec0a-03a3-4183-d77f-3f3ffd5c9af7"
      },
      "source": [
        "sn.boxplot(data_clean['Whole weight'])"
      ],
      "id": "d5dff8ee",
      "execution_count": 35,
      "outputs": [
        {
          "output_type": "execute_result",
          "data": {
            "text/plain": [
              "<matplotlib.axes._subplots.AxesSubplot at 0x7ff8e3633f10>"
            ]
          },
          "metadata": {
            "tags": []
          },
          "execution_count": 35
        },
        {
          "output_type": "display_data",
          "data": {
            "image/png": "[encoded data removed]",
            "text/plain": [
              "<Figure size 432x288 with 1 Axes>"
            ]
          },
          "metadata": {
            "tags": [],
            "needs_background": "light"
          }
        }
      ]
    },
    {
      "cell_type": "markdown",
      "metadata": {
        "id": "b4884d53"
      },
      "source": [
        "### all outliers removed"
      ],
      "id": "b4884d53"
    },
    {
      "cell_type": "markdown",
      "metadata": {
        "id": "b4e89197"
      },
      "source": [
        "### check distribution"
      ],
      "id": "b4e89197"
    },
    {
      "cell_type": "code",
      "metadata": {
        "colab": {
          "base_uri": "https://localhost:8080/",
          "height": 903
        },
        "id": "fee91e52",
        "outputId": "01f31448-315c-4a0b-a859-813c0b2471e4"
      },
      "source": [
        "plt.figure(figsize=(20,25),facecolor='white')\n",
        "plotnumber=1\n",
        "for column in data_clean.columns:\n",
        "    if plotnumber<=6:\n",
        "        ax=plt.subplot(3,3,plotnumber)\n",
        "        sn.distplot(data_clean[column])\n",
        "        plt.xlabel(column,fontsize=20)\n",
        "    plotnumber+=1\n",
        "plt.show()"
      ],
      "id": "fee91e52",
      "execution_count": 36,
      "outputs": [
        {
          "output_type": "display_data",
          "data": {
            "image/png": "[encoded data removed]",
            "text/plain": [
              "<Figure size 1440x1800 with 6 Axes>"
            ]
          },
          "metadata": {
            "tags": []
          }
        }
      ]
    },
    {
      "cell_type": "code",
      "metadata": {
        "colab": {
          "base_uri": "https://localhost:8080/",
          "height": 892
        },
        "id": "d8f58ba5",
        "outputId": "90f10d33-dbee-424e-e7e1-70f2b562106d"
      },
      "source": [
        "plt.figure(figsize=(20,25),facecolor='white')\n",
        "plotnumber=1\n",
        "for i in data_clean.columns:\n",
        "    if plotnumber<=6:\n",
        "        ax=plt.subplot(3,3,plotnumber)\n",
        "        plt.scatter(data_clean[i],data_clean['Rings'])\n",
        "        plt.xlabel(i,fontsize=20)\n",
        "        plt.ylabel('Ring',fontsize=20)\n",
        "    plotnumber+=1\n",
        "plt.show()"
      ],
      "id": "d8f58ba5",
      "execution_count": 37,
      "outputs": [
        {
          "output_type": "display_data",
          "data": {
            "image/png": "[encoded data removed]",
            "text/plain": [
              "<Figure size 1440x1800 with 6 Axes>"
            ]
          },
          "metadata": {
            "tags": []
          }
        }
      ]
    },
    {
      "cell_type": "markdown",
      "metadata": {
        "id": "3285b6b6"
      },
      "source": [
        "### From the above plot all I could deduce was that increase in feature value increases value of ring value. \n",
        "### Basically regression problem "
      ],
      "id": "3285b6b6"
    },
    {
      "cell_type": "code",
      "metadata": {
        "id": "f3db636a"
      },
      "source": [
        "y = data_clean[['Rings']].values\n",
        "x = data_clean.drop(columns = ['Rings'])"
      ],
      "id": "f3db636a",
      "execution_count": 38,
      "outputs": []
    },
    {
      "cell_type": "markdown",
      "metadata": {
        "id": "098d07f0"
      },
      "source": [
        "### check skew"
      ],
      "id": "098d07f0"
    },
    {
      "cell_type": "code",
      "metadata": {
        "colab": {
          "base_uri": "https://localhost:8080/"
        },
        "id": "36ae8a5a",
        "outputId": "4c5331fb-4177-4e88-f6e3-1053e3fd8a78"
      },
      "source": [
        "print(x.skew())"
      ],
      "id": "36ae8a5a",
      "execution_count": 39,
      "outputs": [
        {
          "output_type": "stream",
          "text": [
            "Length           -0.49\n",
            "Diameter         -0.48\n",
            "Height           -0.15\n",
            "Whole weight      0.37\n",
            "Viscera weight    0.44\n",
            "Shell weight      0.32\n",
            "dtype: float64\n"
          ],
          "name": "stdout"
        }
      ]
    },
    {
      "cell_type": "code",
      "metadata": {
        "colab": {
          "base_uri": "https://localhost:8080/"
        },
        "id": "607985fa",
        "outputId": "126b45a1-7cf4-4201-b28a-b7be0e8ce29e"
      },
      "source": [
        "print(len(x.skew().loc[x.skew()>0.55])) # Number of features having skewness more than 0.55 "
      ],
      "id": "607985fa",
      "execution_count": 40,
      "outputs": [
        {
          "output_type": "stream",
          "text": [
            "0\n"
          ],
          "name": "stdout"
        }
      ]
    },
    {
      "cell_type": "markdown",
      "metadata": {
        "id": "d0964dee"
      },
      "source": [
        "### no biasing found"
      ],
      "id": "d0964dee"
    },
    {
      "cell_type": "markdown",
      "metadata": {
        "id": "c87e03cf"
      },
      "source": [
        "### lets do feature scaling"
      ],
      "id": "c87e03cf"
    },
    {
      "cell_type": "code",
      "metadata": {
        "id": "218eb5c8"
      },
      "source": [
        "scaler = StandardScaler()\n",
        "X_scaled = scaler.fit_transform(x)"
      ],
      "id": "218eb5c8",
      "execution_count": 41,
      "outputs": []
    },
    {
      "cell_type": "markdown",
      "metadata": {
        "id": "4d41a149"
      },
      "source": [
        "### check multicollinearity"
      ],
      "id": "4d41a149"
    },
    {
      "cell_type": "code",
      "metadata": {
        "colab": {
          "base_uri": "https://localhost:8080/",
          "height": 234
        },
        "id": "b10594ca",
        "outputId": "a66bd46b-df90-4087-9ce3-9fa71fe581c4"
      },
      "source": [
        "vif = pd.DataFrame()\n",
        "vif[\"vif\"] = [variance_inflation_factor(X_scaled,i) for i in range(X_scaled.shape[1]) ]\n",
        "vif[\"Features\"] = x.columns\n",
        "vif"
      ],
      "id": "b10594ca",
      "execution_count": 42,
      "outputs": [
        {
          "output_type": "execute_result",
          "data": {
            "text/html": [
              "<div>\n",
              "<style scoped>\n",
              "    .dataframe tbody tr th:only-of-type {\n",
              "        vertical-align: middle;\n",
              "    }\n",
              "\n",
              "    .dataframe tbody tr th {\n",
              "        vertical-align: top;\n",
              "    }\n",
              "\n",
              "    .dataframe thead th {\n",
              "        text-align: right;\n",
              "    }\n",
              "</style>\n",
              "<table border=\"1\" class=\"dataframe\">\n",
              "  <thead>\n",
              "    <tr style=\"text-align: right;\">\n",
              "      <th></th>\n",
              "      <th>vif</th>\n",
              "      <th>Features</th>\n",
              "    </tr>\n",
              "  </thead>\n",
              "  <tbody>\n",
              "    <tr>\n",
              "      <th>0</th>\n",
              "      <td>39.25</td>\n",
              "      <td>Length</td>\n",
              "    </tr>\n",
              "    <tr>\n",
              "      <th>1</th>\n",
              "      <td>40.03</td>\n",
              "      <td>Diameter</td>\n",
              "    </tr>\n",
              "    <tr>\n",
              "      <th>2</th>\n",
              "      <td>6.45</td>\n",
              "      <td>Height</td>\n",
              "    </tr>\n",
              "    <tr>\n",
              "      <th>3</th>\n",
              "      <td>33.27</td>\n",
              "      <td>Whole weight</td>\n",
              "    </tr>\n",
              "    <tr>\n",
              "      <th>4</th>\n",
              "      <td>15.86</td>\n",
              "      <td>Viscera weight</td>\n",
              "    </tr>\n",
              "    <tr>\n",
              "      <th>5</th>\n",
              "      <td>16.29</td>\n",
              "      <td>Shell weight</td>\n",
              "    </tr>\n",
              "  </tbody>\n",
              "</table>\n",
              "</div>"
            ],
            "text/plain": [
              "    vif        Features\n",
              "0 39.25          Length\n",
              "1 40.03        Diameter\n",
              "2  6.45          Height\n",
              "3 33.27    Whole weight\n",
              "4 15.86  Viscera weight\n",
              "5 16.29    Shell weight"
            ]
          },
          "metadata": {
            "tags": []
          },
          "execution_count": 42
        }
      ]
    },
    {
      "cell_type": "markdown",
      "metadata": {
        "id": "69c193c9"
      },
      "source": [
        "### Multicollinearity only affects the coefficients and p-values, but it does not influence the model’s ability to predict the dependent variable."
      ],
      "id": "69c193c9"
    },
    {
      "cell_type": "markdown",
      "metadata": {
        "id": "106c29e5"
      },
      "source": [
        "### levels of multicollinearity does it signify.\n",
        "\n",
        "### VIF ~ 1: Negligible\n",
        "### 1<VIF<5 : Moderate\n",
        "### VIF>5 : Extreme"
      ],
      "id": "106c29e5"
    },
    {
      "cell_type": "markdown",
      "metadata": {
        "id": "2395e628"
      },
      "source": [
        "### fix Multicollinearity"
      ],
      "id": "2395e628"
    },
    {
      "cell_type": "markdown",
      "metadata": {
        "id": "33de57df"
      },
      "source": [
        "### remove highest collinearity which is diameter (as diameter is perpendicular to length by qt) & whole weight (as it is a summation of all weight)"
      ],
      "id": "33de57df"
    },
    {
      "cell_type": "code",
      "metadata": {
        "colab": {
          "base_uri": "https://localhost:8080/",
          "height": 172
        },
        "id": "e1d80dd4",
        "outputId": "ccfb1b06-95a5-4f98-8362-9fa878c97422"
      },
      "source": [
        "x = data_clean.drop(columns = ['Diameter','Rings','Whole weight'])\n",
        "scaler = StandardScaler()\n",
        "X_scaled = scaler.fit_transform(x)\n",
        "vif = pd.DataFrame()\n",
        "vif[\"vif\"] = [variance_inflation_factor(X_scaled,i) for i in range(X_scaled.shape[1]) ]\n",
        "vif[\"Features\"] = x.columns\n",
        "vif"
      ],
      "id": "e1d80dd4",
      "execution_count": 43,
      "outputs": [
        {
          "output_type": "execute_result",
          "data": {
            "text/html": [
              "<div>\n",
              "<style scoped>\n",
              "    .dataframe tbody tr th:only-of-type {\n",
              "        vertical-align: middle;\n",
              "    }\n",
              "\n",
              "    .dataframe tbody tr th {\n",
              "        vertical-align: top;\n",
              "    }\n",
              "\n",
              "    .dataframe thead th {\n",
              "        text-align: right;\n",
              "    }\n",
              "</style>\n",
              "<table border=\"1\" class=\"dataframe\">\n",
              "  <thead>\n",
              "    <tr style=\"text-align: right;\">\n",
              "      <th></th>\n",
              "      <th>vif</th>\n",
              "      <th>Features</th>\n",
              "    </tr>\n",
              "  </thead>\n",
              "  <tbody>\n",
              "    <tr>\n",
              "      <th>0</th>\n",
              "      <td>9.16</td>\n",
              "      <td>Length</td>\n",
              "    </tr>\n",
              "    <tr>\n",
              "      <th>1</th>\n",
              "      <td>6.31</td>\n",
              "      <td>Height</td>\n",
              "    </tr>\n",
              "    <tr>\n",
              "      <th>2</th>\n",
              "      <td>8.31</td>\n",
              "      <td>Viscera weight</td>\n",
              "    </tr>\n",
              "    <tr>\n",
              "      <th>3</th>\n",
              "      <td>10.51</td>\n",
              "      <td>Shell weight</td>\n",
              "    </tr>\n",
              "  </tbody>\n",
              "</table>\n",
              "</div>"
            ],
            "text/plain": [
              "    vif        Features\n",
              "0  9.16          Length\n",
              "1  6.31          Height\n",
              "2  8.31  Viscera weight\n",
              "3 10.51    Shell weight"
            ]
          },
          "metadata": {
            "tags": []
          },
          "execution_count": 43
        }
      ]
    },
    {
      "cell_type": "markdown",
      "metadata": {
        "id": "24cc5dc2"
      },
      "source": [
        "### this is acceptable now"
      ],
      "id": "24cc5dc2"
    },
    {
      "cell_type": "markdown",
      "metadata": {
        "id": "1de88c0c"
      },
      "source": [
        "### perform pca"
      ],
      "id": "1de88c0c"
    },
    {
      "cell_type": "code",
      "metadata": {
        "colab": {
          "base_uri": "https://localhost:8080/"
        },
        "id": "7ad73bd2",
        "outputId": "fbfa7c6e-02c5-46ea-9dd1-c00a0bfad339"
      },
      "source": [
        "for i in range(2,5):\n",
        "    pca = PCA(n_components=i)\n",
        "    principalComponents = pca.fit_transform(X_scaled)\n",
        "    print(i,sum(pca.explained_variance_ratio_))"
      ],
      "id": "7ad73bd2",
      "execution_count": 44,
      "outputs": [
        {
          "output_type": "stream",
          "text": [
            "2 0.9617685576508604\n",
            "3 0.9823214521228871\n",
            "4 0.9999999999999999\n"
          ],
          "name": "stdout"
        }
      ]
    },
    {
      "cell_type": "markdown",
      "metadata": {
        "id": "1cde26d8"
      },
      "source": [
        "### i want to choose 2 columns as they are able to retain more than 95% data"
      ],
      "id": "1cde26d8"
    },
    {
      "cell_type": "code",
      "metadata": {
        "id": "aa8a82ff"
      },
      "source": [
        "pca = PCA(n_components=2)\n",
        "principalComponents = pca.fit_transform(X_scaled)"
      ],
      "id": "aa8a82ff",
      "execution_count": 45,
      "outputs": []
    },
    {
      "cell_type": "markdown",
      "metadata": {
        "id": "1f0a2cf3"
      },
      "source": [
        "### Now we will start with model selection and tuning training process.\n",
        "### first find the most optimum model\n",
        "### second we need to find the most optimum random state in train test split\n",
        "### we shall evaluate model on r2 score\n",
        "### Now write code to find best model along with the best hyper parameter"
      ],
      "id": "1f0a2cf3"
    },
    {
      "cell_type": "markdown",
      "metadata": {
        "id": "b2d32dc7"
      },
      "source": [
        "### code to find best random state for train test split"
      ],
      "id": "b2d32dc7"
    },
    {
      "cell_type": "code",
      "metadata": {
        "id": "e3365a6f"
      },
      "source": [
        "def besttrain(model,x,y):\n",
        "    random=0\n",
        "    score=0\n",
        "    for i in range(42,100):\n",
        "        x_train,x_test,y_train,y_test=train_test_split(x,y,random_state = i,test_size=0.20,shuffle=True)\n",
        "        model.fit(x_train,y_train)\n",
        "        tmp=r2_score(y_test,model.predict(x_test))\n",
        "        if tmp>score:\n",
        "            score=tmp\n",
        "            random=i\n",
        "    return random"
      ],
      "id": "e3365a6f",
      "execution_count": 88,
      "outputs": []
    },
    {
      "cell_type": "markdown",
      "metadata": {
        "id": "9c89af6d"
      },
      "source": [
        "### code to find best classifier model among all"
      ],
      "id": "9c89af6d"
    },
    {
      "cell_type": "code",
      "metadata": {
        "id": "ad1ffee9"
      },
      "source": [
        "X_train, X_test, y_train, y_test = train_test_split(principalComponents, y, random_state=42, test_size=0.2)"
      ],
      "id": "ad1ffee9",
      "execution_count": 47,
      "outputs": []
    },
    {
      "cell_type": "code",
      "metadata": {
        "colab": {
          "base_uri": "https://localhost:8080/"
        },
        "id": "1746484a",
        "outputId": "162690a0-09bd-4cb9-ee35-65966cba5a41"
      },
      "source": [
        "reg = LazyRegressor(ignore_warnings=False, custom_metric=None)\n",
        "models, predictions = reg.fit(X_train, X_test, y_train, y_test)"
      ],
      "id": "1746484a",
      "execution_count": 48,
      "outputs": [
        {
          "output_type": "stream",
          "text": [
            "100%|██████████| 42/42 [00:10<00:00,  4.12it/s]\n"
          ],
          "name": "stderr"
        }
      ]
    },
    {
      "cell_type": "code",
      "metadata": {
        "colab": {
          "base_uri": "https://localhost:8080/",
          "height": 1000
        },
        "id": "8d889fa0",
        "outputId": "8d1680d0-11de-4f96-ce8f-4a9e21b3b231"
      },
      "source": [
        "models"
      ],
      "id": "8d889fa0",
      "execution_count": 49,
      "outputs": [
        {
          "output_type": "execute_result",
          "data": {
            "text/html": [
              "<div>\n",
              "<style scoped>\n",
              "    .dataframe tbody tr th:only-of-type {\n",
              "        vertical-align: middle;\n",
              "    }\n",
              "\n",
              "    .dataframe tbody tr th {\n",
              "        vertical-align: top;\n",
              "    }\n",
              "\n",
              "    .dataframe thead th {\n",
              "        text-align: right;\n",
              "    }\n",
              "</style>\n",
              "<table border=\"1\" class=\"dataframe\">\n",
              "  <thead>\n",
              "    <tr style=\"text-align: right;\">\n",
              "      <th></th>\n",
              "      <th>Adjusted R-Squared</th>\n",
              "      <th>R-Squared</th>\n",
              "      <th>RMSE</th>\n",
              "      <th>Time Taken</th>\n",
              "    </tr>\n",
              "    <tr>\n",
              "      <th>Model</th>\n",
              "      <th></th>\n",
              "      <th></th>\n",
              "      <th></th>\n",
              "      <th></th>\n",
              "    </tr>\n",
              "  </thead>\n",
              "  <tbody>\n",
              "    <tr>\n",
              "      <th>MLPRegressor</th>\n",
              "      <td>0.43</td>\n",
              "      <td>0.43</td>\n",
              "      <td>1.79</td>\n",
              "      <td>3.09</td>\n",
              "    </tr>\n",
              "    <tr>\n",
              "      <th>GradientBoostingRegressor</th>\n",
              "      <td>0.43</td>\n",
              "      <td>0.43</td>\n",
              "      <td>1.80</td>\n",
              "      <td>0.31</td>\n",
              "    </tr>\n",
              "    <tr>\n",
              "      <th>NuSVR</th>\n",
              "      <td>0.42</td>\n",
              "      <td>0.43</td>\n",
              "      <td>1.80</td>\n",
              "      <td>0.69</td>\n",
              "    </tr>\n",
              "    <tr>\n",
              "      <th>OrthogonalMatchingPursuitCV</th>\n",
              "      <td>0.41</td>\n",
              "      <td>0.41</td>\n",
              "      <td>1.82</td>\n",
              "      <td>0.03</td>\n",
              "    </tr>\n",
              "    <tr>\n",
              "      <th>LassoLarsIC</th>\n",
              "      <td>0.41</td>\n",
              "      <td>0.41</td>\n",
              "      <td>1.82</td>\n",
              "      <td>0.01</td>\n",
              "    </tr>\n",
              "    <tr>\n",
              "      <th>LarsCV</th>\n",
              "      <td>0.41</td>\n",
              "      <td>0.41</td>\n",
              "      <td>1.82</td>\n",
              "      <td>0.05</td>\n",
              "    </tr>\n",
              "    <tr>\n",
              "      <th>Lars</th>\n",
              "      <td>0.41</td>\n",
              "      <td>0.41</td>\n",
              "      <td>1.82</td>\n",
              "      <td>0.03</td>\n",
              "    </tr>\n",
              "    <tr>\n",
              "      <th>LassoLarsCV</th>\n",
              "      <td>0.41</td>\n",
              "      <td>0.41</td>\n",
              "      <td>1.82</td>\n",
              "      <td>0.02</td>\n",
              "    </tr>\n",
              "    <tr>\n",
              "      <th>TransformedTargetRegressor</th>\n",
              "      <td>0.41</td>\n",
              "      <td>0.41</td>\n",
              "      <td>1.82</td>\n",
              "      <td>0.01</td>\n",
              "    </tr>\n",
              "    <tr>\n",
              "      <th>LinearRegression</th>\n",
              "      <td>0.41</td>\n",
              "      <td>0.41</td>\n",
              "      <td>1.82</td>\n",
              "      <td>0.01</td>\n",
              "    </tr>\n",
              "    <tr>\n",
              "      <th>Ridge</th>\n",
              "      <td>0.41</td>\n",
              "      <td>0.41</td>\n",
              "      <td>1.82</td>\n",
              "      <td>0.01</td>\n",
              "    </tr>\n",
              "    <tr>\n",
              "      <th>RidgeCV</th>\n",
              "      <td>0.41</td>\n",
              "      <td>0.41</td>\n",
              "      <td>1.82</td>\n",
              "      <td>0.02</td>\n",
              "    </tr>\n",
              "    <tr>\n",
              "      <th>BayesianRidge</th>\n",
              "      <td>0.41</td>\n",
              "      <td>0.41</td>\n",
              "      <td>1.82</td>\n",
              "      <td>0.02</td>\n",
              "    </tr>\n",
              "    <tr>\n",
              "      <th>LassoCV</th>\n",
              "      <td>0.41</td>\n",
              "      <td>0.41</td>\n",
              "      <td>1.82</td>\n",
              "      <td>0.10</td>\n",
              "    </tr>\n",
              "    <tr>\n",
              "      <th>ElasticNetCV</th>\n",
              "      <td>0.41</td>\n",
              "      <td>0.41</td>\n",
              "      <td>1.82</td>\n",
              "      <td>0.09</td>\n",
              "    </tr>\n",
              "    <tr>\n",
              "      <th>SGDRegressor</th>\n",
              "      <td>0.41</td>\n",
              "      <td>0.41</td>\n",
              "      <td>1.82</td>\n",
              "      <td>0.01</td>\n",
              "    </tr>\n",
              "    <tr>\n",
              "      <th>SVR</th>\n",
              "      <td>0.40</td>\n",
              "      <td>0.41</td>\n",
              "      <td>1.83</td>\n",
              "      <td>0.67</td>\n",
              "    </tr>\n",
              "    <tr>\n",
              "      <th>HuberRegressor</th>\n",
              "      <td>0.40</td>\n",
              "      <td>0.40</td>\n",
              "      <td>1.84</td>\n",
              "      <td>0.02</td>\n",
              "    </tr>\n",
              "    <tr>\n",
              "      <th>LGBMRegressor</th>\n",
              "      <td>0.40</td>\n",
              "      <td>0.40</td>\n",
              "      <td>1.84</td>\n",
              "      <td>0.10</td>\n",
              "    </tr>\n",
              "    <tr>\n",
              "      <th>HistGradientBoostingRegressor</th>\n",
              "      <td>0.39</td>\n",
              "      <td>0.40</td>\n",
              "      <td>1.85</td>\n",
              "      <td>0.40</td>\n",
              "    </tr>\n",
              "    <tr>\n",
              "      <th>PoissonRegressor</th>\n",
              "      <td>0.39</td>\n",
              "      <td>0.39</td>\n",
              "      <td>1.85</td>\n",
              "      <td>0.02</td>\n",
              "    </tr>\n",
              "    <tr>\n",
              "      <th>AdaBoostRegressor</th>\n",
              "      <td>0.39</td>\n",
              "      <td>0.39</td>\n",
              "      <td>1.85</td>\n",
              "      <td>0.08</td>\n",
              "    </tr>\n",
              "    <tr>\n",
              "      <th>LinearSVR</th>\n",
              "      <td>0.39</td>\n",
              "      <td>0.39</td>\n",
              "      <td>1.85</td>\n",
              "      <td>0.02</td>\n",
              "    </tr>\n",
              "    <tr>\n",
              "      <th>OrthogonalMatchingPursuit</th>\n",
              "      <td>0.39</td>\n",
              "      <td>0.39</td>\n",
              "      <td>1.85</td>\n",
              "      <td>0.02</td>\n",
              "    </tr>\n",
              "    <tr>\n",
              "      <th>RANSACRegressor</th>\n",
              "      <td>0.38</td>\n",
              "      <td>0.39</td>\n",
              "      <td>1.86</td>\n",
              "      <td>0.04</td>\n",
              "    </tr>\n",
              "    <tr>\n",
              "      <th>XGBRegressor</th>\n",
              "      <td>0.36</td>\n",
              "      <td>0.36</td>\n",
              "      <td>1.90</td>\n",
              "      <td>0.32</td>\n",
              "    </tr>\n",
              "    <tr>\n",
              "      <th>KNeighborsRegressor</th>\n",
              "      <td>0.35</td>\n",
              "      <td>0.35</td>\n",
              "      <td>1.92</td>\n",
              "      <td>0.02</td>\n",
              "    </tr>\n",
              "    <tr>\n",
              "      <th>RandomForestRegressor</th>\n",
              "      <td>0.34</td>\n",
              "      <td>0.34</td>\n",
              "      <td>1.93</td>\n",
              "      <td>0.77</td>\n",
              "    </tr>\n",
              "    <tr>\n",
              "      <th>BaggingRegressor</th>\n",
              "      <td>0.31</td>\n",
              "      <td>0.31</td>\n",
              "      <td>1.97</td>\n",
              "      <td>0.09</td>\n",
              "    </tr>\n",
              "    <tr>\n",
              "      <th>GammaRegressor</th>\n",
              "      <td>0.30</td>\n",
              "      <td>0.30</td>\n",
              "      <td>1.98</td>\n",
              "      <td>0.02</td>\n",
              "    </tr>\n",
              "    <tr>\n",
              "      <th>GeneralizedLinearRegressor</th>\n",
              "      <td>0.30</td>\n",
              "      <td>0.30</td>\n",
              "      <td>1.99</td>\n",
              "      <td>0.02</td>\n",
              "    </tr>\n",
              "    <tr>\n",
              "      <th>TweedieRegressor</th>\n",
              "      <td>0.30</td>\n",
              "      <td>0.30</td>\n",
              "      <td>1.99</td>\n",
              "      <td>0.01</td>\n",
              "    </tr>\n",
              "    <tr>\n",
              "      <th>ExtraTreesRegressor</th>\n",
              "      <td>0.29</td>\n",
              "      <td>0.29</td>\n",
              "      <td>2.00</td>\n",
              "      <td>0.51</td>\n",
              "    </tr>\n",
              "    <tr>\n",
              "      <th>ElasticNet</th>\n",
              "      <td>0.25</td>\n",
              "      <td>0.26</td>\n",
              "      <td>2.05</td>\n",
              "      <td>0.02</td>\n",
              "    </tr>\n",
              "    <tr>\n",
              "      <th>Lasso</th>\n",
              "      <td>0.18</td>\n",
              "      <td>0.19</td>\n",
              "      <td>2.14</td>\n",
              "      <td>0.03</td>\n",
              "    </tr>\n",
              "    <tr>\n",
              "      <th>DummyRegressor</th>\n",
              "      <td>-0.00</td>\n",
              "      <td>-0.00</td>\n",
              "      <td>2.38</td>\n",
              "      <td>0.01</td>\n",
              "    </tr>\n",
              "    <tr>\n",
              "      <th>LassoLars</th>\n",
              "      <td>-0.00</td>\n",
              "      <td>-0.00</td>\n",
              "      <td>2.38</td>\n",
              "      <td>0.01</td>\n",
              "    </tr>\n",
              "    <tr>\n",
              "      <th>PassiveAggressiveRegressor</th>\n",
              "      <td>-0.01</td>\n",
              "      <td>-0.01</td>\n",
              "      <td>2.39</td>\n",
              "      <td>0.02</td>\n",
              "    </tr>\n",
              "    <tr>\n",
              "      <th>ExtraTreeRegressor</th>\n",
              "      <td>-0.11</td>\n",
              "      <td>-0.10</td>\n",
              "      <td>2.50</td>\n",
              "      <td>0.02</td>\n",
              "    </tr>\n",
              "    <tr>\n",
              "      <th>DecisionTreeRegressor</th>\n",
              "      <td>-0.15</td>\n",
              "      <td>-0.15</td>\n",
              "      <td>2.55</td>\n",
              "      <td>0.02</td>\n",
              "    </tr>\n",
              "    <tr>\n",
              "      <th>GaussianProcessRegressor</th>\n",
              "      <td>-4.32</td>\n",
              "      <td>-4.30</td>\n",
              "      <td>5.47</td>\n",
              "      <td>1.58</td>\n",
              "    </tr>\n",
              "    <tr>\n",
              "      <th>KernelRidge</th>\n",
              "      <td>-15.47</td>\n",
              "      <td>-15.43</td>\n",
              "      <td>9.63</td>\n",
              "      <td>0.80</td>\n",
              "    </tr>\n",
              "  </tbody>\n",
              "</table>\n",
              "</div>"
            ],
            "text/plain": [
              "                               Adjusted R-Squared  R-Squared  RMSE  Time Taken\n",
              "Model                                                                         \n",
              "MLPRegressor                                 0.43       0.43  1.79        3.09\n",
              "GradientBoostingRegressor                    0.43       0.43  1.80        0.31\n",
              "NuSVR                                        0.42       0.43  1.80        0.69\n",
              "OrthogonalMatchingPursuitCV                  0.41       0.41  1.82        0.03\n",
              "LassoLarsIC                                  0.41       0.41  1.82        0.01\n",
              "LarsCV                                       0.41       0.41  1.82        0.05\n",
              "Lars                                         0.41       0.41  1.82        0.03\n",
              "LassoLarsCV                                  0.41       0.41  1.82        0.02\n",
              "TransformedTargetRegressor                   0.41       0.41  1.82        0.01\n",
              "LinearRegression                             0.41       0.41  1.82        0.01\n",
              "Ridge                                        0.41       0.41  1.82        0.01\n",
              "RidgeCV                                      0.41       0.41  1.82        0.02\n",
              "BayesianRidge                                0.41       0.41  1.82        0.02\n",
              "LassoCV                                      0.41       0.41  1.82        0.10\n",
              "ElasticNetCV                                 0.41       0.41  1.82        0.09\n",
              "SGDRegressor                                 0.41       0.41  1.82        0.01\n",
              "SVR                                          0.40       0.41  1.83        0.67\n",
              "HuberRegressor                               0.40       0.40  1.84        0.02\n",
              "LGBMRegressor                                0.40       0.40  1.84        0.10\n",
              "HistGradientBoostingRegressor                0.39       0.40  1.85        0.40\n",
              "PoissonRegressor                             0.39       0.39  1.85        0.02\n",
              "AdaBoostRegressor                            0.39       0.39  1.85        0.08\n",
              "LinearSVR                                    0.39       0.39  1.85        0.02\n",
              "OrthogonalMatchingPursuit                    0.39       0.39  1.85        0.02\n",
              "RANSACRegressor                              0.38       0.39  1.86        0.04\n",
              "XGBRegressor                                 0.36       0.36  1.90        0.32\n",
              "KNeighborsRegressor                          0.35       0.35  1.92        0.02\n",
              "RandomForestRegressor                        0.34       0.34  1.93        0.77\n",
              "BaggingRegressor                             0.31       0.31  1.97        0.09\n",
              "GammaRegressor                               0.30       0.30  1.98        0.02\n",
              "GeneralizedLinearRegressor                   0.30       0.30  1.99        0.02\n",
              "TweedieRegressor                             0.30       0.30  1.99        0.01\n",
              "ExtraTreesRegressor                          0.29       0.29  2.00        0.51\n",
              "ElasticNet                                   0.25       0.26  2.05        0.02\n",
              "Lasso                                        0.18       0.19  2.14        0.03\n",
              "DummyRegressor                              -0.00      -0.00  2.38        0.01\n",
              "LassoLars                                   -0.00      -0.00  2.38        0.01\n",
              "PassiveAggressiveRegressor                  -0.01      -0.01  2.39        0.02\n",
              "ExtraTreeRegressor                          -0.11      -0.10  2.50        0.02\n",
              "DecisionTreeRegressor                       -0.15      -0.15  2.55        0.02\n",
              "GaussianProcessRegressor                    -4.32      -4.30  5.47        1.58\n",
              "KernelRidge                                -15.47     -15.43  9.63        0.80"
            ]
          },
          "metadata": {
            "tags": []
          },
          "execution_count": 49
        }
      ]
    },
    {
      "cell_type": "markdown",
      "metadata": {
        "id": "nOsGkEgIxJ1q"
      },
      "source": [
        "Accuracy too low try with original data without removing so many columns"
      ],
      "id": "nOsGkEgIxJ1q"
    },
    {
      "cell_type": "code",
      "metadata": {
        "colab": {
          "base_uri": "https://localhost:8080/",
          "height": 234
        },
        "id": "DGCpZJrvxB4g",
        "outputId": "44a92598-7c35-4025-b44f-3a302985cf1d"
      },
      "source": [
        "x = data_clean.drop(columns = ['Rings'])\n",
        "scaler = StandardScaler()\n",
        "X_scaled = scaler.fit_transform(x)\n",
        "vif = pd.DataFrame()\n",
        "vif[\"vif\"] = [variance_inflation_factor(X_scaled,i) for i in range(X_scaled.shape[1]) ]\n",
        "vif[\"Features\"] = x.columns\n",
        "vif"
      ],
      "id": "DGCpZJrvxB4g",
      "execution_count": 50,
      "outputs": [
        {
          "output_type": "execute_result",
          "data": {
            "text/html": [
              "<div>\n",
              "<style scoped>\n",
              "    .dataframe tbody tr th:only-of-type {\n",
              "        vertical-align: middle;\n",
              "    }\n",
              "\n",
              "    .dataframe tbody tr th {\n",
              "        vertical-align: top;\n",
              "    }\n",
              "\n",
              "    .dataframe thead th {\n",
              "        text-align: right;\n",
              "    }\n",
              "</style>\n",
              "<table border=\"1\" class=\"dataframe\">\n",
              "  <thead>\n",
              "    <tr style=\"text-align: right;\">\n",
              "      <th></th>\n",
              "      <th>vif</th>\n",
              "      <th>Features</th>\n",
              "    </tr>\n",
              "  </thead>\n",
              "  <tbody>\n",
              "    <tr>\n",
              "      <th>0</th>\n",
              "      <td>39.25</td>\n",
              "      <td>Length</td>\n",
              "    </tr>\n",
              "    <tr>\n",
              "      <th>1</th>\n",
              "      <td>40.03</td>\n",
              "      <td>Diameter</td>\n",
              "    </tr>\n",
              "    <tr>\n",
              "      <th>2</th>\n",
              "      <td>6.45</td>\n",
              "      <td>Height</td>\n",
              "    </tr>\n",
              "    <tr>\n",
              "      <th>3</th>\n",
              "      <td>33.27</td>\n",
              "      <td>Whole weight</td>\n",
              "    </tr>\n",
              "    <tr>\n",
              "      <th>4</th>\n",
              "      <td>15.86</td>\n",
              "      <td>Viscera weight</td>\n",
              "    </tr>\n",
              "    <tr>\n",
              "      <th>5</th>\n",
              "      <td>16.29</td>\n",
              "      <td>Shell weight</td>\n",
              "    </tr>\n",
              "  </tbody>\n",
              "</table>\n",
              "</div>"
            ],
            "text/plain": [
              "    vif        Features\n",
              "0 39.25          Length\n",
              "1 40.03        Diameter\n",
              "2  6.45          Height\n",
              "3 33.27    Whole weight\n",
              "4 15.86  Viscera weight\n",
              "5 16.29    Shell weight"
            ]
          },
          "metadata": {
            "tags": []
          },
          "execution_count": 50
        }
      ]
    },
    {
      "cell_type": "code",
      "metadata": {
        "colab": {
          "base_uri": "https://localhost:8080/"
        },
        "id": "Mjw9CHkAxCEO",
        "outputId": "16bfb066-5266-47ed-ff87-404a297ae1c5"
      },
      "source": [
        "for i in range(2,x.shape[1]+1):\n",
        "    pca = PCA(n_components=i)\n",
        "    principalComponents = pca.fit_transform(X_scaled)\n",
        "    print(i,sum(pca.explained_variance_ratio_))"
      ],
      "id": "Mjw9CHkAxCEO",
      "execution_count": 51,
      "outputs": [
        {
          "output_type": "stream",
          "text": [
            "2 0.9610306941307604\n",
            "3 0.9823604222888382\n",
            "4 0.9942594903123056\n",
            "5 0.9977733178673887\n",
            "6 0.9999999999999998\n"
          ],
          "name": "stdout"
        }
      ]
    },
    {
      "cell_type": "code",
      "metadata": {
        "id": "zGQh0VcIxCBa"
      },
      "source": [
        "pca = PCA(n_components=4)\n",
        "principalComponents = pca.fit_transform(X_scaled)"
      ],
      "id": "zGQh0VcIxCBa",
      "execution_count": 52,
      "outputs": []
    },
    {
      "cell_type": "code",
      "metadata": {
        "id": "kYJbWG2xxCHp"
      },
      "source": [
        "X_train, X_test, y_train, y_test = train_test_split(principalComponents, y, random_state=42, test_size=0.2)"
      ],
      "id": "kYJbWG2xxCHp",
      "execution_count": 53,
      "outputs": []
    },
    {
      "cell_type": "code",
      "metadata": {
        "colab": {
          "base_uri": "https://localhost:8080/"
        },
        "id": "dz8Far1OyMIt",
        "outputId": "eaa7ea6d-99f1-4be3-fce3-87fe4ba0d52b"
      },
      "source": [
        "reg = LazyRegressor(ignore_warnings=False, custom_metric=None)\n",
        "models, predictions = reg.fit(X_train, X_test, y_train, y_test)"
      ],
      "id": "dz8Far1OyMIt",
      "execution_count": 54,
      "outputs": [
        {
          "output_type": "stream",
          "text": [
            "100%|██████████| 42/42 [00:12<00:00,  3.49it/s]\n"
          ],
          "name": "stderr"
        }
      ]
    },
    {
      "cell_type": "code",
      "metadata": {
        "colab": {
          "base_uri": "https://localhost:8080/",
          "height": 1000
        },
        "id": "yIBy7S7gyMLJ",
        "outputId": "95401aa4-646f-45e0-d816-57318a59c736"
      },
      "source": [
        "models"
      ],
      "id": "yIBy7S7gyMLJ",
      "execution_count": 55,
      "outputs": [
        {
          "output_type": "execute_result",
          "data": {
            "text/html": [
              "<div>\n",
              "<style scoped>\n",
              "    .dataframe tbody tr th:only-of-type {\n",
              "        vertical-align: middle;\n",
              "    }\n",
              "\n",
              "    .dataframe tbody tr th {\n",
              "        vertical-align: top;\n",
              "    }\n",
              "\n",
              "    .dataframe thead th {\n",
              "        text-align: right;\n",
              "    }\n",
              "</style>\n",
              "<table border=\"1\" class=\"dataframe\">\n",
              "  <thead>\n",
              "    <tr style=\"text-align: right;\">\n",
              "      <th></th>\n",
              "      <th>Adjusted R-Squared</th>\n",
              "      <th>R-Squared</th>\n",
              "      <th>RMSE</th>\n",
              "      <th>Time Taken</th>\n",
              "    </tr>\n",
              "    <tr>\n",
              "      <th>Model</th>\n",
              "      <th></th>\n",
              "      <th></th>\n",
              "      <th></th>\n",
              "      <th></th>\n",
              "    </tr>\n",
              "  </thead>\n",
              "  <tbody>\n",
              "    <tr>\n",
              "      <th>GradientBoostingRegressor</th>\n",
              "      <td>0.48</td>\n",
              "      <td>0.48</td>\n",
              "      <td>1.71</td>\n",
              "      <td>0.53</td>\n",
              "    </tr>\n",
              "    <tr>\n",
              "      <th>MLPRegressor</th>\n",
              "      <td>0.48</td>\n",
              "      <td>0.48</td>\n",
              "      <td>1.71</td>\n",
              "      <td>3.48</td>\n",
              "    </tr>\n",
              "    <tr>\n",
              "      <th>NuSVR</th>\n",
              "      <td>0.47</td>\n",
              "      <td>0.48</td>\n",
              "      <td>1.72</td>\n",
              "      <td>0.67</td>\n",
              "    </tr>\n",
              "    <tr>\n",
              "      <th>SVR</th>\n",
              "      <td>0.47</td>\n",
              "      <td>0.47</td>\n",
              "      <td>1.73</td>\n",
              "      <td>0.72</td>\n",
              "    </tr>\n",
              "    <tr>\n",
              "      <th>RandomForestRegressor</th>\n",
              "      <td>0.45</td>\n",
              "      <td>0.45</td>\n",
              "      <td>1.75</td>\n",
              "      <td>1.19</td>\n",
              "    </tr>\n",
              "    <tr>\n",
              "      <th>LGBMRegressor</th>\n",
              "      <td>0.44</td>\n",
              "      <td>0.45</td>\n",
              "      <td>1.77</td>\n",
              "      <td>0.13</td>\n",
              "    </tr>\n",
              "    <tr>\n",
              "      <th>LarsCV</th>\n",
              "      <td>0.44</td>\n",
              "      <td>0.44</td>\n",
              "      <td>1.77</td>\n",
              "      <td>0.06</td>\n",
              "    </tr>\n",
              "    <tr>\n",
              "      <th>Lars</th>\n",
              "      <td>0.44</td>\n",
              "      <td>0.44</td>\n",
              "      <td>1.77</td>\n",
              "      <td>0.03</td>\n",
              "    </tr>\n",
              "    <tr>\n",
              "      <th>LassoLarsCV</th>\n",
              "      <td>0.44</td>\n",
              "      <td>0.44</td>\n",
              "      <td>1.77</td>\n",
              "      <td>0.09</td>\n",
              "    </tr>\n",
              "    <tr>\n",
              "      <th>LinearRegression</th>\n",
              "      <td>0.44</td>\n",
              "      <td>0.44</td>\n",
              "      <td>1.77</td>\n",
              "      <td>0.03</td>\n",
              "    </tr>\n",
              "    <tr>\n",
              "      <th>TransformedTargetRegressor</th>\n",
              "      <td>0.44</td>\n",
              "      <td>0.44</td>\n",
              "      <td>1.77</td>\n",
              "      <td>0.02</td>\n",
              "    </tr>\n",
              "    <tr>\n",
              "      <th>Ridge</th>\n",
              "      <td>0.44</td>\n",
              "      <td>0.44</td>\n",
              "      <td>1.77</td>\n",
              "      <td>0.01</td>\n",
              "    </tr>\n",
              "    <tr>\n",
              "      <th>BayesianRidge</th>\n",
              "      <td>0.44</td>\n",
              "      <td>0.44</td>\n",
              "      <td>1.77</td>\n",
              "      <td>0.02</td>\n",
              "    </tr>\n",
              "    <tr>\n",
              "      <th>RidgeCV</th>\n",
              "      <td>0.44</td>\n",
              "      <td>0.44</td>\n",
              "      <td>1.77</td>\n",
              "      <td>0.03</td>\n",
              "    </tr>\n",
              "    <tr>\n",
              "      <th>ElasticNetCV</th>\n",
              "      <td>0.44</td>\n",
              "      <td>0.44</td>\n",
              "      <td>1.77</td>\n",
              "      <td>0.17</td>\n",
              "    </tr>\n",
              "    <tr>\n",
              "      <th>HistGradientBoostingRegressor</th>\n",
              "      <td>0.44</td>\n",
              "      <td>0.44</td>\n",
              "      <td>1.77</td>\n",
              "      <td>0.43</td>\n",
              "    </tr>\n",
              "    <tr>\n",
              "      <th>LassoCV</th>\n",
              "      <td>0.44</td>\n",
              "      <td>0.44</td>\n",
              "      <td>1.77</td>\n",
              "      <td>0.28</td>\n",
              "    </tr>\n",
              "    <tr>\n",
              "      <th>SGDRegressor</th>\n",
              "      <td>0.44</td>\n",
              "      <td>0.44</td>\n",
              "      <td>1.77</td>\n",
              "      <td>0.03</td>\n",
              "    </tr>\n",
              "    <tr>\n",
              "      <th>OrthogonalMatchingPursuitCV</th>\n",
              "      <td>0.44</td>\n",
              "      <td>0.44</td>\n",
              "      <td>1.77</td>\n",
              "      <td>0.03</td>\n",
              "    </tr>\n",
              "    <tr>\n",
              "      <th>LassoLarsIC</th>\n",
              "      <td>0.44</td>\n",
              "      <td>0.44</td>\n",
              "      <td>1.78</td>\n",
              "      <td>0.04</td>\n",
              "    </tr>\n",
              "    <tr>\n",
              "      <th>AdaBoostRegressor</th>\n",
              "      <td>0.44</td>\n",
              "      <td>0.44</td>\n",
              "      <td>1.78</td>\n",
              "      <td>0.12</td>\n",
              "    </tr>\n",
              "    <tr>\n",
              "      <th>HuberRegressor</th>\n",
              "      <td>0.43</td>\n",
              "      <td>0.43</td>\n",
              "      <td>1.80</td>\n",
              "      <td>0.04</td>\n",
              "    </tr>\n",
              "    <tr>\n",
              "      <th>PoissonRegressor</th>\n",
              "      <td>0.42</td>\n",
              "      <td>0.42</td>\n",
              "      <td>1.81</td>\n",
              "      <td>0.02</td>\n",
              "    </tr>\n",
              "    <tr>\n",
              "      <th>LinearSVR</th>\n",
              "      <td>0.41</td>\n",
              "      <td>0.41</td>\n",
              "      <td>1.82</td>\n",
              "      <td>0.06</td>\n",
              "    </tr>\n",
              "    <tr>\n",
              "      <th>ExtraTreesRegressor</th>\n",
              "      <td>0.41</td>\n",
              "      <td>0.41</td>\n",
              "      <td>1.82</td>\n",
              "      <td>0.62</td>\n",
              "    </tr>\n",
              "    <tr>\n",
              "      <th>BaggingRegressor</th>\n",
              "      <td>0.40</td>\n",
              "      <td>0.40</td>\n",
              "      <td>1.83</td>\n",
              "      <td>0.14</td>\n",
              "    </tr>\n",
              "    <tr>\n",
              "      <th>XGBRegressor</th>\n",
              "      <td>0.38</td>\n",
              "      <td>0.39</td>\n",
              "      <td>1.86</td>\n",
              "      <td>0.29</td>\n",
              "    </tr>\n",
              "    <tr>\n",
              "      <th>OrthogonalMatchingPursuit</th>\n",
              "      <td>0.38</td>\n",
              "      <td>0.38</td>\n",
              "      <td>1.87</td>\n",
              "      <td>0.02</td>\n",
              "    </tr>\n",
              "    <tr>\n",
              "      <th>KNeighborsRegressor</th>\n",
              "      <td>0.37</td>\n",
              "      <td>0.38</td>\n",
              "      <td>1.88</td>\n",
              "      <td>0.02</td>\n",
              "    </tr>\n",
              "    <tr>\n",
              "      <th>GammaRegressor</th>\n",
              "      <td>0.32</td>\n",
              "      <td>0.32</td>\n",
              "      <td>1.96</td>\n",
              "      <td>0.03</td>\n",
              "    </tr>\n",
              "    <tr>\n",
              "      <th>GeneralizedLinearRegressor</th>\n",
              "      <td>0.31</td>\n",
              "      <td>0.32</td>\n",
              "      <td>1.96</td>\n",
              "      <td>0.02</td>\n",
              "    </tr>\n",
              "    <tr>\n",
              "      <th>TweedieRegressor</th>\n",
              "      <td>0.31</td>\n",
              "      <td>0.32</td>\n",
              "      <td>1.96</td>\n",
              "      <td>0.02</td>\n",
              "    </tr>\n",
              "    <tr>\n",
              "      <th>RANSACRegressor</th>\n",
              "      <td>0.28</td>\n",
              "      <td>0.28</td>\n",
              "      <td>2.02</td>\n",
              "      <td>0.11</td>\n",
              "    </tr>\n",
              "    <tr>\n",
              "      <th>ElasticNet</th>\n",
              "      <td>0.25</td>\n",
              "      <td>0.25</td>\n",
              "      <td>2.06</td>\n",
              "      <td>0.03</td>\n",
              "    </tr>\n",
              "    <tr>\n",
              "      <th>Lasso</th>\n",
              "      <td>0.18</td>\n",
              "      <td>0.18</td>\n",
              "      <td>2.15</td>\n",
              "      <td>0.03</td>\n",
              "    </tr>\n",
              "    <tr>\n",
              "      <th>PassiveAggressiveRegressor</th>\n",
              "      <td>0.12</td>\n",
              "      <td>0.12</td>\n",
              "      <td>2.23</td>\n",
              "      <td>0.02</td>\n",
              "    </tr>\n",
              "    <tr>\n",
              "      <th>DummyRegressor</th>\n",
              "      <td>-0.01</td>\n",
              "      <td>-0.00</td>\n",
              "      <td>2.38</td>\n",
              "      <td>0.02</td>\n",
              "    </tr>\n",
              "    <tr>\n",
              "      <th>LassoLars</th>\n",
              "      <td>-0.01</td>\n",
              "      <td>-0.00</td>\n",
              "      <td>2.38</td>\n",
              "      <td>0.06</td>\n",
              "    </tr>\n",
              "    <tr>\n",
              "      <th>ExtraTreeRegressor</th>\n",
              "      <td>-0.05</td>\n",
              "      <td>-0.04</td>\n",
              "      <td>2.42</td>\n",
              "      <td>0.02</td>\n",
              "    </tr>\n",
              "    <tr>\n",
              "      <th>DecisionTreeRegressor</th>\n",
              "      <td>-0.05</td>\n",
              "      <td>-0.05</td>\n",
              "      <td>2.43</td>\n",
              "      <td>0.04</td>\n",
              "    </tr>\n",
              "    <tr>\n",
              "      <th>KernelRidge</th>\n",
              "      <td>-15.50</td>\n",
              "      <td>-15.41</td>\n",
              "      <td>9.62</td>\n",
              "      <td>0.83</td>\n",
              "    </tr>\n",
              "    <tr>\n",
              "      <th>GaussianProcessRegressor</th>\n",
              "      <td>-170099.03</td>\n",
              "      <td>-169199.03</td>\n",
              "      <td>976.87</td>\n",
              "      <td>1.45</td>\n",
              "    </tr>\n",
              "  </tbody>\n",
              "</table>\n",
              "</div>"
            ],
            "text/plain": [
              "                               Adjusted R-Squared  R-Squared   RMSE  Time Taken\n",
              "Model                                                                          \n",
              "GradientBoostingRegressor                    0.48       0.48   1.71        0.53\n",
              "MLPRegressor                                 0.48       0.48   1.71        3.48\n",
              "NuSVR                                        0.47       0.48   1.72        0.67\n",
              "SVR                                          0.47       0.47   1.73        0.72\n",
              "RandomForestRegressor                        0.45       0.45   1.75        1.19\n",
              "LGBMRegressor                                0.44       0.45   1.77        0.13\n",
              "LarsCV                                       0.44       0.44   1.77        0.06\n",
              "Lars                                         0.44       0.44   1.77        0.03\n",
              "LassoLarsCV                                  0.44       0.44   1.77        0.09\n",
              "LinearRegression                             0.44       0.44   1.77        0.03\n",
              "TransformedTargetRegressor                   0.44       0.44   1.77        0.02\n",
              "Ridge                                        0.44       0.44   1.77        0.01\n",
              "BayesianRidge                                0.44       0.44   1.77        0.02\n",
              "RidgeCV                                      0.44       0.44   1.77        0.03\n",
              "ElasticNetCV                                 0.44       0.44   1.77        0.17\n",
              "HistGradientBoostingRegressor                0.44       0.44   1.77        0.43\n",
              "LassoCV                                      0.44       0.44   1.77        0.28\n",
              "SGDRegressor                                 0.44       0.44   1.77        0.03\n",
              "OrthogonalMatchingPursuitCV                  0.44       0.44   1.77        0.03\n",
              "LassoLarsIC                                  0.44       0.44   1.78        0.04\n",
              "AdaBoostRegressor                            0.44       0.44   1.78        0.12\n",
              "HuberRegressor                               0.43       0.43   1.80        0.04\n",
              "PoissonRegressor                             0.42       0.42   1.81        0.02\n",
              "LinearSVR                                    0.41       0.41   1.82        0.06\n",
              "ExtraTreesRegressor                          0.41       0.41   1.82        0.62\n",
              "BaggingRegressor                             0.40       0.40   1.83        0.14\n",
              "XGBRegressor                                 0.38       0.39   1.86        0.29\n",
              "OrthogonalMatchingPursuit                    0.38       0.38   1.87        0.02\n",
              "KNeighborsRegressor                          0.37       0.38   1.88        0.02\n",
              "GammaRegressor                               0.32       0.32   1.96        0.03\n",
              "GeneralizedLinearRegressor                   0.31       0.32   1.96        0.02\n",
              "TweedieRegressor                             0.31       0.32   1.96        0.02\n",
              "RANSACRegressor                              0.28       0.28   2.02        0.11\n",
              "ElasticNet                                   0.25       0.25   2.06        0.03\n",
              "Lasso                                        0.18       0.18   2.15        0.03\n",
              "PassiveAggressiveRegressor                   0.12       0.12   2.23        0.02\n",
              "DummyRegressor                              -0.01      -0.00   2.38        0.02\n",
              "LassoLars                                   -0.01      -0.00   2.38        0.06\n",
              "ExtraTreeRegressor                          -0.05      -0.04   2.42        0.02\n",
              "DecisionTreeRegressor                       -0.05      -0.05   2.43        0.04\n",
              "KernelRidge                                -15.50     -15.41   9.62        0.83\n",
              "GaussianProcessRegressor               -170099.03 -169199.03 976.87        1.45"
            ]
          },
          "metadata": {
            "tags": []
          },
          "execution_count": 55
        }
      ]
    },
    {
      "cell_type": "markdown",
      "metadata": {
        "id": "JPBg5zTuzLf0"
      },
      "source": [
        "nope trying from start by not only sex column"
      ],
      "id": "JPBg5zTuzLf0"
    },
    {
      "cell_type": "code",
      "metadata": {
        "colab": {
          "base_uri": "https://localhost:8080/",
          "height": 417
        },
        "id": "JJRQJGMTyMOB",
        "outputId": "99d19c08-1dae-46f7-d656-441ad1f74f7c"
      },
      "source": [
        "df=pd.read_csv('abalone.csv')\n",
        "df"
      ],
      "id": "JJRQJGMTyMOB",
      "execution_count": 56,
      "outputs": [
        {
          "output_type": "execute_result",
          "data": {
            "text/html": [
              "<div>\n",
              "<style scoped>\n",
              "    .dataframe tbody tr th:only-of-type {\n",
              "        vertical-align: middle;\n",
              "    }\n",
              "\n",
              "    .dataframe tbody tr th {\n",
              "        vertical-align: top;\n",
              "    }\n",
              "\n",
              "    .dataframe thead th {\n",
              "        text-align: right;\n",
              "    }\n",
              "</style>\n",
              "<table border=\"1\" class=\"dataframe\">\n",
              "  <thead>\n",
              "    <tr style=\"text-align: right;\">\n",
              "      <th></th>\n",
              "      <th>Sex</th>\n",
              "      <th>Length</th>\n",
              "      <th>Diameter</th>\n",
              "      <th>Height</th>\n",
              "      <th>Whole weight</th>\n",
              "      <th>Shucked weight</th>\n",
              "      <th>Viscera weight</th>\n",
              "      <th>Shell weight</th>\n",
              "      <th>Rings</th>\n",
              "    </tr>\n",
              "  </thead>\n",
              "  <tbody>\n",
              "    <tr>\n",
              "      <th>0</th>\n",
              "      <td>M</td>\n",
              "      <td>0.46</td>\n",
              "      <td>0.36</td>\n",
              "      <td>0.10</td>\n",
              "      <td>0.51</td>\n",
              "      <td>0.22</td>\n",
              "      <td>0.10</td>\n",
              "      <td>0.15</td>\n",
              "      <td>15</td>\n",
              "    </tr>\n",
              "    <tr>\n",
              "      <th>1</th>\n",
              "      <td>M</td>\n",
              "      <td>0.35</td>\n",
              "      <td>0.27</td>\n",
              "      <td>0.09</td>\n",
              "      <td>0.23</td>\n",
              "      <td>0.10</td>\n",
              "      <td>0.05</td>\n",
              "      <td>0.07</td>\n",
              "      <td>7</td>\n",
              "    </tr>\n",
              "    <tr>\n",
              "      <th>2</th>\n",
              "      <td>F</td>\n",
              "      <td>0.53</td>\n",
              "      <td>0.42</td>\n",
              "      <td>0.14</td>\n",
              "      <td>0.68</td>\n",
              "      <td>0.26</td>\n",
              "      <td>0.14</td>\n",
              "      <td>0.21</td>\n",
              "      <td>9</td>\n",
              "    </tr>\n",
              "    <tr>\n",
              "      <th>3</th>\n",
              "      <td>M</td>\n",
              "      <td>0.44</td>\n",
              "      <td>0.36</td>\n",
              "      <td>0.12</td>\n",
              "      <td>0.52</td>\n",
              "      <td>0.22</td>\n",
              "      <td>0.11</td>\n",
              "      <td>0.15</td>\n",
              "      <td>10</td>\n",
              "    </tr>\n",
              "    <tr>\n",
              "      <th>4</th>\n",
              "      <td>I</td>\n",
              "      <td>0.33</td>\n",
              "      <td>0.26</td>\n",
              "      <td>0.08</td>\n",
              "      <td>0.20</td>\n",
              "      <td>0.09</td>\n",
              "      <td>0.04</td>\n",
              "      <td>0.06</td>\n",
              "      <td>7</td>\n",
              "    </tr>\n",
              "    <tr>\n",
              "      <th>...</th>\n",
              "      <td>...</td>\n",
              "      <td>...</td>\n",
              "      <td>...</td>\n",
              "      <td>...</td>\n",
              "      <td>...</td>\n",
              "      <td>...</td>\n",
              "      <td>...</td>\n",
              "      <td>...</td>\n",
              "      <td>...</td>\n",
              "    </tr>\n",
              "    <tr>\n",
              "      <th>4172</th>\n",
              "      <td>F</td>\n",
              "      <td>0.56</td>\n",
              "      <td>0.45</td>\n",
              "      <td>0.17</td>\n",
              "      <td>0.89</td>\n",
              "      <td>0.37</td>\n",
              "      <td>0.24</td>\n",
              "      <td>0.25</td>\n",
              "      <td>11</td>\n",
              "    </tr>\n",
              "    <tr>\n",
              "      <th>4173</th>\n",
              "      <td>M</td>\n",
              "      <td>0.59</td>\n",
              "      <td>0.44</td>\n",
              "      <td>0.14</td>\n",
              "      <td>0.97</td>\n",
              "      <td>0.44</td>\n",
              "      <td>0.21</td>\n",
              "      <td>0.26</td>\n",
              "      <td>10</td>\n",
              "    </tr>\n",
              "    <tr>\n",
              "      <th>4174</th>\n",
              "      <td>M</td>\n",
              "      <td>0.60</td>\n",
              "      <td>0.47</td>\n",
              "      <td>0.20</td>\n",
              "      <td>1.18</td>\n",
              "      <td>0.53</td>\n",
              "      <td>0.29</td>\n",
              "      <td>0.31</td>\n",
              "      <td>9</td>\n",
              "    </tr>\n",
              "    <tr>\n",
              "      <th>4175</th>\n",
              "      <td>F</td>\n",
              "      <td>0.62</td>\n",
              "      <td>0.48</td>\n",
              "      <td>0.15</td>\n",
              "      <td>1.09</td>\n",
              "      <td>0.53</td>\n",
              "      <td>0.26</td>\n",
              "      <td>0.30</td>\n",
              "      <td>10</td>\n",
              "    </tr>\n",
              "    <tr>\n",
              "      <th>4176</th>\n",
              "      <td>M</td>\n",
              "      <td>0.71</td>\n",
              "      <td>0.56</td>\n",
              "      <td>0.20</td>\n",
              "      <td>1.95</td>\n",
              "      <td>0.95</td>\n",
              "      <td>0.38</td>\n",
              "      <td>0.49</td>\n",
              "      <td>12</td>\n",
              "    </tr>\n",
              "  </tbody>\n",
              "</table>\n",
              "<p>4177 rows × 9 columns</p>\n",
              "</div>"
            ],
            "text/plain": [
              "     Sex  Length  Diameter  ...  Viscera weight  Shell weight  Rings\n",
              "0      M    0.46      0.36  ...            0.10          0.15     15\n",
              "1      M    0.35      0.27  ...            0.05          0.07      7\n",
              "2      F    0.53      0.42  ...            0.14          0.21      9\n",
              "3      M    0.44      0.36  ...            0.11          0.15     10\n",
              "4      I    0.33      0.26  ...            0.04          0.06      7\n",
              "...   ..     ...       ...  ...             ...           ...    ...\n",
              "4172   F    0.56      0.45  ...            0.24          0.25     11\n",
              "4173   M    0.59      0.44  ...            0.21          0.26     10\n",
              "4174   M    0.60      0.47  ...            0.29          0.31      9\n",
              "4175   F    0.62      0.48  ...            0.26          0.30     10\n",
              "4176   M    0.71      0.56  ...            0.38          0.49     12\n",
              "\n",
              "[4177 rows x 9 columns]"
            ]
          },
          "metadata": {
            "tags": []
          },
          "execution_count": 56
        }
      ]
    },
    {
      "cell_type": "code",
      "metadata": {
        "colab": {
          "base_uri": "https://localhost:8080/",
          "height": 417
        },
        "id": "OESoyz6dyMQk",
        "outputId": "1340cec5-582c-4158-fbae-5893760e120b"
      },
      "source": [
        "df=df.drop(['Sex'],axis=1)\n",
        "df"
      ],
      "id": "OESoyz6dyMQk",
      "execution_count": 57,
      "outputs": [
        {
          "output_type": "execute_result",
          "data": {
            "text/html": [
              "<div>\n",
              "<style scoped>\n",
              "    .dataframe tbody tr th:only-of-type {\n",
              "        vertical-align: middle;\n",
              "    }\n",
              "\n",
              "    .dataframe tbody tr th {\n",
              "        vertical-align: top;\n",
              "    }\n",
              "\n",
              "    .dataframe thead th {\n",
              "        text-align: right;\n",
              "    }\n",
              "</style>\n",
              "<table border=\"1\" class=\"dataframe\">\n",
              "  <thead>\n",
              "    <tr style=\"text-align: right;\">\n",
              "      <th></th>\n",
              "      <th>Length</th>\n",
              "      <th>Diameter</th>\n",
              "      <th>Height</th>\n",
              "      <th>Whole weight</th>\n",
              "      <th>Shucked weight</th>\n",
              "      <th>Viscera weight</th>\n",
              "      <th>Shell weight</th>\n",
              "      <th>Rings</th>\n",
              "    </tr>\n",
              "  </thead>\n",
              "  <tbody>\n",
              "    <tr>\n",
              "      <th>0</th>\n",
              "      <td>0.46</td>\n",
              "      <td>0.36</td>\n",
              "      <td>0.10</td>\n",
              "      <td>0.51</td>\n",
              "      <td>0.22</td>\n",
              "      <td>0.10</td>\n",
              "      <td>0.15</td>\n",
              "      <td>15</td>\n",
              "    </tr>\n",
              "    <tr>\n",
              "      <th>1</th>\n",
              "      <td>0.35</td>\n",
              "      <td>0.27</td>\n",
              "      <td>0.09</td>\n",
              "      <td>0.23</td>\n",
              "      <td>0.10</td>\n",
              "      <td>0.05</td>\n",
              "      <td>0.07</td>\n",
              "      <td>7</td>\n",
              "    </tr>\n",
              "    <tr>\n",
              "      <th>2</th>\n",
              "      <td>0.53</td>\n",
              "      <td>0.42</td>\n",
              "      <td>0.14</td>\n",
              "      <td>0.68</td>\n",
              "      <td>0.26</td>\n",
              "      <td>0.14</td>\n",
              "      <td>0.21</td>\n",
              "      <td>9</td>\n",
              "    </tr>\n",
              "    <tr>\n",
              "      <th>3</th>\n",
              "      <td>0.44</td>\n",
              "      <td>0.36</td>\n",
              "      <td>0.12</td>\n",
              "      <td>0.52</td>\n",
              "      <td>0.22</td>\n",
              "      <td>0.11</td>\n",
              "      <td>0.15</td>\n",
              "      <td>10</td>\n",
              "    </tr>\n",
              "    <tr>\n",
              "      <th>4</th>\n",
              "      <td>0.33</td>\n",
              "      <td>0.26</td>\n",
              "      <td>0.08</td>\n",
              "      <td>0.20</td>\n",
              "      <td>0.09</td>\n",
              "      <td>0.04</td>\n",
              "      <td>0.06</td>\n",
              "      <td>7</td>\n",
              "    </tr>\n",
              "    <tr>\n",
              "      <th>...</th>\n",
              "      <td>...</td>\n",
              "      <td>...</td>\n",
              "      <td>...</td>\n",
              "      <td>...</td>\n",
              "      <td>...</td>\n",
              "      <td>...</td>\n",
              "      <td>...</td>\n",
              "      <td>...</td>\n",
              "    </tr>\n",
              "    <tr>\n",
              "      <th>4172</th>\n",
              "      <td>0.56</td>\n",
              "      <td>0.45</td>\n",
              "      <td>0.17</td>\n",
              "      <td>0.89</td>\n",
              "      <td>0.37</td>\n",
              "      <td>0.24</td>\n",
              "      <td>0.25</td>\n",
              "      <td>11</td>\n",
              "    </tr>\n",
              "    <tr>\n",
              "      <th>4173</th>\n",
              "      <td>0.59</td>\n",
              "      <td>0.44</td>\n",
              "      <td>0.14</td>\n",
              "      <td>0.97</td>\n",
              "      <td>0.44</td>\n",
              "      <td>0.21</td>\n",
              "      <td>0.26</td>\n",
              "      <td>10</td>\n",
              "    </tr>\n",
              "    <tr>\n",
              "      <th>4174</th>\n",
              "      <td>0.60</td>\n",
              "      <td>0.47</td>\n",
              "      <td>0.20</td>\n",
              "      <td>1.18</td>\n",
              "      <td>0.53</td>\n",
              "      <td>0.29</td>\n",
              "      <td>0.31</td>\n",
              "      <td>9</td>\n",
              "    </tr>\n",
              "    <tr>\n",
              "      <th>4175</th>\n",
              "      <td>0.62</td>\n",
              "      <td>0.48</td>\n",
              "      <td>0.15</td>\n",
              "      <td>1.09</td>\n",
              "      <td>0.53</td>\n",
              "      <td>0.26</td>\n",
              "      <td>0.30</td>\n",
              "      <td>10</td>\n",
              "    </tr>\n",
              "    <tr>\n",
              "      <th>4176</th>\n",
              "      <td>0.71</td>\n",
              "      <td>0.56</td>\n",
              "      <td>0.20</td>\n",
              "      <td>1.95</td>\n",
              "      <td>0.95</td>\n",
              "      <td>0.38</td>\n",
              "      <td>0.49</td>\n",
              "      <td>12</td>\n",
              "    </tr>\n",
              "  </tbody>\n",
              "</table>\n",
              "<p>4177 rows × 8 columns</p>\n",
              "</div>"
            ],
            "text/plain": [
              "      Length  Diameter  Height  ...  Viscera weight  Shell weight  Rings\n",
              "0       0.46      0.36    0.10  ...            0.10          0.15     15\n",
              "1       0.35      0.27    0.09  ...            0.05          0.07      7\n",
              "2       0.53      0.42    0.14  ...            0.14          0.21      9\n",
              "3       0.44      0.36    0.12  ...            0.11          0.15     10\n",
              "4       0.33      0.26    0.08  ...            0.04          0.06      7\n",
              "...      ...       ...     ...  ...             ...           ...    ...\n",
              "4172    0.56      0.45    0.17  ...            0.24          0.25     11\n",
              "4173    0.59      0.44    0.14  ...            0.21          0.26     10\n",
              "4174    0.60      0.47    0.20  ...            0.29          0.31      9\n",
              "4175    0.62      0.48    0.15  ...            0.26          0.30     10\n",
              "4176    0.71      0.56    0.20  ...            0.38          0.49     12\n",
              "\n",
              "[4177 rows x 8 columns]"
            ]
          },
          "metadata": {
            "tags": []
          },
          "execution_count": 57
        }
      ]
    },
    {
      "cell_type": "code",
      "metadata": {
        "colab": {
          "base_uri": "https://localhost:8080/"
        },
        "id": "OMqK-UUJyMTp",
        "outputId": "fc0ab204-2a57-428e-d457-70c30c918a05"
      },
      "source": [
        "Q1 = df.quantile(q=.25)\n",
        "Q3 = df.quantile(q=.75)\n",
        "IQR = df.apply(stats.iqr)\n",
        "\n",
        "#only keep rows in dataframe that have values within 1.5*IQR of Q1 and Q3\n",
        "data_clean = df[~((df < (Q1-1.5*IQR)) | (df > (Q3+1.5*IQR))).any(axis=1)]\n",
        "\n",
        "print(df.shape)\n",
        "#find how many rows are left in the dataframe \n",
        "data_clean.shape"
      ],
      "id": "OMqK-UUJyMTp",
      "execution_count": 58,
      "outputs": [
        {
          "output_type": "stream",
          "text": [
            "(4177, 8)\n"
          ],
          "name": "stdout"
        },
        {
          "output_type": "execute_result",
          "data": {
            "text/plain": [
              "(3781, 8)"
            ]
          },
          "metadata": {
            "tags": []
          },
          "execution_count": 58
        }
      ]
    },
    {
      "cell_type": "code",
      "metadata": {
        "colab": {
          "base_uri": "https://localhost:8080/",
          "height": 296
        },
        "id": "pb5ViQoh0Goq",
        "outputId": "fc35f805-4f16-4e4b-d030-579f283f5a20"
      },
      "source": [
        "sn.boxplot(data_clean['Length'])"
      ],
      "id": "pb5ViQoh0Goq",
      "execution_count": 59,
      "outputs": [
        {
          "output_type": "execute_result",
          "data": {
            "text/plain": [
              "<matplotlib.axes._subplots.AxesSubplot at 0x7ff8de680c50>"
            ]
          },
          "metadata": {
            "tags": []
          },
          "execution_count": 59
        },
        {
          "output_type": "display_data",
          "data": {
            "image/png": "[encoded data removed]",
            "text/plain": [
              "<Figure size 432x288 with 1 Axes>"
            ]
          },
          "metadata": {
            "tags": [],
            "needs_background": "light"
          }
        }
      ]
    },
    {
      "cell_type": "code",
      "metadata": {
        "colab": {
          "base_uri": "https://localhost:8080/"
        },
        "id": "0HSYVbv_0Go0",
        "outputId": "d2c25c31-d1a7-4468-e3c5-81bcdea5f164"
      },
      "source": [
        "z_scr=zscore(data_clean)\n",
        "print(data_clean.shape)\n",
        "df_new=data_clean.loc[(abs(z_scr)<3).all(axis=1)]\n",
        "print(df_new.shape)"
      ],
      "id": "0HSYVbv_0Go0",
      "execution_count": 60,
      "outputs": [
        {
          "output_type": "stream",
          "text": [
            "(3781, 8)\n",
            "(3764, 8)\n"
          ],
          "name": "stdout"
        }
      ]
    },
    {
      "cell_type": "code",
      "metadata": {
        "colab": {
          "base_uri": "https://localhost:8080/",
          "height": 296
        },
        "id": "HxS90FJR0Go1",
        "outputId": "626a28c8-1ea0-4656-a905-1f8b4a086ce0"
      },
      "source": [
        "sn.boxplot(df_new['Length'])"
      ],
      "id": "HxS90FJR0Go1",
      "execution_count": 61,
      "outputs": [
        {
          "output_type": "execute_result",
          "data": {
            "text/plain": [
              "<matplotlib.axes._subplots.AxesSubplot at 0x7ff8ddcc54d0>"
            ]
          },
          "metadata": {
            "tags": []
          },
          "execution_count": 61
        },
        {
          "output_type": "display_data",
          "data": {
            "image/png": "[encoded data removed]",
            "text/plain": [
              "<Figure size 432x288 with 1 Axes>"
            ]
          },
          "metadata": {
            "tags": [],
            "needs_background": "light"
          }
        }
      ]
    },
    {
      "cell_type": "code",
      "metadata": {
        "colab": {
          "base_uri": "https://localhost:8080/"
        },
        "id": "JW_NtwJ70Go1",
        "outputId": "b7a81f9d-4e3b-4af9-c120-e568fb054b8a"
      },
      "source": [
        "Q1 = df_new.quantile(q=.25)\n",
        "Q3 = df_new.quantile(q=.75)\n",
        "IQR = df_new.apply(stats.iqr)\n",
        "\n",
        "#only keep rows in dataframe that have values within 1.5*IQR of Q1 and Q3\n",
        "data_clean = df_new[~((df_new < (Q1-1.5*IQR)) | (df_new > (Q3+1.5*IQR))).any(axis=1)]\n",
        "\n",
        "#find how many rows are left in the dataframe \n",
        "data_clean.shape"
      ],
      "id": "JW_NtwJ70Go1",
      "execution_count": 62,
      "outputs": [
        {
          "output_type": "execute_result",
          "data": {
            "text/plain": [
              "(3762, 8)"
            ]
          },
          "metadata": {
            "tags": []
          },
          "execution_count": 62
        }
      ]
    },
    {
      "cell_type": "code",
      "metadata": {
        "colab": {
          "base_uri": "https://localhost:8080/",
          "height": 296
        },
        "id": "XzEO_A1w0Go2",
        "outputId": "c3edae13-bd23-46dd-f3bb-bbdd9fb2419f"
      },
      "source": [
        "sn.boxplot(data_clean['Length'])"
      ],
      "id": "XzEO_A1w0Go2",
      "execution_count": 63,
      "outputs": [
        {
          "output_type": "execute_result",
          "data": {
            "text/plain": [
              "<matplotlib.axes._subplots.AxesSubplot at 0x7ff8ddc89350>"
            ]
          },
          "metadata": {
            "tags": []
          },
          "execution_count": 63
        },
        {
          "output_type": "display_data",
          "data": {
            "image/png": "[encoded data removed]",
            "text/plain": [
              "<Figure size 432x288 with 1 Axes>"
            ]
          },
          "metadata": {
            "tags": [],
            "needs_background": "light"
          }
        }
      ]
    },
    {
      "cell_type": "code",
      "metadata": {
        "colab": {
          "base_uri": "https://localhost:8080/",
          "height": 296
        },
        "id": "AA3tkUgB0Q9P",
        "outputId": "19bc6c25-e55a-4be7-f82f-d741f8ab7c9a"
      },
      "source": [
        "sn.boxplot(data_clean['Shucked weight'])"
      ],
      "id": "AA3tkUgB0Q9P",
      "execution_count": 64,
      "outputs": [
        {
          "output_type": "execute_result",
          "data": {
            "text/plain": [
              "<matplotlib.axes._subplots.AxesSubplot at 0x7ff8de62c990>"
            ]
          },
          "metadata": {
            "tags": []
          },
          "execution_count": 64
        },
        {
          "output_type": "display_data",
          "data": {
            "image/png": "[encoded data removed]",
            "text/plain": [
              "<Figure size 432x288 with 1 Axes>"
            ]
          },
          "metadata": {
            "tags": [],
            "needs_background": "light"
          }
        }
      ]
    },
    {
      "cell_type": "code",
      "metadata": {
        "colab": {
          "base_uri": "https://localhost:8080/",
          "height": 296
        },
        "id": "Ls9UwSfI0Go2",
        "outputId": "c58d419f-c553-46d5-ee2c-e742de4a6bfe"
      },
      "source": [
        "sn.boxplot(data_clean['Diameter'])"
      ],
      "id": "Ls9UwSfI0Go2",
      "execution_count": 65,
      "outputs": [
        {
          "output_type": "execute_result",
          "data": {
            "text/plain": [
              "<matplotlib.axes._subplots.AxesSubplot at 0x7ff8ddbc0490>"
            ]
          },
          "metadata": {
            "tags": []
          },
          "execution_count": 65
        },
        {
          "output_type": "display_data",
          "data": {
            "image/png": "[encoded data removed]",
            "text/plain": [
              "<Figure size 432x288 with 1 Axes>"
            ]
          },
          "metadata": {
            "tags": [],
            "needs_background": "light"
          }
        }
      ]
    },
    {
      "cell_type": "code",
      "metadata": {
        "colab": {
          "base_uri": "https://localhost:8080/",
          "height": 296
        },
        "id": "dRWzx2M40Go2",
        "outputId": "f4f9f423-a00f-45a3-d72f-4f67cc591819"
      },
      "source": [
        "sn.boxplot(data_clean['Height'])"
      ],
      "id": "dRWzx2M40Go2",
      "execution_count": 66,
      "outputs": [
        {
          "output_type": "execute_result",
          "data": {
            "text/plain": [
              "<matplotlib.axes._subplots.AxesSubplot at 0x7ff8ddb9e690>"
            ]
          },
          "metadata": {
            "tags": []
          },
          "execution_count": 66
        },
        {
          "output_type": "display_data",
          "data": {
            "image/png": "[encoded data removed]",
            "text/plain": [
              "<Figure size 432x288 with 1 Axes>"
            ]
          },
          "metadata": {
            "tags": [],
            "needs_background": "light"
          }
        }
      ]
    },
    {
      "cell_type": "code",
      "metadata": {
        "colab": {
          "base_uri": "https://localhost:8080/",
          "height": 296
        },
        "id": "hG7zsCRy0Go2",
        "outputId": "044fcff0-10f6-4051-84ba-aaf825a4addf"
      },
      "source": [
        "sn.boxplot(data_clean['Viscera weight'])"
      ],
      "id": "hG7zsCRy0Go2",
      "execution_count": 67,
      "outputs": [
        {
          "output_type": "execute_result",
          "data": {
            "text/plain": [
              "<matplotlib.axes._subplots.AxesSubplot at 0x7ff8df80fcd0>"
            ]
          },
          "metadata": {
            "tags": []
          },
          "execution_count": 67
        },
        {
          "output_type": "display_data",
          "data": {
            "image/png": "[encoded data removed]",
            "text/plain": [
              "<Figure size 432x288 with 1 Axes>"
            ]
          },
          "metadata": {
            "tags": [],
            "needs_background": "light"
          }
        }
      ]
    },
    {
      "cell_type": "code",
      "metadata": {
        "colab": {
          "base_uri": "https://localhost:8080/",
          "height": 296
        },
        "id": "kFDmXoRL0Go3",
        "outputId": "a8e1bceb-0f8b-45e8-d996-2068c4983bfa"
      },
      "source": [
        "sn.boxplot(data_clean['Shell weight'])"
      ],
      "id": "kFDmXoRL0Go3",
      "execution_count": 68,
      "outputs": [
        {
          "output_type": "execute_result",
          "data": {
            "text/plain": [
              "<matplotlib.axes._subplots.AxesSubplot at 0x7ff8de66add0>"
            ]
          },
          "metadata": {
            "tags": []
          },
          "execution_count": 68
        },
        {
          "output_type": "display_data",
          "data": {
            "image/png": "[encoded data removed]",
            "text/plain": [
              "<Figure size 432x288 with 1 Axes>"
            ]
          },
          "metadata": {
            "tags": [],
            "needs_background": "light"
          }
        }
      ]
    },
    {
      "cell_type": "code",
      "metadata": {
        "colab": {
          "base_uri": "https://localhost:8080/",
          "height": 296
        },
        "id": "uF50bN1x0Go3",
        "outputId": "14329aac-2edc-4d3f-899b-8ddb1cd598d8"
      },
      "source": [
        "sn.boxplot(data_clean['Whole weight'])"
      ],
      "id": "uF50bN1x0Go3",
      "execution_count": 69,
      "outputs": [
        {
          "output_type": "execute_result",
          "data": {
            "text/plain": [
              "<matplotlib.axes._subplots.AxesSubplot at 0x7ff8e390f110>"
            ]
          },
          "metadata": {
            "tags": []
          },
          "execution_count": 69
        },
        {
          "output_type": "display_data",
          "data": {
            "image/png": "[encoded data removed]",
            "text/plain": [
              "<Figure size 432x288 with 1 Axes>"
            ]
          },
          "metadata": {
            "tags": [],
            "needs_background": "light"
          }
        }
      ]
    },
    {
      "cell_type": "code",
      "metadata": {
        "colab": {
          "base_uri": "https://localhost:8080/",
          "height": 1000
        },
        "id": "6pF7gUQs0Go3",
        "outputId": "1c89a55c-521a-4b3a-93e3-7a96bafa93a1"
      },
      "source": [
        "plt.figure(figsize=(20,25),facecolor='white')\n",
        "plotnumber=1\n",
        "for column in data_clean.columns:\n",
        "    if plotnumber<=7:\n",
        "        ax=plt.subplot(3,3,plotnumber)\n",
        "        sn.distplot(data_clean[column])\n",
        "        plt.xlabel(column,fontsize=20)\n",
        "    plotnumber+=1\n",
        "plt.show()"
      ],
      "id": "6pF7gUQs0Go3",
      "execution_count": 70,
      "outputs": [
        {
          "output_type": "display_data",
          "data": {
            "image/png": "[encoded data removed]",
            "text/plain": [
              "<Figure size 1440x1800 with 7 Axes>"
            ]
          },
          "metadata": {
            "tags": []
          }
        }
      ]
    },
    {
      "cell_type": "code",
      "metadata": {
        "colab": {
          "base_uri": "https://localhost:8080/",
          "height": 1000
        },
        "id": "jiL0xzEK0Go4",
        "outputId": "5c5d05b4-2834-4e00-dab9-84383d201398"
      },
      "source": [
        "plt.figure(figsize=(20,25),facecolor='white')\n",
        "plotnumber=1\n",
        "for i in data_clean.columns:\n",
        "    if plotnumber<=7:\n",
        "        ax=plt.subplot(3,3,plotnumber)\n",
        "        plt.scatter(data_clean[i],data_clean['Rings'])\n",
        "        plt.xlabel(i,fontsize=20)\n",
        "        plt.ylabel('Ring',fontsize=20)\n",
        "    plotnumber+=1\n",
        "plt.show()"
      ],
      "id": "jiL0xzEK0Go4",
      "execution_count": 71,
      "outputs": [
        {
          "output_type": "display_data",
          "data": {
            "image/png": "[encoded data removed]",
            "text/plain": [
              "<Figure size 1440x1800 with 7 Axes>"
            ]
          },
          "metadata": {
            "tags": []
          }
        }
      ]
    },
    {
      "cell_type": "code",
      "metadata": {
        "id": "L2GPIn_y0Go4"
      },
      "source": [
        "y = data_clean[['Rings']]\n",
        "x = data_clean.drop(columns = ['Rings'])"
      ],
      "id": "L2GPIn_y0Go4",
      "execution_count": 72,
      "outputs": []
    },
    {
      "cell_type": "code",
      "metadata": {
        "colab": {
          "base_uri": "https://localhost:8080/",
          "height": 417
        },
        "id": "DnlZdz0n0ukx",
        "outputId": "ef3a0e73-abec-4dab-a94f-74fc27a694f3"
      },
      "source": [
        "y"
      ],
      "id": "DnlZdz0n0ukx",
      "execution_count": 73,
      "outputs": [
        {
          "output_type": "execute_result",
          "data": {
            "text/html": [
              "<div>\n",
              "<style scoped>\n",
              "    .dataframe tbody tr th:only-of-type {\n",
              "        vertical-align: middle;\n",
              "    }\n",
              "\n",
              "    .dataframe tbody tr th {\n",
              "        vertical-align: top;\n",
              "    }\n",
              "\n",
              "    .dataframe thead th {\n",
              "        text-align: right;\n",
              "    }\n",
              "</style>\n",
              "<table border=\"1\" class=\"dataframe\">\n",
              "  <thead>\n",
              "    <tr style=\"text-align: right;\">\n",
              "      <th></th>\n",
              "      <th>Rings</th>\n",
              "    </tr>\n",
              "  </thead>\n",
              "  <tbody>\n",
              "    <tr>\n",
              "      <th>0</th>\n",
              "      <td>15</td>\n",
              "    </tr>\n",
              "    <tr>\n",
              "      <th>1</th>\n",
              "      <td>7</td>\n",
              "    </tr>\n",
              "    <tr>\n",
              "      <th>2</th>\n",
              "      <td>9</td>\n",
              "    </tr>\n",
              "    <tr>\n",
              "      <th>3</th>\n",
              "      <td>10</td>\n",
              "    </tr>\n",
              "    <tr>\n",
              "      <th>4</th>\n",
              "      <td>7</td>\n",
              "    </tr>\n",
              "    <tr>\n",
              "      <th>...</th>\n",
              "      <td>...</td>\n",
              "    </tr>\n",
              "    <tr>\n",
              "      <th>4172</th>\n",
              "      <td>11</td>\n",
              "    </tr>\n",
              "    <tr>\n",
              "      <th>4173</th>\n",
              "      <td>10</td>\n",
              "    </tr>\n",
              "    <tr>\n",
              "      <th>4174</th>\n",
              "      <td>9</td>\n",
              "    </tr>\n",
              "    <tr>\n",
              "      <th>4175</th>\n",
              "      <td>10</td>\n",
              "    </tr>\n",
              "    <tr>\n",
              "      <th>4176</th>\n",
              "      <td>12</td>\n",
              "    </tr>\n",
              "  </tbody>\n",
              "</table>\n",
              "<p>3762 rows × 1 columns</p>\n",
              "</div>"
            ],
            "text/plain": [
              "      Rings\n",
              "0        15\n",
              "1         7\n",
              "2         9\n",
              "3        10\n",
              "4         7\n",
              "...     ...\n",
              "4172     11\n",
              "4173     10\n",
              "4174      9\n",
              "4175     10\n",
              "4176     12\n",
              "\n",
              "[3762 rows x 1 columns]"
            ]
          },
          "metadata": {
            "tags": []
          },
          "execution_count": 73
        }
      ]
    },
    {
      "cell_type": "code",
      "metadata": {
        "colab": {
          "base_uri": "https://localhost:8080/"
        },
        "id": "KPkBaJV_1H6Z",
        "outputId": "bb3423e2-b6c8-4f49-a1d1-7b871d81c596"
      },
      "source": [
        "print(x.skew())"
      ],
      "id": "KPkBaJV_1H6Z",
      "execution_count": 74,
      "outputs": [
        {
          "output_type": "stream",
          "text": [
            "Length           -0.50\n",
            "Diameter         -0.49\n",
            "Height           -0.15\n",
            "Whole weight      0.32\n",
            "Shucked weight    0.45\n",
            "Viscera weight    0.42\n",
            "Shell weight      0.30\n",
            "dtype: float64\n"
          ],
          "name": "stdout"
        }
      ]
    },
    {
      "cell_type": "code",
      "metadata": {
        "id": "NXiIh6jDdx2e"
      },
      "source": [
        "for index in x.skew().index:\n",
        "    if x.skew().loc[index]>0.5:\n",
        "        x[index]=np.log1p(x[index])\n",
        "    if x.skew().loc[index]<-0.5:\n",
        "        x[index]=np.square(x[index])"
      ],
      "id": "NXiIh6jDdx2e",
      "execution_count": 75,
      "outputs": []
    },
    {
      "cell_type": "code",
      "metadata": {
        "id": "uYs6R1wS1H6j"
      },
      "source": [
        "scaler = StandardScaler()\n",
        "X_scaled = scaler.fit_transform(x)"
      ],
      "id": "uYs6R1wS1H6j",
      "execution_count": 76,
      "outputs": []
    },
    {
      "cell_type": "code",
      "metadata": {
        "colab": {
          "base_uri": "https://localhost:8080/"
        },
        "id": "S7A5Btyl1H6j",
        "outputId": "d19557d0-5030-4c38-8e25-76a7123da7d8"
      },
      "source": [
        "for i in range(2,8):\n",
        "    pca = PCA(n_components=i)\n",
        "    principalComponents = pca.fit_transform(X_scaled)\n",
        "    print(i,sum(pca.explained_variance_ratio_))"
      ],
      "id": "S7A5Btyl1H6j",
      "execution_count": 77,
      "outputs": [
        {
          "output_type": "stream",
          "text": [
            "2 0.9582506599028324\n",
            "3 0.9765616064287007\n",
            "4 0.9878222341050831\n",
            "5 0.9971157493465757\n",
            "6 0.9990417007895933\n",
            "7 0.9999999999999999\n"
          ],
          "name": "stdout"
        }
      ]
    },
    {
      "cell_type": "code",
      "metadata": {
        "id": "XyTUP8HM1Z7B"
      },
      "source": [
        "pca = PCA(n_components=4)\n",
        "principalComponents = pca.fit_transform(X_scaled)"
      ],
      "id": "XyTUP8HM1Z7B",
      "execution_count": 78,
      "outputs": []
    },
    {
      "cell_type": "code",
      "metadata": {
        "id": "7IsQCfYw1Z7J"
      },
      "source": [
        "X_train, X_test, y_train, y_test = train_test_split(principalComponents, y, random_state=42, test_size=0.2)"
      ],
      "id": "7IsQCfYw1Z7J",
      "execution_count": 79,
      "outputs": []
    },
    {
      "cell_type": "code",
      "metadata": {
        "colab": {
          "base_uri": "https://localhost:8080/"
        },
        "id": "QrT-Plhu1Z7J",
        "outputId": "37ce0ac7-437e-423f-f382-4445126797ff"
      },
      "source": [
        "reg = LazyRegressor(ignore_warnings=False, custom_metric=None)\n",
        "models, predictions = reg.fit(X_train, X_test, y_train, y_test)"
      ],
      "id": "QrT-Plhu1Z7J",
      "execution_count": 80,
      "outputs": [
        {
          "output_type": "stream",
          "text": [
            "100%|██████████| 42/42 [00:12<00:00,  3.37it/s]\n"
          ],
          "name": "stderr"
        }
      ]
    },
    {
      "cell_type": "code",
      "metadata": {
        "colab": {
          "base_uri": "https://localhost:8080/",
          "height": 1000
        },
        "id": "3TG2nIm91Z7J",
        "outputId": "38e3a06b-b5f6-4441-b281-1fb1a93e2142"
      },
      "source": [
        "models"
      ],
      "id": "3TG2nIm91Z7J",
      "execution_count": 81,
      "outputs": [
        {
          "output_type": "execute_result",
          "data": {
            "text/html": [
              "<div>\n",
              "<style scoped>\n",
              "    .dataframe tbody tr th:only-of-type {\n",
              "        vertical-align: middle;\n",
              "    }\n",
              "\n",
              "    .dataframe tbody tr th {\n",
              "        vertical-align: top;\n",
              "    }\n",
              "\n",
              "    .dataframe thead th {\n",
              "        text-align: right;\n",
              "    }\n",
              "</style>\n",
              "<table border=\"1\" class=\"dataframe\">\n",
              "  <thead>\n",
              "    <tr style=\"text-align: right;\">\n",
              "      <th></th>\n",
              "      <th>Adjusted R-Squared</th>\n",
              "      <th>R-Squared</th>\n",
              "      <th>RMSE</th>\n",
              "      <th>Time Taken</th>\n",
              "    </tr>\n",
              "    <tr>\n",
              "      <th>Model</th>\n",
              "      <th></th>\n",
              "      <th></th>\n",
              "      <th></th>\n",
              "      <th></th>\n",
              "    </tr>\n",
              "  </thead>\n",
              "  <tbody>\n",
              "    <tr>\n",
              "      <th>NuSVR</th>\n",
              "      <td>0.57</td>\n",
              "      <td>0.57</td>\n",
              "      <td>1.60</td>\n",
              "      <td>0.68</td>\n",
              "    </tr>\n",
              "    <tr>\n",
              "      <th>SVR</th>\n",
              "      <td>0.56</td>\n",
              "      <td>0.56</td>\n",
              "      <td>1.62</td>\n",
              "      <td>0.71</td>\n",
              "    </tr>\n",
              "    <tr>\n",
              "      <th>MLPRegressor</th>\n",
              "      <td>0.56</td>\n",
              "      <td>0.56</td>\n",
              "      <td>1.62</td>\n",
              "      <td>3.38</td>\n",
              "    </tr>\n",
              "    <tr>\n",
              "      <th>GradientBoostingRegressor</th>\n",
              "      <td>0.55</td>\n",
              "      <td>0.55</td>\n",
              "      <td>1.63</td>\n",
              "      <td>0.52</td>\n",
              "    </tr>\n",
              "    <tr>\n",
              "      <th>SGDRegressor</th>\n",
              "      <td>0.52</td>\n",
              "      <td>0.52</td>\n",
              "      <td>1.68</td>\n",
              "      <td>0.03</td>\n",
              "    </tr>\n",
              "    <tr>\n",
              "      <th>LassoLarsCV</th>\n",
              "      <td>0.52</td>\n",
              "      <td>0.52</td>\n",
              "      <td>1.68</td>\n",
              "      <td>0.09</td>\n",
              "    </tr>\n",
              "    <tr>\n",
              "      <th>Lars</th>\n",
              "      <td>0.52</td>\n",
              "      <td>0.52</td>\n",
              "      <td>1.68</td>\n",
              "      <td>0.04</td>\n",
              "    </tr>\n",
              "    <tr>\n",
              "      <th>LarsCV</th>\n",
              "      <td>0.52</td>\n",
              "      <td>0.52</td>\n",
              "      <td>1.68</td>\n",
              "      <td>0.07</td>\n",
              "    </tr>\n",
              "    <tr>\n",
              "      <th>TransformedTargetRegressor</th>\n",
              "      <td>0.52</td>\n",
              "      <td>0.52</td>\n",
              "      <td>1.68</td>\n",
              "      <td>0.02</td>\n",
              "    </tr>\n",
              "    <tr>\n",
              "      <th>LinearRegression</th>\n",
              "      <td>0.52</td>\n",
              "      <td>0.52</td>\n",
              "      <td>1.68</td>\n",
              "      <td>0.05</td>\n",
              "    </tr>\n",
              "    <tr>\n",
              "      <th>Ridge</th>\n",
              "      <td>0.52</td>\n",
              "      <td>0.52</td>\n",
              "      <td>1.68</td>\n",
              "      <td>0.02</td>\n",
              "    </tr>\n",
              "    <tr>\n",
              "      <th>BayesianRidge</th>\n",
              "      <td>0.52</td>\n",
              "      <td>0.52</td>\n",
              "      <td>1.68</td>\n",
              "      <td>0.02</td>\n",
              "    </tr>\n",
              "    <tr>\n",
              "      <th>LassoCV</th>\n",
              "      <td>0.52</td>\n",
              "      <td>0.52</td>\n",
              "      <td>1.68</td>\n",
              "      <td>0.21</td>\n",
              "    </tr>\n",
              "    <tr>\n",
              "      <th>ElasticNetCV</th>\n",
              "      <td>0.52</td>\n",
              "      <td>0.52</td>\n",
              "      <td>1.68</td>\n",
              "      <td>0.16</td>\n",
              "    </tr>\n",
              "    <tr>\n",
              "      <th>RidgeCV</th>\n",
              "      <td>0.52</td>\n",
              "      <td>0.52</td>\n",
              "      <td>1.68</td>\n",
              "      <td>0.03</td>\n",
              "    </tr>\n",
              "    <tr>\n",
              "      <th>OrthogonalMatchingPursuitCV</th>\n",
              "      <td>0.52</td>\n",
              "      <td>0.52</td>\n",
              "      <td>1.68</td>\n",
              "      <td>0.03</td>\n",
              "    </tr>\n",
              "    <tr>\n",
              "      <th>LassoLarsIC</th>\n",
              "      <td>0.52</td>\n",
              "      <td>0.52</td>\n",
              "      <td>1.69</td>\n",
              "      <td>0.05</td>\n",
              "    </tr>\n",
              "    <tr>\n",
              "      <th>LGBMRegressor</th>\n",
              "      <td>0.52</td>\n",
              "      <td>0.52</td>\n",
              "      <td>1.69</td>\n",
              "      <td>0.14</td>\n",
              "    </tr>\n",
              "    <tr>\n",
              "      <th>HistGradientBoostingRegressor</th>\n",
              "      <td>0.51</td>\n",
              "      <td>0.52</td>\n",
              "      <td>1.69</td>\n",
              "      <td>0.66</td>\n",
              "    </tr>\n",
              "    <tr>\n",
              "      <th>RandomForestRegressor</th>\n",
              "      <td>0.51</td>\n",
              "      <td>0.52</td>\n",
              "      <td>1.70</td>\n",
              "      <td>1.15</td>\n",
              "    </tr>\n",
              "    <tr>\n",
              "      <th>HuberRegressor</th>\n",
              "      <td>0.51</td>\n",
              "      <td>0.51</td>\n",
              "      <td>1.70</td>\n",
              "      <td>0.05</td>\n",
              "    </tr>\n",
              "    <tr>\n",
              "      <th>ExtraTreesRegressor</th>\n",
              "      <td>0.51</td>\n",
              "      <td>0.51</td>\n",
              "      <td>1.70</td>\n",
              "      <td>0.59</td>\n",
              "    </tr>\n",
              "    <tr>\n",
              "      <th>LinearSVR</th>\n",
              "      <td>0.50</td>\n",
              "      <td>0.51</td>\n",
              "      <td>1.71</td>\n",
              "      <td>0.03</td>\n",
              "    </tr>\n",
              "    <tr>\n",
              "      <th>XGBRegressor</th>\n",
              "      <td>0.50</td>\n",
              "      <td>0.50</td>\n",
              "      <td>1.72</td>\n",
              "      <td>0.34</td>\n",
              "    </tr>\n",
              "    <tr>\n",
              "      <th>PoissonRegressor</th>\n",
              "      <td>0.49</td>\n",
              "      <td>0.50</td>\n",
              "      <td>1.73</td>\n",
              "      <td>0.03</td>\n",
              "    </tr>\n",
              "    <tr>\n",
              "      <th>KNeighborsRegressor</th>\n",
              "      <td>0.47</td>\n",
              "      <td>0.47</td>\n",
              "      <td>1.78</td>\n",
              "      <td>0.04</td>\n",
              "    </tr>\n",
              "    <tr>\n",
              "      <th>BaggingRegressor</th>\n",
              "      <td>0.46</td>\n",
              "      <td>0.46</td>\n",
              "      <td>1.79</td>\n",
              "      <td>0.13</td>\n",
              "    </tr>\n",
              "    <tr>\n",
              "      <th>AdaBoostRegressor</th>\n",
              "      <td>0.45</td>\n",
              "      <td>0.45</td>\n",
              "      <td>1.81</td>\n",
              "      <td>0.22</td>\n",
              "    </tr>\n",
              "    <tr>\n",
              "      <th>OrthogonalMatchingPursuit</th>\n",
              "      <td>0.38</td>\n",
              "      <td>0.39</td>\n",
              "      <td>1.91</td>\n",
              "      <td>0.02</td>\n",
              "    </tr>\n",
              "    <tr>\n",
              "      <th>GeneralizedLinearRegressor</th>\n",
              "      <td>0.37</td>\n",
              "      <td>0.38</td>\n",
              "      <td>1.92</td>\n",
              "      <td>0.03</td>\n",
              "    </tr>\n",
              "    <tr>\n",
              "      <th>TweedieRegressor</th>\n",
              "      <td>0.37</td>\n",
              "      <td>0.38</td>\n",
              "      <td>1.92</td>\n",
              "      <td>0.02</td>\n",
              "    </tr>\n",
              "    <tr>\n",
              "      <th>GammaRegressor</th>\n",
              "      <td>0.37</td>\n",
              "      <td>0.38</td>\n",
              "      <td>1.93</td>\n",
              "      <td>0.03</td>\n",
              "    </tr>\n",
              "    <tr>\n",
              "      <th>RANSACRegressor</th>\n",
              "      <td>0.31</td>\n",
              "      <td>0.31</td>\n",
              "      <td>2.02</td>\n",
              "      <td>0.13</td>\n",
              "    </tr>\n",
              "    <tr>\n",
              "      <th>ElasticNet</th>\n",
              "      <td>0.26</td>\n",
              "      <td>0.26</td>\n",
              "      <td>2.09</td>\n",
              "      <td>0.03</td>\n",
              "    </tr>\n",
              "    <tr>\n",
              "      <th>Lasso</th>\n",
              "      <td>0.15</td>\n",
              "      <td>0.16</td>\n",
              "      <td>2.23</td>\n",
              "      <td>0.03</td>\n",
              "    </tr>\n",
              "    <tr>\n",
              "      <th>ExtraTreeRegressor</th>\n",
              "      <td>0.14</td>\n",
              "      <td>0.14</td>\n",
              "      <td>2.26</td>\n",
              "      <td>0.05</td>\n",
              "    </tr>\n",
              "    <tr>\n",
              "      <th>DecisionTreeRegressor</th>\n",
              "      <td>0.11</td>\n",
              "      <td>0.12</td>\n",
              "      <td>2.29</td>\n",
              "      <td>0.05</td>\n",
              "    </tr>\n",
              "    <tr>\n",
              "      <th>DummyRegressor</th>\n",
              "      <td>-0.01</td>\n",
              "      <td>-0.00</td>\n",
              "      <td>2.44</td>\n",
              "      <td>0.02</td>\n",
              "    </tr>\n",
              "    <tr>\n",
              "      <th>LassoLars</th>\n",
              "      <td>-0.01</td>\n",
              "      <td>-0.00</td>\n",
              "      <td>2.44</td>\n",
              "      <td>0.06</td>\n",
              "    </tr>\n",
              "    <tr>\n",
              "      <th>PassiveAggressiveRegressor</th>\n",
              "      <td>-0.07</td>\n",
              "      <td>-0.07</td>\n",
              "      <td>2.51</td>\n",
              "      <td>0.03</td>\n",
              "    </tr>\n",
              "    <tr>\n",
              "      <th>KernelRidge</th>\n",
              "      <td>-14.52</td>\n",
              "      <td>-14.44</td>\n",
              "      <td>9.57</td>\n",
              "      <td>0.89</td>\n",
              "    </tr>\n",
              "    <tr>\n",
              "      <th>GaussianProcessRegressor</th>\n",
              "      <td>-216359.23</td>\n",
              "      <td>-215208.37</td>\n",
              "      <td>1129.86</td>\n",
              "      <td>1.49</td>\n",
              "    </tr>\n",
              "  </tbody>\n",
              "</table>\n",
              "</div>"
            ],
            "text/plain": [
              "                               Adjusted R-Squared  ...  Time Taken\n",
              "Model                                              ...            \n",
              "NuSVR                                        0.57  ...        0.68\n",
              "SVR                                          0.56  ...        0.71\n",
              "MLPRegressor                                 0.56  ...        3.38\n",
              "GradientBoostingRegressor                    0.55  ...        0.52\n",
              "SGDRegressor                                 0.52  ...        0.03\n",
              "LassoLarsCV                                  0.52  ...        0.09\n",
              "Lars                                         0.52  ...        0.04\n",
              "LarsCV                                       0.52  ...        0.07\n",
              "TransformedTargetRegressor                   0.52  ...        0.02\n",
              "LinearRegression                             0.52  ...        0.05\n",
              "Ridge                                        0.52  ...        0.02\n",
              "BayesianRidge                                0.52  ...        0.02\n",
              "LassoCV                                      0.52  ...        0.21\n",
              "ElasticNetCV                                 0.52  ...        0.16\n",
              "RidgeCV                                      0.52  ...        0.03\n",
              "OrthogonalMatchingPursuitCV                  0.52  ...        0.03\n",
              "LassoLarsIC                                  0.52  ...        0.05\n",
              "LGBMRegressor                                0.52  ...        0.14\n",
              "HistGradientBoostingRegressor                0.51  ...        0.66\n",
              "RandomForestRegressor                        0.51  ...        1.15\n",
              "HuberRegressor                               0.51  ...        0.05\n",
              "ExtraTreesRegressor                          0.51  ...        0.59\n",
              "LinearSVR                                    0.50  ...        0.03\n",
              "XGBRegressor                                 0.50  ...        0.34\n",
              "PoissonRegressor                             0.49  ...        0.03\n",
              "KNeighborsRegressor                          0.47  ...        0.04\n",
              "BaggingRegressor                             0.46  ...        0.13\n",
              "AdaBoostRegressor                            0.45  ...        0.22\n",
              "OrthogonalMatchingPursuit                    0.38  ...        0.02\n",
              "GeneralizedLinearRegressor                   0.37  ...        0.03\n",
              "TweedieRegressor                             0.37  ...        0.02\n",
              "GammaRegressor                               0.37  ...        0.03\n",
              "RANSACRegressor                              0.31  ...        0.13\n",
              "ElasticNet                                   0.26  ...        0.03\n",
              "Lasso                                        0.15  ...        0.03\n",
              "ExtraTreeRegressor                           0.14  ...        0.05\n",
              "DecisionTreeRegressor                        0.11  ...        0.05\n",
              "DummyRegressor                              -0.01  ...        0.02\n",
              "LassoLars                                   -0.01  ...        0.06\n",
              "PassiveAggressiveRegressor                  -0.07  ...        0.03\n",
              "KernelRidge                                -14.52  ...        0.89\n",
              "GaussianProcessRegressor               -216359.23  ...        1.49\n",
              "\n",
              "[42 rows x 4 columns]"
            ]
          },
          "metadata": {
            "tags": []
          },
          "execution_count": 81
        }
      ]
    },
    {
      "cell_type": "markdown",
      "metadata": {
        "id": "bR5_EUiklL-h"
      },
      "source": [
        "From the above i understand that Nusvr is the best model. lets start hyper parameter tuning"
      ],
      "id": "bR5_EUiklL-h"
    },
    {
      "cell_type": "code",
      "metadata": {
        "colab": {
          "base_uri": "https://localhost:8080/"
        },
        "id": "GU_zC8HieEjr",
        "outputId": "daf88ac5-6968-44b2-ac14-fbb048666b9e"
      },
      "source": [
        "parameters={\"kernel\":['linear', 'poly', 'rbf', 'sigmoid'],\"C\":[0.001,0.01,0.1,1,10],\"gamma\":['scale', 'auto']}\n",
        "clf = GridSearchCV(NuSVR(), parameters, cv=5,scoring=\"r2\")\n",
        "clf.fit(principalComponents,y)\n",
        "clf.best_params_"
      ],
      "id": "GU_zC8HieEjr",
      "execution_count": 84,
      "outputs": [
        {
          "output_type": "execute_result",
          "data": {
            "text/plain": [
              "{'C': 10, 'gamma': 'auto', 'kernel': 'rbf'}"
            ]
          },
          "metadata": {
            "tags": []
          },
          "execution_count": 84
        }
      ]
    },
    {
      "cell_type": "code",
      "metadata": {
        "colab": {
          "base_uri": "https://localhost:8080/"
        },
        "id": "Vdshss00eEuv",
        "outputId": "2d5f9d6e-ecf7-47c5-d446-172d31e54050"
      },
      "source": [
        "besttrain(NuSVR(kernel='rbf',C=10,gamma='auto'),principalComponents,y)"
      ],
      "id": "Vdshss00eEuv",
      "execution_count": 89,
      "outputs": [
        {
          "output_type": "execute_result",
          "data": {
            "text/plain": [
              "83"
            ]
          },
          "metadata": {
            "tags": []
          },
          "execution_count": 89
        }
      ]
    },
    {
      "cell_type": "code",
      "metadata": {
        "colab": {
          "base_uri": "https://localhost:8080/"
        },
        "id": "KVRpgKWleEx1",
        "outputId": "7d7263c0-c41a-485e-af39-91cc8dc7f314"
      },
      "source": [
        "x_train,x_test,y_train,y_test=train_test_split(principalComponents, y,random_state = 83,test_size=0.20,shuffle=True)\n",
        "model=NuSVR(kernel='rbf',C=10,gamma='auto')\n",
        "model.fit(x_train,y_train)\n",
        "y_pred=model.predict(x_test)\n",
        "score=r2_score(y_test,y_pred)\n",
        "print('coeff of determination is:',score)\n",
        "print('mean absolute error:',mean_absolute_error(y_test,y_pred))\n",
        "print('mean squared error:',mean_squared_error(y_test,y_pred))\n",
        "print('root mean square error:',np.sqrt(mean_squared_error(y_test,y_pred)))\n",
        "scores =cross_val_score(model,x,y,cv=5)\n",
        "print('cross val score',scores.mean())\n",
        "print('std err',scores.std())"
      ],
      "id": "KVRpgKWleEx1",
      "execution_count": 91,
      "outputs": [
        {
          "output_type": "stream",
          "text": [
            "coeff of determination is: 0.5915442555824866\n",
            "mean absolute error: 1.2068089439805334\n",
            "mean squared error: 2.5070111387719844\n",
            "root mean square error: 1.5833543945598485\n",
            "cross val score 0.437867856320812\n",
            "std err 0.07666036069598929\n"
          ],
          "name": "stdout"
        }
      ]
    },
    {
      "cell_type": "code",
      "metadata": {
        "colab": {
          "base_uri": "https://localhost:8080/"
        },
        "id": "NpyYpwb_eFFn",
        "outputId": "f4c31079-02ea-4e59-9bc1-21d53e7b82ca"
      },
      "source": [
        "joblib.dump(model,'Abalone.obj')"
      ],
      "id": "NpyYpwb_eFFn",
      "execution_count": 93,
      "outputs": [
        {
          "output_type": "execute_result",
          "data": {
            "text/plain": [
              "['Abalone.obj']"
            ]
          },
          "metadata": {
            "tags": []
          },
          "execution_count": 93
        }
      ]
    }
  ]
}