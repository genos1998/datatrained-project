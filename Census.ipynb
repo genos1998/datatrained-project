{
 "cells": [
  {
   "cell_type": "markdown",
   "id": "545fcc19",
   "metadata": {},
   "source": [
    "### import packages"
   ]
  },
  {
   "cell_type": "code",
   "execution_count": 1,
   "id": "9dfd8507",
   "metadata": {},
   "outputs": [],
   "source": [
    "from sklearn.model_selection import train_test_split\n",
    "from sklearn.metrics import confusion_matrix\n",
    "import pandas as pd\n",
    "import matplotlib.pyplot as plt\n",
    "from imblearn.over_sampling import SMOTE\n",
    "from sklearn.preprocessing import LabelEncoder\n",
    "import warnings\n",
    "warnings.filterwarnings(\"ignore\")\n",
    "import seaborn as sn\n",
    "import numpy as np\n",
    "import scipy.stats as stats\n",
    "from scipy.stats import zscore\n",
    "from sklearn.preprocessing import StandardScaler\n",
    "from sklearn.decomposition import PCA\n",
    "from sklearn.metrics import f1_score\n",
    "from sklearn.model_selection import train_test_split\n",
    "from sklearn.model_selection import cross_val_score\n",
    "import random\n",
    "from sklearn.model_selection import GridSearchCV,RandomizedSearchCV\n",
    "from sklearn.linear_model import LogisticRegression\n",
    "from sklearn.neighbors import KNeighborsClassifier\n",
    "from sklearn.tree import DecisionTreeClassifier\n",
    "from sklearn.ensemble import RandomForestClassifier\n",
    "from sklearn.svm import SVC\n",
    "from sklearn.linear_model import RidgeClassifier\n",
    "from sklearn.ensemble import BaggingClassifier\n",
    "from sklearn.ensemble import GradientBoostingClassifier\n",
    "from sklearn.linear_model import Lasso\n",
    "from sklearn.linear_model import ElasticNet\n",
    "from sklearn.linear_model import LassoLars\n",
    "from sklearn.linear_model import BayesianRidge\n",
    "from sklearn.linear_model import SGDClassifier\n",
    "from sklearn.metrics import confusion_matrix\n",
    "from sklearn.metrics import classification_report\n",
    "from sklearn.metrics import roc_auc_score,roc_curve\n",
    "from sklearn.impute import KNNImputer\n",
    "from sklearn.utils import resample\n",
    "from lightgbm import LGBMClassifier\n",
    "from xgboost import XGBClassifier\n",
    "from sklearn.ensemble import ExtraTreesClassifier\n",
    "from sklearn.semi_supervised import LabelSpreading,LabelPropagation\n",
    "from sklearn.ensemble import AdaBoostClassifier\n",
    "from sklearn.discriminant_analysis import QuadraticDiscriminantAnalysis,LinearDiscriminantAnalysis\n",
    "from sklearn.calibration import CalibratedClassifierCV\n",
    "from sklearn.svm import LinearSVC,NuSVC\n",
    "from sklearn.linear_model import RidgeClassifierCV,PassiveAggressiveClassifier,Perceptron\n",
    "from sklearn.naive_bayes import GaussianNB,BernoulliNB\n",
    "from sklearn.neighbors import NearestCentroid\n",
    "from sklearn.dummy import DummyClassifier\n",
    "from io import StringIO\n",
    "from sklearn.tree import export_graphviz\n",
    "import pydotplus\n",
    "from IPython.display import Image\n",
    "import os\n",
    "from sklearn.feature_selection import SelectKBest,chi2\n",
    "from scipy.stats import randint as sp_randint\n",
    "from scipy.stats import uniform as sp_uniform\n",
    "import joblib"
   ]
  },
  {
   "cell_type": "markdown",
   "id": "de645eee",
   "metadata": {},
   "source": [
    "### import dataset"
   ]
  },
  {
   "cell_type": "code",
   "execution_count": 2,
   "id": "de178880",
   "metadata": {},
   "outputs": [
    {
     "data": {
      "text/html": [
       "<div>\n",
       "<style scoped>\n",
       "    .dataframe tbody tr th:only-of-type {\n",
       "        vertical-align: middle;\n",
       "    }\n",
       "\n",
       "    .dataframe tbody tr th {\n",
       "        vertical-align: top;\n",
       "    }\n",
       "\n",
       "    .dataframe thead th {\n",
       "        text-align: right;\n",
       "    }\n",
       "</style>\n",
       "<table border=\"1\" class=\"dataframe\">\n",
       "  <thead>\n",
       "    <tr style=\"text-align: right;\">\n",
       "      <th></th>\n",
       "      <th>Age</th>\n",
       "      <th>Workclass</th>\n",
       "      <th>Fnlwgt</th>\n",
       "      <th>Education</th>\n",
       "      <th>Education_num</th>\n",
       "      <th>Marital_status</th>\n",
       "      <th>Occupation</th>\n",
       "      <th>Relationship</th>\n",
       "      <th>Race</th>\n",
       "      <th>Sex</th>\n",
       "      <th>Capital_gain</th>\n",
       "      <th>Capital_loss</th>\n",
       "      <th>Hours_per_week</th>\n",
       "      <th>Native_country</th>\n",
       "      <th>Income</th>\n",
       "    </tr>\n",
       "  </thead>\n",
       "  <tbody>\n",
       "    <tr>\n",
       "      <th>0</th>\n",
       "      <td>50</td>\n",
       "      <td>Self-emp-not-inc</td>\n",
       "      <td>83311</td>\n",
       "      <td>Bachelors</td>\n",
       "      <td>13</td>\n",
       "      <td>Married-civ-spouse</td>\n",
       "      <td>Exec-managerial</td>\n",
       "      <td>Husband</td>\n",
       "      <td>White</td>\n",
       "      <td>Male</td>\n",
       "      <td>0</td>\n",
       "      <td>0</td>\n",
       "      <td>13</td>\n",
       "      <td>United-States</td>\n",
       "      <td>&lt;=50K</td>\n",
       "    </tr>\n",
       "    <tr>\n",
       "      <th>1</th>\n",
       "      <td>38</td>\n",
       "      <td>Private</td>\n",
       "      <td>215646</td>\n",
       "      <td>HS-grad</td>\n",
       "      <td>9</td>\n",
       "      <td>Divorced</td>\n",
       "      <td>Handlers-cleaners</td>\n",
       "      <td>Not-in-family</td>\n",
       "      <td>White</td>\n",
       "      <td>Male</td>\n",
       "      <td>0</td>\n",
       "      <td>0</td>\n",
       "      <td>40</td>\n",
       "      <td>United-States</td>\n",
       "      <td>&lt;=50K</td>\n",
       "    </tr>\n",
       "    <tr>\n",
       "      <th>2</th>\n",
       "      <td>53</td>\n",
       "      <td>Private</td>\n",
       "      <td>234721</td>\n",
       "      <td>11th</td>\n",
       "      <td>7</td>\n",
       "      <td>Married-civ-spouse</td>\n",
       "      <td>Handlers-cleaners</td>\n",
       "      <td>Husband</td>\n",
       "      <td>Black</td>\n",
       "      <td>Male</td>\n",
       "      <td>0</td>\n",
       "      <td>0</td>\n",
       "      <td>40</td>\n",
       "      <td>United-States</td>\n",
       "      <td>&lt;=50K</td>\n",
       "    </tr>\n",
       "    <tr>\n",
       "      <th>3</th>\n",
       "      <td>28</td>\n",
       "      <td>Private</td>\n",
       "      <td>338409</td>\n",
       "      <td>Bachelors</td>\n",
       "      <td>13</td>\n",
       "      <td>Married-civ-spouse</td>\n",
       "      <td>Prof-specialty</td>\n",
       "      <td>Wife</td>\n",
       "      <td>Black</td>\n",
       "      <td>Female</td>\n",
       "      <td>0</td>\n",
       "      <td>0</td>\n",
       "      <td>40</td>\n",
       "      <td>Cuba</td>\n",
       "      <td>&lt;=50K</td>\n",
       "    </tr>\n",
       "    <tr>\n",
       "      <th>4</th>\n",
       "      <td>37</td>\n",
       "      <td>Private</td>\n",
       "      <td>284582</td>\n",
       "      <td>Masters</td>\n",
       "      <td>14</td>\n",
       "      <td>Married-civ-spouse</td>\n",
       "      <td>Exec-managerial</td>\n",
       "      <td>Wife</td>\n",
       "      <td>White</td>\n",
       "      <td>Female</td>\n",
       "      <td>0</td>\n",
       "      <td>0</td>\n",
       "      <td>40</td>\n",
       "      <td>United-States</td>\n",
       "      <td>&lt;=50K</td>\n",
       "    </tr>\n",
       "    <tr>\n",
       "      <th>...</th>\n",
       "      <td>...</td>\n",
       "      <td>...</td>\n",
       "      <td>...</td>\n",
       "      <td>...</td>\n",
       "      <td>...</td>\n",
       "      <td>...</td>\n",
       "      <td>...</td>\n",
       "      <td>...</td>\n",
       "      <td>...</td>\n",
       "      <td>...</td>\n",
       "      <td>...</td>\n",
       "      <td>...</td>\n",
       "      <td>...</td>\n",
       "      <td>...</td>\n",
       "      <td>...</td>\n",
       "    </tr>\n",
       "    <tr>\n",
       "      <th>32555</th>\n",
       "      <td>27</td>\n",
       "      <td>Private</td>\n",
       "      <td>257302</td>\n",
       "      <td>Assoc-acdm</td>\n",
       "      <td>12</td>\n",
       "      <td>Married-civ-spouse</td>\n",
       "      <td>Tech-support</td>\n",
       "      <td>Wife</td>\n",
       "      <td>White</td>\n",
       "      <td>Female</td>\n",
       "      <td>0</td>\n",
       "      <td>0</td>\n",
       "      <td>38</td>\n",
       "      <td>United-States</td>\n",
       "      <td>&lt;=50K</td>\n",
       "    </tr>\n",
       "    <tr>\n",
       "      <th>32556</th>\n",
       "      <td>40</td>\n",
       "      <td>Private</td>\n",
       "      <td>154374</td>\n",
       "      <td>HS-grad</td>\n",
       "      <td>9</td>\n",
       "      <td>Married-civ-spouse</td>\n",
       "      <td>Machine-op-inspct</td>\n",
       "      <td>Husband</td>\n",
       "      <td>White</td>\n",
       "      <td>Male</td>\n",
       "      <td>0</td>\n",
       "      <td>0</td>\n",
       "      <td>40</td>\n",
       "      <td>United-States</td>\n",
       "      <td>&gt;50K</td>\n",
       "    </tr>\n",
       "    <tr>\n",
       "      <th>32557</th>\n",
       "      <td>58</td>\n",
       "      <td>Private</td>\n",
       "      <td>151910</td>\n",
       "      <td>HS-grad</td>\n",
       "      <td>9</td>\n",
       "      <td>Widowed</td>\n",
       "      <td>Adm-clerical</td>\n",
       "      <td>Unmarried</td>\n",
       "      <td>White</td>\n",
       "      <td>Female</td>\n",
       "      <td>0</td>\n",
       "      <td>0</td>\n",
       "      <td>40</td>\n",
       "      <td>United-States</td>\n",
       "      <td>&lt;=50K</td>\n",
       "    </tr>\n",
       "    <tr>\n",
       "      <th>32558</th>\n",
       "      <td>22</td>\n",
       "      <td>Private</td>\n",
       "      <td>201490</td>\n",
       "      <td>HS-grad</td>\n",
       "      <td>9</td>\n",
       "      <td>Never-married</td>\n",
       "      <td>Adm-clerical</td>\n",
       "      <td>Own-child</td>\n",
       "      <td>White</td>\n",
       "      <td>Male</td>\n",
       "      <td>0</td>\n",
       "      <td>0</td>\n",
       "      <td>20</td>\n",
       "      <td>United-States</td>\n",
       "      <td>&lt;=50K</td>\n",
       "    </tr>\n",
       "    <tr>\n",
       "      <th>32559</th>\n",
       "      <td>52</td>\n",
       "      <td>Self-emp-inc</td>\n",
       "      <td>287927</td>\n",
       "      <td>HS-grad</td>\n",
       "      <td>9</td>\n",
       "      <td>Married-civ-spouse</td>\n",
       "      <td>Exec-managerial</td>\n",
       "      <td>Wife</td>\n",
       "      <td>White</td>\n",
       "      <td>Female</td>\n",
       "      <td>15024</td>\n",
       "      <td>0</td>\n",
       "      <td>40</td>\n",
       "      <td>United-States</td>\n",
       "      <td>&gt;50K</td>\n",
       "    </tr>\n",
       "  </tbody>\n",
       "</table>\n",
       "<p>32560 rows × 15 columns</p>\n",
       "</div>"
      ],
      "text/plain": [
       "       Age          Workclass  Fnlwgt    Education  Education_num  \\\n",
       "0       50   Self-emp-not-inc   83311    Bachelors             13   \n",
       "1       38            Private  215646      HS-grad              9   \n",
       "2       53            Private  234721         11th              7   \n",
       "3       28            Private  338409    Bachelors             13   \n",
       "4       37            Private  284582      Masters             14   \n",
       "...    ...                ...     ...          ...            ...   \n",
       "32555   27            Private  257302   Assoc-acdm             12   \n",
       "32556   40            Private  154374      HS-grad              9   \n",
       "32557   58            Private  151910      HS-grad              9   \n",
       "32558   22            Private  201490      HS-grad              9   \n",
       "32559   52       Self-emp-inc  287927      HS-grad              9   \n",
       "\n",
       "            Marital_status          Occupation    Relationship    Race  \\\n",
       "0       Married-civ-spouse     Exec-managerial         Husband   White   \n",
       "1                 Divorced   Handlers-cleaners   Not-in-family   White   \n",
       "2       Married-civ-spouse   Handlers-cleaners         Husband   Black   \n",
       "3       Married-civ-spouse      Prof-specialty            Wife   Black   \n",
       "4       Married-civ-spouse     Exec-managerial            Wife   White   \n",
       "...                    ...                 ...             ...     ...   \n",
       "32555   Married-civ-spouse        Tech-support            Wife   White   \n",
       "32556   Married-civ-spouse   Machine-op-inspct         Husband   White   \n",
       "32557              Widowed        Adm-clerical       Unmarried   White   \n",
       "32558        Never-married        Adm-clerical       Own-child   White   \n",
       "32559   Married-civ-spouse     Exec-managerial            Wife   White   \n",
       "\n",
       "           Sex  Capital_gain  Capital_loss  Hours_per_week  Native_country  \\\n",
       "0         Male             0             0              13   United-States   \n",
       "1         Male             0             0              40   United-States   \n",
       "2         Male             0             0              40   United-States   \n",
       "3       Female             0             0              40            Cuba   \n",
       "4       Female             0             0              40   United-States   \n",
       "...        ...           ...           ...             ...             ...   \n",
       "32555   Female             0             0              38   United-States   \n",
       "32556     Male             0             0              40   United-States   \n",
       "32557   Female             0             0              40   United-States   \n",
       "32558     Male             0             0              20   United-States   \n",
       "32559   Female         15024             0              40   United-States   \n",
       "\n",
       "       Income  \n",
       "0       <=50K  \n",
       "1       <=50K  \n",
       "2       <=50K  \n",
       "3       <=50K  \n",
       "4       <=50K  \n",
       "...       ...  \n",
       "32555   <=50K  \n",
       "32556    >50K  \n",
       "32557   <=50K  \n",
       "32558   <=50K  \n",
       "32559    >50K  \n",
       "\n",
       "[32560 rows x 15 columns]"
      ]
     },
     "execution_count": 2,
     "metadata": {},
     "output_type": "execute_result"
    }
   ],
   "source": [
    "df=pd.read_csv('census_income.csv')\n",
    "df"
   ]
  },
  {
   "cell_type": "markdown",
   "id": "a5c8cba1",
   "metadata": {},
   "source": [
    "### The prediction task is to determine whether a person makes over 50K a year\n",
    "### this makes it a classification problem\n",
    "### income column is our target variable rest are feautres"
   ]
  },
  {
   "cell_type": "code",
   "execution_count": 3,
   "id": "eeebe5c2",
   "metadata": {},
   "outputs": [
    {
     "name": "stdout",
     "output_type": "stream",
     "text": [
      "Number of rows x columns in dataset are: (32560, 15)\n"
     ]
    }
   ],
   "source": [
    "print('Number of rows x columns in dataset are:',df.shape)"
   ]
  },
  {
   "cell_type": "code",
   "execution_count": 4,
   "id": "1fa3d8b2",
   "metadata": {},
   "outputs": [
    {
     "name": "stdout",
     "output_type": "stream",
     "text": [
      "Dataset contains any null values: False\n"
     ]
    }
   ],
   "source": [
    "print('Dataset contains any null values:',df.isnull().values.any())"
   ]
  },
  {
   "cell_type": "code",
   "execution_count": 5,
   "id": "a956f8ac",
   "metadata": {},
   "outputs": [
    {
     "data": {
      "text/plain": [
       "Index(['Age', 'Workclass', 'Fnlwgt', 'Education', 'Education_num',\n",
       "       'Marital_status', 'Occupation', 'Relationship', 'Race', 'Sex',\n",
       "       'Capital_gain', 'Capital_loss', 'Hours_per_week', 'Native_country',\n",
       "       'Income'],\n",
       "      dtype='object')"
      ]
     },
     "execution_count": 5,
     "metadata": {},
     "output_type": "execute_result"
    }
   ],
   "source": [
    "df.columns"
   ]
  },
  {
   "cell_type": "markdown",
   "id": "ab98ce31",
   "metadata": {},
   "source": [
    "### check if missing values"
   ]
  },
  {
   "cell_type": "code",
   "execution_count": 6,
   "id": "a80491df",
   "metadata": {},
   "outputs": [],
   "source": [
    "for i in df.columns:\n",
    "    if 0<len(df[df[i]=='?']):\n",
    "        print(i)\n",
    "        print(len(df[df[i]=='?']))"
   ]
  },
  {
   "cell_type": "code",
   "execution_count": 7,
   "id": "babeb186",
   "metadata": {},
   "outputs": [
    {
     "name": "stdout",
     "output_type": "stream",
     "text": [
      "Workclass\n",
      "1836\n",
      "Occupation\n",
      "1843\n",
      "Native_country\n",
      "583\n"
     ]
    }
   ],
   "source": [
    "for i in df.columns:\n",
    "    if 0<len(df[df[i]==' ?']):\n",
    "        print(i)\n",
    "        print(len(df[df[i]==' ?']))"
   ]
  },
  {
   "cell_type": "code",
   "execution_count": 8,
   "id": "f949972e",
   "metadata": {},
   "outputs": [],
   "source": [
    "for i in df.columns:\n",
    "    if 0<len(df[df[i]=='']):\n",
    "        print(i)\n",
    "        print(len(df[df[i]=='']))"
   ]
  },
  {
   "cell_type": "code",
   "execution_count": 9,
   "id": "7b3708cd",
   "metadata": {},
   "outputs": [],
   "source": [
    "for i in df.columns:\n",
    "    if 0<len(df[df[i]==' ']):\n",
    "        print(i)\n",
    "        print(len(df[df[i]==' ']))"
   ]
  },
  {
   "cell_type": "code",
   "execution_count": 10,
   "id": "d6ff4f48",
   "metadata": {},
   "outputs": [
    {
     "name": "stdout",
     "output_type": "stream",
     "text": [
      "<class 'pandas.core.frame.DataFrame'>\n",
      "RangeIndex: 32560 entries, 0 to 32559\n",
      "Data columns (total 15 columns):\n",
      " #   Column          Non-Null Count  Dtype \n",
      "---  ------          --------------  ----- \n",
      " 0   Age             32560 non-null  int64 \n",
      " 1   Workclass       32560 non-null  object\n",
      " 2   Fnlwgt          32560 non-null  int64 \n",
      " 3   Education       32560 non-null  object\n",
      " 4   Education_num   32560 non-null  int64 \n",
      " 5   Marital_status  32560 non-null  object\n",
      " 6   Occupation      32560 non-null  object\n",
      " 7   Relationship    32560 non-null  object\n",
      " 8   Race            32560 non-null  object\n",
      " 9   Sex             32560 non-null  object\n",
      " 10  Capital_gain    32560 non-null  int64 \n",
      " 11  Capital_loss    32560 non-null  int64 \n",
      " 12  Hours_per_week  32560 non-null  int64 \n",
      " 13  Native_country  32560 non-null  object\n",
      " 14  Income          32560 non-null  object\n",
      "dtypes: int64(6), object(9)\n",
      "memory usage: 3.7+ MB\n"
     ]
    }
   ],
   "source": [
    "df.info()"
   ]
  },
  {
   "cell_type": "markdown",
   "id": "330dbd5b",
   "metadata": {},
   "source": [
    "### from above we can conclude there are. workclass,education, Marital_status, occupation, relationship, race, sex, native country, income are categorical data. rest are numerical data having int as datatype."
   ]
  },
  {
   "cell_type": "markdown",
   "id": "4f1a8d9c",
   "metadata": {},
   "source": [
    "### from analyzing above we also understood that there are unnecessary spaces which might hamper our analyzes so strip it"
   ]
  },
  {
   "cell_type": "code",
   "execution_count": 11,
   "id": "b28cf189",
   "metadata": {},
   "outputs": [],
   "source": [
    "listy=['Workclass','Education','Native_country','Marital_status','Relationship','Occupation','Race','Sex','Native_country']\n",
    "for j in listy:\n",
    "    for i in range(len(df[j])):\n",
    "        df[j][i]=df[j][i].strip()"
   ]
  },
  {
   "cell_type": "markdown",
   "id": "8ce10c43",
   "metadata": {},
   "source": [
    "### start analyzes and fill missing data"
   ]
  },
  {
   "cell_type": "markdown",
   "id": "fc1cf3ef",
   "metadata": {},
   "source": [
    "### missing data in workclass"
   ]
  },
  {
   "cell_type": "code",
   "execution_count": 12,
   "id": "c0672811",
   "metadata": {},
   "outputs": [
    {
     "data": {
      "text/plain": [
       "Private             22696\n",
       "Self-emp-not-inc     2541\n",
       "Local-gov            2093\n",
       "?                    1836\n",
       "State-gov            1297\n",
       "Self-emp-inc         1116\n",
       "Federal-gov           960\n",
       "Without-pay            14\n",
       "Never-worked            7\n",
       "Name: Workclass, dtype: int64"
      ]
     },
     "execution_count": 12,
     "metadata": {},
     "output_type": "execute_result"
    }
   ],
   "source": [
    "df['Workclass'].value_counts()"
   ]
  },
  {
   "cell_type": "code",
   "execution_count": 13,
   "id": "ce4ad856",
   "metadata": {},
   "outputs": [
    {
     "data": {
      "text/plain": [
       "?    1836\n",
       "Name: Occupation, dtype: int64"
      ]
     },
     "execution_count": 13,
     "metadata": {},
     "output_type": "execute_result"
    }
   ],
   "source": [
    "df[df['Workclass']=='?']['Occupation'].value_counts()"
   ]
  },
  {
   "cell_type": "code",
   "execution_count": 14,
   "id": "ce8b336f",
   "metadata": {},
   "outputs": [
    {
     "data": {
      "text/plain": [
       "HS-grad         532\n",
       "Some-college    514\n",
       "Bachelors       173\n",
       "11th            118\n",
       "10th            100\n",
       "7th-8th          72\n",
       "Assoc-voc        61\n",
       "9th              51\n",
       "Masters          48\n",
       "Assoc-acdm       47\n",
       "12th             40\n",
       "5th-6th          30\n",
       "Prof-school      18\n",
       "Doctorate        15\n",
       "1st-4th          12\n",
       "Preschool         5\n",
       "Name: Education, dtype: int64"
      ]
     },
     "execution_count": 14,
     "metadata": {},
     "output_type": "execute_result"
    }
   ],
   "source": [
    "df[df['Workclass']=='?']['Education'].value_counts()"
   ]
  },
  {
   "cell_type": "code",
   "execution_count": 15,
   "id": "e1ef86f4",
   "metadata": {},
   "outputs": [
    {
     "name": "stdout",
     "output_type": "stream",
     "text": [
      "Assoc-voc\n",
      "Private    1005\n",
      "Name: Workclass, dtype: int64\n",
      "**********\n",
      "1st-4th\n",
      "Private    136\n",
      "Name: Workclass, dtype: int64\n",
      "**********\n",
      "Doctorate\n",
      "Private    181\n",
      "Name: Workclass, dtype: int64\n",
      "**********\n",
      "HS-grad\n",
      "Private    7780\n",
      "Name: Workclass, dtype: int64\n",
      "**********\n",
      "Masters\n",
      "Private    894\n",
      "Name: Workclass, dtype: int64\n",
      "**********\n",
      "Prof-school\n",
      "Private    257\n",
      "Name: Workclass, dtype: int64\n",
      "**********\n",
      "9th\n",
      "Private    387\n",
      "Name: Workclass, dtype: int64\n",
      "**********\n",
      "7th-8th\n",
      "Private    424\n",
      "Name: Workclass, dtype: int64\n",
      "**********\n",
      "Bachelors\n",
      "Private    3551\n",
      "Name: Workclass, dtype: int64\n",
      "**********\n",
      "Assoc-acdm\n",
      "Private    729\n",
      "Name: Workclass, dtype: int64\n",
      "**********\n",
      "Some-college\n",
      "Private    5094\n",
      "Name: Workclass, dtype: int64\n",
      "**********\n",
      "Preschool\n",
      "Private    41\n",
      "Name: Workclass, dtype: int64\n",
      "**********\n",
      "10th\n",
      "Private    695\n",
      "Name: Workclass, dtype: int64\n",
      "**********\n",
      "5th-6th\n",
      "Private    266\n",
      "Name: Workclass, dtype: int64\n",
      "**********\n",
      "12th\n",
      "Private    333\n",
      "Name: Workclass, dtype: int64\n",
      "**********\n",
      "11th\n",
      "Private    923\n",
      "Name: Workclass, dtype: int64\n",
      "**********\n"
     ]
    }
   ],
   "source": [
    "for i in set(df[df['Workclass']=='?']['Education']):\n",
    "    print(i)\n",
    "    print(df[df['Education']==i]['Workclass'].value_counts()[:1])\n",
    "    print('*'*10)"
   ]
  },
  {
   "cell_type": "code",
   "execution_count": 16,
   "id": "2ddda49d",
   "metadata": {},
   "outputs": [
    {
     "data": {
      "text/plain": [
       "'Private'"
      ]
     },
     "execution_count": 16,
     "metadata": {},
     "output_type": "execute_result"
    }
   ],
   "source": [
    "df[df['Workclass']!='?']['Workclass'].mode()[0]"
   ]
  },
  {
   "cell_type": "markdown",
   "id": "5c402477",
   "metadata": {},
   "source": [
    "### from above analyzes we will fill missing values of Workclass column with Private"
   ]
  },
  {
   "cell_type": "code",
   "execution_count": 17,
   "id": "3c522d76",
   "metadata": {},
   "outputs": [],
   "source": [
    "fill=df[df['Workclass']!='?']['Workclass'].mode()[0]\n",
    "for i in range(len(df['Workclass'])):\n",
    "    if df['Workclass'][i]=='?':\n",
    "        df['Workclass'][i]=fill"
   ]
  },
  {
   "cell_type": "markdown",
   "id": "c55eeb0f",
   "metadata": {},
   "source": [
    "### missing data of workclass is now filled \n",
    "### start analyzes and fill missing data of occupation"
   ]
  },
  {
   "cell_type": "code",
   "execution_count": 18,
   "id": "b4c60aa2",
   "metadata": {},
   "outputs": [
    {
     "data": {
      "text/plain": [
       "Prof-specialty       4140\n",
       "Craft-repair         4099\n",
       "Exec-managerial      4066\n",
       "Adm-clerical         3769\n",
       "Sales                3650\n",
       "Other-service        3295\n",
       "Machine-op-inspct    2002\n",
       "?                    1843\n",
       "Transport-moving     1597\n",
       "Handlers-cleaners    1370\n",
       "Farming-fishing       994\n",
       "Tech-support          928\n",
       "Protective-serv       649\n",
       "Priv-house-serv       149\n",
       "Armed-Forces            9\n",
       "Name: Occupation, dtype: int64"
      ]
     },
     "execution_count": 18,
     "metadata": {},
     "output_type": "execute_result"
    }
   ],
   "source": [
    "df['Occupation'].value_counts()"
   ]
  },
  {
   "cell_type": "code",
   "execution_count": 19,
   "id": "edb5ad5f",
   "metadata": {},
   "outputs": [
    {
     "data": {
      "text/plain": [
       "Private         1836\n",
       "Never-worked       7\n",
       "Name: Workclass, dtype: int64"
      ]
     },
     "execution_count": 19,
     "metadata": {},
     "output_type": "execute_result"
    }
   ],
   "source": [
    "df[df['Occupation']=='?']['Workclass'].value_counts()"
   ]
  },
  {
   "cell_type": "code",
   "execution_count": 20,
   "id": "8c7bcdfc",
   "metadata": {},
   "outputs": [
    {
     "data": {
      "text/plain": [
       "?    7\n",
       "Name: Occupation, dtype: int64"
      ]
     },
     "execution_count": 20,
     "metadata": {},
     "output_type": "execute_result"
    }
   ],
   "source": [
    "df[df['Workclass']=='Never-worked']['Occupation'].value_counts()"
   ]
  },
  {
   "cell_type": "markdown",
   "id": "e944ef51",
   "metadata": {},
   "source": [
    "### if the person has never worked then he does not has an occupation \n",
    "### hence for workclass as never worked we create new occupation as nothing"
   ]
  },
  {
   "cell_type": "code",
   "execution_count": 21,
   "id": "c2b60122",
   "metadata": {},
   "outputs": [],
   "source": [
    "for i in range(len(df['Workclass'])):\n",
    "    if df['Workclass'][i]=='Never-worked':\n",
    "        df['Occupation'][i]='NO'"
   ]
  },
  {
   "cell_type": "code",
   "execution_count": 22,
   "id": "5aa86f07",
   "metadata": {},
   "outputs": [
    {
     "data": {
      "text/plain": [
       "Private    1836\n",
       "Name: Workclass, dtype: int64"
      ]
     },
     "execution_count": 22,
     "metadata": {},
     "output_type": "execute_result"
    }
   ],
   "source": [
    "df[df['Occupation']=='?']['Workclass'].value_counts()"
   ]
  },
  {
   "cell_type": "code",
   "execution_count": 23,
   "id": "2d3a55b3",
   "metadata": {},
   "outputs": [
    {
     "name": "stdout",
     "output_type": "stream",
     "text": [
      "Assoc-voc\n",
      "---\n",
      "Craft-repair    252\n",
      "Name: Occupation, dtype: int64\n",
      "**********\n",
      "1st-4th\n",
      "---\n",
      "Other-service    40\n",
      "Name: Occupation, dtype: int64\n",
      "**********\n",
      "Doctorate\n",
      "---\n",
      "Prof-specialty    321\n",
      "Name: Occupation, dtype: int64\n",
      "**********\n",
      "HS-grad\n",
      "---\n",
      "Craft-repair    1922\n",
      "Name: Occupation, dtype: int64\n",
      "**********\n",
      "Masters\n",
      "---\n",
      "Prof-specialty    844\n",
      "Name: Occupation, dtype: int64\n",
      "**********\n",
      "Prof-school\n",
      "---\n",
      "Prof-specialty    452\n",
      "Name: Occupation, dtype: int64\n",
      "**********\n",
      "9th\n",
      "---\n",
      "Other-service    101\n",
      "Name: Occupation, dtype: int64\n",
      "**********\n",
      "7th-8th\n",
      "---\n",
      "Craft-repair    116\n",
      "Name: Occupation, dtype: int64\n",
      "**********\n",
      "Bachelors\n",
      "---\n",
      "Prof-specialty    1495\n",
      "Name: Occupation, dtype: int64\n",
      "**********\n",
      "Assoc-acdm\n",
      "---\n",
      "Adm-clerical    193\n",
      "Name: Occupation, dtype: int64\n",
      "**********\n",
      "Some-college\n",
      "---\n",
      "Adm-clerical    1281\n",
      "Name: Occupation, dtype: int64\n",
      "**********\n",
      "Preschool\n",
      "---\n",
      "Other-service    15\n",
      "Name: Occupation, dtype: int64\n",
      "**********\n",
      "10th\n",
      "---\n",
      "Other-service    194\n",
      "Name: Occupation, dtype: int64\n",
      "**********\n",
      "5th-6th\n",
      "---\n",
      "Other-service    64\n",
      "Name: Occupation, dtype: int64\n",
      "**********\n",
      "12th\n",
      "---\n",
      "Other-service    85\n",
      "Name: Occupation, dtype: int64\n",
      "**********\n",
      "11th\n",
      "---\n",
      "Other-service    238\n",
      "Name: Occupation, dtype: int64\n",
      "**********\n"
     ]
    }
   ],
   "source": [
    "dicty={}\n",
    "for i in set(df[df['Occupation']=='?']['Education']):\n",
    "    print(i)\n",
    "    print('-'*3)\n",
    "    print(df[df['Education']==i]['Occupation'].value_counts()[:1])\n",
    "    print('*'*10)\n",
    "    dicty[i]=str(df[df['Education']==i]['Occupation'].value_counts()[:1]).split()[0]"
   ]
  },
  {
   "cell_type": "code",
   "execution_count": 24,
   "id": "0dc97bee",
   "metadata": {},
   "outputs": [
    {
     "data": {
      "text/plain": [
       "{'Assoc-voc': 'Craft-repair',\n",
       " '1st-4th': 'Other-service',\n",
       " 'Doctorate': 'Prof-specialty',\n",
       " 'HS-grad': 'Craft-repair',\n",
       " 'Masters': 'Prof-specialty',\n",
       " 'Prof-school': 'Prof-specialty',\n",
       " '9th': 'Other-service',\n",
       " '7th-8th': 'Craft-repair',\n",
       " 'Bachelors': 'Prof-specialty',\n",
       " 'Assoc-acdm': 'Adm-clerical',\n",
       " 'Some-college': 'Adm-clerical',\n",
       " 'Preschool': 'Other-service',\n",
       " '10th': 'Other-service',\n",
       " '5th-6th': 'Other-service',\n",
       " '12th': 'Other-service',\n",
       " '11th': 'Other-service'}"
      ]
     },
     "execution_count": 24,
     "metadata": {},
     "output_type": "execute_result"
    }
   ],
   "source": [
    "dicty"
   ]
  },
  {
   "cell_type": "code",
   "execution_count": 25,
   "id": "35b3e858",
   "metadata": {},
   "outputs": [],
   "source": [
    "for i in range(len(df['Occupation'])):\n",
    "    if df['Occupation'][i]=='?':\n",
    "        df['Occupation'][i]=dicty[df['Education'][i]]"
   ]
  },
  {
   "cell_type": "code",
   "execution_count": 26,
   "id": "65aebef3",
   "metadata": {},
   "outputs": [
    {
     "data": {
      "text/plain": [
       "Series([], dtype: int64)"
      ]
     },
     "execution_count": 26,
     "metadata": {},
     "output_type": "execute_result"
    }
   ],
   "source": [
    "df[df['Occupation']=='?'].value_counts()"
   ]
  },
  {
   "cell_type": "markdown",
   "id": "99628b89",
   "metadata": {},
   "source": [
    "### occupation column missing data is filled\n",
    "### start analyzes and fill missing data of native_country"
   ]
  },
  {
   "cell_type": "code",
   "execution_count": 27,
   "id": "87fbe3eb",
   "metadata": {},
   "outputs": [
    {
     "data": {
      "text/plain": [
       "United-States                 29169\n",
       "Mexico                          643\n",
       "?                               583\n",
       "Philippines                     198\n",
       "Germany                         137\n",
       "Canada                          121\n",
       "Puerto-Rico                     114\n",
       "El-Salvador                     106\n",
       "India                           100\n",
       "Cuba                             95\n",
       "England                          90\n",
       "Jamaica                          81\n",
       "South                            80\n",
       "China                            75\n",
       "Italy                            73\n",
       "Dominican-Republic               70\n",
       "Vietnam                          67\n",
       "Guatemala                        64\n",
       "Japan                            62\n",
       "Poland                           60\n",
       "Columbia                         59\n",
       "Taiwan                           51\n",
       "Haiti                            44\n",
       "Iran                             43\n",
       "Portugal                         37\n",
       "Nicaragua                        34\n",
       "Peru                             31\n",
       "France                           29\n",
       "Greece                           29\n",
       "Ecuador                          28\n",
       "Ireland                          24\n",
       "Hong                             20\n",
       "Trinadad&Tobago                  19\n",
       "Cambodia                         19\n",
       "Thailand                         18\n",
       "Laos                             18\n",
       "Yugoslavia                       16\n",
       "Outlying-US(Guam-USVI-etc)       14\n",
       "Hungary                          13\n",
       "Honduras                         13\n",
       "Scotland                         12\n",
       "Holand-Netherlands                1\n",
       "Name: Native_country, dtype: int64"
      ]
     },
     "execution_count": 27,
     "metadata": {},
     "output_type": "execute_result"
    }
   ],
   "source": [
    "df['Native_country'].value_counts()"
   ]
  },
  {
   "cell_type": "code",
   "execution_count": 28,
   "id": "0dea1fcc",
   "metadata": {},
   "outputs": [
    {
     "data": {
      "text/plain": [
       "Bachelors       145\n",
       "HS-grad         133\n",
       "Some-college    104\n",
       "Masters          49\n",
       "Doctorate        23\n",
       "7th-8th          19\n",
       "Prof-school      17\n",
       "12th             16\n",
       "Assoc-voc        16\n",
       "5th-6th          15\n",
       "10th             12\n",
       "Assoc-acdm       12\n",
       "9th               8\n",
       "11th              8\n",
       "1st-4th           5\n",
       "Preschool         1\n",
       "Name: Education, dtype: int64"
      ]
     },
     "execution_count": 28,
     "metadata": {},
     "output_type": "execute_result"
    }
   ],
   "source": [
    "df[df['Native_country']=='?']['Education'].value_counts()"
   ]
  },
  {
   "cell_type": "code",
   "execution_count": 29,
   "id": "638a7313",
   "metadata": {},
   "outputs": [
    {
     "name": "stdout",
     "output_type": "stream",
     "text": [
      "Assoc-voc\n",
      "---\n",
      "United-States    1289\n",
      "Name: Native_country, dtype: int64\n",
      "**********\n",
      "1st-4th\n",
      "---\n",
      "Mexico    64\n",
      "Name: Native_country, dtype: int64\n",
      "**********\n",
      "Doctorate\n",
      "---\n",
      "United-States    328\n",
      "Name: Native_country, dtype: int64\n",
      "**********\n",
      "HS-grad\n",
      "---\n",
      "United-States    9702\n",
      "Name: Native_country, dtype: int64\n",
      "**********\n",
      "Masters\n",
      "---\n",
      "United-States    1527\n",
      "Name: Native_country, dtype: int64\n",
      "**********\n",
      "Prof-school\n",
      "---\n",
      "United-States    502\n",
      "Name: Native_country, dtype: int64\n",
      "**********\n",
      "9th\n",
      "---\n",
      "United-States    395\n",
      "Name: Native_country, dtype: int64\n",
      "**********\n",
      "7th-8th\n",
      "---\n",
      "United-States    499\n",
      "Name: Native_country, dtype: int64\n",
      "**********\n",
      "Bachelors\n",
      "---\n",
      "United-States    4765\n",
      "Name: Native_country, dtype: int64\n",
      "**********\n",
      "Preschool\n",
      "---\n",
      "United-States    17\n",
      "Name: Native_country, dtype: int64\n",
      "**********\n",
      "Some-college\n",
      "---\n",
      "United-States    6740\n",
      "Name: Native_country, dtype: int64\n",
      "**********\n",
      "10th\n",
      "---\n",
      "United-States    848\n",
      "Name: Native_country, dtype: int64\n",
      "**********\n",
      "Assoc-acdm\n",
      "---\n",
      "United-States    982\n",
      "Name: Native_country, dtype: int64\n",
      "**********\n",
      "5th-6th\n",
      "---\n",
      "Mexico    148\n",
      "Name: Native_country, dtype: int64\n",
      "**********\n",
      "12th\n",
      "---\n",
      "United-States    365\n",
      "Name: Native_country, dtype: int64\n",
      "**********\n",
      "11th\n",
      "---\n",
      "United-States    1067\n",
      "Name: Native_country, dtype: int64\n",
      "**********\n"
     ]
    }
   ],
   "source": [
    "dicty={}\n",
    "for i in set(df[df['Native_country']=='?']['Education']):\n",
    "    print(i)\n",
    "    print('-'*3)\n",
    "    print(df[df['Education']==i]['Native_country'].value_counts()[:1])\n",
    "    print('*'*10)\n",
    "    dicty[i]=str(df[df['Education']==i]['Native_country'].value_counts()[:1]).split()[0]"
   ]
  },
  {
   "cell_type": "code",
   "execution_count": 30,
   "id": "3a1c76e9",
   "metadata": {},
   "outputs": [
    {
     "data": {
      "text/plain": [
       "{'Assoc-voc': 'United-States',\n",
       " '1st-4th': 'Mexico',\n",
       " 'Doctorate': 'United-States',\n",
       " 'HS-grad': 'United-States',\n",
       " 'Masters': 'United-States',\n",
       " 'Prof-school': 'United-States',\n",
       " '9th': 'United-States',\n",
       " '7th-8th': 'United-States',\n",
       " 'Bachelors': 'United-States',\n",
       " 'Preschool': 'United-States',\n",
       " 'Some-college': 'United-States',\n",
       " '10th': 'United-States',\n",
       " 'Assoc-acdm': 'United-States',\n",
       " '5th-6th': 'Mexico',\n",
       " '12th': 'United-States',\n",
       " '11th': 'United-States'}"
      ]
     },
     "execution_count": 30,
     "metadata": {},
     "output_type": "execute_result"
    }
   ],
   "source": [
    "dicty"
   ]
  },
  {
   "cell_type": "code",
   "execution_count": 31,
   "id": "aaa657fd",
   "metadata": {},
   "outputs": [],
   "source": [
    "for i in range(len(df['Native_country'])):\n",
    "    if df['Native_country'][i]=='?':\n",
    "        df['Native_country'][i]=dicty[df['Education'][i]]"
   ]
  },
  {
   "cell_type": "markdown",
   "id": "7d5d0ba8",
   "metadata": {},
   "source": [
    "### all missing values filled. check dataset again"
   ]
  },
  {
   "cell_type": "code",
   "execution_count": 32,
   "id": "8e4a060a",
   "metadata": {},
   "outputs": [],
   "source": [
    "for i in df.columns:\n",
    "    if 0<len(df[df[i]=='?']):\n",
    "        print(i)\n",
    "        print(len(df[df[i]=='?']))"
   ]
  },
  {
   "cell_type": "markdown",
   "id": "6e35ad01",
   "metadata": {},
   "source": [
    "### no missing data"
   ]
  },
  {
   "cell_type": "code",
   "execution_count": 33,
   "id": "4991d209",
   "metadata": {},
   "outputs": [
    {
     "name": "stdout",
     "output_type": "stream",
     "text": [
      "<class 'pandas.core.frame.DataFrame'>\n",
      "RangeIndex: 32560 entries, 0 to 32559\n",
      "Data columns (total 15 columns):\n",
      " #   Column          Non-Null Count  Dtype \n",
      "---  ------          --------------  ----- \n",
      " 0   Age             32560 non-null  int64 \n",
      " 1   Workclass       32560 non-null  object\n",
      " 2   Fnlwgt          32560 non-null  int64 \n",
      " 3   Education       32560 non-null  object\n",
      " 4   Education_num   32560 non-null  int64 \n",
      " 5   Marital_status  32560 non-null  object\n",
      " 6   Occupation      32560 non-null  object\n",
      " 7   Relationship    32560 non-null  object\n",
      " 8   Race            32560 non-null  object\n",
      " 9   Sex             32560 non-null  object\n",
      " 10  Capital_gain    32560 non-null  int64 \n",
      " 11  Capital_loss    32560 non-null  int64 \n",
      " 12  Hours_per_week  32560 non-null  int64 \n",
      " 13  Native_country  32560 non-null  object\n",
      " 14  Income          32560 non-null  object\n",
      "dtypes: int64(6), object(9)\n",
      "memory usage: 3.7+ MB\n"
     ]
    }
   ],
   "source": [
    "df.info()"
   ]
  },
  {
   "cell_type": "code",
   "execution_count": 34,
   "id": "7edf7de0",
   "metadata": {},
   "outputs": [
    {
     "data": {
      "text/html": [
       "<div>\n",
       "<style scoped>\n",
       "    .dataframe tbody tr th:only-of-type {\n",
       "        vertical-align: middle;\n",
       "    }\n",
       "\n",
       "    .dataframe tbody tr th {\n",
       "        vertical-align: top;\n",
       "    }\n",
       "\n",
       "    .dataframe thead th {\n",
       "        text-align: right;\n",
       "    }\n",
       "</style>\n",
       "<table border=\"1\" class=\"dataframe\">\n",
       "  <thead>\n",
       "    <tr style=\"text-align: right;\">\n",
       "      <th></th>\n",
       "      <th>Age</th>\n",
       "      <th>Workclass</th>\n",
       "      <th>Fnlwgt</th>\n",
       "      <th>Education</th>\n",
       "      <th>Education_num</th>\n",
       "      <th>Marital_status</th>\n",
       "      <th>Occupation</th>\n",
       "      <th>Relationship</th>\n",
       "      <th>Race</th>\n",
       "      <th>Sex</th>\n",
       "      <th>Capital_gain</th>\n",
       "      <th>Capital_loss</th>\n",
       "      <th>Hours_per_week</th>\n",
       "      <th>Native_country</th>\n",
       "      <th>Income</th>\n",
       "    </tr>\n",
       "  </thead>\n",
       "  <tbody>\n",
       "    <tr>\n",
       "      <th>0</th>\n",
       "      <td>50</td>\n",
       "      <td>Self-emp-not-inc</td>\n",
       "      <td>83311</td>\n",
       "      <td>Bachelors</td>\n",
       "      <td>13</td>\n",
       "      <td>Married-civ-spouse</td>\n",
       "      <td>Exec-managerial</td>\n",
       "      <td>Husband</td>\n",
       "      <td>White</td>\n",
       "      <td>Male</td>\n",
       "      <td>0</td>\n",
       "      <td>0</td>\n",
       "      <td>13</td>\n",
       "      <td>United-States</td>\n",
       "      <td>&lt;=50K</td>\n",
       "    </tr>\n",
       "    <tr>\n",
       "      <th>1</th>\n",
       "      <td>38</td>\n",
       "      <td>Private</td>\n",
       "      <td>215646</td>\n",
       "      <td>HS-grad</td>\n",
       "      <td>9</td>\n",
       "      <td>Divorced</td>\n",
       "      <td>Handlers-cleaners</td>\n",
       "      <td>Not-in-family</td>\n",
       "      <td>White</td>\n",
       "      <td>Male</td>\n",
       "      <td>0</td>\n",
       "      <td>0</td>\n",
       "      <td>40</td>\n",
       "      <td>United-States</td>\n",
       "      <td>&lt;=50K</td>\n",
       "    </tr>\n",
       "    <tr>\n",
       "      <th>2</th>\n",
       "      <td>53</td>\n",
       "      <td>Private</td>\n",
       "      <td>234721</td>\n",
       "      <td>11th</td>\n",
       "      <td>7</td>\n",
       "      <td>Married-civ-spouse</td>\n",
       "      <td>Handlers-cleaners</td>\n",
       "      <td>Husband</td>\n",
       "      <td>Black</td>\n",
       "      <td>Male</td>\n",
       "      <td>0</td>\n",
       "      <td>0</td>\n",
       "      <td>40</td>\n",
       "      <td>United-States</td>\n",
       "      <td>&lt;=50K</td>\n",
       "    </tr>\n",
       "    <tr>\n",
       "      <th>3</th>\n",
       "      <td>28</td>\n",
       "      <td>Private</td>\n",
       "      <td>338409</td>\n",
       "      <td>Bachelors</td>\n",
       "      <td>13</td>\n",
       "      <td>Married-civ-spouse</td>\n",
       "      <td>Prof-specialty</td>\n",
       "      <td>Wife</td>\n",
       "      <td>Black</td>\n",
       "      <td>Female</td>\n",
       "      <td>0</td>\n",
       "      <td>0</td>\n",
       "      <td>40</td>\n",
       "      <td>Cuba</td>\n",
       "      <td>&lt;=50K</td>\n",
       "    </tr>\n",
       "    <tr>\n",
       "      <th>4</th>\n",
       "      <td>37</td>\n",
       "      <td>Private</td>\n",
       "      <td>284582</td>\n",
       "      <td>Masters</td>\n",
       "      <td>14</td>\n",
       "      <td>Married-civ-spouse</td>\n",
       "      <td>Exec-managerial</td>\n",
       "      <td>Wife</td>\n",
       "      <td>White</td>\n",
       "      <td>Female</td>\n",
       "      <td>0</td>\n",
       "      <td>0</td>\n",
       "      <td>40</td>\n",
       "      <td>United-States</td>\n",
       "      <td>&lt;=50K</td>\n",
       "    </tr>\n",
       "    <tr>\n",
       "      <th>...</th>\n",
       "      <td>...</td>\n",
       "      <td>...</td>\n",
       "      <td>...</td>\n",
       "      <td>...</td>\n",
       "      <td>...</td>\n",
       "      <td>...</td>\n",
       "      <td>...</td>\n",
       "      <td>...</td>\n",
       "      <td>...</td>\n",
       "      <td>...</td>\n",
       "      <td>...</td>\n",
       "      <td>...</td>\n",
       "      <td>...</td>\n",
       "      <td>...</td>\n",
       "      <td>...</td>\n",
       "    </tr>\n",
       "    <tr>\n",
       "      <th>32555</th>\n",
       "      <td>27</td>\n",
       "      <td>Private</td>\n",
       "      <td>257302</td>\n",
       "      <td>Assoc-acdm</td>\n",
       "      <td>12</td>\n",
       "      <td>Married-civ-spouse</td>\n",
       "      <td>Tech-support</td>\n",
       "      <td>Wife</td>\n",
       "      <td>White</td>\n",
       "      <td>Female</td>\n",
       "      <td>0</td>\n",
       "      <td>0</td>\n",
       "      <td>38</td>\n",
       "      <td>United-States</td>\n",
       "      <td>&lt;=50K</td>\n",
       "    </tr>\n",
       "    <tr>\n",
       "      <th>32556</th>\n",
       "      <td>40</td>\n",
       "      <td>Private</td>\n",
       "      <td>154374</td>\n",
       "      <td>HS-grad</td>\n",
       "      <td>9</td>\n",
       "      <td>Married-civ-spouse</td>\n",
       "      <td>Machine-op-inspct</td>\n",
       "      <td>Husband</td>\n",
       "      <td>White</td>\n",
       "      <td>Male</td>\n",
       "      <td>0</td>\n",
       "      <td>0</td>\n",
       "      <td>40</td>\n",
       "      <td>United-States</td>\n",
       "      <td>&gt;50K</td>\n",
       "    </tr>\n",
       "    <tr>\n",
       "      <th>32557</th>\n",
       "      <td>58</td>\n",
       "      <td>Private</td>\n",
       "      <td>151910</td>\n",
       "      <td>HS-grad</td>\n",
       "      <td>9</td>\n",
       "      <td>Widowed</td>\n",
       "      <td>Adm-clerical</td>\n",
       "      <td>Unmarried</td>\n",
       "      <td>White</td>\n",
       "      <td>Female</td>\n",
       "      <td>0</td>\n",
       "      <td>0</td>\n",
       "      <td>40</td>\n",
       "      <td>United-States</td>\n",
       "      <td>&lt;=50K</td>\n",
       "    </tr>\n",
       "    <tr>\n",
       "      <th>32558</th>\n",
       "      <td>22</td>\n",
       "      <td>Private</td>\n",
       "      <td>201490</td>\n",
       "      <td>HS-grad</td>\n",
       "      <td>9</td>\n",
       "      <td>Never-married</td>\n",
       "      <td>Adm-clerical</td>\n",
       "      <td>Own-child</td>\n",
       "      <td>White</td>\n",
       "      <td>Male</td>\n",
       "      <td>0</td>\n",
       "      <td>0</td>\n",
       "      <td>20</td>\n",
       "      <td>United-States</td>\n",
       "      <td>&lt;=50K</td>\n",
       "    </tr>\n",
       "    <tr>\n",
       "      <th>32559</th>\n",
       "      <td>52</td>\n",
       "      <td>Self-emp-inc</td>\n",
       "      <td>287927</td>\n",
       "      <td>HS-grad</td>\n",
       "      <td>9</td>\n",
       "      <td>Married-civ-spouse</td>\n",
       "      <td>Exec-managerial</td>\n",
       "      <td>Wife</td>\n",
       "      <td>White</td>\n",
       "      <td>Female</td>\n",
       "      <td>15024</td>\n",
       "      <td>0</td>\n",
       "      <td>40</td>\n",
       "      <td>United-States</td>\n",
       "      <td>&gt;50K</td>\n",
       "    </tr>\n",
       "  </tbody>\n",
       "</table>\n",
       "<p>32560 rows × 15 columns</p>\n",
       "</div>"
      ],
      "text/plain": [
       "       Age         Workclass  Fnlwgt   Education  Education_num  \\\n",
       "0       50  Self-emp-not-inc   83311   Bachelors             13   \n",
       "1       38           Private  215646     HS-grad              9   \n",
       "2       53           Private  234721        11th              7   \n",
       "3       28           Private  338409   Bachelors             13   \n",
       "4       37           Private  284582     Masters             14   \n",
       "...    ...               ...     ...         ...            ...   \n",
       "32555   27           Private  257302  Assoc-acdm             12   \n",
       "32556   40           Private  154374     HS-grad              9   \n",
       "32557   58           Private  151910     HS-grad              9   \n",
       "32558   22           Private  201490     HS-grad              9   \n",
       "32559   52      Self-emp-inc  287927     HS-grad              9   \n",
       "\n",
       "           Marital_status         Occupation   Relationship   Race     Sex  \\\n",
       "0      Married-civ-spouse    Exec-managerial        Husband  White    Male   \n",
       "1                Divorced  Handlers-cleaners  Not-in-family  White    Male   \n",
       "2      Married-civ-spouse  Handlers-cleaners        Husband  Black    Male   \n",
       "3      Married-civ-spouse     Prof-specialty           Wife  Black  Female   \n",
       "4      Married-civ-spouse    Exec-managerial           Wife  White  Female   \n",
       "...                   ...                ...            ...    ...     ...   \n",
       "32555  Married-civ-spouse       Tech-support           Wife  White  Female   \n",
       "32556  Married-civ-spouse  Machine-op-inspct        Husband  White    Male   \n",
       "32557             Widowed       Adm-clerical      Unmarried  White  Female   \n",
       "32558       Never-married       Adm-clerical      Own-child  White    Male   \n",
       "32559  Married-civ-spouse    Exec-managerial           Wife  White  Female   \n",
       "\n",
       "       Capital_gain  Capital_loss  Hours_per_week Native_country  Income  \n",
       "0                 0             0              13  United-States   <=50K  \n",
       "1                 0             0              40  United-States   <=50K  \n",
       "2                 0             0              40  United-States   <=50K  \n",
       "3                 0             0              40           Cuba   <=50K  \n",
       "4                 0             0              40  United-States   <=50K  \n",
       "...             ...           ...             ...            ...     ...  \n",
       "32555             0             0              38  United-States   <=50K  \n",
       "32556             0             0              40  United-States    >50K  \n",
       "32557             0             0              40  United-States   <=50K  \n",
       "32558             0             0              20  United-States   <=50K  \n",
       "32559         15024             0              40  United-States    >50K  \n",
       "\n",
       "[32560 rows x 15 columns]"
      ]
     },
     "execution_count": 34,
     "metadata": {},
     "output_type": "execute_result"
    }
   ],
   "source": [
    "df"
   ]
  },
  {
   "cell_type": "markdown",
   "id": "414114d0",
   "metadata": {},
   "source": [
    "### conv categorical data into numerical data"
   ]
  },
  {
   "cell_type": "code",
   "execution_count": 35,
   "id": "800b7903",
   "metadata": {},
   "outputs": [
    {
     "data": {
      "text/plain": [
       "{'Workclass': {'Self-emp-not-inc': 0,\n",
       "  'Private': 1,\n",
       "  'State-gov': 2,\n",
       "  'Federal-gov': 3,\n",
       "  'Local-gov': 4,\n",
       "  'Self-emp-inc': 5,\n",
       "  'Without-pay': 6,\n",
       "  'Never-worked': 7}}"
      ]
     },
     "execution_count": 35,
     "metadata": {},
     "output_type": "execute_result"
    }
   ],
   "source": [
    "dicty={}\n",
    "for i in df[['Workclass']]:\n",
    "    dicto={}\n",
    "    for j in range(len(df[i].unique())):\n",
    "        dicto[df[i].unique()[j]]=j\n",
    "    dicty[i]=dicto\n",
    "dicty"
   ]
  },
  {
   "cell_type": "code",
   "execution_count": 36,
   "id": "125629e2",
   "metadata": {},
   "outputs": [],
   "source": [
    "for i in ['Workclass']:\n",
    "    df[i]=df[i].apply(lambda x:dicty[i][x])"
   ]
  },
  {
   "cell_type": "code",
   "execution_count": 37,
   "id": "e1b8c562",
   "metadata": {},
   "outputs": [
    {
     "data": {
      "text/plain": [
       "{'Education': {'Bachelors': 0,\n",
       "  'HS-grad': 1,\n",
       "  '11th': 2,\n",
       "  'Masters': 3,\n",
       "  '9th': 4,\n",
       "  'Some-college': 5,\n",
       "  'Assoc-acdm': 6,\n",
       "  'Assoc-voc': 7,\n",
       "  '7th-8th': 8,\n",
       "  'Doctorate': 9,\n",
       "  'Prof-school': 10,\n",
       "  '5th-6th': 11,\n",
       "  '10th': 12,\n",
       "  '1st-4th': 13,\n",
       "  'Preschool': 14,\n",
       "  '12th': 15}}"
      ]
     },
     "execution_count": 37,
     "metadata": {},
     "output_type": "execute_result"
    }
   ],
   "source": [
    "dicty={}\n",
    "for i in df[['Education']]:\n",
    "    dicto={}\n",
    "    for j in range(len(df[i].unique())):\n",
    "        dicto[df[i].unique()[j]]=j\n",
    "    dicty[i]=dicto\n",
    "dicty"
   ]
  },
  {
   "cell_type": "code",
   "execution_count": 38,
   "id": "bbd85327",
   "metadata": {},
   "outputs": [],
   "source": [
    "for i in ['Education']:\n",
    "    df[i]=df[i].apply(lambda x:dicty[i][x])"
   ]
  },
  {
   "cell_type": "code",
   "execution_count": 39,
   "id": "ed481e6a",
   "metadata": {},
   "outputs": [
    {
     "data": {
      "text/plain": [
       "{'Marital_status': {'Married-civ-spouse': 0,\n",
       "  'Divorced': 1,\n",
       "  'Married-spouse-absent': 2,\n",
       "  'Never-married': 3,\n",
       "  'Separated': 4,\n",
       "  'Married-AF-spouse': 5,\n",
       "  'Widowed': 6}}"
      ]
     },
     "execution_count": 39,
     "metadata": {},
     "output_type": "execute_result"
    }
   ],
   "source": [
    "dicty={}\n",
    "for i in df[['Marital_status']]:\n",
    "    dicto={}\n",
    "    for j in range(len(df[i].unique())):\n",
    "        dicto[df[i].unique()[j]]=j\n",
    "    dicty[i]=dicto\n",
    "dicty"
   ]
  },
  {
   "cell_type": "markdown",
   "id": "7df35e6b",
   "metadata": {},
   "source": [
    "### merge all the married as same category. divorced and seperated are almost same hence merge"
   ]
  },
  {
   "cell_type": "code",
   "execution_count": 40,
   "id": "a513b273",
   "metadata": {},
   "outputs": [
    {
     "data": {
      "text/plain": [
       "{'Marital_status': {'Married-civ-spouse': 0,\n",
       "  'Divorced': 1,\n",
       "  'Married-spouse-absent': 0,\n",
       "  'Never-married': 3,\n",
       "  'Separated': 1,\n",
       "  'Married-AF-spouse': 0,\n",
       "  'Widowed': 2}}"
      ]
     },
     "execution_count": 40,
     "metadata": {},
     "output_type": "execute_result"
    }
   ],
   "source": [
    "dicty['Marital_status']['Married-spouse-absent']=dicty['Marital_status']['Married-civ-spouse']\n",
    "dicty['Marital_status']['Married-AF-spouse']=dicty['Marital_status']['Married-civ-spouse']\n",
    "dicty['Marital_status']['Separated']=dicty['Marital_status']['Divorced']\n",
    "dicty['Marital_status']['Widowed']=2\n",
    "dicty"
   ]
  },
  {
   "cell_type": "code",
   "execution_count": 41,
   "id": "10c452ba",
   "metadata": {},
   "outputs": [],
   "source": [
    "for i in ['Marital_status']:\n",
    "    df[i]=df[i].apply(lambda x:dicty[i][x])"
   ]
  },
  {
   "cell_type": "code",
   "execution_count": 42,
   "id": "c872d7dc",
   "metadata": {},
   "outputs": [
    {
     "data": {
      "text/plain": [
       "{'Occupation': {'Exec-managerial': 0,\n",
       "  'Handlers-cleaners': 1,\n",
       "  'Prof-specialty': 2,\n",
       "  'Other-service': 3,\n",
       "  'Adm-clerical': 4,\n",
       "  'Sales': 5,\n",
       "  'Craft-repair': 6,\n",
       "  'Transport-moving': 7,\n",
       "  'Farming-fishing': 8,\n",
       "  'Machine-op-inspct': 9,\n",
       "  'Tech-support': 10,\n",
       "  'Protective-serv': 11,\n",
       "  'Armed-Forces': 12,\n",
       "  'Priv-house-serv': 13,\n",
       "  'NO': 14}}"
      ]
     },
     "execution_count": 42,
     "metadata": {},
     "output_type": "execute_result"
    }
   ],
   "source": [
    "dicty={}\n",
    "for i in df[['Occupation']]:\n",
    "    dicto={}\n",
    "    for j in range(len(df[i].unique())):\n",
    "        dicto[df[i].unique()[j]]=j\n",
    "    dicty[i]=dicto\n",
    "dicty"
   ]
  },
  {
   "cell_type": "code",
   "execution_count": 43,
   "id": "69912258",
   "metadata": {},
   "outputs": [],
   "source": [
    "for i in ['Occupation']:\n",
    "    df[i]=df[i].apply(lambda x:dicty[i][x])"
   ]
  },
  {
   "cell_type": "code",
   "execution_count": 44,
   "id": "94b7f0ce",
   "metadata": {},
   "outputs": [
    {
     "data": {
      "text/plain": [
       "{'Relationship': {'Husband': 0,\n",
       "  'Not-in-family': 1,\n",
       "  'Wife': 2,\n",
       "  'Own-child': 3,\n",
       "  'Unmarried': 4,\n",
       "  'Other-relative': 5}}"
      ]
     },
     "execution_count": 44,
     "metadata": {},
     "output_type": "execute_result"
    }
   ],
   "source": [
    "dicty={}\n",
    "for i in df[['Relationship']]:\n",
    "    dicto={}\n",
    "    for j in range(len(df[i].unique())):\n",
    "        dicto[df[i].unique()[j]]=j\n",
    "    dicty[i]=dicto\n",
    "dicty"
   ]
  },
  {
   "cell_type": "code",
   "execution_count": 45,
   "id": "5e13f626",
   "metadata": {},
   "outputs": [],
   "source": [
    "for i in ['Relationship']:\n",
    "    df[i]=df[i].apply(lambda x:dicty[i][x])"
   ]
  },
  {
   "cell_type": "code",
   "execution_count": 46,
   "id": "2be92ad0",
   "metadata": {},
   "outputs": [
    {
     "data": {
      "text/plain": [
       "{'Race': {'White': 0,\n",
       "  'Black': 1,\n",
       "  'Asian-Pac-Islander': 2,\n",
       "  'Amer-Indian-Eskimo': 3,\n",
       "  'Other': 4}}"
      ]
     },
     "execution_count": 46,
     "metadata": {},
     "output_type": "execute_result"
    }
   ],
   "source": [
    "dicty={}\n",
    "for i in df[['Race']]:\n",
    "    dicto={}\n",
    "    for j in range(len(df[i].unique())):\n",
    "        dicto[df[i].unique()[j]]=j\n",
    "    dicty[i]=dicto\n",
    "dicty"
   ]
  },
  {
   "cell_type": "code",
   "execution_count": 47,
   "id": "b02e0daa",
   "metadata": {},
   "outputs": [],
   "source": [
    "for i in ['Race']:\n",
    "    df[i]=df[i].apply(lambda x:dicty[i][x])"
   ]
  },
  {
   "cell_type": "code",
   "execution_count": 48,
   "id": "98ed75c7",
   "metadata": {},
   "outputs": [
    {
     "data": {
      "text/plain": [
       "{'Sex': {'Male': 0, 'Female': 1}}"
      ]
     },
     "execution_count": 48,
     "metadata": {},
     "output_type": "execute_result"
    }
   ],
   "source": [
    "dicty={}\n",
    "for i in df[['Sex']]:\n",
    "    dicto={}\n",
    "    for j in range(len(df[i].unique())):\n",
    "        dicto[df[i].unique()[j]]=j\n",
    "    dicty[i]=dicto\n",
    "dicty"
   ]
  },
  {
   "cell_type": "code",
   "execution_count": 49,
   "id": "563c220a",
   "metadata": {},
   "outputs": [],
   "source": [
    "for i in ['Sex']:\n",
    "    df[i]=df[i].apply(lambda x:dicty[i][x])"
   ]
  },
  {
   "cell_type": "code",
   "execution_count": 50,
   "id": "604b6af9",
   "metadata": {},
   "outputs": [
    {
     "data": {
      "text/plain": [
       "{'Native_country': {'United-States': 0,\n",
       "  'Cuba': 1,\n",
       "  'Jamaica': 2,\n",
       "  'India': 3,\n",
       "  'Mexico': 4,\n",
       "  'South': 5,\n",
       "  'Puerto-Rico': 6,\n",
       "  'Honduras': 7,\n",
       "  'England': 8,\n",
       "  'Canada': 9,\n",
       "  'Germany': 10,\n",
       "  'Iran': 11,\n",
       "  'Philippines': 12,\n",
       "  'Italy': 13,\n",
       "  'Poland': 14,\n",
       "  'Columbia': 15,\n",
       "  'Cambodia': 16,\n",
       "  'Thailand': 17,\n",
       "  'Ecuador': 18,\n",
       "  'Laos': 19,\n",
       "  'Taiwan': 20,\n",
       "  'Haiti': 21,\n",
       "  'Portugal': 22,\n",
       "  'Dominican-Republic': 23,\n",
       "  'El-Salvador': 24,\n",
       "  'France': 25,\n",
       "  'Guatemala': 26,\n",
       "  'China': 27,\n",
       "  'Japan': 28,\n",
       "  'Yugoslavia': 29,\n",
       "  'Peru': 30,\n",
       "  'Outlying-US(Guam-USVI-etc)': 31,\n",
       "  'Scotland': 32,\n",
       "  'Trinadad&Tobago': 33,\n",
       "  'Greece': 34,\n",
       "  'Nicaragua': 35,\n",
       "  'Vietnam': 36,\n",
       "  'Hong': 37,\n",
       "  'Ireland': 38,\n",
       "  'Hungary': 39,\n",
       "  'Holand-Netherlands': 40}}"
      ]
     },
     "execution_count": 50,
     "metadata": {},
     "output_type": "execute_result"
    }
   ],
   "source": [
    "dicty={}\n",
    "for i in df[['Native_country']]:\n",
    "    dicto={}\n",
    "    for j in range(len(df[i].unique())):\n",
    "        dicto[df[i].unique()[j]]=j\n",
    "    dicty[i]=dicto\n",
    "dicty"
   ]
  },
  {
   "cell_type": "code",
   "execution_count": 51,
   "id": "9f3d36fa",
   "metadata": {},
   "outputs": [],
   "source": [
    "for i in ['Native_country']:\n",
    "    df[i]=df[i].apply(lambda x:dicty[i][x])"
   ]
  },
  {
   "cell_type": "code",
   "execution_count": 52,
   "id": "f39ace56",
   "metadata": {},
   "outputs": [
    {
     "data": {
      "text/plain": [
       "{'Income': {' <=50K': 0, ' >50K': 1}}"
      ]
     },
     "execution_count": 52,
     "metadata": {},
     "output_type": "execute_result"
    }
   ],
   "source": [
    "dicty={}\n",
    "for i in df[['Income']]:\n",
    "    dicto={}\n",
    "    for j in range(len(df[i].unique())):\n",
    "        dicto[df[i].unique()[j]]=j\n",
    "    dicty[i]=dicto\n",
    "dicty"
   ]
  },
  {
   "cell_type": "code",
   "execution_count": 53,
   "id": "e717e12f",
   "metadata": {},
   "outputs": [],
   "source": [
    "for i in ['Income']:\n",
    "    df[i]=df[i].apply(lambda x:dicty[i][x])"
   ]
  },
  {
   "cell_type": "markdown",
   "id": "8f8ebc3d",
   "metadata": {},
   "source": [
    "### all categorical columns are now converted to numerical columns. income more than 50k is 1"
   ]
  },
  {
   "cell_type": "code",
   "execution_count": 54,
   "id": "1fa45533",
   "metadata": {},
   "outputs": [
    {
     "name": "stdout",
     "output_type": "stream",
     "text": [
      "<class 'pandas.core.frame.DataFrame'>\n",
      "RangeIndex: 32560 entries, 0 to 32559\n",
      "Data columns (total 15 columns):\n",
      " #   Column          Non-Null Count  Dtype\n",
      "---  ------          --------------  -----\n",
      " 0   Age             32560 non-null  int64\n",
      " 1   Workclass       32560 non-null  int64\n",
      " 2   Fnlwgt          32560 non-null  int64\n",
      " 3   Education       32560 non-null  int64\n",
      " 4   Education_num   32560 non-null  int64\n",
      " 5   Marital_status  32560 non-null  int64\n",
      " 6   Occupation      32560 non-null  int64\n",
      " 7   Relationship    32560 non-null  int64\n",
      " 8   Race            32560 non-null  int64\n",
      " 9   Sex             32560 non-null  int64\n",
      " 10  Capital_gain    32560 non-null  int64\n",
      " 11  Capital_loss    32560 non-null  int64\n",
      " 12  Hours_per_week  32560 non-null  int64\n",
      " 13  Native_country  32560 non-null  int64\n",
      " 14  Income          32560 non-null  int64\n",
      "dtypes: int64(15)\n",
      "memory usage: 3.7 MB\n"
     ]
    }
   ],
   "source": [
    "df.info()"
   ]
  },
  {
   "cell_type": "code",
   "execution_count": 55,
   "id": "ed997174",
   "metadata": {},
   "outputs": [
    {
     "data": {
      "text/html": [
       "<div>\n",
       "<style scoped>\n",
       "    .dataframe tbody tr th:only-of-type {\n",
       "        vertical-align: middle;\n",
       "    }\n",
       "\n",
       "    .dataframe tbody tr th {\n",
       "        vertical-align: top;\n",
       "    }\n",
       "\n",
       "    .dataframe thead th {\n",
       "        text-align: right;\n",
       "    }\n",
       "</style>\n",
       "<table border=\"1\" class=\"dataframe\">\n",
       "  <thead>\n",
       "    <tr style=\"text-align: right;\">\n",
       "      <th></th>\n",
       "      <th>Age</th>\n",
       "      <th>Workclass</th>\n",
       "      <th>Fnlwgt</th>\n",
       "      <th>Education</th>\n",
       "      <th>Education_num</th>\n",
       "      <th>Marital_status</th>\n",
       "      <th>Occupation</th>\n",
       "      <th>Relationship</th>\n",
       "      <th>Race</th>\n",
       "      <th>Sex</th>\n",
       "      <th>Capital_gain</th>\n",
       "      <th>Capital_loss</th>\n",
       "      <th>Hours_per_week</th>\n",
       "      <th>Native_country</th>\n",
       "      <th>Income</th>\n",
       "    </tr>\n",
       "  </thead>\n",
       "  <tbody>\n",
       "    <tr>\n",
       "      <th>0</th>\n",
       "      <td>50</td>\n",
       "      <td>0</td>\n",
       "      <td>83311</td>\n",
       "      <td>0</td>\n",
       "      <td>13</td>\n",
       "      <td>0</td>\n",
       "      <td>0</td>\n",
       "      <td>0</td>\n",
       "      <td>0</td>\n",
       "      <td>0</td>\n",
       "      <td>0</td>\n",
       "      <td>0</td>\n",
       "      <td>13</td>\n",
       "      <td>0</td>\n",
       "      <td>0</td>\n",
       "    </tr>\n",
       "    <tr>\n",
       "      <th>1</th>\n",
       "      <td>38</td>\n",
       "      <td>1</td>\n",
       "      <td>215646</td>\n",
       "      <td>1</td>\n",
       "      <td>9</td>\n",
       "      <td>1</td>\n",
       "      <td>1</td>\n",
       "      <td>1</td>\n",
       "      <td>0</td>\n",
       "      <td>0</td>\n",
       "      <td>0</td>\n",
       "      <td>0</td>\n",
       "      <td>40</td>\n",
       "      <td>0</td>\n",
       "      <td>0</td>\n",
       "    </tr>\n",
       "    <tr>\n",
       "      <th>2</th>\n",
       "      <td>53</td>\n",
       "      <td>1</td>\n",
       "      <td>234721</td>\n",
       "      <td>2</td>\n",
       "      <td>7</td>\n",
       "      <td>0</td>\n",
       "      <td>1</td>\n",
       "      <td>0</td>\n",
       "      <td>1</td>\n",
       "      <td>0</td>\n",
       "      <td>0</td>\n",
       "      <td>0</td>\n",
       "      <td>40</td>\n",
       "      <td>0</td>\n",
       "      <td>0</td>\n",
       "    </tr>\n",
       "    <tr>\n",
       "      <th>3</th>\n",
       "      <td>28</td>\n",
       "      <td>1</td>\n",
       "      <td>338409</td>\n",
       "      <td>0</td>\n",
       "      <td>13</td>\n",
       "      <td>0</td>\n",
       "      <td>2</td>\n",
       "      <td>2</td>\n",
       "      <td>1</td>\n",
       "      <td>1</td>\n",
       "      <td>0</td>\n",
       "      <td>0</td>\n",
       "      <td>40</td>\n",
       "      <td>1</td>\n",
       "      <td>0</td>\n",
       "    </tr>\n",
       "    <tr>\n",
       "      <th>4</th>\n",
       "      <td>37</td>\n",
       "      <td>1</td>\n",
       "      <td>284582</td>\n",
       "      <td>3</td>\n",
       "      <td>14</td>\n",
       "      <td>0</td>\n",
       "      <td>0</td>\n",
       "      <td>2</td>\n",
       "      <td>0</td>\n",
       "      <td>1</td>\n",
       "      <td>0</td>\n",
       "      <td>0</td>\n",
       "      <td>40</td>\n",
       "      <td>0</td>\n",
       "      <td>0</td>\n",
       "    </tr>\n",
       "    <tr>\n",
       "      <th>...</th>\n",
       "      <td>...</td>\n",
       "      <td>...</td>\n",
       "      <td>...</td>\n",
       "      <td>...</td>\n",
       "      <td>...</td>\n",
       "      <td>...</td>\n",
       "      <td>...</td>\n",
       "      <td>...</td>\n",
       "      <td>...</td>\n",
       "      <td>...</td>\n",
       "      <td>...</td>\n",
       "      <td>...</td>\n",
       "      <td>...</td>\n",
       "      <td>...</td>\n",
       "      <td>...</td>\n",
       "    </tr>\n",
       "    <tr>\n",
       "      <th>32555</th>\n",
       "      <td>27</td>\n",
       "      <td>1</td>\n",
       "      <td>257302</td>\n",
       "      <td>6</td>\n",
       "      <td>12</td>\n",
       "      <td>0</td>\n",
       "      <td>10</td>\n",
       "      <td>2</td>\n",
       "      <td>0</td>\n",
       "      <td>1</td>\n",
       "      <td>0</td>\n",
       "      <td>0</td>\n",
       "      <td>38</td>\n",
       "      <td>0</td>\n",
       "      <td>0</td>\n",
       "    </tr>\n",
       "    <tr>\n",
       "      <th>32556</th>\n",
       "      <td>40</td>\n",
       "      <td>1</td>\n",
       "      <td>154374</td>\n",
       "      <td>1</td>\n",
       "      <td>9</td>\n",
       "      <td>0</td>\n",
       "      <td>9</td>\n",
       "      <td>0</td>\n",
       "      <td>0</td>\n",
       "      <td>0</td>\n",
       "      <td>0</td>\n",
       "      <td>0</td>\n",
       "      <td>40</td>\n",
       "      <td>0</td>\n",
       "      <td>1</td>\n",
       "    </tr>\n",
       "    <tr>\n",
       "      <th>32557</th>\n",
       "      <td>58</td>\n",
       "      <td>1</td>\n",
       "      <td>151910</td>\n",
       "      <td>1</td>\n",
       "      <td>9</td>\n",
       "      <td>2</td>\n",
       "      <td>4</td>\n",
       "      <td>4</td>\n",
       "      <td>0</td>\n",
       "      <td>1</td>\n",
       "      <td>0</td>\n",
       "      <td>0</td>\n",
       "      <td>40</td>\n",
       "      <td>0</td>\n",
       "      <td>0</td>\n",
       "    </tr>\n",
       "    <tr>\n",
       "      <th>32558</th>\n",
       "      <td>22</td>\n",
       "      <td>1</td>\n",
       "      <td>201490</td>\n",
       "      <td>1</td>\n",
       "      <td>9</td>\n",
       "      <td>3</td>\n",
       "      <td>4</td>\n",
       "      <td>3</td>\n",
       "      <td>0</td>\n",
       "      <td>0</td>\n",
       "      <td>0</td>\n",
       "      <td>0</td>\n",
       "      <td>20</td>\n",
       "      <td>0</td>\n",
       "      <td>0</td>\n",
       "    </tr>\n",
       "    <tr>\n",
       "      <th>32559</th>\n",
       "      <td>52</td>\n",
       "      <td>5</td>\n",
       "      <td>287927</td>\n",
       "      <td>1</td>\n",
       "      <td>9</td>\n",
       "      <td>0</td>\n",
       "      <td>0</td>\n",
       "      <td>2</td>\n",
       "      <td>0</td>\n",
       "      <td>1</td>\n",
       "      <td>15024</td>\n",
       "      <td>0</td>\n",
       "      <td>40</td>\n",
       "      <td>0</td>\n",
       "      <td>1</td>\n",
       "    </tr>\n",
       "  </tbody>\n",
       "</table>\n",
       "<p>32560 rows × 15 columns</p>\n",
       "</div>"
      ],
      "text/plain": [
       "       Age  Workclass  Fnlwgt  Education  Education_num  Marital_status  \\\n",
       "0       50          0   83311          0             13               0   \n",
       "1       38          1  215646          1              9               1   \n",
       "2       53          1  234721          2              7               0   \n",
       "3       28          1  338409          0             13               0   \n",
       "4       37          1  284582          3             14               0   \n",
       "...    ...        ...     ...        ...            ...             ...   \n",
       "32555   27          1  257302          6             12               0   \n",
       "32556   40          1  154374          1              9               0   \n",
       "32557   58          1  151910          1              9               2   \n",
       "32558   22          1  201490          1              9               3   \n",
       "32559   52          5  287927          1              9               0   \n",
       "\n",
       "       Occupation  Relationship  Race  Sex  Capital_gain  Capital_loss  \\\n",
       "0               0             0     0    0             0             0   \n",
       "1               1             1     0    0             0             0   \n",
       "2               1             0     1    0             0             0   \n",
       "3               2             2     1    1             0             0   \n",
       "4               0             2     0    1             0             0   \n",
       "...           ...           ...   ...  ...           ...           ...   \n",
       "32555          10             2     0    1             0             0   \n",
       "32556           9             0     0    0             0             0   \n",
       "32557           4             4     0    1             0             0   \n",
       "32558           4             3     0    0             0             0   \n",
       "32559           0             2     0    1         15024             0   \n",
       "\n",
       "       Hours_per_week  Native_country  Income  \n",
       "0                  13               0       0  \n",
       "1                  40               0       0  \n",
       "2                  40               0       0  \n",
       "3                  40               1       0  \n",
       "4                  40               0       0  \n",
       "...               ...             ...     ...  \n",
       "32555              38               0       0  \n",
       "32556              40               0       1  \n",
       "32557              40               0       0  \n",
       "32558              20               0       0  \n",
       "32559              40               0       1  \n",
       "\n",
       "[32560 rows x 15 columns]"
      ]
     },
     "execution_count": 55,
     "metadata": {},
     "output_type": "execute_result"
    }
   ],
   "source": [
    "df"
   ]
  },
  {
   "cell_type": "markdown",
   "id": "1ae03649",
   "metadata": {},
   "source": [
    "### now use describe func and analyze dataset"
   ]
  },
  {
   "cell_type": "code",
   "execution_count": 56,
   "id": "9eccddf7",
   "metadata": {},
   "outputs": [
    {
     "data": {
      "text/html": [
       "<div>\n",
       "<style scoped>\n",
       "    .dataframe tbody tr th:only-of-type {\n",
       "        vertical-align: middle;\n",
       "    }\n",
       "\n",
       "    .dataframe tbody tr th {\n",
       "        vertical-align: top;\n",
       "    }\n",
       "\n",
       "    .dataframe thead th {\n",
       "        text-align: right;\n",
       "    }\n",
       "</style>\n",
       "<table border=\"1\" class=\"dataframe\">\n",
       "  <thead>\n",
       "    <tr style=\"text-align: right;\">\n",
       "      <th></th>\n",
       "      <th>Age</th>\n",
       "      <th>Workclass</th>\n",
       "      <th>Fnlwgt</th>\n",
       "      <th>Education</th>\n",
       "      <th>Education_num</th>\n",
       "      <th>Marital_status</th>\n",
       "      <th>Occupation</th>\n",
       "      <th>Relationship</th>\n",
       "      <th>Race</th>\n",
       "      <th>Sex</th>\n",
       "      <th>Capital_gain</th>\n",
       "      <th>Capital_loss</th>\n",
       "      <th>Hours_per_week</th>\n",
       "      <th>Native_country</th>\n",
       "      <th>Income</th>\n",
       "    </tr>\n",
       "  </thead>\n",
       "  <tbody>\n",
       "    <tr>\n",
       "      <th>count</th>\n",
       "      <td>32560.000000</td>\n",
       "      <td>32560.000000</td>\n",
       "      <td>3.256000e+04</td>\n",
       "      <td>32560.000000</td>\n",
       "      <td>32560.000000</td>\n",
       "      <td>32560.000000</td>\n",
       "      <td>32560.000000</td>\n",
       "      <td>32560.000000</td>\n",
       "      <td>32560.000000</td>\n",
       "      <td>32560.000000</td>\n",
       "      <td>32560.000000</td>\n",
       "      <td>32560.000000</td>\n",
       "      <td>32560.000000</td>\n",
       "      <td>32560.000000</td>\n",
       "      <td>32560.000000</td>\n",
       "    </tr>\n",
       "    <tr>\n",
       "      <th>mean</th>\n",
       "      <td>38.581634</td>\n",
       "      <td>1.354146</td>\n",
       "      <td>1.897818e+05</td>\n",
       "      <td>3.424570</td>\n",
       "      <td>10.080590</td>\n",
       "      <td>1.213145</td>\n",
       "      <td>4.329730</td>\n",
       "      <td>1.392291</td>\n",
       "      <td>0.221714</td>\n",
       "      <td>0.330805</td>\n",
       "      <td>1077.615172</td>\n",
       "      <td>87.306511</td>\n",
       "      <td>40.437469</td>\n",
       "      <td>1.143428</td>\n",
       "      <td>0.240817</td>\n",
       "    </tr>\n",
       "    <tr>\n",
       "      <th>std</th>\n",
       "      <td>13.640642</td>\n",
       "      <td>1.120649</td>\n",
       "      <td>1.055498e+05</td>\n",
       "      <td>3.453582</td>\n",
       "      <td>2.572709</td>\n",
       "      <td>1.330752</td>\n",
       "      <td>2.914994</td>\n",
       "      <td>1.535159</td>\n",
       "      <td>0.627357</td>\n",
       "      <td>0.470510</td>\n",
       "      <td>7385.402999</td>\n",
       "      <td>402.966116</td>\n",
       "      <td>12.347618</td>\n",
       "      <td>4.817873</td>\n",
       "      <td>0.427586</td>\n",
       "    </tr>\n",
       "    <tr>\n",
       "      <th>min</th>\n",
       "      <td>17.000000</td>\n",
       "      <td>0.000000</td>\n",
       "      <td>1.228500e+04</td>\n",
       "      <td>0.000000</td>\n",
       "      <td>1.000000</td>\n",
       "      <td>0.000000</td>\n",
       "      <td>0.000000</td>\n",
       "      <td>0.000000</td>\n",
       "      <td>0.000000</td>\n",
       "      <td>0.000000</td>\n",
       "      <td>0.000000</td>\n",
       "      <td>0.000000</td>\n",
       "      <td>1.000000</td>\n",
       "      <td>0.000000</td>\n",
       "      <td>0.000000</td>\n",
       "    </tr>\n",
       "    <tr>\n",
       "      <th>25%</th>\n",
       "      <td>28.000000</td>\n",
       "      <td>1.000000</td>\n",
       "      <td>1.178315e+05</td>\n",
       "      <td>1.000000</td>\n",
       "      <td>9.000000</td>\n",
       "      <td>0.000000</td>\n",
       "      <td>2.000000</td>\n",
       "      <td>0.000000</td>\n",
       "      <td>0.000000</td>\n",
       "      <td>0.000000</td>\n",
       "      <td>0.000000</td>\n",
       "      <td>0.000000</td>\n",
       "      <td>40.000000</td>\n",
       "      <td>0.000000</td>\n",
       "      <td>0.000000</td>\n",
       "    </tr>\n",
       "    <tr>\n",
       "      <th>50%</th>\n",
       "      <td>37.000000</td>\n",
       "      <td>1.000000</td>\n",
       "      <td>1.783630e+05</td>\n",
       "      <td>2.000000</td>\n",
       "      <td>10.000000</td>\n",
       "      <td>1.000000</td>\n",
       "      <td>4.000000</td>\n",
       "      <td>1.000000</td>\n",
       "      <td>0.000000</td>\n",
       "      <td>0.000000</td>\n",
       "      <td>0.000000</td>\n",
       "      <td>0.000000</td>\n",
       "      <td>40.000000</td>\n",
       "      <td>0.000000</td>\n",
       "      <td>0.000000</td>\n",
       "    </tr>\n",
       "    <tr>\n",
       "      <th>75%</th>\n",
       "      <td>48.000000</td>\n",
       "      <td>1.000000</td>\n",
       "      <td>2.370545e+05</td>\n",
       "      <td>5.000000</td>\n",
       "      <td>12.000000</td>\n",
       "      <td>3.000000</td>\n",
       "      <td>6.000000</td>\n",
       "      <td>3.000000</td>\n",
       "      <td>0.000000</td>\n",
       "      <td>1.000000</td>\n",
       "      <td>0.000000</td>\n",
       "      <td>0.000000</td>\n",
       "      <td>45.000000</td>\n",
       "      <td>0.000000</td>\n",
       "      <td>0.000000</td>\n",
       "    </tr>\n",
       "    <tr>\n",
       "      <th>max</th>\n",
       "      <td>90.000000</td>\n",
       "      <td>7.000000</td>\n",
       "      <td>1.484705e+06</td>\n",
       "      <td>15.000000</td>\n",
       "      <td>16.000000</td>\n",
       "      <td>3.000000</td>\n",
       "      <td>14.000000</td>\n",
       "      <td>5.000000</td>\n",
       "      <td>4.000000</td>\n",
       "      <td>1.000000</td>\n",
       "      <td>99999.000000</td>\n",
       "      <td>4356.000000</td>\n",
       "      <td>99.000000</td>\n",
       "      <td>40.000000</td>\n",
       "      <td>1.000000</td>\n",
       "    </tr>\n",
       "  </tbody>\n",
       "</table>\n",
       "</div>"
      ],
      "text/plain": [
       "                Age     Workclass        Fnlwgt     Education  Education_num  \\\n",
       "count  32560.000000  32560.000000  3.256000e+04  32560.000000   32560.000000   \n",
       "mean      38.581634      1.354146  1.897818e+05      3.424570      10.080590   \n",
       "std       13.640642      1.120649  1.055498e+05      3.453582       2.572709   \n",
       "min       17.000000      0.000000  1.228500e+04      0.000000       1.000000   \n",
       "25%       28.000000      1.000000  1.178315e+05      1.000000       9.000000   \n",
       "50%       37.000000      1.000000  1.783630e+05      2.000000      10.000000   \n",
       "75%       48.000000      1.000000  2.370545e+05      5.000000      12.000000   \n",
       "max       90.000000      7.000000  1.484705e+06     15.000000      16.000000   \n",
       "\n",
       "       Marital_status    Occupation  Relationship          Race           Sex  \\\n",
       "count    32560.000000  32560.000000  32560.000000  32560.000000  32560.000000   \n",
       "mean         1.213145      4.329730      1.392291      0.221714      0.330805   \n",
       "std          1.330752      2.914994      1.535159      0.627357      0.470510   \n",
       "min          0.000000      0.000000      0.000000      0.000000      0.000000   \n",
       "25%          0.000000      2.000000      0.000000      0.000000      0.000000   \n",
       "50%          1.000000      4.000000      1.000000      0.000000      0.000000   \n",
       "75%          3.000000      6.000000      3.000000      0.000000      1.000000   \n",
       "max          3.000000     14.000000      5.000000      4.000000      1.000000   \n",
       "\n",
       "       Capital_gain  Capital_loss  Hours_per_week  Native_country  \\\n",
       "count  32560.000000  32560.000000    32560.000000    32560.000000   \n",
       "mean    1077.615172     87.306511       40.437469        1.143428   \n",
       "std     7385.402999    402.966116       12.347618        4.817873   \n",
       "min        0.000000      0.000000        1.000000        0.000000   \n",
       "25%        0.000000      0.000000       40.000000        0.000000   \n",
       "50%        0.000000      0.000000       40.000000        0.000000   \n",
       "75%        0.000000      0.000000       45.000000        0.000000   \n",
       "max    99999.000000   4356.000000       99.000000       40.000000   \n",
       "\n",
       "             Income  \n",
       "count  32560.000000  \n",
       "mean       0.240817  \n",
       "std        0.427586  \n",
       "min        0.000000  \n",
       "25%        0.000000  \n",
       "50%        0.000000  \n",
       "75%        0.000000  \n",
       "max        1.000000  "
      ]
     },
     "execution_count": 56,
     "metadata": {},
     "output_type": "execute_result"
    }
   ],
   "source": [
    "df.describe()"
   ]
  },
  {
   "cell_type": "markdown",
   "id": "c1a07a8b",
   "metadata": {},
   "source": [
    "### check data imbalancement and balance if required"
   ]
  },
  {
   "cell_type": "code",
   "execution_count": 57,
   "id": "77c11d09",
   "metadata": {},
   "outputs": [
    {
     "name": "stdout",
     "output_type": "stream",
     "text": [
      "Number of salary less than equal to 50k are: 24719\n",
      "Number of salary more than 50k are: 7841\n",
      "Unbalanced dataset\n"
     ]
    }
   ],
   "source": [
    "print('Number of salary less than equal to 50k are:',df['Income'].value_counts()[0])\n",
    "print('Number of salary more than 50k are:',df['Income'].value_counts()[1])\n",
    "print('Unbalanced dataset' if df['Income'].value_counts()[0]!=df['Income'].value_counts()[1] else 'Balanced dataset')"
   ]
  },
  {
   "cell_type": "code",
   "execution_count": 58,
   "id": "bb84278f",
   "metadata": {},
   "outputs": [
    {
     "data": {
      "image/png": "[encoded data removed]",
      "text/plain": [
       "<Figure size 360x360 with 1 Axes>"
      ]
     },
     "metadata": {
      "needs_background": "light"
     },
     "output_type": "display_data"
    }
   ],
   "source": [
    "plt.figure(figsize=[5,5])\n",
    "df['Income'].value_counts().plot(kind='bar')\n",
    "plt.xlabel(\"Income\")\n",
    "plt.ylabel('value counts')\n",
    "plt.title('Income less/equal wrt 50k  vs more than 50k')\n",
    "plt.grid()"
   ]
  },
  {
   "cell_type": "code",
   "execution_count": 59,
   "id": "cf3bd157",
   "metadata": {},
   "outputs": [
    {
     "name": "stdout",
     "output_type": "stream",
     "text": [
      "Number of salary less than equal to 50k are: 24719\n",
      "Number of salary more than 50k are: 24719\n",
      "Balanced dataset\n"
     ]
    }
   ],
   "source": [
    "dfmin=df[df['Income']==1]\n",
    "dfmax=df[df['Income']==0]\n",
    "dfminup=resample(dfmin,replace=True,n_samples=24719,random_state=123)\n",
    "dff=pd.concat([dfmax, dfminup])\n",
    "print('Number of salary less than equal to 50k are:',dff['Income'].value_counts()[0])\n",
    "print('Number of salary more than 50k are:',dff['Income'].value_counts()[1])\n",
    "print('Unbalanced dataset' if dff['Income'].value_counts()[0]!=dff['Income'].value_counts()[1] else 'Balanced dataset')"
   ]
  },
  {
   "cell_type": "markdown",
   "id": "d645af9d",
   "metadata": {},
   "source": [
    "### start analyzing to find correlation and the columns to drop"
   ]
  },
  {
   "cell_type": "code",
   "execution_count": 60,
   "id": "524590a3",
   "metadata": {},
   "outputs": [
    {
     "data": {
      "text/plain": [
       "Age               0.289057\n",
       "Workclass         0.126142\n",
       "Fnlwgt           -0.008812\n",
       "Education        -0.057241\n",
       "Education_num     0.386683\n",
       "Marital_status   -0.495214\n",
       "Occupation       -0.163636\n",
       "Relationship     -0.431369\n",
       "Race             -0.084025\n",
       "Sex              -0.269534\n",
       "Capital_gain      0.183494\n",
       "Capital_loss      0.154448\n",
       "Hours_per_week    0.272950\n",
       "Native_country   -0.032132\n",
       "Income            1.000000\n",
       "Name: Income, dtype: float64"
      ]
     },
     "execution_count": 60,
     "metadata": {},
     "output_type": "execute_result"
    }
   ],
   "source": [
    "dff.corr()['Income']"
   ]
  },
  {
   "cell_type": "markdown",
   "id": "9177a78e",
   "metadata": {},
   "source": [
    "### drop column fnlwgt as it has very low correlation"
   ]
  },
  {
   "cell_type": "code",
   "execution_count": 61,
   "id": "05e12c86",
   "metadata": {},
   "outputs": [],
   "source": [
    "dff=dff.drop(['Fnlwgt'],axis=1)"
   ]
  },
  {
   "cell_type": "markdown",
   "id": "5446eb15",
   "metadata": {},
   "source": [
    "### use heatmap to check correlation on dataset"
   ]
  },
  {
   "cell_type": "code",
   "execution_count": 62,
   "id": "cf963723",
   "metadata": {},
   "outputs": [
    {
     "data": {
      "text/plain": [
       "<AxesSubplot:>"
      ]
     },
     "execution_count": 62,
     "metadata": {},
     "output_type": "execute_result"
    },
    {
     "data": {
      "image/png": "[encoded data removed]",
      "text/plain": [
       "<Figure size 720x720 with 2 Axes>"
      ]
     },
     "metadata": {
      "needs_background": "light"
     },
     "output_type": "display_data"
    }
   ],
   "source": [
    "plt.figure(figsize=[10,10])\n",
    "sn.heatmap(dff.corr(),annot=True,cmap='Blues')"
   ]
  },
  {
   "cell_type": "markdown",
   "id": "cfb08efd",
   "metadata": {},
   "source": [
    "### check the graphical relation between income column and rest"
   ]
  },
  {
   "cell_type": "code",
   "execution_count": 63,
   "id": "5354068e",
   "metadata": {},
   "outputs": [
    {
     "data": {
      "image/png": "[encoded data removed]",
      "text/plain": [
       "<Figure size 432x288 with 1 Axes>"
      ]
     },
     "metadata": {
      "needs_background": "light"
     },
     "output_type": "display_data"
    },
    {
     "data": {
      "image/png": "[encoded data removed]",
      "text/plain": [
       "<Figure size 432x288 with 1 Axes>"
      ]
     },
     "metadata": {
      "needs_background": "light"
     },
     "output_type": "display_data"
    },
    {
     "data": {
      "image/png": "[encoded data removed]",
      "text/plain": [
       "<Figure size 432x288 with 1 Axes>"
      ]
     },
     "metadata": {
      "needs_background": "light"
     },
     "output_type": "display_data"
    },
    {
     "data": {
      "image/png": "[encoded data removed]",
      "text/plain": [
       "<Figure size 432x288 with 1 Axes>"
      ]
     },
     "metadata": {
      "needs_background": "light"
     },
     "output_type": "display_data"
    },
    {
     "data": {
      "image/png": "[encoded data removed]",
      "text/plain": [
       "<Figure size 432x288 with 1 Axes>"
      ]
     },
     "metadata": {
      "needs_background": "light"
     },
     "output_type": "display_data"
    },
    {
     "data": {
      "image/png": "[encoded data removed]",
      "text/plain": [
       "<Figure size 432x288 with 1 Axes>"
      ]
     },
     "metadata": {
      "needs_background": "light"
     },
     "output_type": "display_data"
    },
    {
     "data": {
      "image/png": "[encoded data removed]",
      "text/plain": [
       "<Figure size 432x288 with 1 Axes>"
      ]
     },
     "metadata": {
      "needs_background": "light"
     },
     "output_type": "display_data"
    },
    {
     "data": {
      "image/png": "[encoded data removed]",
      "text/plain": [
       "<Figure size 432x288 with 1 Axes>"
      ]
     },
     "metadata": {
      "needs_background": "light"
     },
     "output_type": "display_data"
    },
    {
     "data": {
      "image/png": "[encoded data removed]",
      "text/plain": [
       "<Figure size 432x288 with 1 Axes>"
      ]
     },
     "metadata": {
      "needs_background": "light"
     },
     "output_type": "display_data"
    },
    {
     "data": {
      "image/png": "[encoded data removed]",
      "text/plain": [
       "<Figure size 432x288 with 1 Axes>"
      ]
     },
     "metadata": {
      "needs_background": "light"
     },
     "output_type": "display_data"
    },
    {
     "data": {
      "image/png": "[encoded data removed]",
      "text/plain": [
       "<Figure size 432x288 with 1 Axes>"
      ]
     },
     "metadata": {
      "needs_background": "light"
     },
     "output_type": "display_data"
    },
    {
     "data": {
      "image/png": "[encoded data removed]",
      "text/plain": [
       "<Figure size 432x288 with 1 Axes>"
      ]
     },
     "metadata": {
      "needs_background": "light"
     },
     "output_type": "display_data"
    },
    {
     "data": {
      "image/png": "[encoded data removed]",
      "text/plain": [
       "<Figure size 432x288 with 1 Axes>"
      ]
     },
     "metadata": {
      "needs_background": "light"
     },
     "output_type": "display_data"
    },
    {
     "data": {
      "image/png": "[encoded data removed]",
      "text/plain": [
       "<Figure size 432x288 with 1 Axes>"
      ]
     },
     "metadata": {
      "needs_background": "light"
     },
     "output_type": "display_data"
    }
   ],
   "source": [
    "for i in dff.columns:\n",
    "    sn.countplot(x=i,hue=\"Income\",data=dff)\n",
    "    plt.show()"
   ]
  },
  {
   "cell_type": "markdown",
   "id": "e276c0a1",
   "metadata": {},
   "source": [
    "### Acc to above plot race column is unable to distinguish between income more or less than 50k. Meaning it does not provide much impact to the model. drop column"
   ]
  },
  {
   "cell_type": "code",
   "execution_count": 64,
   "id": "80f37d6b",
   "metadata": {},
   "outputs": [],
   "source": [
    "dff=dff.drop(['Race'],axis=1)"
   ]
  },
  {
   "cell_type": "markdown",
   "id": "6bd7653b",
   "metadata": {},
   "source": [
    "### check dist plots of all columns"
   ]
  },
  {
   "cell_type": "code",
   "execution_count": 65,
   "id": "0838b87f",
   "metadata": {},
   "outputs": [
    {
     "data": {
      "image/png": "[encoded data removed]",
      "text/plain": [
       "<Figure size 1440x1800 with 13 Axes>"
      ]
     },
     "metadata": {},
     "output_type": "display_data"
    }
   ],
   "source": [
    "plt.figure(figsize=(20,25),facecolor='white')\n",
    "plotnumber=1\n",
    "for column in dff.columns:\n",
    "    if plotnumber<=len(dff.columns):\n",
    "        ax=plt.subplot(4,4,plotnumber)\n",
    "        sn.distplot(dff[column])\n",
    "        plt.xlabel(column,fontsize=20)\n",
    "    plotnumber+=1\n",
    "plt.show()"
   ]
  },
  {
   "cell_type": "markdown",
   "id": "70dd7ba0",
   "metadata": {},
   "source": [
    "### columns having normal distribution plot: native_country (categorical data), capital_loss (positively skewed), capital_gain (positively skewed), Age\n",
    "### rest all columns have bimodal distribution plot\n",
    "### check for outliers"
   ]
  },
  {
   "cell_type": "code",
   "execution_count": 66,
   "id": "9bdfabe3",
   "metadata": {},
   "outputs": [
    {
     "data": {
      "image/png": "[encoded data removed]",
      "text/plain": [
       "<Figure size 432x288 with 1 Axes>"
      ]
     },
     "metadata": {
      "needs_background": "light"
     },
     "output_type": "display_data"
    },
    {
     "data": {
      "image/png": "[encoded data removed]",
      "text/plain": [
       "<Figure size 432x288 with 1 Axes>"
      ]
     },
     "metadata": {
      "needs_background": "light"
     },
     "output_type": "display_data"
    },
    {
     "data": {
      "image/png": "[encoded data removed]",
      "text/plain": [
       "<Figure size 432x288 with 1 Axes>"
      ]
     },
     "metadata": {
      "needs_background": "light"
     },
     "output_type": "display_data"
    },
    {
     "data": {
      "image/png": "[encoded data removed]",
      "text/plain": [
       "<Figure size 432x288 with 1 Axes>"
      ]
     },
     "metadata": {
      "needs_background": "light"
     },
     "output_type": "display_data"
    },
    {
     "data": {
      "image/png": "[encoded data removed]",
      "text/plain": [
       "<Figure size 432x288 with 1 Axes>"
      ]
     },
     "metadata": {
      "needs_background": "light"
     },
     "output_type": "display_data"
    },
    {
     "data": {
      "image/png": "[encoded data removed]",
      "text/plain": [
       "<Figure size 432x288 with 1 Axes>"
      ]
     },
     "metadata": {
      "needs_background": "light"
     },
     "output_type": "display_data"
    },
    {
     "data": {
      "image/png": "[encoded data removed]",
      "text/plain": [
       "<Figure size 432x288 with 1 Axes>"
      ]
     },
     "metadata": {
      "needs_background": "light"
     },
     "output_type": "display_data"
    },
    {
     "data": {
      "image/png": "[encoded data removed]",
      "text/plain": [
       "<Figure size 432x288 with 1 Axes>"
      ]
     },
     "metadata": {
      "needs_background": "light"
     },
     "output_type": "display_data"
    },
    {
     "data": {
      "image/png": "[encoded data removed]",
      "text/plain": [
       "<Figure size 432x288 with 1 Axes>"
      ]
     },
     "metadata": {
      "needs_background": "light"
     },
     "output_type": "display_data"
    },
    {
     "data": {
      "image/png": "[encoded data removed]",
      "text/plain": [
       "<Figure size 432x288 with 1 Axes>"
      ]
     },
     "metadata": {
      "needs_background": "light"
     },
     "output_type": "display_data"
    },
    {
     "data": {
      "image/png": "[encoded data removed]",
      "text/plain": [
       "<Figure size 432x288 with 1 Axes>"
      ]
     },
     "metadata": {
      "needs_background": "light"
     },
     "output_type": "display_data"
    },
    {
     "data": {
      "image/png": "[encoded data removed]",
      "text/plain": [
       "<Figure size 432x288 with 1 Axes>"
      ]
     },
     "metadata": {
      "needs_background": "light"
     },
     "output_type": "display_data"
    },
    {
     "data": {
      "image/png": "[encoded data removed]",
      "text/plain": [
       "<Figure size 432x288 with 1 Axes>"
      ]
     },
     "metadata": {
      "needs_background": "light"
     },
     "output_type": "display_data"
    }
   ],
   "source": [
    "for i in dff.columns:\n",
    "    sn.boxplot(dff[i])\n",
    "    plt.show()"
   ]
  },
  {
   "cell_type": "markdown",
   "id": "b22d45e7",
   "metadata": {},
   "source": [
    "### apart from the categorical columns. outliers do lie in capital gain and capital loss\n",
    "### try to reduce some of it"
   ]
  },
  {
   "cell_type": "code",
   "execution_count": 67,
   "id": "026be145",
   "metadata": {},
   "outputs": [
    {
     "name": "stdout",
     "output_type": "stream",
     "text": [
      "(49438, 13)\n",
      "(43298, 13)\n"
     ]
    }
   ],
   "source": [
    "z_scr=zscore(dff)\n",
    "print(dff.shape)\n",
    "df_new=dff.loc[(abs(z_scr)<3).all(axis=1)]\n",
    "print(df_new.shape)"
   ]
  },
  {
   "cell_type": "markdown",
   "id": "3541edfb",
   "metadata": {},
   "source": [
    "### cant remove outliers as data loss is more than 10%"
   ]
  },
  {
   "cell_type": "code",
   "execution_count": 68,
   "id": "6c0436e1",
   "metadata": {},
   "outputs": [],
   "source": [
    "y = dff[['Income']]\n",
    "x = dff.drop(columns = ['Income'])"
   ]
  },
  {
   "cell_type": "markdown",
   "id": "7286af18",
   "metadata": {},
   "source": [
    "### check for bias and remove if possible"
   ]
  },
  {
   "cell_type": "code",
   "execution_count": 69,
   "id": "94191b2f",
   "metadata": {},
   "outputs": [
    {
     "name": "stdout",
     "output_type": "stream",
     "text": [
      "Age               0.390765\n",
      "Workclass         1.803347\n",
      "Education         1.155032\n",
      "Education_num    -0.317976\n",
      "Marital_status    0.932268\n",
      "Occupation        0.457972\n",
      "Relationship      1.166000\n",
      "Sex               1.044303\n",
      "Capital_gain      8.385728\n",
      "Capital_loss      3.652833\n",
      "Hours_per_week    0.285011\n",
      "Native_country    5.280913\n",
      "dtype: float64\n"
     ]
    }
   ],
   "source": [
    "print(x.skew())"
   ]
  },
  {
   "cell_type": "code",
   "execution_count": 70,
   "id": "1c1f3e84",
   "metadata": {},
   "outputs": [
    {
     "name": "stdout",
     "output_type": "stream",
     "text": [
      "8\n"
     ]
    }
   ],
   "source": [
    "print(len(x.skew().loc[x.skew()>0.55]))"
   ]
  },
  {
   "cell_type": "code",
   "execution_count": 71,
   "id": "4ac4d0fe",
   "metadata": {},
   "outputs": [],
   "source": [
    "for index in x.skew().index:\n",
    "    if x.skew().loc[index] >0.55:\n",
    "        x[index]=np.cbrt(x[index])"
   ]
  },
  {
   "cell_type": "code",
   "execution_count": 72,
   "id": "9b6ed795",
   "metadata": {},
   "outputs": [
    {
     "name": "stdout",
     "output_type": "stream",
     "text": [
      "Age               0.390765\n",
      "Workclass        -1.052537\n",
      "Education        -0.470810\n",
      "Education_num    -0.317976\n",
      "Marital_status    0.550254\n",
      "Occupation        0.457972\n",
      "Relationship      0.311038\n",
      "Sex               1.044303\n",
      "Capital_gain      3.040787\n",
      "Capital_loss      3.497646\n",
      "Hours_per_week    0.285011\n",
      "Native_country    3.531686\n",
      "dtype: float64\n",
      "\n",
      "5\n"
     ]
    }
   ],
   "source": [
    "#lets again check the skewness\n",
    "print(x.skew())\n",
    "print()\n",
    "print(len(x.skew().loc[x.skew()>0.55]))# Number of features having skewness more than 0.55 "
   ]
  },
  {
   "cell_type": "markdown",
   "id": "b19c5ce5",
   "metadata": {},
   "source": [
    "### Find the best features using Univariate Selection"
   ]
  },
  {
   "cell_type": "code",
   "execution_count": 73,
   "id": "53db93de",
   "metadata": {},
   "outputs": [
    {
     "name": "stdout",
     "output_type": "stream",
     "text": [
      "             Specs         Score\n",
      "8     Capital_gain  85651.935144\n",
      "0              Age  17059.627679\n",
      "10  Hours_per_week  13030.143270\n",
      "9     Capital_loss  12934.504718\n",
      "4   Marital_status  11078.734222\n",
      "6     Relationship   7859.760973\n",
      "3    Education_num   4746.905944\n",
      "5       Occupation   2929.988188\n",
      "7              Sex   2626.964603\n",
      "2        Education    336.994503\n"
     ]
    }
   ],
   "source": [
    "bestfeatures = SelectKBest(score_func=chi2, k=10)\n",
    "fit = bestfeatures.fit(x,y)\n",
    "dfscores = pd.DataFrame(fit.scores_)\n",
    "dfcolumns = pd.DataFrame(x.columns)\n",
    "#concat two dataframes for better visualization \n",
    "featureScores = pd.concat([dfcolumns,dfscores],axis=1)\n",
    "featureScores.columns = ['Specs','Score']  #naming the dataframe columns\n",
    "print(featureScores.nlargest(10,'Score'))"
   ]
  },
  {
   "cell_type": "markdown",
   "id": "f2ec62d1",
   "metadata": {},
   "source": [
    "### use the top 10 features obtained from above\n",
    "### lets do feature scaling on non categorical values only"
   ]
  },
  {
   "cell_type": "code",
   "execution_count": 74,
   "id": "419c55c7",
   "metadata": {},
   "outputs": [
    {
     "data": {
      "text/html": [
       "<div>\n",
       "<style scoped>\n",
       "    .dataframe tbody tr th:only-of-type {\n",
       "        vertical-align: middle;\n",
       "    }\n",
       "\n",
       "    .dataframe tbody tr th {\n",
       "        vertical-align: top;\n",
       "    }\n",
       "\n",
       "    .dataframe thead th {\n",
       "        text-align: right;\n",
       "    }\n",
       "</style>\n",
       "<table border=\"1\" class=\"dataframe\">\n",
       "  <thead>\n",
       "    <tr style=\"text-align: right;\">\n",
       "      <th></th>\n",
       "      <th>Capital_gain</th>\n",
       "      <th>Age</th>\n",
       "      <th>Hours_per_week</th>\n",
       "      <th>Capital_loss</th>\n",
       "      <th>Marital_status</th>\n",
       "      <th>Relationship</th>\n",
       "      <th>Education_num</th>\n",
       "      <th>Occupation</th>\n",
       "      <th>Sex</th>\n",
       "      <th>Education</th>\n",
       "      <th>Income</th>\n",
       "    </tr>\n",
       "  </thead>\n",
       "  <tbody>\n",
       "    <tr>\n",
       "      <th>0</th>\n",
       "      <td>0.000000</td>\n",
       "      <td>50</td>\n",
       "      <td>13</td>\n",
       "      <td>0.0</td>\n",
       "      <td>0.00000</td>\n",
       "      <td>0.000000</td>\n",
       "      <td>13</td>\n",
       "      <td>0</td>\n",
       "      <td>0.0</td>\n",
       "      <td>0.000000</td>\n",
       "      <td>0</td>\n",
       "    </tr>\n",
       "    <tr>\n",
       "      <th>1</th>\n",
       "      <td>0.000000</td>\n",
       "      <td>38</td>\n",
       "      <td>40</td>\n",
       "      <td>0.0</td>\n",
       "      <td>1.00000</td>\n",
       "      <td>1.000000</td>\n",
       "      <td>9</td>\n",
       "      <td>1</td>\n",
       "      <td>0.0</td>\n",
       "      <td>1.000000</td>\n",
       "      <td>0</td>\n",
       "    </tr>\n",
       "    <tr>\n",
       "      <th>2</th>\n",
       "      <td>0.000000</td>\n",
       "      <td>53</td>\n",
       "      <td>40</td>\n",
       "      <td>0.0</td>\n",
       "      <td>0.00000</td>\n",
       "      <td>0.000000</td>\n",
       "      <td>7</td>\n",
       "      <td>1</td>\n",
       "      <td>0.0</td>\n",
       "      <td>1.259921</td>\n",
       "      <td>0</td>\n",
       "    </tr>\n",
       "    <tr>\n",
       "      <th>3</th>\n",
       "      <td>0.000000</td>\n",
       "      <td>28</td>\n",
       "      <td>40</td>\n",
       "      <td>0.0</td>\n",
       "      <td>0.00000</td>\n",
       "      <td>1.259921</td>\n",
       "      <td>13</td>\n",
       "      <td>2</td>\n",
       "      <td>1.0</td>\n",
       "      <td>0.000000</td>\n",
       "      <td>0</td>\n",
       "    </tr>\n",
       "    <tr>\n",
       "      <th>4</th>\n",
       "      <td>0.000000</td>\n",
       "      <td>37</td>\n",
       "      <td>40</td>\n",
       "      <td>0.0</td>\n",
       "      <td>0.00000</td>\n",
       "      <td>1.259921</td>\n",
       "      <td>14</td>\n",
       "      <td>0</td>\n",
       "      <td>1.0</td>\n",
       "      <td>1.442250</td>\n",
       "      <td>0</td>\n",
       "    </tr>\n",
       "    <tr>\n",
       "      <th>...</th>\n",
       "      <td>...</td>\n",
       "      <td>...</td>\n",
       "      <td>...</td>\n",
       "      <td>...</td>\n",
       "      <td>...</td>\n",
       "      <td>...</td>\n",
       "      <td>...</td>\n",
       "      <td>...</td>\n",
       "      <td>...</td>\n",
       "      <td>...</td>\n",
       "      <td>...</td>\n",
       "    </tr>\n",
       "    <tr>\n",
       "      <th>3699</th>\n",
       "      <td>0.000000</td>\n",
       "      <td>53</td>\n",
       "      <td>60</td>\n",
       "      <td>0.0</td>\n",
       "      <td>0.00000</td>\n",
       "      <td>0.000000</td>\n",
       "      <td>10</td>\n",
       "      <td>0</td>\n",
       "      <td>0.0</td>\n",
       "      <td>1.709976</td>\n",
       "      <td>1</td>\n",
       "    </tr>\n",
       "    <tr>\n",
       "      <th>18063</th>\n",
       "      <td>0.000000</td>\n",
       "      <td>31</td>\n",
       "      <td>50</td>\n",
       "      <td>0.0</td>\n",
       "      <td>0.00000</td>\n",
       "      <td>1.259921</td>\n",
       "      <td>13</td>\n",
       "      <td>0</td>\n",
       "      <td>1.0</td>\n",
       "      <td>0.000000</td>\n",
       "      <td>1</td>\n",
       "    </tr>\n",
       "    <tr>\n",
       "      <th>28086</th>\n",
       "      <td>24.675267</td>\n",
       "      <td>41</td>\n",
       "      <td>40</td>\n",
       "      <td>0.0</td>\n",
       "      <td>0.00000</td>\n",
       "      <td>0.000000</td>\n",
       "      <td>15</td>\n",
       "      <td>0</td>\n",
       "      <td>0.0</td>\n",
       "      <td>2.154435</td>\n",
       "      <td>1</td>\n",
       "    </tr>\n",
       "    <tr>\n",
       "      <th>6034</th>\n",
       "      <td>46.415734</td>\n",
       "      <td>78</td>\n",
       "      <td>20</td>\n",
       "      <td>0.0</td>\n",
       "      <td>1.44225</td>\n",
       "      <td>1.000000</td>\n",
       "      <td>13</td>\n",
       "      <td>0</td>\n",
       "      <td>0.0</td>\n",
       "      <td>0.000000</td>\n",
       "      <td>1</td>\n",
       "    </tr>\n",
       "    <tr>\n",
       "      <th>27436</th>\n",
       "      <td>0.000000</td>\n",
       "      <td>43</td>\n",
       "      <td>50</td>\n",
       "      <td>0.0</td>\n",
       "      <td>1.00000</td>\n",
       "      <td>1.000000</td>\n",
       "      <td>14</td>\n",
       "      <td>0</td>\n",
       "      <td>1.0</td>\n",
       "      <td>1.442250</td>\n",
       "      <td>1</td>\n",
       "    </tr>\n",
       "  </tbody>\n",
       "</table>\n",
       "<p>49438 rows × 11 columns</p>\n",
       "</div>"
      ],
      "text/plain": [
       "       Capital_gain  Age  Hours_per_week  Capital_loss  Marital_status  \\\n",
       "0          0.000000   50              13           0.0         0.00000   \n",
       "1          0.000000   38              40           0.0         1.00000   \n",
       "2          0.000000   53              40           0.0         0.00000   \n",
       "3          0.000000   28              40           0.0         0.00000   \n",
       "4          0.000000   37              40           0.0         0.00000   \n",
       "...             ...  ...             ...           ...             ...   \n",
       "3699       0.000000   53              60           0.0         0.00000   \n",
       "18063      0.000000   31              50           0.0         0.00000   \n",
       "28086     24.675267   41              40           0.0         0.00000   \n",
       "6034      46.415734   78              20           0.0         1.44225   \n",
       "27436      0.000000   43              50           0.0         1.00000   \n",
       "\n",
       "       Relationship  Education_num  Occupation  Sex  Education  Income  \n",
       "0          0.000000             13           0  0.0   0.000000       0  \n",
       "1          1.000000              9           1  0.0   1.000000       0  \n",
       "2          0.000000              7           1  0.0   1.259921       0  \n",
       "3          1.259921             13           2  1.0   0.000000       0  \n",
       "4          1.259921             14           0  1.0   1.442250       0  \n",
       "...             ...            ...         ...  ...        ...     ...  \n",
       "3699       0.000000             10           0  0.0   1.709976       1  \n",
       "18063      1.259921             13           0  1.0   0.000000       1  \n",
       "28086      0.000000             15           0  0.0   2.154435       1  \n",
       "6034       1.000000             13           0  0.0   0.000000       1  \n",
       "27436      1.000000             14           0  1.0   1.442250       1  \n",
       "\n",
       "[49438 rows x 11 columns]"
      ]
     },
     "execution_count": 74,
     "metadata": {},
     "output_type": "execute_result"
    }
   ],
   "source": [
    "newdf=x[['Capital_gain','Age','Hours_per_week','Capital_loss','Marital_status','Relationship','Education_num',\n",
    "         'Occupation','Sex','Education']]\n",
    "newdf['Income']=y\n",
    "newdf"
   ]
  },
  {
   "cell_type": "code",
   "execution_count": 75,
   "id": "a9dea7e8",
   "metadata": {},
   "outputs": [
    {
     "data": {
      "text/html": [
       "<div>\n",
       "<style scoped>\n",
       "    .dataframe tbody tr th:only-of-type {\n",
       "        vertical-align: middle;\n",
       "    }\n",
       "\n",
       "    .dataframe tbody tr th {\n",
       "        vertical-align: top;\n",
       "    }\n",
       "\n",
       "    .dataframe thead th {\n",
       "        text-align: right;\n",
       "    }\n",
       "</style>\n",
       "<table border=\"1\" class=\"dataframe\">\n",
       "  <thead>\n",
       "    <tr style=\"text-align: right;\">\n",
       "      <th></th>\n",
       "      <th>index</th>\n",
       "      <th>Capital_gain</th>\n",
       "      <th>Age</th>\n",
       "      <th>Hours_per_week</th>\n",
       "      <th>Capital_loss</th>\n",
       "      <th>Marital_status</th>\n",
       "      <th>Relationship</th>\n",
       "      <th>Education_num</th>\n",
       "      <th>Occupation</th>\n",
       "      <th>Sex</th>\n",
       "      <th>Education</th>\n",
       "      <th>Income</th>\n",
       "    </tr>\n",
       "  </thead>\n",
       "  <tbody>\n",
       "    <tr>\n",
       "      <th>0</th>\n",
       "      <td>0</td>\n",
       "      <td>-0.356646</td>\n",
       "      <td>50</td>\n",
       "      <td>13</td>\n",
       "      <td>-0.266622</td>\n",
       "      <td>0.00000</td>\n",
       "      <td>0.000000</td>\n",
       "      <td>13</td>\n",
       "      <td>0</td>\n",
       "      <td>0.0</td>\n",
       "      <td>0.000000</td>\n",
       "      <td>0</td>\n",
       "    </tr>\n",
       "    <tr>\n",
       "      <th>1</th>\n",
       "      <td>1</td>\n",
       "      <td>-0.356646</td>\n",
       "      <td>38</td>\n",
       "      <td>40</td>\n",
       "      <td>-0.266622</td>\n",
       "      <td>1.00000</td>\n",
       "      <td>1.000000</td>\n",
       "      <td>9</td>\n",
       "      <td>1</td>\n",
       "      <td>0.0</td>\n",
       "      <td>1.000000</td>\n",
       "      <td>0</td>\n",
       "    </tr>\n",
       "    <tr>\n",
       "      <th>2</th>\n",
       "      <td>2</td>\n",
       "      <td>-0.356646</td>\n",
       "      <td>53</td>\n",
       "      <td>40</td>\n",
       "      <td>-0.266622</td>\n",
       "      <td>0.00000</td>\n",
       "      <td>0.000000</td>\n",
       "      <td>7</td>\n",
       "      <td>1</td>\n",
       "      <td>0.0</td>\n",
       "      <td>1.259921</td>\n",
       "      <td>0</td>\n",
       "    </tr>\n",
       "    <tr>\n",
       "      <th>3</th>\n",
       "      <td>3</td>\n",
       "      <td>-0.356646</td>\n",
       "      <td>28</td>\n",
       "      <td>40</td>\n",
       "      <td>-0.266622</td>\n",
       "      <td>0.00000</td>\n",
       "      <td>1.259921</td>\n",
       "      <td>13</td>\n",
       "      <td>2</td>\n",
       "      <td>1.0</td>\n",
       "      <td>0.000000</td>\n",
       "      <td>0</td>\n",
       "    </tr>\n",
       "    <tr>\n",
       "      <th>4</th>\n",
       "      <td>4</td>\n",
       "      <td>-0.356646</td>\n",
       "      <td>37</td>\n",
       "      <td>40</td>\n",
       "      <td>-0.266622</td>\n",
       "      <td>0.00000</td>\n",
       "      <td>1.259921</td>\n",
       "      <td>14</td>\n",
       "      <td>0</td>\n",
       "      <td>1.0</td>\n",
       "      <td>1.442250</td>\n",
       "      <td>0</td>\n",
       "    </tr>\n",
       "    <tr>\n",
       "      <th>...</th>\n",
       "      <td>...</td>\n",
       "      <td>...</td>\n",
       "      <td>...</td>\n",
       "      <td>...</td>\n",
       "      <td>...</td>\n",
       "      <td>...</td>\n",
       "      <td>...</td>\n",
       "      <td>...</td>\n",
       "      <td>...</td>\n",
       "      <td>...</td>\n",
       "      <td>...</td>\n",
       "      <td>...</td>\n",
       "    </tr>\n",
       "    <tr>\n",
       "      <th>49433</th>\n",
       "      <td>3699</td>\n",
       "      <td>-0.356646</td>\n",
       "      <td>53</td>\n",
       "      <td>60</td>\n",
       "      <td>-0.266622</td>\n",
       "      <td>0.00000</td>\n",
       "      <td>0.000000</td>\n",
       "      <td>10</td>\n",
       "      <td>0</td>\n",
       "      <td>0.0</td>\n",
       "      <td>1.709976</td>\n",
       "      <td>1</td>\n",
       "    </tr>\n",
       "    <tr>\n",
       "      <th>49434</th>\n",
       "      <td>18063</td>\n",
       "      <td>-0.356646</td>\n",
       "      <td>31</td>\n",
       "      <td>50</td>\n",
       "      <td>-0.266622</td>\n",
       "      <td>0.00000</td>\n",
       "      <td>1.259921</td>\n",
       "      <td>13</td>\n",
       "      <td>0</td>\n",
       "      <td>1.0</td>\n",
       "      <td>0.000000</td>\n",
       "      <td>1</td>\n",
       "    </tr>\n",
       "    <tr>\n",
       "      <th>49435</th>\n",
       "      <td>28086</td>\n",
       "      <td>2.759440</td>\n",
       "      <td>41</td>\n",
       "      <td>40</td>\n",
       "      <td>-0.266622</td>\n",
       "      <td>0.00000</td>\n",
       "      <td>0.000000</td>\n",
       "      <td>15</td>\n",
       "      <td>0</td>\n",
       "      <td>0.0</td>\n",
       "      <td>2.154435</td>\n",
       "      <td>1</td>\n",
       "    </tr>\n",
       "    <tr>\n",
       "      <th>49436</th>\n",
       "      <td>6034</td>\n",
       "      <td>5.504907</td>\n",
       "      <td>78</td>\n",
       "      <td>20</td>\n",
       "      <td>-0.266622</td>\n",
       "      <td>1.44225</td>\n",
       "      <td>1.000000</td>\n",
       "      <td>13</td>\n",
       "      <td>0</td>\n",
       "      <td>0.0</td>\n",
       "      <td>0.000000</td>\n",
       "      <td>1</td>\n",
       "    </tr>\n",
       "    <tr>\n",
       "      <th>49437</th>\n",
       "      <td>27436</td>\n",
       "      <td>-0.356646</td>\n",
       "      <td>43</td>\n",
       "      <td>50</td>\n",
       "      <td>-0.266622</td>\n",
       "      <td>1.00000</td>\n",
       "      <td>1.000000</td>\n",
       "      <td>14</td>\n",
       "      <td>0</td>\n",
       "      <td>1.0</td>\n",
       "      <td>1.442250</td>\n",
       "      <td>1</td>\n",
       "    </tr>\n",
       "  </tbody>\n",
       "</table>\n",
       "<p>49438 rows × 12 columns</p>\n",
       "</div>"
      ],
      "text/plain": [
       "       index  Capital_gain  Age  Hours_per_week  Capital_loss  Marital_status  \\\n",
       "0          0     -0.356646   50              13     -0.266622         0.00000   \n",
       "1          1     -0.356646   38              40     -0.266622         1.00000   \n",
       "2          2     -0.356646   53              40     -0.266622         0.00000   \n",
       "3          3     -0.356646   28              40     -0.266622         0.00000   \n",
       "4          4     -0.356646   37              40     -0.266622         0.00000   \n",
       "...      ...           ...  ...             ...           ...             ...   \n",
       "49433   3699     -0.356646   53              60     -0.266622         0.00000   \n",
       "49434  18063     -0.356646   31              50     -0.266622         0.00000   \n",
       "49435  28086      2.759440   41              40     -0.266622         0.00000   \n",
       "49436   6034      5.504907   78              20     -0.266622         1.44225   \n",
       "49437  27436     -0.356646   43              50     -0.266622         1.00000   \n",
       "\n",
       "       Relationship  Education_num  Occupation  Sex  Education  Income  \n",
       "0          0.000000             13           0  0.0   0.000000       0  \n",
       "1          1.000000              9           1  0.0   1.000000       0  \n",
       "2          0.000000              7           1  0.0   1.259921       0  \n",
       "3          1.259921             13           2  1.0   0.000000       0  \n",
       "4          1.259921             14           0  1.0   1.442250       0  \n",
       "...             ...            ...         ...  ...        ...     ...  \n",
       "49433      0.000000             10           0  0.0   1.709976       1  \n",
       "49434      1.259921             13           0  1.0   0.000000       1  \n",
       "49435      0.000000             15           0  0.0   2.154435       1  \n",
       "49436      1.000000             13           0  0.0   0.000000       1  \n",
       "49437      1.000000             14           0  1.0   1.442250       1  \n",
       "\n",
       "[49438 rows x 12 columns]"
      ]
     },
     "execution_count": 75,
     "metadata": {},
     "output_type": "execute_result"
    }
   ],
   "source": [
    "scaler = StandardScaler()\n",
    "newdf[['Capital_gain','Capital_loss']] = scaler.fit_transform(newdf[['Capital_gain','Capital_loss']])\n",
    "newdf.reset_index(inplace=True)\n",
    "newdf"
   ]
  },
  {
   "cell_type": "markdown",
   "id": "46c96f4f",
   "metadata": {},
   "source": [
    "### instead of finding the best models using whole dataset which will be very computational heavy and would take alot of time to find best hyperparameters, it will be better to take 30% randomly sampled dataset. using this randomly sampled dataset build and find best model and then its best hyperparameters. and then build that model on the whole dataset\n",
    "### randomly sample dataset to 30%"
   ]
  },
  {
   "cell_type": "code",
   "execution_count": 76,
   "id": "8c70692c",
   "metadata": {},
   "outputs": [
    {
     "data": {
      "text/html": [
       "<div>\n",
       "<style scoped>\n",
       "    .dataframe tbody tr th:only-of-type {\n",
       "        vertical-align: middle;\n",
       "    }\n",
       "\n",
       "    .dataframe tbody tr th {\n",
       "        vertical-align: top;\n",
       "    }\n",
       "\n",
       "    .dataframe thead th {\n",
       "        text-align: right;\n",
       "    }\n",
       "</style>\n",
       "<table border=\"1\" class=\"dataframe\">\n",
       "  <thead>\n",
       "    <tr style=\"text-align: right;\">\n",
       "      <th></th>\n",
       "      <th>index</th>\n",
       "      <th>Capital_gain</th>\n",
       "      <th>Age</th>\n",
       "      <th>Hours_per_week</th>\n",
       "      <th>Capital_loss</th>\n",
       "      <th>Marital_status</th>\n",
       "      <th>Relationship</th>\n",
       "      <th>Education_num</th>\n",
       "      <th>Occupation</th>\n",
       "      <th>Sex</th>\n",
       "      <th>Education</th>\n",
       "      <th>Income</th>\n",
       "    </tr>\n",
       "  </thead>\n",
       "  <tbody>\n",
       "    <tr>\n",
       "      <th>0</th>\n",
       "      <td>0</td>\n",
       "      <td>-0.356646</td>\n",
       "      <td>50</td>\n",
       "      <td>13</td>\n",
       "      <td>-0.266622</td>\n",
       "      <td>0.00000</td>\n",
       "      <td>0.000000</td>\n",
       "      <td>13</td>\n",
       "      <td>0</td>\n",
       "      <td>0.0</td>\n",
       "      <td>0.000000</td>\n",
       "      <td>0</td>\n",
       "    </tr>\n",
       "    <tr>\n",
       "      <th>4</th>\n",
       "      <td>4</td>\n",
       "      <td>-0.356646</td>\n",
       "      <td>37</td>\n",
       "      <td>40</td>\n",
       "      <td>-0.266622</td>\n",
       "      <td>0.00000</td>\n",
       "      <td>1.259921</td>\n",
       "      <td>14</td>\n",
       "      <td>0</td>\n",
       "      <td>1.0</td>\n",
       "      <td>1.442250</td>\n",
       "      <td>0</td>\n",
       "    </tr>\n",
       "    <tr>\n",
       "      <th>8</th>\n",
       "      <td>14</td>\n",
       "      <td>-0.356646</td>\n",
       "      <td>34</td>\n",
       "      <td>45</td>\n",
       "      <td>-0.266622</td>\n",
       "      <td>0.00000</td>\n",
       "      <td>0.000000</td>\n",
       "      <td>4</td>\n",
       "      <td>7</td>\n",
       "      <td>0.0</td>\n",
       "      <td>2.000000</td>\n",
       "      <td>0</td>\n",
       "    </tr>\n",
       "    <tr>\n",
       "      <th>10</th>\n",
       "      <td>16</td>\n",
       "      <td>-0.356646</td>\n",
       "      <td>32</td>\n",
       "      <td>40</td>\n",
       "      <td>-0.266622</td>\n",
       "      <td>1.44225</td>\n",
       "      <td>1.587401</td>\n",
       "      <td>9</td>\n",
       "      <td>9</td>\n",
       "      <td>0.0</td>\n",
       "      <td>1.000000</td>\n",
       "      <td>0</td>\n",
       "    </tr>\n",
       "    <tr>\n",
       "      <th>16</th>\n",
       "      <td>25</td>\n",
       "      <td>-0.356646</td>\n",
       "      <td>19</td>\n",
       "      <td>40</td>\n",
       "      <td>-0.266622</td>\n",
       "      <td>1.44225</td>\n",
       "      <td>1.442250</td>\n",
       "      <td>9</td>\n",
       "      <td>6</td>\n",
       "      <td>0.0</td>\n",
       "      <td>1.000000</td>\n",
       "      <td>0</td>\n",
       "    </tr>\n",
       "    <tr>\n",
       "      <th>...</th>\n",
       "      <td>...</td>\n",
       "      <td>...</td>\n",
       "      <td>...</td>\n",
       "      <td>...</td>\n",
       "      <td>...</td>\n",
       "      <td>...</td>\n",
       "      <td>...</td>\n",
       "      <td>...</td>\n",
       "      <td>...</td>\n",
       "      <td>...</td>\n",
       "      <td>...</td>\n",
       "      <td>...</td>\n",
       "    </tr>\n",
       "    <tr>\n",
       "      <th>49426</th>\n",
       "      <td>2251</td>\n",
       "      <td>-0.356646</td>\n",
       "      <td>44</td>\n",
       "      <td>55</td>\n",
       "      <td>-0.266622</td>\n",
       "      <td>0.00000</td>\n",
       "      <td>0.000000</td>\n",
       "      <td>16</td>\n",
       "      <td>4</td>\n",
       "      <td>0.0</td>\n",
       "      <td>2.080084</td>\n",
       "      <td>1</td>\n",
       "    </tr>\n",
       "    <tr>\n",
       "      <th>49427</th>\n",
       "      <td>22612</td>\n",
       "      <td>-0.356646</td>\n",
       "      <td>39</td>\n",
       "      <td>50</td>\n",
       "      <td>-0.266622</td>\n",
       "      <td>1.44225</td>\n",
       "      <td>1.000000</td>\n",
       "      <td>14</td>\n",
       "      <td>0</td>\n",
       "      <td>0.0</td>\n",
       "      <td>1.442250</td>\n",
       "      <td>1</td>\n",
       "    </tr>\n",
       "    <tr>\n",
       "      <th>49432</th>\n",
       "      <td>6940</td>\n",
       "      <td>-0.356646</td>\n",
       "      <td>46</td>\n",
       "      <td>40</td>\n",
       "      <td>-0.266622</td>\n",
       "      <td>0.00000</td>\n",
       "      <td>0.000000</td>\n",
       "      <td>14</td>\n",
       "      <td>0</td>\n",
       "      <td>0.0</td>\n",
       "      <td>1.442250</td>\n",
       "      <td>1</td>\n",
       "    </tr>\n",
       "    <tr>\n",
       "      <th>49434</th>\n",
       "      <td>18063</td>\n",
       "      <td>-0.356646</td>\n",
       "      <td>31</td>\n",
       "      <td>50</td>\n",
       "      <td>-0.266622</td>\n",
       "      <td>0.00000</td>\n",
       "      <td>1.259921</td>\n",
       "      <td>13</td>\n",
       "      <td>0</td>\n",
       "      <td>1.0</td>\n",
       "      <td>0.000000</td>\n",
       "      <td>1</td>\n",
       "    </tr>\n",
       "    <tr>\n",
       "      <th>49435</th>\n",
       "      <td>28086</td>\n",
       "      <td>2.759440</td>\n",
       "      <td>41</td>\n",
       "      <td>40</td>\n",
       "      <td>-0.266622</td>\n",
       "      <td>0.00000</td>\n",
       "      <td>0.000000</td>\n",
       "      <td>15</td>\n",
       "      <td>0</td>\n",
       "      <td>0.0</td>\n",
       "      <td>2.154435</td>\n",
       "      <td>1</td>\n",
       "    </tr>\n",
       "  </tbody>\n",
       "</table>\n",
       "<p>14829 rows × 12 columns</p>\n",
       "</div>"
      ],
      "text/plain": [
       "       index  Capital_gain  Age  Hours_per_week  Capital_loss  Marital_status  \\\n",
       "0          0     -0.356646   50              13     -0.266622         0.00000   \n",
       "4          4     -0.356646   37              40     -0.266622         0.00000   \n",
       "8         14     -0.356646   34              45     -0.266622         0.00000   \n",
       "10        16     -0.356646   32              40     -0.266622         1.44225   \n",
       "16        25     -0.356646   19              40     -0.266622         1.44225   \n",
       "...      ...           ...  ...             ...           ...             ...   \n",
       "49426   2251     -0.356646   44              55     -0.266622         0.00000   \n",
       "49427  22612     -0.356646   39              50     -0.266622         1.44225   \n",
       "49432   6940     -0.356646   46              40     -0.266622         0.00000   \n",
       "49434  18063     -0.356646   31              50     -0.266622         0.00000   \n",
       "49435  28086      2.759440   41              40     -0.266622         0.00000   \n",
       "\n",
       "       Relationship  Education_num  Occupation  Sex  Education  Income  \n",
       "0          0.000000             13           0  0.0   0.000000       0  \n",
       "4          1.259921             14           0  1.0   1.442250       0  \n",
       "8          0.000000              4           7  0.0   2.000000       0  \n",
       "10         1.587401              9           9  0.0   1.000000       0  \n",
       "16         1.442250              9           6  0.0   1.000000       0  \n",
       "...             ...            ...         ...  ...        ...     ...  \n",
       "49426      0.000000             16           4  0.0   2.080084       1  \n",
       "49427      1.000000             14           0  0.0   1.442250       1  \n",
       "49432      0.000000             14           0  0.0   1.442250       1  \n",
       "49434      1.259921             13           0  1.0   0.000000       1  \n",
       "49435      0.000000             15           0  0.0   2.154435       1  \n",
       "\n",
       "[14829 rows x 12 columns]"
      ]
     },
     "execution_count": 76,
     "metadata": {},
     "output_type": "execute_result"
    }
   ],
   "source": [
    "n=49438\n",
    "s=14829\n",
    "skip = sorted(random.sample(range(1, n), n-s))  # n+1 to compensate for header\n",
    "sampledf=newdf.copy()\n",
    "sampledf.drop(skip,axis=0,inplace=True)\n",
    "sampledf"
   ]
  },
  {
   "cell_type": "code",
   "execution_count": 77,
   "id": "2db7b6e5",
   "metadata": {},
   "outputs": [],
   "source": [
    "y = sampledf[['Income']]\n",
    "x = sampledf.drop(columns = ['Income'])"
   ]
  },
  {
   "cell_type": "markdown",
   "id": "b5db4d76",
   "metadata": {},
   "source": [
    "### algo to find best train test random split"
   ]
  },
  {
   "cell_type": "code",
   "execution_count": 78,
   "id": "0fd82961",
   "metadata": {},
   "outputs": [],
   "source": [
    "def besttrain(model,x,y):\n",
    "    random=0\n",
    "    score=0\n",
    "    for i in range(42,100):\n",
    "        x_train,x_test,y_train,y_test=train_test_split(x,y,random_state = i,test_size=0.20,stratify=y)\n",
    "        model.fit(x_train,y_train)\n",
    "        tmp=roc_auc_score(y_test,model.predict(x_test))\n",
    "        #print(i,tmp)\n",
    "        if tmp>score:\n",
    "            score=tmp\n",
    "            random=i\n",
    "    print(\"maximum roc_auc_score is at random state :\",random,\" and it is :\",score)"
   ]
  },
  {
   "cell_type": "markdown",
   "id": "3668170c",
   "metadata": {},
   "source": [
    "### All models we are going to use to iterate and find the best model"
   ]
  },
  {
   "cell_type": "code",
   "execution_count": 79,
   "id": "b5bcca14",
   "metadata": {},
   "outputs": [],
   "source": [
    "models=[LogisticRegression(),DecisionTreeClassifier(),KNeighborsClassifier(),RandomForestClassifier(),SVC(),RidgeClassifier(),\n",
    "        BaggingClassifier(),GradientBoostingClassifier(),SGDClassifier(),\n",
    "       LGBMClassifier(),XGBClassifier(),ExtraTreesClassifier(),AdaBoostClassifier(),\n",
    "       QuadraticDiscriminantAnalysis(),CalibratedClassifierCV(),LinearSVC(),NuSVC(),\n",
    "       LinearDiscriminantAnalysis(),RidgeClassifierCV(),GaussianNB(),BernoulliNB(),\n",
    "        PassiveAggressiveClassifier(),Perceptron(),DummyClassifier()]"
   ]
  },
  {
   "cell_type": "code",
   "execution_count": 80,
   "id": "7b46af15",
   "metadata": {},
   "outputs": [
    {
     "name": "stdout",
     "output_type": "stream",
     "text": [
      "**********\n",
      "LogisticRegression()\n",
      "score 0.8736572588967103\n",
      "roc 0.7769421952071238\n",
      "diff 0.09671506368958649\n",
      "roc bigger\n",
      "**********\n",
      "DecisionTreeClassifier()\n",
      "score 0.8222323044497287\n",
      "roc 0.8392653178517905\n",
      "diff 0.01703301340206176\n",
      "**********\n",
      "KNeighborsClassifier()\n",
      "score 0.6616125523888707\n",
      "roc 0.6421220917543323\n",
      "diff 0.01949046063453841\n",
      "**********\n",
      "RandomForestClassifier()\n",
      "score 0.9374361462964425\n",
      "roc 0.863572540631775\n",
      "diff 0.07386360566466743\n",
      "roc bigger\n",
      "**********\n",
      "SVC()\n",
      "score 0.49423805457664993\n",
      "roc 0.5024353601932283\n",
      "diff 0.008197305616578388\n",
      "**********\n",
      "RidgeClassifier()\n",
      "score 0.8885082845801644\n",
      "roc 0.7952010308903342\n",
      "diff 0.09330725368983017\n",
      "**********\n",
      "BaggingClassifier()\n",
      "score 0.9220604004675188\n",
      "roc 0.8537187895586889\n",
      "diff 0.06834161090882995\n",
      "**********\n",
      "GradientBoostingClassifier()\n",
      "score 0.924285001358246\n",
      "roc 0.827461368894321\n",
      "diff 0.096823632463925\n",
      "**********\n",
      "SGDClassifier()\n",
      "score 0.5405504616167797\n",
      "roc 0.5137182257337\n",
      "diff 0.026832235883079703\n",
      "**********\n",
      "LGBMClassifier()\n",
      "score 0.9331369680602846\n",
      "roc 0.8527425538725683\n",
      "diff 0.08039441418771631\n",
      "[00:16:08] WARNING: C:/Users/Administrator/workspace/xgboost-win64_release_1.4.0/src/learner.cc:1095: Starting in XGBoost 1.3.0, the default evaluation metric used with the objective 'binary:logistic' was changed from 'error' to 'logloss'. Explicitly set eval_metric if you'd like to restore the old behavior.\n",
      "[00:16:08] WARNING: C:/Users/Administrator/workspace/xgboost-win64_release_1.4.0/src/learner.cc:1095: Starting in XGBoost 1.3.0, the default evaluation metric used with the objective 'binary:logistic' was changed from 'error' to 'logloss'. Explicitly set eval_metric if you'd like to restore the old behavior.\n",
      "[00:16:09] WARNING: C:/Users/Administrator/workspace/xgboost-win64_release_1.4.0/src/learner.cc:1095: Starting in XGBoost 1.3.0, the default evaluation metric used with the objective 'binary:logistic' was changed from 'error' to 'logloss'. Explicitly set eval_metric if you'd like to restore the old behavior.\n",
      "[00:16:10] WARNING: C:/Users/Administrator/workspace/xgboost-win64_release_1.4.0/src/learner.cc:1095: Starting in XGBoost 1.3.0, the default evaluation metric used with the objective 'binary:logistic' was changed from 'error' to 'logloss'. Explicitly set eval_metric if you'd like to restore the old behavior.\n",
      "[00:16:10] WARNING: C:/Users/Administrator/workspace/xgboost-win64_release_1.4.0/src/learner.cc:1095: Starting in XGBoost 1.3.0, the default evaluation metric used with the objective 'binary:logistic' was changed from 'error' to 'logloss'. Explicitly set eval_metric if you'd like to restore the old behavior.\n",
      "[00:16:11] WARNING: C:/Users/Administrator/workspace/xgboost-win64_release_1.4.0/src/learner.cc:1095: Starting in XGBoost 1.3.0, the default evaluation metric used with the objective 'binary:logistic' was changed from 'error' to 'logloss'. Explicitly set eval_metric if you'd like to restore the old behavior.\n",
      "**********\n",
      "XGBClassifier(base_score=0.5, booster='gbtree', colsample_bylevel=1,\n",
      "              colsample_bynode=1, colsample_bytree=1, gamma=0, gpu_id=-1,\n",
      "              importance_type='gain', interaction_constraints='',\n",
      "              learning_rate=0.300000012, max_delta_step=0, max_depth=6,\n",
      "              min_child_weight=1, missing=nan, monotone_constraints='()',\n",
      "              n_estimators=100, n_jobs=8, num_parallel_tree=1, random_state=0,\n",
      "              reg_alpha=0, reg_lambda=1, scale_pos_weight=1, subsample=1,\n",
      "              tree_method='exact', validate_parameters=1, verbosity=None)\n",
      "score 0.9351655050029504\n",
      "roc 0.853752891876555\n",
      "diff 0.08141261312639536\n",
      "**********\n",
      "ExtraTreesClassifier()\n",
      "score 0.9375732149706668\n",
      "roc 0.8605006038383749\n",
      "diff 0.07707261113229191\n",
      "**********\n",
      "AdaBoostClassifier()\n",
      "score 0.91261819827201\n",
      "roc 0.819355929983849\n",
      "diff 0.09326226828816098\n",
      "**********\n",
      "QuadraticDiscriminantAnalysis()\n",
      "score 0.8748088934309195\n",
      "roc 0.769746606137326\n",
      "diff 0.10506228729359346\n",
      "**********\n",
      "CalibratedClassifierCV()\n",
      "score 0.8268492867966879\n",
      "roc 0.7586742655724824\n",
      "diff 0.06817502122420549\n",
      "**********\n",
      "LinearSVC()\n",
      "score 0.824181212688722\n",
      "roc 0.5157816433133994\n",
      "diff 0.30839956937532265\n",
      "**********\n",
      "NuSVC()\n",
      "score 0.528847844427171\n",
      "roc 0.50680636794855\n",
      "diff 0.02204147647862098\n",
      "**********\n",
      "LinearDiscriminantAnalysis()\n",
      "score 0.8885095635587007\n",
      "roc 0.7952010308903342\n",
      "diff 0.09330853266836647\n",
      "**********\n",
      "RidgeClassifierCV(alphas=array([ 0.1,  1. , 10. ]))\n",
      "score 0.8885175174806654\n",
      "roc 0.7952010308903342\n",
      "diff 0.0933164865903312\n",
      "**********\n",
      "GaussianNB()\n",
      "score 0.8755603046793462\n",
      "roc 0.779421206367221\n",
      "diff 0.09613909831212519\n",
      "**********\n",
      "BernoulliNB()\n",
      "score 0.8313797424174968\n",
      "roc 0.740903775081118\n",
      "diff 0.09047596733637875\n",
      "**********\n",
      "PassiveAggressiveClassifier()\n",
      "score 0.558870786592954\n",
      "roc 0.5023521505376345\n",
      "diff 0.05651863605531948\n",
      "roc bigger\n",
      "**********\n",
      "Perceptron()\n",
      "score 0.5097656538961963\n",
      "roc 0.5332879545156924\n",
      "diff 0.023522300619496117\n",
      "**********\n",
      "DummyClassifier()\n",
      "score 0.5065080924389098\n",
      "roc 0.5050539635077917\n",
      "diff 0.0014541289311180705\n"
     ]
    }
   ],
   "source": [
    "for i in models:\n",
    "    x_train,x_test,y_train,y_test=train_test_split(x,y,random_state = 42,test_size=0.20,stratify=y)\n",
    "    scores=cross_val_score(i,x_train,y_train,cv=5,scoring='roc_auc')\n",
    "    score=np.mean(scores)\n",
    "    i.fit(x_train,y_train)\n",
    "    y_pred=i.predict(x_test)\n",
    "    if roc_auc_score(y_test,y_pred)>score:\n",
    "        diff=roc_auc_score(y_test,y_pred)-score\n",
    "        print('roc bigger')\n",
    "    else:\n",
    "        diff=score-roc_auc_score(y_test,y_pred)\n",
    "    print('*'*10)\n",
    "    print(i)\n",
    "    print('score',score)\n",
    "    print('roc',roc_auc_score(y_test,y_pred))\n",
    "    print('diff',diff)"
   ]
  },
  {
   "cell_type": "markdown",
   "id": "551a324c",
   "metadata": {},
   "source": [
    "### from above we can conclude that XGBClassifier & RandomForestClassifier are the best model without any issues of underfitting or overfitting\n",
    "### fine tune the models"
   ]
  },
  {
   "cell_type": "code",
   "execution_count": 81,
   "id": "caaadd0e",
   "metadata": {},
   "outputs": [
    {
     "name": "stdout",
     "output_type": "stream",
     "text": [
      "Fitting 10 folds for each of 10 candidates, totalling 100 fits\n"
     ]
    },
    {
     "name": "stderr",
     "output_type": "stream",
     "text": [
      "[Parallel(n_jobs=-1)]: Using backend LokyBackend with 8 concurrent workers.\n",
      "[Parallel(n_jobs=-1)]: Done  34 tasks      | elapsed:   46.2s\n",
      "[Parallel(n_jobs=-1)]: Done 100 out of 100 | elapsed:  1.0min finished\n"
     ]
    },
    {
     "data": {
      "text/plain": [
       "{'reg_lambda': 1,\n",
       " 'reg_alpha': 0.5,\n",
       " 'n_estimators': 100,\n",
       " 'learning_rate': 0.05,\n",
       " 'eval_metric': 'error',\n",
       " 'booster': 'gbtree',\n",
       " 'base_score': 0.2}"
      ]
     },
     "execution_count": 81,
     "metadata": {},
     "output_type": "execute_result"
    }
   ],
   "source": [
    "parameters={\n",
    "    'n_estimators': [100, 200, 500],\n",
    "    'learning_rate': [0.01,0.05,0.1],\n",
    "    'booster': ['gbtree', 'gblinear'],\n",
    "    'reg_alpha': [0, 0.5, 1],\n",
    "    'reg_lambda': [0.5, 1, 5],\n",
    "    'base_score': [0.2, 0.5, 1],\n",
    "    'eval_metric':['auc','logloss','error']\n",
    "}\n",
    "clf = RandomizedSearchCV(XGBClassifier(), parameters, cv=10,scoring=\"roc_auc\",n_jobs=-1,verbose=1)\n",
    "clf.fit(x,y)\n",
    "clf.best_params_"
   ]
  },
  {
   "cell_type": "code",
   "execution_count": 82,
   "id": "5556008c",
   "metadata": {},
   "outputs": [
    {
     "name": "stdout",
     "output_type": "stream",
     "text": [
      "Fitting 10 folds for each of 10 candidates, totalling 100 fits\n"
     ]
    },
    {
     "name": "stderr",
     "output_type": "stream",
     "text": [
      "[Parallel(n_jobs=-1)]: Using backend LokyBackend with 8 concurrent workers.\n",
      "[Parallel(n_jobs=-1)]: Done  34 tasks      | elapsed:  1.4min\n",
      "[Parallel(n_jobs=-1)]: Done 100 out of 100 | elapsed:  5.6min finished\n"
     ]
    },
    {
     "data": {
      "text/plain": [
       "{'n_estimators': 1400,\n",
       " 'max_features': 'auto',\n",
       " 'max_depth': 60,\n",
       " 'criterion': 'entropy'}"
      ]
     },
     "execution_count": 82,
     "metadata": {},
     "output_type": "execute_result"
    }
   ],
   "source": [
    "parameters={'n_estimators':[int(x) for x in np.linspace(start = 200, stop = 2000, num = 10)],\n",
    "            'criterion':['gini', 'entropy'],'max_features':['auto', 'sqrt', 'log2'],\n",
    "            'max_depth':[int(x) for x in np.linspace(10, 110, num = 11)]}\n",
    "clf = RandomizedSearchCV(RandomForestClassifier(), parameters, cv=10,scoring=\"roc_auc\",n_jobs=-1,verbose=1)\n",
    "clf.fit(x,y)\n",
    "clf.best_params_"
   ]
  },
  {
   "cell_type": "markdown",
   "id": "eb8e96e7",
   "metadata": {},
   "source": [
    "### find best random state"
   ]
  },
  {
   "cell_type": "code",
   "execution_count": 83,
   "id": "ed9564b3",
   "metadata": {},
   "outputs": [
    {
     "name": "stdout",
     "output_type": "stream",
     "text": [
      "maximum roc_auc_score is at random state : 64  and it is : 0.8632046902963901\n"
     ]
    }
   ],
   "source": [
    "besttrain(XGBClassifier(reg_lambda=1,reg_alpha=0.5,n_estimators=100,learning_rate=0.05,eval_metric='error',\n",
    "                        booster='gbtree',base_score=0.2),x,y)"
   ]
  },
  {
   "cell_type": "code",
   "execution_count": 84,
   "id": "51d31e49",
   "metadata": {},
   "outputs": [
    {
     "name": "stdout",
     "output_type": "stream",
     "text": [
      "maximum roc_auc_score is at random state : 64  and it is : 0.8844536172101212\n"
     ]
    }
   ],
   "source": [
    "besttrain(RandomForestClassifier(n_estimators=1400,max_depth=60,criterion='entropy',max_features='auto'),x,y)"
   ]
  },
  {
   "cell_type": "markdown",
   "id": "05fcf50d",
   "metadata": {},
   "source": [
    "### best random state is 64\n",
    "### build model, train it & test it"
   ]
  },
  {
   "cell_type": "markdown",
   "id": "0cabf24f",
   "metadata": {},
   "source": [
    "### run xgb model first"
   ]
  },
  {
   "cell_type": "code",
   "execution_count": 85,
   "id": "e3e1b554",
   "metadata": {},
   "outputs": [],
   "source": [
    "x_train, x_test, y_train, y_test = train_test_split(x, y,random_state = 64,test_size=0.20,stratify=y)\n",
    "model=XGBClassifier(reg_lambda=1,reg_alpha=0.5,n_estimators=100,learning_rate=0.05,eval_metric='error',\n",
    "                        booster='gbtree',base_score=0.2)\n",
    "model.fit(x_train,y_train)\n",
    "y_pred=model.predict(x_test)"
   ]
  },
  {
   "cell_type": "markdown",
   "id": "5167ede5",
   "metadata": {},
   "source": [
    "### check all the metrics of the model"
   ]
  },
  {
   "cell_type": "code",
   "execution_count": 86,
   "id": "30c89a32",
   "metadata": {},
   "outputs": [
    {
     "name": "stdout",
     "output_type": "stream",
     "text": [
      "Confusion matrix \n",
      " [[1245  243]\n",
      " [ 163 1315]]\n",
      "f1 score is :  0.8662714097496707\n",
      "classification report \n",
      "               precision    recall  f1-score   support\n",
      "\n",
      "           0       0.88      0.84      0.86      1488\n",
      "           1       0.84      0.89      0.87      1478\n",
      "\n",
      "    accuracy                           0.86      2966\n",
      "   macro avg       0.86      0.86      0.86      2966\n",
      "weighted avg       0.86      0.86      0.86      2966\n",
      "\n",
      "AUC ROC Score:  0.8632046902963901\n",
      "CV mean 0.5410480847131977\n",
      "std: 0.2610676166864383\n"
     ]
    }
   ],
   "source": [
    "print(\"Confusion matrix \\n\",confusion_matrix(y_test,y_pred))\n",
    "print(\"f1 score is : \",f1_score(y_test,y_pred))\n",
    "print(\"classification report \\n\",classification_report(y_test,y_pred))\n",
    "print(\"AUC ROC Score: \",roc_auc_score(y_test,y_pred))\n",
    "scores=cross_val_score(model,x,y,cv=5,scoring='roc_auc')\n",
    "score=np.mean(scores)\n",
    "std=np.std(scores)\n",
    "print('CV mean',score)\n",
    "print('std:',std)"
   ]
  },
  {
   "cell_type": "markdown",
   "id": "d6d69407",
   "metadata": {},
   "source": [
    "### same with randomforrest"
   ]
  },
  {
   "cell_type": "code",
   "execution_count": 87,
   "id": "c4e9f08f",
   "metadata": {},
   "outputs": [
    {
     "name": "stdout",
     "output_type": "stream",
     "text": [
      "Confusion matrix \n",
      " [[1273  215]\n",
      " [ 124 1354]]\n",
      "f1 score is :  0.8887430259271414\n",
      "classification report \n",
      "               precision    recall  f1-score   support\n",
      "\n",
      "           0       0.91      0.86      0.88      1488\n",
      "           1       0.86      0.92      0.89      1478\n",
      "\n",
      "    accuracy                           0.89      2966\n",
      "   macro avg       0.89      0.89      0.89      2966\n",
      "weighted avg       0.89      0.89      0.89      2966\n",
      "\n",
      "AUC ROC Score:  0.8858067971830577\n",
      "CV mean 0.7478488646771823\n",
      "std: 0.1390343242156028\n"
     ]
    }
   ],
   "source": [
    "x_train, x_test, y_train, y_test = train_test_split(x, y,random_state = 64,test_size=0.20,stratify=y)\n",
    "rfmodel=RandomForestClassifier(n_estimators=1400,max_depth=60,criterion='entropy',max_features='auto')\n",
    "rfmodel.fit(x_train,y_train)\n",
    "y_pred=rfmodel.predict(x_test)\n",
    "print(\"Confusion matrix \\n\",confusion_matrix(y_test,y_pred))\n",
    "print(\"f1 score is : \",f1_score(y_test,y_pred))\n",
    "print(\"classification report \\n\",classification_report(y_test,y_pred))\n",
    "print(\"AUC ROC Score: \",roc_auc_score(y_test,y_pred))\n",
    "scores=cross_val_score(rfmodel,x,y,cv=5,scoring='roc_auc')\n",
    "score=np.mean(scores)\n",
    "std=np.std(scores)\n",
    "print('CV mean',score)\n",
    "print('std:',std)"
   ]
  },
  {
   "cell_type": "markdown",
   "id": "1556f191",
   "metadata": {},
   "source": [
    "### test both models on full dataset"
   ]
  },
  {
   "cell_type": "code",
   "execution_count": 88,
   "id": "0f588c07",
   "metadata": {},
   "outputs": [
    {
     "name": "stdout",
     "output_type": "stream",
     "text": [
      "Confusion matrix \n",
      " [[20064  4655]\n",
      " [ 3040 21679]]\n",
      "f1 score is :  0.8492742835876442\n",
      "classification report \n",
      "               precision    recall  f1-score   support\n",
      "\n",
      "           0       0.87      0.81      0.84     24719\n",
      "           1       0.82      0.88      0.85     24719\n",
      "\n",
      "    accuracy                           0.84     49438\n",
      "   macro avg       0.85      0.84      0.84     49438\n",
      "weighted avg       0.85      0.84      0.84     49438\n",
      "\n",
      "AUC ROC Score:  0.8443504996156803\n",
      "CV mean 0.5244362419475092\n",
      "std: 0.2702068483206842\n"
     ]
    }
   ],
   "source": [
    "y = newdf[['Income']]\n",
    "x = newdf.drop(columns = ['Income'])\n",
    "y_pred=model.predict(x)\n",
    "print(\"Confusion matrix \\n\",confusion_matrix(y,y_pred))\n",
    "print(\"f1 score is : \",f1_score(y,y_pred))\n",
    "print(\"classification report \\n\",classification_report(y,y_pred))\n",
    "print(\"AUC ROC Score: \",roc_auc_score(y,y_pred))\n",
    "scores=cross_val_score(model,x,y,cv=5,scoring='roc_auc')\n",
    "score=np.mean(scores)\n",
    "std=np.std(scores)\n",
    "print('CV mean',score)\n",
    "print('std:',std)"
   ]
  },
  {
   "cell_type": "code",
   "execution_count": 89,
   "id": "6e95ca7d",
   "metadata": {},
   "outputs": [
    {
     "name": "stdout",
     "output_type": "stream",
     "text": [
      "Confusion matrix \n",
      " [[21671  3048]\n",
      " [ 1794 22925]]\n",
      "f1 score is :  0.904481969541545\n",
      "classification report \n",
      "               precision    recall  f1-score   support\n",
      "\n",
      "           0       0.92      0.88      0.90     24719\n",
      "           1       0.88      0.93      0.90     24719\n",
      "\n",
      "    accuracy                           0.90     49438\n",
      "   macro avg       0.90      0.90      0.90     49438\n",
      "weighted avg       0.90      0.90      0.90     49438\n",
      "\n",
      "AUC ROC Score:  0.9020591447874104\n",
      "CV mean 0.8366806295844975\n",
      "std: 0.10347531910048505\n"
     ]
    }
   ],
   "source": [
    "y = newdf[['Income']]\n",
    "x = newdf.drop(columns = ['Income'])\n",
    "y_pred=rfmodel.predict(x)\n",
    "print(\"Confusion matrix \\n\",confusion_matrix(y,y_pred))\n",
    "print(\"f1 score is : \",f1_score(y,y_pred))\n",
    "print(\"classification report \\n\",classification_report(y,y_pred))\n",
    "print(\"AUC ROC Score: \",roc_auc_score(y,y_pred))\n",
    "scores=cross_val_score(rfmodel,x,y,cv=5,scoring='roc_auc')\n",
    "score=np.mean(scores)\n",
    "std=np.std(scores)\n",
    "print('CV mean',score)\n",
    "print('std:',std)"
   ]
  },
  {
   "cell_type": "markdown",
   "id": "1aabacf7",
   "metadata": {},
   "source": [
    "### From above we can conclude that randomforestclassifier is better\n",
    "### Model acc is at 90% to 83%\n",
    "### std err is 10.3%\n",
    "### 1794 false positive were detected\n",
    "### 3048 true negative\n",
    "### Roc curve of the rfmodel is shown below"
   ]
  },
  {
   "cell_type": "code",
   "execution_count": 91,
   "id": "494cac14",
   "metadata": {},
   "outputs": [
    {
     "data": {
      "image/png": "[encoded data removed]",
      "text/plain": [
       "<Figure size 432x288 with 1 Axes>"
      ]
     },
     "metadata": {
      "needs_background": "light"
     },
     "output_type": "display_data"
    }
   ],
   "source": [
    "fpr, tpr, threshold = roc_curve(y,y_pred)\n",
    "auc = roc_auc_score(y,y_pred)\n",
    "plt.plot(fpr, tpr, color ='orange', label ='ROC')\n",
    "plt.plot([0, 1], [0, 1], color='darkblue', linestyle='--', label ='ROC curve (area = %0.3f)'% auc)\n",
    "plt.xlabel('False Positive Rate')\n",
    "plt.ylabel('True Positive Rate')\n",
    "plt.legend()\n",
    "plt.show()"
   ]
  },
  {
   "cell_type": "markdown",
   "id": "de98fca6",
   "metadata": {},
   "source": [
    "### from the above we get all the metrics of the currently trained model.\n",
    "### put income column and predicted income column side by side to observe the diff between these two columns"
   ]
  },
  {
   "cell_type": "code",
   "execution_count": 93,
   "id": "9f3f1e3f",
   "metadata": {},
   "outputs": [
    {
     "data": {
      "text/html": [
       "<div>\n",
       "<style scoped>\n",
       "    .dataframe tbody tr th:only-of-type {\n",
       "        vertical-align: middle;\n",
       "    }\n",
       "\n",
       "    .dataframe tbody tr th {\n",
       "        vertical-align: top;\n",
       "    }\n",
       "\n",
       "    .dataframe thead th {\n",
       "        text-align: right;\n",
       "    }\n",
       "</style>\n",
       "<table border=\"1\" class=\"dataframe\">\n",
       "  <thead>\n",
       "    <tr style=\"text-align: right;\">\n",
       "      <th></th>\n",
       "      <th>Income</th>\n",
       "      <th>Income_pred</th>\n",
       "    </tr>\n",
       "  </thead>\n",
       "  <tbody>\n",
       "    <tr>\n",
       "      <th>0</th>\n",
       "      <td>0</td>\n",
       "      <td>0</td>\n",
       "    </tr>\n",
       "    <tr>\n",
       "      <th>1</th>\n",
       "      <td>0</td>\n",
       "      <td>0</td>\n",
       "    </tr>\n",
       "    <tr>\n",
       "      <th>2</th>\n",
       "      <td>0</td>\n",
       "      <td>0</td>\n",
       "    </tr>\n",
       "    <tr>\n",
       "      <th>3</th>\n",
       "      <td>0</td>\n",
       "      <td>1</td>\n",
       "    </tr>\n",
       "    <tr>\n",
       "      <th>4</th>\n",
       "      <td>0</td>\n",
       "      <td>0</td>\n",
       "    </tr>\n",
       "    <tr>\n",
       "      <th>...</th>\n",
       "      <td>...</td>\n",
       "      <td>...</td>\n",
       "    </tr>\n",
       "    <tr>\n",
       "      <th>49433</th>\n",
       "      <td>1</td>\n",
       "      <td>1</td>\n",
       "    </tr>\n",
       "    <tr>\n",
       "      <th>49434</th>\n",
       "      <td>1</td>\n",
       "      <td>1</td>\n",
       "    </tr>\n",
       "    <tr>\n",
       "      <th>49435</th>\n",
       "      <td>1</td>\n",
       "      <td>1</td>\n",
       "    </tr>\n",
       "    <tr>\n",
       "      <th>49436</th>\n",
       "      <td>1</td>\n",
       "      <td>1</td>\n",
       "    </tr>\n",
       "    <tr>\n",
       "      <th>49437</th>\n",
       "      <td>1</td>\n",
       "      <td>0</td>\n",
       "    </tr>\n",
       "  </tbody>\n",
       "</table>\n",
       "<p>49438 rows × 2 columns</p>\n",
       "</div>"
      ],
      "text/plain": [
       "       Income  Income_pred\n",
       "0           0            0\n",
       "1           0            0\n",
       "2           0            0\n",
       "3           0            1\n",
       "4           0            0\n",
       "...       ...          ...\n",
       "49433       1            1\n",
       "49434       1            1\n",
       "49435       1            1\n",
       "49436       1            1\n",
       "49437       1            0\n",
       "\n",
       "[49438 rows x 2 columns]"
      ]
     },
     "execution_count": 93,
     "metadata": {},
     "output_type": "execute_result"
    }
   ],
   "source": [
    "x = newdf.drop(columns = ['Income'])\n",
    "y_pred=rfmodel.predict(x)\n",
    "newdf['Income_pred']=y_pred\n",
    "newdf[['Income','Income_pred']]"
   ]
  },
  {
   "cell_type": "code",
   "execution_count": 123,
   "id": "15e7b32d",
   "metadata": {},
   "outputs": [
    {
     "data": {
      "text/plain": [
       "(0    24719\n",
       " 1    24719\n",
       " Name: Income, dtype: int64,\n",
       " 1    25973\n",
       " 0    23465\n",
       " Name: Income_pred, dtype: int64)"
      ]
     },
     "execution_count": 123,
     "metadata": {},
     "output_type": "execute_result"
    }
   ],
   "source": [
    "newdf.Income.value_counts(),newdf.Income_pred.value_counts()"
   ]
  },
  {
   "cell_type": "code",
   "execution_count": 106,
   "id": "e67a8763",
   "metadata": {},
   "outputs": [
    {
     "name": "stdout",
     "output_type": "stream",
     "text": [
      "Number of falsely predicted more income while it was actually less than 50k income 1254\n"
     ]
    }
   ],
   "source": [
    "print('Number of falsely predicted more income while it was actually less than 50k income',newdf.Income_pred.value_counts()[1]-24719)"
   ]
  },
  {
   "cell_type": "code",
   "execution_count": 175,
   "id": "9dfb060b",
   "metadata": {},
   "outputs": [
    {
     "data": {
      "text/plain": [
       "Text(0.5, 1.0, 'Income less/equal wrt 50k  vs more than 50k')"
      ]
     },
     "execution_count": 175,
     "metadata": {},
     "output_type": "execute_result"
    },
    {
     "data": {
      "image/png": "[encoded data removed]",
      "text/plain": [
       "<Figure size 720x720 with 1 Axes>"
      ]
     },
     "metadata": {
      "needs_background": "light"
     },
     "output_type": "display_data"
    }
   ],
   "source": [
    "plt.figure(figsize=[10,10])\n",
    "plt.scatter([0,1],[24719,24719],color='r')\n",
    "plt.scatter([0,1],[23465,25973],color='g')\n",
    "plt.plot([0,0],[23465,24719],color='y')\n",
    "plt.plot([1,1],[25973,24719],color='b')\n",
    "plt.text(0,24719,'Actual Value',fontsize=20)\n",
    "plt.text(0,23465,'Predicted Value',fontsize=20)\n",
    "plt.text(1,24719,'Actual Value',fontsize=20)\n",
    "plt.text(1,25973,'Predicted Value',fontsize=20)\n",
    "plt.text(0.01,24000,'gap:1254',fontsize=20,color='black',rotation='vertical')\n",
    "plt.text(0.95,25200,'gap:1254',fontsize=20,color='black',rotation='vertical')\n",
    "plt.xlabel(\"Income\")\n",
    "plt.ylabel('value counts')\n",
    "plt.title('Income less/equal wrt 50k  vs more than 50k')"
   ]
  },
  {
   "cell_type": "markdown",
   "id": "1d2bdc0d",
   "metadata": {},
   "source": [
    "### analyze how similar dist plot are of actual and predicted values"
   ]
  },
  {
   "cell_type": "code",
   "execution_count": 94,
   "id": "96497bfe",
   "metadata": {},
   "outputs": [
    {
     "data": {
      "image/png": "[encoded data removed]",
      "text/plain": [
       "<Figure size 432x288 with 1 Axes>"
      ]
     },
     "metadata": {
      "needs_background": "light"
     },
     "output_type": "display_data"
    },
    {
     "data": {
      "text/plain": [
       "<AxesSubplot:xlabel='Income_pred', ylabel='Density'>"
      ]
     },
     "execution_count": 94,
     "metadata": {},
     "output_type": "execute_result"
    },
    {
     "data": {
      "image/png": "[encoded data removed]",
      "text/plain": [
       "<Figure size 432x288 with 1 Axes>"
      ]
     },
     "metadata": {
      "needs_background": "light"
     },
     "output_type": "display_data"
    }
   ],
   "source": [
    "sn.distplot(newdf['Income'])\n",
    "plt.show()\n",
    "sn.distplot(newdf['Income_pred'])"
   ]
  },
  {
   "cell_type": "markdown",
   "id": "dfb9809d",
   "metadata": {},
   "source": [
    "### heatmap of the confusion matrix"
   ]
  },
  {
   "cell_type": "code",
   "execution_count": 96,
   "id": "ebbe7c1c",
   "metadata": {},
   "outputs": [
    {
     "data": {
      "text/plain": [
       "<AxesSubplot:>"
      ]
     },
     "execution_count": 96,
     "metadata": {},
     "output_type": "execute_result"
    },
    {
     "data": {
      "image/png": "[encoded data removed]",
      "text/plain": [
       "<Figure size 720x720 with 2 Axes>"
      ]
     },
     "metadata": {
      "needs_background": "light"
     },
     "output_type": "display_data"
    }
   ],
   "source": [
    "plt.figure(figsize=[10,10])\n",
    "sn.heatmap(confusion_matrix(newdf['Income'],newdf['Income_pred']),annot=True,cmap=\"Oranges\",xticklabels=model.classes_\n",
    "               ,yticklabels=model.classes_)"
   ]
  },
  {
   "cell_type": "code",
   "execution_count": 97,
   "id": "a9996262",
   "metadata": {},
   "outputs": [
    {
     "data": {
      "text/plain": [
       "array([[21671,  3048],\n",
       "       [ 1794, 22925]], dtype=int64)"
      ]
     },
     "execution_count": 97,
     "metadata": {},
     "output_type": "execute_result"
    }
   ],
   "source": [
    "confusion_matrix(newdf['Income'],newdf['Income_pred'])"
   ]
  },
  {
   "cell_type": "markdown",
   "id": "aae0da15",
   "metadata": {},
   "source": [
    "### 1794 false positive were detected\n",
    "### 3048 true negative"
   ]
  },
  {
   "cell_type": "markdown",
   "id": "b2853ec3",
   "metadata": {},
   "source": [
    "### Save model"
   ]
  },
  {
   "cell_type": "code",
   "execution_count": 98,
   "id": "d6a00cd3",
   "metadata": {},
   "outputs": [
    {
     "data": {
      "text/plain": [
       "['census.pkl']"
      ]
     },
     "execution_count": 98,
     "metadata": {},
     "output_type": "execute_result"
    }
   ],
   "source": [
    "joblib.dump(rfmodel, 'census.pkl')"
   ]
  }
 ],
 "metadata": {
  "kernelspec": {
   "display_name": "Python 3",
   "language": "python",
   "name": "python3"
  },
  "language_info": {
   "codemirror_mode": {
    "name": "ipython",
    "version": 3
   },
   "file_extension": ".py",
   "mimetype": "text/x-python",
   "name": "python",
   "nbconvert_exporter": "python",
   "pygments_lexer": "ipython3",
   "version": "3.8.8"
  }
 },
 "nbformat": 4,
 "nbformat_minor": 5
}
