{
 "cells": [
  {
   "cell_type": "code",
   "execution_count": 1,
   "id": "2989656c",
   "metadata": {},
   "outputs": [],
   "source": [
    "from sklearn.tree import DecisionTreeClassifier\n",
    "from sklearn.model_selection import train_test_split\n",
    "from sklearn.metrics import confusion_matrix\n",
    "import pandas as pd\n",
    "import matplotlib.pyplot as plt\n",
    "from imblearn.over_sampling import SMOTE\n",
    "from sklearn.preprocessing import LabelEncoder\n",
    "import warnings\n",
    "warnings.filterwarnings(\"ignore\")\n",
    "import seaborn as sn\n",
    "import numpy as np\n",
    "import scipy.stats as stats\n",
    "from scipy.stats import zscore\n",
    "from sklearn.preprocessing import StandardScaler\n",
    "from sklearn.decomposition import PCA\n",
    "from sklearn.metrics import f1_score\n",
    "from sklearn.model_selection import train_test_split\n",
    "from sklearn.model_selection import cross_val_score\n",
    "from sklearn.model_selection import GridSearchCV\n",
    "from sklearn.linear_model import LogisticRegression\n",
    "from sklearn.neighbors import KNeighborsClassifier\n",
    "from sklearn.tree import DecisionTreeClassifier\n",
    "from sklearn.ensemble import RandomForestClassifier\n",
    "from sklearn.svm import SVC\n",
    "from sklearn.metrics import confusion_matrix\n",
    "from sklearn.metrics import classification_report\n",
    "from sklearn.metrics import roc_auc_score\n",
    "import joblib"
   ]
  },
  {
   "cell_type": "code",
   "execution_count": 2,
   "id": "67c0ac57",
   "metadata": {},
   "outputs": [
    {
     "data": {
      "text/html": [
       "<div>\n",
       "<style scoped>\n",
       "    .dataframe tbody tr th:only-of-type {\n",
       "        vertical-align: middle;\n",
       "    }\n",
       "\n",
       "    .dataframe tbody tr th {\n",
       "        vertical-align: top;\n",
       "    }\n",
       "\n",
       "    .dataframe thead th {\n",
       "        text-align: right;\n",
       "    }\n",
       "</style>\n",
       "<table border=\"1\" class=\"dataframe\">\n",
       "  <thead>\n",
       "    <tr style=\"text-align: right;\">\n",
       "      <th></th>\n",
       "      <th>class</th>\n",
       "      <th>cap-shape</th>\n",
       "      <th>cap-surface</th>\n",
       "      <th>cap-color</th>\n",
       "      <th>bruises</th>\n",
       "      <th>odor</th>\n",
       "      <th>gill-attachment</th>\n",
       "      <th>gill-spacing</th>\n",
       "      <th>gill-size</th>\n",
       "      <th>gill-color</th>\n",
       "      <th>...</th>\n",
       "      <th>stalk-surface-below-ring</th>\n",
       "      <th>stalk-color-above-ring</th>\n",
       "      <th>stalk-color-below-ring</th>\n",
       "      <th>veil-type</th>\n",
       "      <th>veil-color</th>\n",
       "      <th>ring-number</th>\n",
       "      <th>ring-type</th>\n",
       "      <th>spore-print-color</th>\n",
       "      <th>population</th>\n",
       "      <th>habitat</th>\n",
       "    </tr>\n",
       "  </thead>\n",
       "  <tbody>\n",
       "    <tr>\n",
       "      <th>0</th>\n",
       "      <td>p</td>\n",
       "      <td>x</td>\n",
       "      <td>s</td>\n",
       "      <td>n</td>\n",
       "      <td>t</td>\n",
       "      <td>p</td>\n",
       "      <td>f</td>\n",
       "      <td>c</td>\n",
       "      <td>n</td>\n",
       "      <td>k</td>\n",
       "      <td>...</td>\n",
       "      <td>s</td>\n",
       "      <td>w</td>\n",
       "      <td>w</td>\n",
       "      <td>p</td>\n",
       "      <td>w</td>\n",
       "      <td>o</td>\n",
       "      <td>p</td>\n",
       "      <td>k</td>\n",
       "      <td>s</td>\n",
       "      <td>u</td>\n",
       "    </tr>\n",
       "    <tr>\n",
       "      <th>1</th>\n",
       "      <td>e</td>\n",
       "      <td>x</td>\n",
       "      <td>s</td>\n",
       "      <td>y</td>\n",
       "      <td>t</td>\n",
       "      <td>a</td>\n",
       "      <td>f</td>\n",
       "      <td>c</td>\n",
       "      <td>b</td>\n",
       "      <td>k</td>\n",
       "      <td>...</td>\n",
       "      <td>s</td>\n",
       "      <td>w</td>\n",
       "      <td>w</td>\n",
       "      <td>p</td>\n",
       "      <td>w</td>\n",
       "      <td>o</td>\n",
       "      <td>p</td>\n",
       "      <td>n</td>\n",
       "      <td>n</td>\n",
       "      <td>g</td>\n",
       "    </tr>\n",
       "    <tr>\n",
       "      <th>2</th>\n",
       "      <td>e</td>\n",
       "      <td>b</td>\n",
       "      <td>s</td>\n",
       "      <td>w</td>\n",
       "      <td>t</td>\n",
       "      <td>l</td>\n",
       "      <td>f</td>\n",
       "      <td>c</td>\n",
       "      <td>b</td>\n",
       "      <td>n</td>\n",
       "      <td>...</td>\n",
       "      <td>s</td>\n",
       "      <td>w</td>\n",
       "      <td>w</td>\n",
       "      <td>p</td>\n",
       "      <td>w</td>\n",
       "      <td>o</td>\n",
       "      <td>p</td>\n",
       "      <td>n</td>\n",
       "      <td>n</td>\n",
       "      <td>m</td>\n",
       "    </tr>\n",
       "    <tr>\n",
       "      <th>3</th>\n",
       "      <td>p</td>\n",
       "      <td>x</td>\n",
       "      <td>y</td>\n",
       "      <td>w</td>\n",
       "      <td>t</td>\n",
       "      <td>p</td>\n",
       "      <td>f</td>\n",
       "      <td>c</td>\n",
       "      <td>n</td>\n",
       "      <td>n</td>\n",
       "      <td>...</td>\n",
       "      <td>s</td>\n",
       "      <td>w</td>\n",
       "      <td>w</td>\n",
       "      <td>p</td>\n",
       "      <td>w</td>\n",
       "      <td>o</td>\n",
       "      <td>p</td>\n",
       "      <td>k</td>\n",
       "      <td>s</td>\n",
       "      <td>u</td>\n",
       "    </tr>\n",
       "    <tr>\n",
       "      <th>4</th>\n",
       "      <td>e</td>\n",
       "      <td>x</td>\n",
       "      <td>s</td>\n",
       "      <td>g</td>\n",
       "      <td>f</td>\n",
       "      <td>n</td>\n",
       "      <td>f</td>\n",
       "      <td>w</td>\n",
       "      <td>b</td>\n",
       "      <td>k</td>\n",
       "      <td>...</td>\n",
       "      <td>s</td>\n",
       "      <td>w</td>\n",
       "      <td>w</td>\n",
       "      <td>p</td>\n",
       "      <td>w</td>\n",
       "      <td>o</td>\n",
       "      <td>e</td>\n",
       "      <td>n</td>\n",
       "      <td>a</td>\n",
       "      <td>g</td>\n",
       "    </tr>\n",
       "  </tbody>\n",
       "</table>\n",
       "<p>5 rows × 23 columns</p>\n",
       "</div>"
      ],
      "text/plain": [
       "  class cap-shape cap-surface cap-color bruises odor gill-attachment  \\\n",
       "0     p         x           s         n       t    p               f   \n",
       "1     e         x           s         y       t    a               f   \n",
       "2     e         b           s         w       t    l               f   \n",
       "3     p         x           y         w       t    p               f   \n",
       "4     e         x           s         g       f    n               f   \n",
       "\n",
       "  gill-spacing gill-size gill-color  ... stalk-surface-below-ring  \\\n",
       "0            c         n          k  ...                        s   \n",
       "1            c         b          k  ...                        s   \n",
       "2            c         b          n  ...                        s   \n",
       "3            c         n          n  ...                        s   \n",
       "4            w         b          k  ...                        s   \n",
       "\n",
       "  stalk-color-above-ring stalk-color-below-ring veil-type veil-color  \\\n",
       "0                      w                      w         p          w   \n",
       "1                      w                      w         p          w   \n",
       "2                      w                      w         p          w   \n",
       "3                      w                      w         p          w   \n",
       "4                      w                      w         p          w   \n",
       "\n",
       "  ring-number ring-type spore-print-color population habitat  \n",
       "0           o         p                 k          s       u  \n",
       "1           o         p                 n          n       g  \n",
       "2           o         p                 n          n       m  \n",
       "3           o         p                 k          s       u  \n",
       "4           o         e                 n          a       g  \n",
       "\n",
       "[5 rows x 23 columns]"
      ]
     },
     "execution_count": 2,
     "metadata": {},
     "output_type": "execute_result"
    }
   ],
   "source": [
    "df=pd.read_csv('mushrooms.csv')\n",
    "df.head()"
   ]
  },
  {
   "cell_type": "code",
   "execution_count": 3,
   "id": "f3bc8ac2",
   "metadata": {},
   "outputs": [
    {
     "name": "stdout",
     "output_type": "stream",
     "text": [
      "Number of rows x columns in dataset are: (8124, 23)\n"
     ]
    }
   ],
   "source": [
    "print('Number of rows x columns in dataset are:',df.shape)"
   ]
  },
  {
   "cell_type": "code",
   "execution_count": 4,
   "id": "52537e9b",
   "metadata": {},
   "outputs": [
    {
     "name": "stdout",
     "output_type": "stream",
     "text": [
      "Dataset contains any null values: False\n"
     ]
    }
   ],
   "source": [
    "print('Dataset contains any null values:',df.isnull().values.any())"
   ]
  },
  {
   "cell_type": "code",
   "execution_count": 5,
   "id": "97b4b357",
   "metadata": {},
   "outputs": [
    {
     "data": {
      "text/plain": [
       "class                       object\n",
       "cap-shape                   object\n",
       "cap-surface                 object\n",
       "cap-color                   object\n",
       "bruises                     object\n",
       "odor                        object\n",
       "gill-attachment             object\n",
       "gill-spacing                object\n",
       "gill-size                   object\n",
       "gill-color                  object\n",
       "stalk-shape                 object\n",
       "stalk-root                  object\n",
       "stalk-surface-above-ring    object\n",
       "stalk-surface-below-ring    object\n",
       "stalk-color-above-ring      object\n",
       "stalk-color-below-ring      object\n",
       "veil-type                   object\n",
       "veil-color                  object\n",
       "ring-number                 object\n",
       "ring-type                   object\n",
       "spore-print-color           object\n",
       "population                  object\n",
       "habitat                     object\n",
       "dtype: object"
      ]
     },
     "execution_count": 5,
     "metadata": {},
     "output_type": "execute_result"
    }
   ],
   "source": [
    "df.dtypes"
   ]
  },
  {
   "cell_type": "markdown",
   "id": "e19593f8",
   "metadata": {},
   "source": [
    "### class column is our target variable containing the class of mushrooms.whole dataset is of type object"
   ]
  },
  {
   "cell_type": "code",
   "execution_count": 6,
   "id": "cd891a40",
   "metadata": {},
   "outputs": [
    {
     "name": "stdout",
     "output_type": "stream",
     "text": [
      "Number of edible mushrooms are: 4208\n",
      "Number of poisonous mushrooms are: 3916\n",
      "Unbalanced dataset\n"
     ]
    }
   ],
   "source": [
    "print('Number of edible mushrooms are:',df['class'].value_counts()[0])\n",
    "print('Number of poisonous mushrooms are:',df['class'].value_counts()[1])\n",
    "print('Unbalanced dataset' if df['class'].value_counts()[0]!=df['class'].value_counts()[1] else 'Balanced dataset')"
   ]
  },
  {
   "cell_type": "code",
   "execution_count": 7,
   "id": "4171c22d",
   "metadata": {},
   "outputs": [
    {
     "data": {
      "image/png": "[encoded data removed]",
      "text/plain": [
       "<Figure size 360x360 with 1 Axes>"
      ]
     },
     "metadata": {
      "needs_background": "light"
     },
     "output_type": "display_data"
    }
   ],
   "source": [
    "plt.figure(figsize=[5,5])\n",
    "df['class'].value_counts().plot(kind='bar')\n",
    "plt.xlabel(\"class\")\n",
    "plt.ylabel('value counts')\n",
    "plt.title('Number of edible and poisonous mushrooms')\n",
    "plt.grid()"
   ]
  },
  {
   "cell_type": "markdown",
   "id": "66d53b19",
   "metadata": {},
   "source": [
    "### I will now convert alphabets to numberical data of df\n",
    "### assign each aphabet a unique number"
   ]
  },
  {
   "cell_type": "code",
   "execution_count": 8,
   "id": "322f3c1b",
   "metadata": {},
   "outputs": [],
   "source": [
    "dicty={}\n",
    "for i in list(df.columns):\n",
    "    dicto={}\n",
    "    for j in range(len(df[i].unique())):\n",
    "        dicto[df[i].unique()[j]]=j\n",
    "    dicty[i]=dicto"
   ]
  },
  {
   "cell_type": "code",
   "execution_count": 9,
   "id": "8c9d9896",
   "metadata": {},
   "outputs": [
    {
     "data": {
      "text/plain": [
       "{'class': {'p': 0, 'e': 1},\n",
       " 'cap-shape': {'x': 0, 'b': 1, 's': 2, 'f': 3, 'k': 4, 'c': 5},\n",
       " 'cap-surface': {'s': 0, 'y': 1, 'f': 2, 'g': 3},\n",
       " 'cap-color': {'n': 0,\n",
       "  'y': 1,\n",
       "  'w': 2,\n",
       "  'g': 3,\n",
       "  'e': 4,\n",
       "  'p': 5,\n",
       "  'b': 6,\n",
       "  'u': 7,\n",
       "  'c': 8,\n",
       "  'r': 9},\n",
       " 'bruises': {'t': 0, 'f': 1},\n",
       " 'odor': {'p': 0,\n",
       "  'a': 1,\n",
       "  'l': 2,\n",
       "  'n': 3,\n",
       "  'f': 4,\n",
       "  'c': 5,\n",
       "  'y': 6,\n",
       "  's': 7,\n",
       "  'm': 8},\n",
       " 'gill-attachment': {'f': 0, 'a': 1},\n",
       " 'gill-spacing': {'c': 0, 'w': 1},\n",
       " 'gill-size': {'n': 0, 'b': 1},\n",
       " 'gill-color': {'k': 0,\n",
       "  'n': 1,\n",
       "  'g': 2,\n",
       "  'p': 3,\n",
       "  'w': 4,\n",
       "  'h': 5,\n",
       "  'u': 6,\n",
       "  'e': 7,\n",
       "  'b': 8,\n",
       "  'r': 9,\n",
       "  'y': 10,\n",
       "  'o': 11},\n",
       " 'stalk-shape': {'e': 0, 't': 1},\n",
       " 'stalk-root': {'e': 0, 'c': 1, 'b': 2, 'r': 3, '?': 4},\n",
       " 'stalk-surface-above-ring': {'s': 0, 'f': 1, 'k': 2, 'y': 3},\n",
       " 'stalk-surface-below-ring': {'s': 0, 'f': 1, 'y': 2, 'k': 3},\n",
       " 'stalk-color-above-ring': {'w': 0,\n",
       "  'g': 1,\n",
       "  'p': 2,\n",
       "  'n': 3,\n",
       "  'b': 4,\n",
       "  'e': 5,\n",
       "  'o': 6,\n",
       "  'c': 7,\n",
       "  'y': 8},\n",
       " 'stalk-color-below-ring': {'w': 0,\n",
       "  'p': 1,\n",
       "  'g': 2,\n",
       "  'b': 3,\n",
       "  'n': 4,\n",
       "  'e': 5,\n",
       "  'y': 6,\n",
       "  'o': 7,\n",
       "  'c': 8},\n",
       " 'veil-type': {'p': 0},\n",
       " 'veil-color': {'w': 0, 'n': 1, 'o': 2, 'y': 3},\n",
       " 'ring-number': {'o': 0, 't': 1, 'n': 2},\n",
       " 'ring-type': {'p': 0, 'e': 1, 'l': 2, 'f': 3, 'n': 4},\n",
       " 'spore-print-color': {'k': 0,\n",
       "  'n': 1,\n",
       "  'u': 2,\n",
       "  'h': 3,\n",
       "  'w': 4,\n",
       "  'r': 5,\n",
       "  'o': 6,\n",
       "  'y': 7,\n",
       "  'b': 8},\n",
       " 'population': {'s': 0, 'n': 1, 'a': 2, 'v': 3, 'y': 4, 'c': 5},\n",
       " 'habitat': {'u': 0, 'g': 1, 'm': 2, 'd': 3, 'p': 4, 'w': 5, 'l': 6}}"
      ]
     },
     "execution_count": 9,
     "metadata": {},
     "output_type": "execute_result"
    }
   ],
   "source": [
    "dicty"
   ]
  },
  {
   "cell_type": "markdown",
   "id": "59bb5719",
   "metadata": {},
   "source": [
    "### substitue categorical data in dataset to numeric"
   ]
  },
  {
   "cell_type": "code",
   "execution_count": 10,
   "id": "8f6f97fd",
   "metadata": {},
   "outputs": [],
   "source": [
    "for i in list(df.columns):\n",
    "    df[i]=df[i].apply(lambda x:dicty[i][x])"
   ]
  },
  {
   "cell_type": "markdown",
   "id": "55571947",
   "metadata": {},
   "source": [
    "### check which columns are relevant drop rest. "
   ]
  },
  {
   "cell_type": "code",
   "execution_count": 11,
   "id": "23f7fee9",
   "metadata": {},
   "outputs": [
    {
     "data": {
      "text/plain": [
       "class                       1.000000\n",
       "cap-shape                  -0.112110\n",
       "cap-surface                 0.169663\n",
       "cap-color                  -0.042028\n",
       "bruises                    -0.501530\n",
       "odor                       -0.582015\n",
       "gill-attachment             0.129200\n",
       "gill-spacing                0.348387\n",
       "gill-size                   0.540024\n",
       "gill-color                 -0.412869\n",
       "stalk-shape                 0.102019\n",
       "stalk-root                 -0.337542\n",
       "stalk-surface-above-ring   -0.552044\n",
       "stalk-surface-below-ring   -0.532452\n",
       "stalk-color-above-ring     -0.225294\n",
       "stalk-color-below-ring     -0.098476\n",
       "veil-type                        NaN\n",
       "veil-color                  0.120766\n",
       "ring-number                 0.152261\n",
       "ring-type                  -0.556515\n",
       "spore-print-color          -0.560715\n",
       "population                 -0.155254\n",
       "habitat                    -0.191297\n",
       "Name: class, dtype: float64"
      ]
     },
     "execution_count": 11,
     "metadata": {},
     "output_type": "execute_result"
    }
   ],
   "source": [
    "df.corr()['class']"
   ]
  },
  {
   "cell_type": "markdown",
   "id": "0e1243a8",
   "metadata": {},
   "source": [
    "### from the above I can conclude that columns other than bruises, odor, gill-size, stalk-surface-above-ring ,stalk-surface-below-ring , ring-type,spore-print-color can be dropped (for good correlation >=+/- 0.5)"
   ]
  },
  {
   "cell_type": "markdown",
   "id": "a90220e8",
   "metadata": {},
   "source": [
    "### check outliers of specific columns"
   ]
  },
  {
   "cell_type": "code",
   "execution_count": 12,
   "id": "936775ff",
   "metadata": {},
   "outputs": [
    {
     "data": {
      "text/plain": [
       "<AxesSubplot:xlabel='bruises'>"
      ]
     },
     "execution_count": 12,
     "metadata": {},
     "output_type": "execute_result"
    },
    {
     "data": {
      "image/png": "[encoded data removed]",
      "text/plain": [
       "<Figure size 432x288 with 1 Axes>"
      ]
     },
     "metadata": {
      "needs_background": "light"
     },
     "output_type": "display_data"
    }
   ],
   "source": [
    "sn.boxplot(df['bruises'])"
   ]
  },
  {
   "cell_type": "code",
   "execution_count": 13,
   "id": "df200b54",
   "metadata": {},
   "outputs": [
    {
     "data": {
      "text/plain": [
       "<AxesSubplot:xlabel='odor'>"
      ]
     },
     "execution_count": 13,
     "metadata": {},
     "output_type": "execute_result"
    },
    {
     "data": {
      "image/png": "[encoded data removed]",
      "text/plain": [
       "<Figure size 432x288 with 1 Axes>"
      ]
     },
     "metadata": {
      "needs_background": "light"
     },
     "output_type": "display_data"
    }
   ],
   "source": [
    "sn.boxplot(df['odor'])"
   ]
  },
  {
   "cell_type": "code",
   "execution_count": 14,
   "id": "f0c9238b",
   "metadata": {},
   "outputs": [
    {
     "data": {
      "text/plain": [
       "<AxesSubplot:xlabel='gill-size'>"
      ]
     },
     "execution_count": 14,
     "metadata": {},
     "output_type": "execute_result"
    },
    {
     "data": {
      "image/png": "[encoded data removed]",
      "text/plain": [
       "<Figure size 432x288 with 1 Axes>"
      ]
     },
     "metadata": {
      "needs_background": "light"
     },
     "output_type": "display_data"
    }
   ],
   "source": [
    "sn.boxplot(df['gill-size'])"
   ]
  },
  {
   "cell_type": "code",
   "execution_count": 15,
   "id": "e516ec4f",
   "metadata": {},
   "outputs": [
    {
     "data": {
      "text/plain": [
       "<AxesSubplot:xlabel='stalk-surface-above-ring'>"
      ]
     },
     "execution_count": 15,
     "metadata": {},
     "output_type": "execute_result"
    },
    {
     "data": {
      "image/png": "[encoded data removed]",
      "text/plain": [
       "<Figure size 432x288 with 1 Axes>"
      ]
     },
     "metadata": {
      "needs_background": "light"
     },
     "output_type": "display_data"
    }
   ],
   "source": [
    "sn.boxplot(df['stalk-surface-above-ring'])"
   ]
  },
  {
   "cell_type": "code",
   "execution_count": 16,
   "id": "b6e57de3",
   "metadata": {},
   "outputs": [
    {
     "data": {
      "text/plain": [
       "<AxesSubplot:xlabel='stalk-surface-below-ring'>"
      ]
     },
     "execution_count": 16,
     "metadata": {},
     "output_type": "execute_result"
    },
    {
     "data": {
      "image/png": "[encoded data removed]",
      "text/plain": [
       "<Figure size 432x288 with 1 Axes>"
      ]
     },
     "metadata": {
      "needs_background": "light"
     },
     "output_type": "display_data"
    }
   ],
   "source": [
    "sn.boxplot(df['stalk-surface-below-ring'])"
   ]
  },
  {
   "cell_type": "code",
   "execution_count": 17,
   "id": "d9d14e05",
   "metadata": {},
   "outputs": [
    {
     "data": {
      "text/plain": [
       "<AxesSubplot:xlabel='ring-type'>"
      ]
     },
     "execution_count": 17,
     "metadata": {},
     "output_type": "execute_result"
    },
    {
     "data": {
      "image/png": "[encoded data removed]",
      "text/plain": [
       "<Figure size 432x288 with 1 Axes>"
      ]
     },
     "metadata": {
      "needs_background": "light"
     },
     "output_type": "display_data"
    }
   ],
   "source": [
    "sn.boxplot(df['ring-type'])"
   ]
  },
  {
   "cell_type": "code",
   "execution_count": 18,
   "id": "5f506830",
   "metadata": {},
   "outputs": [
    {
     "data": {
      "text/plain": [
       "<AxesSubplot:xlabel='spore-print-color'>"
      ]
     },
     "execution_count": 18,
     "metadata": {},
     "output_type": "execute_result"
    },
    {
     "data": {
      "image/png": "[encoded data removed]",
      "text/plain": [
       "<Figure size 432x288 with 1 Axes>"
      ]
     },
     "metadata": {
      "needs_background": "light"
     },
     "output_type": "display_data"
    }
   ],
   "source": [
    "sn.boxplot(df['spore-print-color'])"
   ]
  },
  {
   "cell_type": "markdown",
   "id": "6482b0fd",
   "metadata": {},
   "source": [
    "### odor and ring-type contains outlier. Plot to cross check and remove those datapoints"
   ]
  },
  {
   "cell_type": "code",
   "execution_count": 19,
   "id": "19f468e8",
   "metadata": {},
   "outputs": [
    {
     "data": {
      "image/png": "[encoded data removed]",
      "text/plain": [
       "<Figure size 432x288 with 1 Axes>"
      ]
     },
     "metadata": {
      "needs_background": "light"
     },
     "output_type": "display_data"
    }
   ],
   "source": [
    "sn.countplot(x=\"ring-type\",hue=\"class\",data=df)\n",
    "plt.show()"
   ]
  },
  {
   "cell_type": "code",
   "execution_count": 20,
   "id": "fe261d81",
   "metadata": {},
   "outputs": [
    {
     "data": {
      "image/png": "[encoded data removed]",
      "text/plain": [
       "<Figure size 432x288 with 1 Axes>"
      ]
     },
     "metadata": {
      "needs_background": "light"
     },
     "output_type": "display_data"
    }
   ],
   "source": [
    "sn.countplot(x=\"odor\",hue=\"class\",data=df)\n",
    "plt.show()"
   ]
  },
  {
   "cell_type": "code",
   "execution_count": 21,
   "id": "8e28947a",
   "metadata": {},
   "outputs": [],
   "source": [
    "df_clean=df[df['ring-type']<2][df['odor']<5][df['odor']>2]"
   ]
  },
  {
   "cell_type": "code",
   "execution_count": 22,
   "id": "d32aec70",
   "metadata": {},
   "outputs": [
    {
     "data": {
      "text/plain": [
       "(4344, 23)"
      ]
     },
     "execution_count": 22,
     "metadata": {},
     "output_type": "execute_result"
    }
   ],
   "source": [
    "df_clean.shape"
   ]
  },
  {
   "cell_type": "code",
   "execution_count": 23,
   "id": "16197d9a",
   "metadata": {},
   "outputs": [
    {
     "data": {
      "text/plain": [
       "0.465288035450517"
      ]
     },
     "execution_count": 23,
     "metadata": {},
     "output_type": "execute_result"
    }
   ],
   "source": [
    "(df.shape[0]-df_clean.shape[0])/df.shape[0]"
   ]
  },
  {
   "cell_type": "code",
   "execution_count": 24,
   "id": "8547282d",
   "metadata": {},
   "outputs": [
    {
     "data": {
      "text/plain": [
       "(8124, 23)"
      ]
     },
     "execution_count": 24,
     "metadata": {},
     "output_type": "execute_result"
    }
   ],
   "source": [
    "df[df.apply(zscore)<=3].shape"
   ]
  },
  {
   "cell_type": "code",
   "execution_count": 25,
   "id": "7079f108",
   "metadata": {},
   "outputs": [
    {
     "data": {
      "text/plain": [
       "(3568, 23)"
      ]
     },
     "execution_count": 25,
     "metadata": {},
     "output_type": "execute_result"
    }
   ],
   "source": [
    "Q1 = df.quantile(q=.25)\n",
    "Q3 = df.quantile(q=.75)\n",
    "IQR = df.apply(stats.iqr)\n",
    "\n",
    "#only keep rows in dataframe that have values within 1.5*IQR of Q1 and Q3\n",
    "data_clean = df[~((df < (Q1-1.5*IQR)) | (df > (Q3+1.5*IQR))).any(axis=1)]\n",
    "\n",
    "#find how many rows are left in the dataframe \n",
    "data_clean.shape"
   ]
  },
  {
   "cell_type": "code",
   "execution_count": 26,
   "id": "cdf43f69",
   "metadata": {},
   "outputs": [
    {
     "data": {
      "text/plain": [
       "0.5608074839980305"
      ]
     },
     "execution_count": 26,
     "metadata": {},
     "output_type": "execute_result"
    }
   ],
   "source": [
    "(8124-3568)/8124"
   ]
  },
  {
   "cell_type": "markdown",
   "id": "4eb88fb1",
   "metadata": {},
   "source": [
    "### outliers cannot be removed as there is more than 10% data loss (zscore is unable to remove any outlier)"
   ]
  },
  {
   "cell_type": "markdown",
   "id": "0acd011c",
   "metadata": {},
   "source": [
    "### use oversampling to avoid unbalanced dataset"
   ]
  },
  {
   "cell_type": "code",
   "execution_count": 27,
   "id": "30a6ec58",
   "metadata": {},
   "outputs": [
    {
     "data": {
      "text/html": [
       "<div>\n",
       "<style scoped>\n",
       "    .dataframe tbody tr th:only-of-type {\n",
       "        vertical-align: middle;\n",
       "    }\n",
       "\n",
       "    .dataframe tbody tr th {\n",
       "        vertical-align: top;\n",
       "    }\n",
       "\n",
       "    .dataframe thead th {\n",
       "        text-align: right;\n",
       "    }\n",
       "</style>\n",
       "<table border=\"1\" class=\"dataframe\">\n",
       "  <thead>\n",
       "    <tr style=\"text-align: right;\">\n",
       "      <th></th>\n",
       "      <th>class</th>\n",
       "      <th>cap-shape</th>\n",
       "      <th>cap-surface</th>\n",
       "      <th>cap-color</th>\n",
       "      <th>bruises</th>\n",
       "      <th>odor</th>\n",
       "      <th>gill-attachment</th>\n",
       "      <th>gill-spacing</th>\n",
       "      <th>gill-size</th>\n",
       "      <th>gill-color</th>\n",
       "      <th>...</th>\n",
       "      <th>stalk-surface-below-ring</th>\n",
       "      <th>stalk-color-above-ring</th>\n",
       "      <th>stalk-color-below-ring</th>\n",
       "      <th>veil-type</th>\n",
       "      <th>veil-color</th>\n",
       "      <th>ring-number</th>\n",
       "      <th>ring-type</th>\n",
       "      <th>spore-print-color</th>\n",
       "      <th>population</th>\n",
       "      <th>habitat</th>\n",
       "    </tr>\n",
       "  </thead>\n",
       "  <tbody>\n",
       "    <tr>\n",
       "      <th>0</th>\n",
       "      <td>0</td>\n",
       "      <td>0</td>\n",
       "      <td>0</td>\n",
       "      <td>0</td>\n",
       "      <td>0</td>\n",
       "      <td>0</td>\n",
       "      <td>0</td>\n",
       "      <td>0</td>\n",
       "      <td>0</td>\n",
       "      <td>0</td>\n",
       "      <td>...</td>\n",
       "      <td>0</td>\n",
       "      <td>0</td>\n",
       "      <td>0</td>\n",
       "      <td>0</td>\n",
       "      <td>0</td>\n",
       "      <td>0</td>\n",
       "      <td>0</td>\n",
       "      <td>0</td>\n",
       "      <td>0</td>\n",
       "      <td>0</td>\n",
       "    </tr>\n",
       "    <tr>\n",
       "      <th>1</th>\n",
       "      <td>1</td>\n",
       "      <td>0</td>\n",
       "      <td>0</td>\n",
       "      <td>1</td>\n",
       "      <td>0</td>\n",
       "      <td>1</td>\n",
       "      <td>0</td>\n",
       "      <td>0</td>\n",
       "      <td>1</td>\n",
       "      <td>0</td>\n",
       "      <td>...</td>\n",
       "      <td>0</td>\n",
       "      <td>0</td>\n",
       "      <td>0</td>\n",
       "      <td>0</td>\n",
       "      <td>0</td>\n",
       "      <td>0</td>\n",
       "      <td>0</td>\n",
       "      <td>1</td>\n",
       "      <td>1</td>\n",
       "      <td>1</td>\n",
       "    </tr>\n",
       "    <tr>\n",
       "      <th>2</th>\n",
       "      <td>1</td>\n",
       "      <td>1</td>\n",
       "      <td>0</td>\n",
       "      <td>2</td>\n",
       "      <td>0</td>\n",
       "      <td>2</td>\n",
       "      <td>0</td>\n",
       "      <td>0</td>\n",
       "      <td>1</td>\n",
       "      <td>1</td>\n",
       "      <td>...</td>\n",
       "      <td>0</td>\n",
       "      <td>0</td>\n",
       "      <td>0</td>\n",
       "      <td>0</td>\n",
       "      <td>0</td>\n",
       "      <td>0</td>\n",
       "      <td>0</td>\n",
       "      <td>1</td>\n",
       "      <td>1</td>\n",
       "      <td>2</td>\n",
       "    </tr>\n",
       "    <tr>\n",
       "      <th>3</th>\n",
       "      <td>0</td>\n",
       "      <td>0</td>\n",
       "      <td>1</td>\n",
       "      <td>2</td>\n",
       "      <td>0</td>\n",
       "      <td>0</td>\n",
       "      <td>0</td>\n",
       "      <td>0</td>\n",
       "      <td>0</td>\n",
       "      <td>1</td>\n",
       "      <td>...</td>\n",
       "      <td>0</td>\n",
       "      <td>0</td>\n",
       "      <td>0</td>\n",
       "      <td>0</td>\n",
       "      <td>0</td>\n",
       "      <td>0</td>\n",
       "      <td>0</td>\n",
       "      <td>0</td>\n",
       "      <td>0</td>\n",
       "      <td>0</td>\n",
       "    </tr>\n",
       "    <tr>\n",
       "      <th>4</th>\n",
       "      <td>1</td>\n",
       "      <td>0</td>\n",
       "      <td>0</td>\n",
       "      <td>3</td>\n",
       "      <td>1</td>\n",
       "      <td>3</td>\n",
       "      <td>0</td>\n",
       "      <td>1</td>\n",
       "      <td>1</td>\n",
       "      <td>0</td>\n",
       "      <td>...</td>\n",
       "      <td>0</td>\n",
       "      <td>0</td>\n",
       "      <td>0</td>\n",
       "      <td>0</td>\n",
       "      <td>0</td>\n",
       "      <td>0</td>\n",
       "      <td>1</td>\n",
       "      <td>1</td>\n",
       "      <td>2</td>\n",
       "      <td>1</td>\n",
       "    </tr>\n",
       "    <tr>\n",
       "      <th>...</th>\n",
       "      <td>...</td>\n",
       "      <td>...</td>\n",
       "      <td>...</td>\n",
       "      <td>...</td>\n",
       "      <td>...</td>\n",
       "      <td>...</td>\n",
       "      <td>...</td>\n",
       "      <td>...</td>\n",
       "      <td>...</td>\n",
       "      <td>...</td>\n",
       "      <td>...</td>\n",
       "      <td>...</td>\n",
       "      <td>...</td>\n",
       "      <td>...</td>\n",
       "      <td>...</td>\n",
       "      <td>...</td>\n",
       "      <td>...</td>\n",
       "      <td>...</td>\n",
       "      <td>...</td>\n",
       "      <td>...</td>\n",
       "      <td>...</td>\n",
       "    </tr>\n",
       "    <tr>\n",
       "      <th>8119</th>\n",
       "      <td>1</td>\n",
       "      <td>4</td>\n",
       "      <td>0</td>\n",
       "      <td>0</td>\n",
       "      <td>1</td>\n",
       "      <td>3</td>\n",
       "      <td>1</td>\n",
       "      <td>0</td>\n",
       "      <td>1</td>\n",
       "      <td>10</td>\n",
       "      <td>...</td>\n",
       "      <td>0</td>\n",
       "      <td>6</td>\n",
       "      <td>7</td>\n",
       "      <td>0</td>\n",
       "      <td>2</td>\n",
       "      <td>0</td>\n",
       "      <td>0</td>\n",
       "      <td>8</td>\n",
       "      <td>5</td>\n",
       "      <td>6</td>\n",
       "    </tr>\n",
       "    <tr>\n",
       "      <th>8120</th>\n",
       "      <td>1</td>\n",
       "      <td>0</td>\n",
       "      <td>0</td>\n",
       "      <td>0</td>\n",
       "      <td>1</td>\n",
       "      <td>3</td>\n",
       "      <td>1</td>\n",
       "      <td>0</td>\n",
       "      <td>1</td>\n",
       "      <td>10</td>\n",
       "      <td>...</td>\n",
       "      <td>0</td>\n",
       "      <td>6</td>\n",
       "      <td>7</td>\n",
       "      <td>0</td>\n",
       "      <td>1</td>\n",
       "      <td>0</td>\n",
       "      <td>0</td>\n",
       "      <td>8</td>\n",
       "      <td>3</td>\n",
       "      <td>6</td>\n",
       "    </tr>\n",
       "    <tr>\n",
       "      <th>8121</th>\n",
       "      <td>1</td>\n",
       "      <td>3</td>\n",
       "      <td>0</td>\n",
       "      <td>0</td>\n",
       "      <td>1</td>\n",
       "      <td>3</td>\n",
       "      <td>1</td>\n",
       "      <td>0</td>\n",
       "      <td>1</td>\n",
       "      <td>1</td>\n",
       "      <td>...</td>\n",
       "      <td>0</td>\n",
       "      <td>6</td>\n",
       "      <td>7</td>\n",
       "      <td>0</td>\n",
       "      <td>2</td>\n",
       "      <td>0</td>\n",
       "      <td>0</td>\n",
       "      <td>8</td>\n",
       "      <td>5</td>\n",
       "      <td>6</td>\n",
       "    </tr>\n",
       "    <tr>\n",
       "      <th>8122</th>\n",
       "      <td>0</td>\n",
       "      <td>4</td>\n",
       "      <td>1</td>\n",
       "      <td>0</td>\n",
       "      <td>1</td>\n",
       "      <td>6</td>\n",
       "      <td>0</td>\n",
       "      <td>0</td>\n",
       "      <td>0</td>\n",
       "      <td>8</td>\n",
       "      <td>...</td>\n",
       "      <td>3</td>\n",
       "      <td>0</td>\n",
       "      <td>0</td>\n",
       "      <td>0</td>\n",
       "      <td>0</td>\n",
       "      <td>0</td>\n",
       "      <td>1</td>\n",
       "      <td>4</td>\n",
       "      <td>3</td>\n",
       "      <td>6</td>\n",
       "    </tr>\n",
       "    <tr>\n",
       "      <th>8123</th>\n",
       "      <td>1</td>\n",
       "      <td>0</td>\n",
       "      <td>0</td>\n",
       "      <td>0</td>\n",
       "      <td>1</td>\n",
       "      <td>3</td>\n",
       "      <td>1</td>\n",
       "      <td>0</td>\n",
       "      <td>1</td>\n",
       "      <td>10</td>\n",
       "      <td>...</td>\n",
       "      <td>0</td>\n",
       "      <td>6</td>\n",
       "      <td>7</td>\n",
       "      <td>0</td>\n",
       "      <td>2</td>\n",
       "      <td>0</td>\n",
       "      <td>0</td>\n",
       "      <td>6</td>\n",
       "      <td>5</td>\n",
       "      <td>6</td>\n",
       "    </tr>\n",
       "  </tbody>\n",
       "</table>\n",
       "<p>8124 rows × 23 columns</p>\n",
       "</div>"
      ],
      "text/plain": [
       "      class  cap-shape  cap-surface  cap-color  bruises  odor  \\\n",
       "0         0          0            0          0        0     0   \n",
       "1         1          0            0          1        0     1   \n",
       "2         1          1            0          2        0     2   \n",
       "3         0          0            1          2        0     0   \n",
       "4         1          0            0          3        1     3   \n",
       "...     ...        ...          ...        ...      ...   ...   \n",
       "8119      1          4            0          0        1     3   \n",
       "8120      1          0            0          0        1     3   \n",
       "8121      1          3            0          0        1     3   \n",
       "8122      0          4            1          0        1     6   \n",
       "8123      1          0            0          0        1     3   \n",
       "\n",
       "      gill-attachment  gill-spacing  gill-size  gill-color  ...  \\\n",
       "0                   0             0          0           0  ...   \n",
       "1                   0             0          1           0  ...   \n",
       "2                   0             0          1           1  ...   \n",
       "3                   0             0          0           1  ...   \n",
       "4                   0             1          1           0  ...   \n",
       "...               ...           ...        ...         ...  ...   \n",
       "8119                1             0          1          10  ...   \n",
       "8120                1             0          1          10  ...   \n",
       "8121                1             0          1           1  ...   \n",
       "8122                0             0          0           8  ...   \n",
       "8123                1             0          1          10  ...   \n",
       "\n",
       "      stalk-surface-below-ring  stalk-color-above-ring  \\\n",
       "0                            0                       0   \n",
       "1                            0                       0   \n",
       "2                            0                       0   \n",
       "3                            0                       0   \n",
       "4                            0                       0   \n",
       "...                        ...                     ...   \n",
       "8119                         0                       6   \n",
       "8120                         0                       6   \n",
       "8121                         0                       6   \n",
       "8122                         3                       0   \n",
       "8123                         0                       6   \n",
       "\n",
       "      stalk-color-below-ring  veil-type  veil-color  ring-number  ring-type  \\\n",
       "0                          0          0           0            0          0   \n",
       "1                          0          0           0            0          0   \n",
       "2                          0          0           0            0          0   \n",
       "3                          0          0           0            0          0   \n",
       "4                          0          0           0            0          1   \n",
       "...                      ...        ...         ...          ...        ...   \n",
       "8119                       7          0           2            0          0   \n",
       "8120                       7          0           1            0          0   \n",
       "8121                       7          0           2            0          0   \n",
       "8122                       0          0           0            0          1   \n",
       "8123                       7          0           2            0          0   \n",
       "\n",
       "      spore-print-color  population  habitat  \n",
       "0                     0           0        0  \n",
       "1                     1           1        1  \n",
       "2                     1           1        2  \n",
       "3                     0           0        0  \n",
       "4                     1           2        1  \n",
       "...                 ...         ...      ...  \n",
       "8119                  8           5        6  \n",
       "8120                  8           3        6  \n",
       "8121                  8           5        6  \n",
       "8122                  4           3        6  \n",
       "8123                  6           5        6  \n",
       "\n",
       "[8124 rows x 23 columns]"
      ]
     },
     "execution_count": 27,
     "metadata": {},
     "output_type": "execute_result"
    }
   ],
   "source": [
    "df"
   ]
  },
  {
   "cell_type": "code",
   "execution_count": 28,
   "id": "22a4fe1a",
   "metadata": {},
   "outputs": [],
   "source": [
    "sm=SMOTE()\n",
    "x,y=sm.fit_resample(df[['bruises','odor','gill-size','stalk-surface-above-ring','stalk-surface-below-ring','ring-type','spore-print-color']], df[['class']])"
   ]
  },
  {
   "cell_type": "code",
   "execution_count": 29,
   "id": "a333e46d",
   "metadata": {},
   "outputs": [
    {
     "data": {
      "text/plain": [
       "class\n",
       "0        4208\n",
       "1        4208\n",
       "dtype: int64"
      ]
     },
     "execution_count": 29,
     "metadata": {},
     "output_type": "execute_result"
    }
   ],
   "source": [
    "y.value_counts()"
   ]
  },
  {
   "cell_type": "markdown",
   "id": "02ab051c",
   "metadata": {},
   "source": [
    "### Now perform feature scaling"
   ]
  },
  {
   "cell_type": "code",
   "execution_count": 30,
   "id": "e83cacf5",
   "metadata": {},
   "outputs": [],
   "source": [
    "sc=StandardScaler()\n",
    "sc.fit(x)\n",
    "fx=sc.transform(x)\n",
    "x=pd.DataFrame(fx,columns=x.columns)"
   ]
  },
  {
   "cell_type": "code",
   "execution_count": 31,
   "id": "a1514234",
   "metadata": {},
   "outputs": [
    {
     "data": {
      "text/html": [
       "<div>\n",
       "<style scoped>\n",
       "    .dataframe tbody tr th:only-of-type {\n",
       "        vertical-align: middle;\n",
       "    }\n",
       "\n",
       "    .dataframe tbody tr th {\n",
       "        vertical-align: top;\n",
       "    }\n",
       "\n",
       "    .dataframe thead th {\n",
       "        text-align: right;\n",
       "    }\n",
       "</style>\n",
       "<table border=\"1\" class=\"dataframe\">\n",
       "  <thead>\n",
       "    <tr style=\"text-align: right;\">\n",
       "      <th></th>\n",
       "      <th>bruises</th>\n",
       "      <th>odor</th>\n",
       "      <th>gill-size</th>\n",
       "      <th>stalk-surface-above-ring</th>\n",
       "      <th>stalk-surface-below-ring</th>\n",
       "      <th>ring-type</th>\n",
       "      <th>spore-print-color</th>\n",
       "    </tr>\n",
       "  </thead>\n",
       "  <tbody>\n",
       "    <tr>\n",
       "      <th>0</th>\n",
       "      <td>-1.208048</td>\n",
       "      <td>-2.304426</td>\n",
       "      <td>-1.461775</td>\n",
       "      <td>-0.74145</td>\n",
       "      <td>-0.756354</td>\n",
       "      <td>-0.899734</td>\n",
       "      <td>-1.288619</td>\n",
       "    </tr>\n",
       "    <tr>\n",
       "      <th>1</th>\n",
       "      <td>-1.208048</td>\n",
       "      <td>-1.668347</td>\n",
       "      <td>0.684100</td>\n",
       "      <td>-0.74145</td>\n",
       "      <td>-0.756354</td>\n",
       "      <td>-0.899734</td>\n",
       "      <td>-0.711971</td>\n",
       "    </tr>\n",
       "    <tr>\n",
       "      <th>2</th>\n",
       "      <td>-1.208048</td>\n",
       "      <td>-1.032268</td>\n",
       "      <td>0.684100</td>\n",
       "      <td>-0.74145</td>\n",
       "      <td>-0.756354</td>\n",
       "      <td>-0.899734</td>\n",
       "      <td>-0.711971</td>\n",
       "    </tr>\n",
       "    <tr>\n",
       "      <th>3</th>\n",
       "      <td>-1.208048</td>\n",
       "      <td>-2.304426</td>\n",
       "      <td>-1.461775</td>\n",
       "      <td>-0.74145</td>\n",
       "      <td>-0.756354</td>\n",
       "      <td>-0.899734</td>\n",
       "      <td>-1.288619</td>\n",
       "    </tr>\n",
       "    <tr>\n",
       "      <th>4</th>\n",
       "      <td>0.827782</td>\n",
       "      <td>-0.396189</td>\n",
       "      <td>0.684100</td>\n",
       "      <td>-0.74145</td>\n",
       "      <td>-0.756354</td>\n",
       "      <td>0.366514</td>\n",
       "      <td>-0.711971</td>\n",
       "    </tr>\n",
       "    <tr>\n",
       "      <th>...</th>\n",
       "      <td>...</td>\n",
       "      <td>...</td>\n",
       "      <td>...</td>\n",
       "      <td>...</td>\n",
       "      <td>...</td>\n",
       "      <td>...</td>\n",
       "      <td>...</td>\n",
       "    </tr>\n",
       "    <tr>\n",
       "      <th>8411</th>\n",
       "      <td>0.827782</td>\n",
       "      <td>2.148128</td>\n",
       "      <td>-1.461775</td>\n",
       "      <td>-0.74145</td>\n",
       "      <td>-0.756354</td>\n",
       "      <td>0.366514</td>\n",
       "      <td>1.017973</td>\n",
       "    </tr>\n",
       "    <tr>\n",
       "      <th>8412</th>\n",
       "      <td>-1.208048</td>\n",
       "      <td>0.239890</td>\n",
       "      <td>0.684100</td>\n",
       "      <td>-0.74145</td>\n",
       "      <td>-0.756354</td>\n",
       "      <td>-0.899734</td>\n",
       "      <td>0.441325</td>\n",
       "    </tr>\n",
       "    <tr>\n",
       "      <th>8413</th>\n",
       "      <td>0.827782</td>\n",
       "      <td>0.239890</td>\n",
       "      <td>-1.461775</td>\n",
       "      <td>1.44191</td>\n",
       "      <td>-0.756354</td>\n",
       "      <td>0.366514</td>\n",
       "      <td>1.017973</td>\n",
       "    </tr>\n",
       "    <tr>\n",
       "      <th>8414</th>\n",
       "      <td>0.827782</td>\n",
       "      <td>0.875969</td>\n",
       "      <td>-1.461775</td>\n",
       "      <td>-0.74145</td>\n",
       "      <td>-0.756354</td>\n",
       "      <td>-0.899734</td>\n",
       "      <td>-0.711971</td>\n",
       "    </tr>\n",
       "    <tr>\n",
       "      <th>8415</th>\n",
       "      <td>0.827782</td>\n",
       "      <td>0.239890</td>\n",
       "      <td>0.684100</td>\n",
       "      <td>1.44191</td>\n",
       "      <td>1.479761</td>\n",
       "      <td>1.632761</td>\n",
       "      <td>0.441325</td>\n",
       "    </tr>\n",
       "  </tbody>\n",
       "</table>\n",
       "<p>8416 rows × 7 columns</p>\n",
       "</div>"
      ],
      "text/plain": [
       "       bruises      odor  gill-size  stalk-surface-above-ring  \\\n",
       "0    -1.208048 -2.304426  -1.461775                  -0.74145   \n",
       "1    -1.208048 -1.668347   0.684100                  -0.74145   \n",
       "2    -1.208048 -1.032268   0.684100                  -0.74145   \n",
       "3    -1.208048 -2.304426  -1.461775                  -0.74145   \n",
       "4     0.827782 -0.396189   0.684100                  -0.74145   \n",
       "...        ...       ...        ...                       ...   \n",
       "8411  0.827782  2.148128  -1.461775                  -0.74145   \n",
       "8412 -1.208048  0.239890   0.684100                  -0.74145   \n",
       "8413  0.827782  0.239890  -1.461775                   1.44191   \n",
       "8414  0.827782  0.875969  -1.461775                  -0.74145   \n",
       "8415  0.827782  0.239890   0.684100                   1.44191   \n",
       "\n",
       "      stalk-surface-below-ring  ring-type  spore-print-color  \n",
       "0                    -0.756354  -0.899734          -1.288619  \n",
       "1                    -0.756354  -0.899734          -0.711971  \n",
       "2                    -0.756354  -0.899734          -0.711971  \n",
       "3                    -0.756354  -0.899734          -1.288619  \n",
       "4                    -0.756354   0.366514          -0.711971  \n",
       "...                        ...        ...                ...  \n",
       "8411                 -0.756354   0.366514           1.017973  \n",
       "8412                 -0.756354  -0.899734           0.441325  \n",
       "8413                 -0.756354   0.366514           1.017973  \n",
       "8414                 -0.756354  -0.899734          -0.711971  \n",
       "8415                  1.479761   1.632761           0.441325  \n",
       "\n",
       "[8416 rows x 7 columns]"
      ]
     },
     "execution_count": 31,
     "metadata": {},
     "output_type": "execute_result"
    }
   ],
   "source": [
    "x"
   ]
  },
  {
   "cell_type": "markdown",
   "id": "380da462",
   "metadata": {},
   "source": [
    "### perform pca for dimension reducing for dimension reducing"
   ]
  },
  {
   "cell_type": "code",
   "execution_count": 32,
   "id": "b0d06e93",
   "metadata": {},
   "outputs": [
    {
     "name": "stdout",
     "output_type": "stream",
     "text": [
      "2 0.7260658373355455\n",
      "3 0.8006480251056666\n",
      "4 0.864300808468532\n",
      "5 0.9175643547935062\n",
      "6 0.9672610226649614\n",
      "7 1.0\n"
     ]
    }
   ],
   "source": [
    "for i in range(2,8):\n",
    "    pca = PCA(n_components=i)\n",
    "    principalComponents = pca.fit_transform(x)\n",
    "    print(i,sum(pca.explained_variance_ratio_))"
   ]
  },
  {
   "cell_type": "markdown",
   "id": "fd325d1b",
   "metadata": {},
   "source": [
    "### my personal choice to take pca component with data retention more than 95% so i will choose 6"
   ]
  },
  {
   "cell_type": "code",
   "execution_count": 33,
   "id": "afd98bd0",
   "metadata": {},
   "outputs": [],
   "source": [
    "pca = PCA(n_components=6)\n",
    "principalComponents = pca.fit_transform(x)"
   ]
  },
  {
   "cell_type": "markdown",
   "id": "f8bb44bc",
   "metadata": {},
   "source": [
    "### Now we will start with model selection and tuning training process.\n",
    "### first find the most optimum model\n",
    "### second we need to find the most optimum random state in train test split\n",
    "### we shall evaluate model on f1score as it is balanced dataset"
   ]
  },
  {
   "cell_type": "markdown",
   "id": "ace46f13",
   "metadata": {},
   "source": [
    "### Now write code to find best model along with the best hyper parameter"
   ]
  },
  {
   "cell_type": "code",
   "execution_count": 34,
   "id": "04f68b91",
   "metadata": {},
   "outputs": [],
   "source": [
    "models=[LogisticRegression,DecisionTreeClassifier,KNeighborsClassifier,RandomForestClassifier,SVC]\n",
    "param={LogisticRegression:(),DecisionTreeClassifier:(),\n",
    "       KNeighborsClassifier:{\"n_neighbors\":range(1,30)},\n",
    "      RandomForestClassifier:{\"n_estimators\":[10,100,500]},\n",
    "      SVC:{\"kernel\":[\"linear\", \"poly\", \"rbf\"],\"C\":[0.001,0.01,0.1,1,10]}}"
   ]
  },
  {
   "cell_type": "code",
   "execution_count": 35,
   "id": "e1e980c4",
   "metadata": {},
   "outputs": [
    {
     "name": "stdout",
     "output_type": "stream",
     "text": [
      "Best model: <class 'sklearn.svm._classes.SVC'>\n",
      "parameters used are: {'C': 10, 'kernel': 'poly'}\n",
      "F1 score: 0.9941320293398533\n"
     ]
    }
   ],
   "source": [
    "best_model_score=0\n",
    "best_model=0\n",
    "paramy=0\n",
    "paramx=0\n",
    "for model in models:\n",
    "    if len(param[model])!=0:\n",
    "        clf = GridSearchCV(model(), param[model], cv=5,scoring=\"f1\")\n",
    "        clf.fit(principalComponents,y)\n",
    "        dicty=clf.best_params_\n",
    "        if len(dicty)==1:\n",
    "            score=cross_val_score(model(*dicty.values()),principalComponents,y,cv=5,scoring=\"f1\").mean()\n",
    "            paramx=dicty\n",
    "        else:\n",
    "            score=cross_val_score(model(kernel=dicty['kernel'],C=dicty['C']),principalComponents,y,cv=5,scoring=\"f1\").mean()\n",
    "            paramx=dicty\n",
    "    else:\n",
    "        score=cross_val_score(model(),principalComponents,y,cv=5,scoring=\"f1\").mean()\n",
    "        paramx=0\n",
    "    if score>best_model_score:\n",
    "        best_model_score=score\n",
    "        best_model=model\n",
    "        paramy=paramx\n",
    "print('Best model:',best_model)\n",
    "print('parameters used are:',paramy)\n",
    "print('F1 score:',best_model_score)"
   ]
  },
  {
   "cell_type": "markdown",
   "id": "cdee4100",
   "metadata": {},
   "source": [
    "### write code to find most optimum training set"
   ]
  },
  {
   "cell_type": "code",
   "execution_count": 36,
   "id": "acb091e4",
   "metadata": {},
   "outputs": [],
   "source": [
    "def besttrain(model,x,y):\n",
    "    random=0\n",
    "    score=0\n",
    "    for i in range(42,100):\n",
    "        x_train,x_test,y_train,y_test=train_test_split(x,y,random_state = i,test_size=0.20,stratify=y,shuffle=True)\n",
    "        model.fit(x_train,y_train)\n",
    "        tmp=f1_score(y_test,model.predict(x_test))\n",
    "        if tmp>score:\n",
    "            score=tmp\n",
    "            random=i\n",
    "    print(\"maximum f1_score is at random state :\",random,\" and it is :\",score)"
   ]
  },
  {
   "cell_type": "code",
   "execution_count": 37,
   "id": "d630d400",
   "metadata": {},
   "outputs": [
    {
     "name": "stdout",
     "output_type": "stream",
     "text": [
      "maximum f1_score is at random state : 42  and it is : 1.0\n"
     ]
    }
   ],
   "source": [
    "besttrain(SVC(kernel='poly',C=10),principalComponents,y)"
   ]
  },
  {
   "cell_type": "code",
   "execution_count": 38,
   "id": "118d171a",
   "metadata": {},
   "outputs": [
    {
     "name": "stdout",
     "output_type": "stream",
     "text": [
      "Mean f1 score for SVM classifier:  0.9941320293398533\n",
      "Confusion matrix \n",
      " [[842   0]\n",
      " [  0 842]]\n",
      "f1 score is :  1.0\n",
      "classification report \n",
      "               precision    recall  f1-score   support\n",
      "\n",
      "           0       1.00      1.00      1.00       842\n",
      "           1       1.00      1.00      1.00       842\n",
      "\n",
      "    accuracy                           1.00      1684\n",
      "   macro avg       1.00      1.00      1.00      1684\n",
      "weighted avg       1.00      1.00      1.00      1684\n",
      "\n",
      "AUC ROC Score:  1.0\n",
      "standard deviation in f1 score for SVM classifier:  0.011735941320293408\n",
      "[1.         1.         1.         1.         0.97066015]\n"
     ]
    }
   ],
   "source": [
    "svc=SVC(kernel=\"poly\",C=10)\n",
    "x_train,x_test,y_train,y_test=train_test_split(principalComponents, y,random_state = 42,test_size=0.20,stratify=y)\n",
    "svc.fit(x_train,y_train)\n",
    "y_pred=svc.predict(x_test)\n",
    "print(\"Mean f1 score for SVM classifier: \",cross_val_score(svc,principalComponents,y,cv=5,scoring=\"f1\").mean())\n",
    "print(\"Confusion matrix \\n\",confusion_matrix(y_test,y_pred))\n",
    "print(\"f1 score is : \",f1_score(y_test,y_pred))\n",
    "print(\"classification report \\n\",classification_report(y_test,y_pred))\n",
    "print(\"AUC ROC Score: \",roc_auc_score(y_test,y_pred))\n",
    "print(\"standard deviation in f1 score for SVM classifier: \",cross_val_score(svc,principalComponents,y,cv=5,scoring=\"f1\").std())\n",
    "print(cross_val_score(svc,principalComponents,y,cv=5,scoring=\"f1\"))"
   ]
  },
  {
   "cell_type": "code",
   "execution_count": 39,
   "id": "bebfebc1",
   "metadata": {},
   "outputs": [
    {
     "data": {
      "text/plain": [
       "['TOPI.obj']"
      ]
     },
     "execution_count": 39,
     "metadata": {},
     "output_type": "execute_result"
    }
   ],
   "source": [
    "joblib.dump(svc,'TOPI.obj')"
   ]
  }
 ],
 "metadata": {
  "kernelspec": {
   "display_name": "Python 3",
   "language": "python",
   "name": "python3"
  },
  "language_info": {
   "codemirror_mode": {
    "name": "ipython",
    "version": 3
   },
   "file_extension": ".py",
   "mimetype": "text/x-python",
   "name": "python",
   "nbconvert_exporter": "python",
   "pygments_lexer": "ipython3",
   "version": "3.8.8"
  }
 },
 "nbformat": 4,
 "nbformat_minor": 5
}
