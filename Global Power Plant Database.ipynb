{
 "cells": [
  {
   "cell_type": "markdown",
   "id": "95459400",
   "metadata": {},
   "source": [
    "### import packages"
   ]
  },
  {
   "cell_type": "code",
   "execution_count": 115,
   "id": "829171cf",
   "metadata": {},
   "outputs": [],
   "source": [
    "import pandas as pd\n",
    "import matplotlib.pyplot as plt\n",
    "import warnings\n",
    "warnings.filterwarnings(\"ignore\")\n",
    "import seaborn as sn\n",
    "import numpy as np\n",
    "import scipy.stats as stats\n",
    "from scipy.stats import zscore\n",
    "from sklearn.preprocessing import StandardScaler\n",
    "from sklearn.decomposition import PCA\n",
    "from sklearn.metrics import f1_score\n",
    "from sklearn.model_selection import train_test_split\n",
    "from sklearn.model_selection import cross_val_score\n",
    "import random\n",
    "from sklearn.model_selection import GridSearchCV,RandomizedSearchCV\n",
    "from sklearn.linear_model import LogisticRegression\n",
    "from sklearn.neighbors import KNeighborsClassifier\n",
    "from sklearn.tree import DecisionTreeClassifier\n",
    "from sklearn.ensemble import RandomForestClassifier\n",
    "from sklearn.svm import SVC\n",
    "from sklearn.linear_model import RidgeClassifier\n",
    "from sklearn.ensemble import BaggingClassifier\n",
    "from sklearn.ensemble import GradientBoostingClassifier\n",
    "from sklearn.linear_model import Lasso\n",
    "from sklearn.linear_model import ElasticNet\n",
    "from sklearn.linear_model import LassoLars\n",
    "from sklearn.linear_model import BayesianRidge\n",
    "from sklearn.linear_model import SGDClassifier\n",
    "from sklearn.metrics import confusion_matrix\n",
    "from sklearn.metrics import classification_report\n",
    "from sklearn.metrics import roc_auc_score,roc_curve\n",
    "from sklearn.impute import KNNImputer\n",
    "from sklearn.utils import resample\n",
    "from lightgbm import LGBMClassifier\n",
    "from xgboost import XGBClassifier\n",
    "from sklearn.ensemble import ExtraTreesClassifier\n",
    "from sklearn.semi_supervised import LabelSpreading,LabelPropagation\n",
    "from sklearn.ensemble import AdaBoostClassifier\n",
    "from sklearn.discriminant_analysis import QuadraticDiscriminantAnalysis,LinearDiscriminantAnalysis\n",
    "from sklearn.calibration import CalibratedClassifierCV\n",
    "from sklearn.svm import LinearSVC,NuSVC\n",
    "from sklearn.linear_model import RidgeClassifierCV,PassiveAggressiveClassifier,Perceptron\n",
    "from sklearn.naive_bayes import GaussianNB,BernoulliNB\n",
    "from sklearn.neighbors import NearestCentroid\n",
    "from sklearn.dummy import DummyClassifier\n",
    "from statsmodels.stats.outliers_influence import variance_inflation_factor\n",
    "from sklearn.ensemble import RandomForestRegressor,GradientBoostingRegressor,AdaBoostRegressor,BaggingRegressor\n",
    "from sklearn.tree import DecisionTreeRegressor\n",
    "from sklearn.svm import SVR,NuSVR,LinearSVR\n",
    "from sklearn.linear_model import LinearRegression,Ridge,RidgeCV,BayesianRidge,SGDRegressor\n",
    "from sklearn.neighbors import KNeighborsRegressor\n",
    "from sklearn.model_selection import GridSearchCV,RandomizedSearchCV\n",
    "from sklearn.metrics import r2_score,mean_absolute_error,mean_squared_error\n",
    "from sklearn.svm import NuSVR\n",
    "from sklearn.impute import KNNImputer\n",
    "from sklearn.cluster import KMeans\n",
    "from lightgbm import LGBMRegressor\n",
    "from xgboost import XGBRegressor,XGBRFRegressor\n",
    "from mlxtend.regressor import StackingCVRegressor\n",
    "from io import StringIO\n",
    "from sklearn.tree import export_graphviz\n",
    "from statsmodels.stats.outliers_influence import variance_inflation_factor\n",
    "import pydotplus\n",
    "from IPython.display import Image\n",
    "import os\n",
    "from sklearn.feature_selection import SelectKBest,chi2\n",
    "from scipy.stats import randint as sp_randint\n",
    "from scipy.stats import uniform as sp_uniform\n",
    "import joblib"
   ]
  },
  {
   "cell_type": "code",
   "execution_count": 2,
   "id": "d7e28463",
   "metadata": {},
   "outputs": [
    {
     "data": {
      "text/html": [
       "<div>\n",
       "<style scoped>\n",
       "    .dataframe tbody tr th:only-of-type {\n",
       "        vertical-align: middle;\n",
       "    }\n",
       "\n",
       "    .dataframe tbody tr th {\n",
       "        vertical-align: top;\n",
       "    }\n",
       "\n",
       "    .dataframe thead th {\n",
       "        text-align: right;\n",
       "    }\n",
       "</style>\n",
       "<table border=\"1\" class=\"dataframe\">\n",
       "  <thead>\n",
       "    <tr style=\"text-align: right;\">\n",
       "      <th></th>\n",
       "      <th>country</th>\n",
       "      <th>country_long</th>\n",
       "      <th>name</th>\n",
       "      <th>gppd_idnr</th>\n",
       "      <th>capacity_mw</th>\n",
       "      <th>latitude</th>\n",
       "      <th>longitude</th>\n",
       "      <th>primary_fuel</th>\n",
       "      <th>other_fuel1</th>\n",
       "      <th>other_fuel2</th>\n",
       "      <th>...</th>\n",
       "      <th>geolocation_source</th>\n",
       "      <th>wepp_id</th>\n",
       "      <th>year_of_capacity_data</th>\n",
       "      <th>generation_gwh_2013</th>\n",
       "      <th>generation_gwh_2014</th>\n",
       "      <th>generation_gwh_2015</th>\n",
       "      <th>generation_gwh_2016</th>\n",
       "      <th>generation_gwh_2017</th>\n",
       "      <th>generation_data_source</th>\n",
       "      <th>estimated_generation_gwh</th>\n",
       "    </tr>\n",
       "  </thead>\n",
       "  <tbody>\n",
       "    <tr>\n",
       "      <th>0</th>\n",
       "      <td>IND</td>\n",
       "      <td>India</td>\n",
       "      <td>ACME Solar Tower</td>\n",
       "      <td>WRI1020239</td>\n",
       "      <td>2.5</td>\n",
       "      <td>28.1839</td>\n",
       "      <td>73.2407</td>\n",
       "      <td>Solar</td>\n",
       "      <td>NaN</td>\n",
       "      <td>NaN</td>\n",
       "      <td>...</td>\n",
       "      <td>National Renewable Energy Laboratory</td>\n",
       "      <td>NaN</td>\n",
       "      <td>NaN</td>\n",
       "      <td>NaN</td>\n",
       "      <td>NaN</td>\n",
       "      <td>NaN</td>\n",
       "      <td>NaN</td>\n",
       "      <td>NaN</td>\n",
       "      <td>NaN</td>\n",
       "      <td>NaN</td>\n",
       "    </tr>\n",
       "    <tr>\n",
       "      <th>1</th>\n",
       "      <td>IND</td>\n",
       "      <td>India</td>\n",
       "      <td>ADITYA CEMENT WORKS</td>\n",
       "      <td>WRI1019881</td>\n",
       "      <td>98.0</td>\n",
       "      <td>24.7663</td>\n",
       "      <td>74.6090</td>\n",
       "      <td>Coal</td>\n",
       "      <td>NaN</td>\n",
       "      <td>NaN</td>\n",
       "      <td>...</td>\n",
       "      <td>WRI</td>\n",
       "      <td>NaN</td>\n",
       "      <td>NaN</td>\n",
       "      <td>NaN</td>\n",
       "      <td>NaN</td>\n",
       "      <td>NaN</td>\n",
       "      <td>NaN</td>\n",
       "      <td>NaN</td>\n",
       "      <td>NaN</td>\n",
       "      <td>NaN</td>\n",
       "    </tr>\n",
       "    <tr>\n",
       "      <th>2</th>\n",
       "      <td>IND</td>\n",
       "      <td>India</td>\n",
       "      <td>AES Saurashtra Windfarms</td>\n",
       "      <td>WRI1026669</td>\n",
       "      <td>39.2</td>\n",
       "      <td>21.9038</td>\n",
       "      <td>69.3732</td>\n",
       "      <td>Wind</td>\n",
       "      <td>NaN</td>\n",
       "      <td>NaN</td>\n",
       "      <td>...</td>\n",
       "      <td>WRI</td>\n",
       "      <td>NaN</td>\n",
       "      <td>NaN</td>\n",
       "      <td>NaN</td>\n",
       "      <td>NaN</td>\n",
       "      <td>NaN</td>\n",
       "      <td>NaN</td>\n",
       "      <td>NaN</td>\n",
       "      <td>NaN</td>\n",
       "      <td>NaN</td>\n",
       "    </tr>\n",
       "    <tr>\n",
       "      <th>3</th>\n",
       "      <td>IND</td>\n",
       "      <td>India</td>\n",
       "      <td>AGARTALA GT</td>\n",
       "      <td>IND0000001</td>\n",
       "      <td>135.0</td>\n",
       "      <td>23.8712</td>\n",
       "      <td>91.3602</td>\n",
       "      <td>Gas</td>\n",
       "      <td>NaN</td>\n",
       "      <td>NaN</td>\n",
       "      <td>...</td>\n",
       "      <td>WRI</td>\n",
       "      <td>NaN</td>\n",
       "      <td>2018.0</td>\n",
       "      <td>631.777928</td>\n",
       "      <td>617.789264</td>\n",
       "      <td>843.747000</td>\n",
       "      <td>886.004428</td>\n",
       "      <td>663.774500</td>\n",
       "      <td>Central Electricity Authority</td>\n",
       "      <td>NaN</td>\n",
       "    </tr>\n",
       "    <tr>\n",
       "      <th>4</th>\n",
       "      <td>IND</td>\n",
       "      <td>India</td>\n",
       "      <td>AKALTARA TPP</td>\n",
       "      <td>IND0000002</td>\n",
       "      <td>1800.0</td>\n",
       "      <td>21.9603</td>\n",
       "      <td>82.4091</td>\n",
       "      <td>Coal</td>\n",
       "      <td>Oil</td>\n",
       "      <td>NaN</td>\n",
       "      <td>...</td>\n",
       "      <td>WRI</td>\n",
       "      <td>NaN</td>\n",
       "      <td>2018.0</td>\n",
       "      <td>1668.290000</td>\n",
       "      <td>3035.550000</td>\n",
       "      <td>5916.370000</td>\n",
       "      <td>6243.000000</td>\n",
       "      <td>5385.579736</td>\n",
       "      <td>Central Electricity Authority</td>\n",
       "      <td>NaN</td>\n",
       "    </tr>\n",
       "    <tr>\n",
       "      <th>...</th>\n",
       "      <td>...</td>\n",
       "      <td>...</td>\n",
       "      <td>...</td>\n",
       "      <td>...</td>\n",
       "      <td>...</td>\n",
       "      <td>...</td>\n",
       "      <td>...</td>\n",
       "      <td>...</td>\n",
       "      <td>...</td>\n",
       "      <td>...</td>\n",
       "      <td>...</td>\n",
       "      <td>...</td>\n",
       "      <td>...</td>\n",
       "      <td>...</td>\n",
       "      <td>...</td>\n",
       "      <td>...</td>\n",
       "      <td>...</td>\n",
       "      <td>...</td>\n",
       "      <td>...</td>\n",
       "      <td>...</td>\n",
       "      <td>...</td>\n",
       "    </tr>\n",
       "    <tr>\n",
       "      <th>903</th>\n",
       "      <td>IND</td>\n",
       "      <td>India</td>\n",
       "      <td>YERMARUS TPP</td>\n",
       "      <td>IND0000513</td>\n",
       "      <td>1600.0</td>\n",
       "      <td>16.2949</td>\n",
       "      <td>77.3568</td>\n",
       "      <td>Coal</td>\n",
       "      <td>Oil</td>\n",
       "      <td>NaN</td>\n",
       "      <td>...</td>\n",
       "      <td>WRI</td>\n",
       "      <td>NaN</td>\n",
       "      <td>2018.0</td>\n",
       "      <td>NaN</td>\n",
       "      <td>NaN</td>\n",
       "      <td>0.994875</td>\n",
       "      <td>233.596650</td>\n",
       "      <td>865.400000</td>\n",
       "      <td>Central Electricity Authority</td>\n",
       "      <td>NaN</td>\n",
       "    </tr>\n",
       "    <tr>\n",
       "      <th>904</th>\n",
       "      <td>IND</td>\n",
       "      <td>India</td>\n",
       "      <td>Yelesandra Solar Power Plant</td>\n",
       "      <td>WRI1026222</td>\n",
       "      <td>3.0</td>\n",
       "      <td>12.8932</td>\n",
       "      <td>78.1654</td>\n",
       "      <td>Solar</td>\n",
       "      <td>NaN</td>\n",
       "      <td>NaN</td>\n",
       "      <td>...</td>\n",
       "      <td>Industry About</td>\n",
       "      <td>NaN</td>\n",
       "      <td>NaN</td>\n",
       "      <td>NaN</td>\n",
       "      <td>NaN</td>\n",
       "      <td>NaN</td>\n",
       "      <td>NaN</td>\n",
       "      <td>NaN</td>\n",
       "      <td>NaN</td>\n",
       "      <td>NaN</td>\n",
       "    </tr>\n",
       "    <tr>\n",
       "      <th>905</th>\n",
       "      <td>IND</td>\n",
       "      <td>India</td>\n",
       "      <td>Yelisirur wind power project</td>\n",
       "      <td>WRI1026776</td>\n",
       "      <td>25.5</td>\n",
       "      <td>15.2758</td>\n",
       "      <td>75.5811</td>\n",
       "      <td>Wind</td>\n",
       "      <td>NaN</td>\n",
       "      <td>NaN</td>\n",
       "      <td>...</td>\n",
       "      <td>WRI</td>\n",
       "      <td>NaN</td>\n",
       "      <td>NaN</td>\n",
       "      <td>NaN</td>\n",
       "      <td>NaN</td>\n",
       "      <td>NaN</td>\n",
       "      <td>NaN</td>\n",
       "      <td>NaN</td>\n",
       "      <td>NaN</td>\n",
       "      <td>NaN</td>\n",
       "    </tr>\n",
       "    <tr>\n",
       "      <th>906</th>\n",
       "      <td>IND</td>\n",
       "      <td>India</td>\n",
       "      <td>ZAWAR MINES</td>\n",
       "      <td>WRI1019901</td>\n",
       "      <td>80.0</td>\n",
       "      <td>24.3500</td>\n",
       "      <td>73.7477</td>\n",
       "      <td>Coal</td>\n",
       "      <td>NaN</td>\n",
       "      <td>NaN</td>\n",
       "      <td>...</td>\n",
       "      <td>WRI</td>\n",
       "      <td>NaN</td>\n",
       "      <td>NaN</td>\n",
       "      <td>NaN</td>\n",
       "      <td>NaN</td>\n",
       "      <td>NaN</td>\n",
       "      <td>NaN</td>\n",
       "      <td>NaN</td>\n",
       "      <td>NaN</td>\n",
       "      <td>NaN</td>\n",
       "    </tr>\n",
       "    <tr>\n",
       "      <th>907</th>\n",
       "      <td>IND</td>\n",
       "      <td>India</td>\n",
       "      <td>iEnergy Theni Wind Farm</td>\n",
       "      <td>WRI1026761</td>\n",
       "      <td>16.5</td>\n",
       "      <td>9.9344</td>\n",
       "      <td>77.4768</td>\n",
       "      <td>Wind</td>\n",
       "      <td>NaN</td>\n",
       "      <td>NaN</td>\n",
       "      <td>...</td>\n",
       "      <td>WRI</td>\n",
       "      <td>NaN</td>\n",
       "      <td>NaN</td>\n",
       "      <td>NaN</td>\n",
       "      <td>NaN</td>\n",
       "      <td>NaN</td>\n",
       "      <td>NaN</td>\n",
       "      <td>NaN</td>\n",
       "      <td>NaN</td>\n",
       "      <td>NaN</td>\n",
       "    </tr>\n",
       "  </tbody>\n",
       "</table>\n",
       "<p>908 rows × 25 columns</p>\n",
       "</div>"
      ],
      "text/plain": [
       "    country country_long                          name   gppd_idnr  \\\n",
       "0       IND        India              ACME Solar Tower  WRI1020239   \n",
       "1       IND        India           ADITYA CEMENT WORKS  WRI1019881   \n",
       "2       IND        India      AES Saurashtra Windfarms  WRI1026669   \n",
       "3       IND        India                   AGARTALA GT  IND0000001   \n",
       "4       IND        India                  AKALTARA TPP  IND0000002   \n",
       "..      ...          ...                           ...         ...   \n",
       "903     IND        India                  YERMARUS TPP  IND0000513   \n",
       "904     IND        India  Yelesandra Solar Power Plant  WRI1026222   \n",
       "905     IND        India  Yelisirur wind power project  WRI1026776   \n",
       "906     IND        India                   ZAWAR MINES  WRI1019901   \n",
       "907     IND        India       iEnergy Theni Wind Farm  WRI1026761   \n",
       "\n",
       "     capacity_mw  latitude  longitude primary_fuel other_fuel1 other_fuel2  \\\n",
       "0            2.5   28.1839    73.2407        Solar         NaN         NaN   \n",
       "1           98.0   24.7663    74.6090         Coal         NaN         NaN   \n",
       "2           39.2   21.9038    69.3732         Wind         NaN         NaN   \n",
       "3          135.0   23.8712    91.3602          Gas         NaN         NaN   \n",
       "4         1800.0   21.9603    82.4091         Coal         Oil         NaN   \n",
       "..           ...       ...        ...          ...         ...         ...   \n",
       "903       1600.0   16.2949    77.3568         Coal         Oil         NaN   \n",
       "904          3.0   12.8932    78.1654        Solar         NaN         NaN   \n",
       "905         25.5   15.2758    75.5811         Wind         NaN         NaN   \n",
       "906         80.0   24.3500    73.7477         Coal         NaN         NaN   \n",
       "907         16.5    9.9344    77.4768         Wind         NaN         NaN   \n",
       "\n",
       "     ...                    geolocation_source  wepp_id year_of_capacity_data  \\\n",
       "0    ...  National Renewable Energy Laboratory      NaN                   NaN   \n",
       "1    ...                                   WRI      NaN                   NaN   \n",
       "2    ...                                   WRI      NaN                   NaN   \n",
       "3    ...                                   WRI      NaN                2018.0   \n",
       "4    ...                                   WRI      NaN                2018.0   \n",
       "..   ...                                   ...      ...                   ...   \n",
       "903  ...                                   WRI      NaN                2018.0   \n",
       "904  ...                        Industry About      NaN                   NaN   \n",
       "905  ...                                   WRI      NaN                   NaN   \n",
       "906  ...                                   WRI      NaN                   NaN   \n",
       "907  ...                                   WRI      NaN                   NaN   \n",
       "\n",
       "    generation_gwh_2013 generation_gwh_2014 generation_gwh_2015  \\\n",
       "0                   NaN                 NaN                 NaN   \n",
       "1                   NaN                 NaN                 NaN   \n",
       "2                   NaN                 NaN                 NaN   \n",
       "3            631.777928          617.789264          843.747000   \n",
       "4           1668.290000         3035.550000         5916.370000   \n",
       "..                  ...                 ...                 ...   \n",
       "903                 NaN                 NaN            0.994875   \n",
       "904                 NaN                 NaN                 NaN   \n",
       "905                 NaN                 NaN                 NaN   \n",
       "906                 NaN                 NaN                 NaN   \n",
       "907                 NaN                 NaN                 NaN   \n",
       "\n",
       "     generation_gwh_2016  generation_gwh_2017         generation_data_source  \\\n",
       "0                    NaN                  NaN                            NaN   \n",
       "1                    NaN                  NaN                            NaN   \n",
       "2                    NaN                  NaN                            NaN   \n",
       "3             886.004428           663.774500  Central Electricity Authority   \n",
       "4            6243.000000          5385.579736  Central Electricity Authority   \n",
       "..                   ...                  ...                            ...   \n",
       "903           233.596650           865.400000  Central Electricity Authority   \n",
       "904                  NaN                  NaN                            NaN   \n",
       "905                  NaN                  NaN                            NaN   \n",
       "906                  NaN                  NaN                            NaN   \n",
       "907                  NaN                  NaN                            NaN   \n",
       "\n",
       "     estimated_generation_gwh  \n",
       "0                         NaN  \n",
       "1                         NaN  \n",
       "2                         NaN  \n",
       "3                         NaN  \n",
       "4                         NaN  \n",
       "..                        ...  \n",
       "903                       NaN  \n",
       "904                       NaN  \n",
       "905                       NaN  \n",
       "906                       NaN  \n",
       "907                       NaN  \n",
       "\n",
       "[908 rows x 25 columns]"
      ]
     },
     "execution_count": 2,
     "metadata": {},
     "output_type": "execute_result"
    }
   ],
   "source": [
    "df=pd.read_csv('database_IND.csv')\n",
    "df"
   ]
  },
  {
   "cell_type": "markdown",
   "id": "0480bb09",
   "metadata": {},
   "source": [
    "### Description of columns\n",
    "##### `country` (text): 3 character country code corresponding to the ISO 3166-1 alpha-3 specification\n",
    "##### `country_long` (text): longer form of the country designation\n",
    "##### `name` (text): name or title of the power plant, generally in Romanized form\n",
    "##### `gppd_idnr` (text): 10 or 12 character identifier for the power plant\n",
    "##### `capacity_mw` (number): electrical generating capacity in megawatts\n",
    "##### `latitude` (number): geolocation in decimal degrees; WGS84 (EPSG:4326)\n",
    "##### `longitude` (number): geolocation in decimal degrees; WGS84 (EPSG:4326)\n",
    "##### `primary_fuel` (text): energy source used in primary electricity generation or export\n",
    "##### `other_fuel1` (text): energy source used in electricity generation or export\n",
    "##### `other_fuel2` (text): energy source used in electricity generation or export\n",
    "##### `other_fuel3` (text): energy source used in electricity generation or export\n",
    "##### `commissioning_year` (number): year of plant operation, weighted by unit-capacity when data is available\n",
    "##### `owner` (text): majority shareholder of the power plant, generally in Romanized form\n",
    "##### `source` (text): entity reporting the data; could be an organization, report, or document, generally in Romanized form\n",
    "##### `url` (text): web document corresponding to the `source` field\n",
    "##### `geolocation_source` (text): attribution for geolocation information\n",
    "##### `wepp_id` (text): a reference to a unique plant identifier in the widely-used PLATTS-WEPP database.\n",
    "##### `year_of_capacity_data` (number): year the capacity information was reported\n",
    "##### `generation_gwh_2013` (number): electricity generation in gigawatt-hours reported for the year 2013\n",
    "##### `generation_gwh_2014` (number): electricity generation in gigawatt-hours reported for the year 2014\n",
    "##### `generation_gwh_2015` (number): electricity generation in gigawatt-hours reported for the year 2015\n",
    "##### `generation_gwh_2016` (number): electricity generation in gigawatt-hours reported for the year 2016\n",
    "##### `generation_gwh_2017` (number): electricity generation in gigawatt-hours reported for the year 2017\n",
    "##### `generation_gwh_2018` (number): electricity generation in gigawatt-hours reported for the year 2018\n",
    "##### `generation_gwh_2019` (number): electricity generation in gigawatt-hours reported for the year 2019\n",
    "##### `generation_data_source` (text): attribution for the reported generation information\n",
    "##### `estimated_generation_gwh` (number): estimated electricity generation in gigawatt-hours\n",
    "##### We define the \"Fuel Type\" attribute of our database based on common fuel categories.\n",
    "### Prediction :   Make two prediction  1) Fuel Type   2) capacity_mw"
   ]
  },
  {
   "cell_type": "markdown",
   "id": "c3b42c30",
   "metadata": {},
   "source": [
    "# Start Analyzes on dataset"
   ]
  },
  {
   "cell_type": "code",
   "execution_count": 3,
   "id": "6410f055",
   "metadata": {},
   "outputs": [
    {
     "data": {
      "text/plain": [
       "Index(['country', 'country_long', 'name', 'gppd_idnr', 'capacity_mw',\n",
       "       'latitude', 'longitude', 'primary_fuel', 'other_fuel1', 'other_fuel2',\n",
       "       'other_fuel3', 'commissioning_year', 'owner', 'source', 'url',\n",
       "       'geolocation_source', 'wepp_id', 'year_of_capacity_data',\n",
       "       'generation_gwh_2013', 'generation_gwh_2014', 'generation_gwh_2015',\n",
       "       'generation_gwh_2016', 'generation_gwh_2017', 'generation_data_source',\n",
       "       'estimated_generation_gwh'],\n",
       "      dtype='object')"
      ]
     },
     "execution_count": 3,
     "metadata": {},
     "output_type": "execute_result"
    }
   ],
   "source": [
    "df.columns"
   ]
  },
  {
   "cell_type": "code",
   "execution_count": 4,
   "id": "6223cf63",
   "metadata": {},
   "outputs": [
    {
     "data": {
      "text/plain": [
       "IND    908\n",
       "Name: country, dtype: int64"
      ]
     },
     "execution_count": 4,
     "metadata": {},
     "output_type": "execute_result"
    }
   ],
   "source": [
    "df.country.value_counts()"
   ]
  },
  {
   "cell_type": "code",
   "execution_count": 5,
   "id": "cca8e7d3",
   "metadata": {},
   "outputs": [
    {
     "data": {
      "text/plain": [
       "India    908\n",
       "Name: country_long, dtype: int64"
      ]
     },
     "execution_count": 5,
     "metadata": {},
     "output_type": "execute_result"
    }
   ],
   "source": [
    "df.country_long.value_counts()"
   ]
  },
  {
   "cell_type": "code",
   "execution_count": 6,
   "id": "6b683332",
   "metadata": {},
   "outputs": [
    {
     "data": {
      "text/plain": [
       "ZAWAR MINES                                   1\n",
       "Ravra - NWEPL Solar Power Plant               1\n",
       "Nokh - Precision Technik Solar Power Plant    1\n",
       "Askandra - Khaya Solar Power Plant            1\n",
       "KUTTIYADI Add ext                             1\n",
       "                                             ..\n",
       "PAMPORE GT                                    1\n",
       "NIMOO BAZGO                                   1\n",
       "HALDIA                                        1\n",
       "Dhursar                                       1\n",
       "MELAMARUTHUR (MUTHIARA)                       1\n",
       "Name: name, Length: 908, dtype: int64"
      ]
     },
     "execution_count": 6,
     "metadata": {},
     "output_type": "execute_result"
    }
   ],
   "source": [
    "df.name.value_counts()"
   ]
  },
  {
   "cell_type": "code",
   "execution_count": 7,
   "id": "1125ad42",
   "metadata": {},
   "outputs": [
    {
     "data": {
      "text/plain": [
       "WRI1026122    1\n",
       "IND0000174    1\n",
       "WRI1019884    1\n",
       "WRI1026108    1\n",
       "WRI1019948    1\n",
       "             ..\n",
       "IND0000190    1\n",
       "WRI1026148    1\n",
       "WRI1019980    1\n",
       "IND0000459    1\n",
       "IND0000479    1\n",
       "Name: gppd_idnr, Length: 908, dtype: int64"
      ]
     },
     "execution_count": 7,
     "metadata": {},
     "output_type": "execute_result"
    }
   ],
   "source": [
    "df.gppd_idnr.value_counts()"
   ]
  },
  {
   "cell_type": "code",
   "execution_count": 8,
   "id": "47f7d4d0",
   "metadata": {},
   "outputs": [
    {
     "data": {
      "text/plain": [
       "Series([], Name: wepp_id, dtype: int64)"
      ]
     },
     "execution_count": 8,
     "metadata": {},
     "output_type": "execute_result"
    }
   ],
   "source": [
    "df.wepp_id.value_counts()"
   ]
  },
  {
   "cell_type": "code",
   "execution_count": 9,
   "id": "d9381ab3",
   "metadata": {},
   "outputs": [
    {
     "data": {
      "text/plain": [
       "Oil    1\n",
       "Name: other_fuel2, dtype: int64"
      ]
     },
     "execution_count": 9,
     "metadata": {},
     "output_type": "execute_result"
    }
   ],
   "source": [
    "df.other_fuel2.value_counts()"
   ]
  },
  {
   "cell_type": "code",
   "execution_count": 10,
   "id": "b3578716",
   "metadata": {},
   "outputs": [
    {
     "data": {
      "text/plain": [
       "Series([], Name: other_fuel3, dtype: int64)"
      ]
     },
     "execution_count": 10,
     "metadata": {},
     "output_type": "execute_result"
    }
   ],
   "source": [
    "df.other_fuel3.value_counts()"
   ]
  },
  {
   "cell_type": "code",
   "execution_count": 11,
   "id": "9993f84e",
   "metadata": {},
   "outputs": [
    {
     "data": {
      "text/plain": [
       "Oil             196\n",
       "Gas               2\n",
       "Cogeneration      1\n",
       "Name: other_fuel1, dtype: int64"
      ]
     },
     "execution_count": 11,
     "metadata": {},
     "output_type": "execute_result"
    }
   ],
   "source": [
    "df.other_fuel1.value_counts()"
   ]
  },
  {
   "cell_type": "code",
   "execution_count": 12,
   "id": "a613fef1",
   "metadata": {},
   "outputs": [
    {
     "data": {
      "text/plain": [
       "2013.0    28\n",
       "2015.0    26\n",
       "2012.0    23\n",
       "2016.0    21\n",
       "2014.0    17\n",
       "          ..\n",
       "1958.0     1\n",
       "1949.0     1\n",
       "1954.0     1\n",
       "1956.0     1\n",
       "1927.0     1\n",
       "Name: commissioning_year, Length: 73, dtype: int64"
      ]
     },
     "execution_count": 12,
     "metadata": {},
     "output_type": "execute_result"
    }
   ],
   "source": [
    "df.commissioning_year.value_counts()"
   ]
  },
  {
   "cell_type": "code",
   "execution_count": 13,
   "id": "a41ee676",
   "metadata": {},
   "outputs": [
    {
     "data": {
      "text/plain": [
       "Jk Cement ltd                           4\n",
       "Sterling Agro Industries ltd.           4\n",
       "Acc Acc ltd                             4\n",
       "Ujaas Energy Limited                    3\n",
       "Hindustan Zinc ltd                      3\n",
       "                                       ..\n",
       "Varam Pvt ltd                           1\n",
       "Mukand Mukand ltd                       1\n",
       "Vaayu Renew                             1\n",
       "Khaya Solar Projects Private Limited    1\n",
       "Precision Technik Private Limited       1\n",
       "Name: owner, Length: 280, dtype: int64"
      ]
     },
     "execution_count": 13,
     "metadata": {},
     "output_type": "execute_result"
    }
   ],
   "source": [
    "df.owner.value_counts()"
   ]
  },
  {
   "cell_type": "code",
   "execution_count": 14,
   "id": "0f578b67",
   "metadata": {},
   "outputs": [
    {
     "data": {
      "text/plain": [
       "Central Electricity Authority                       520\n",
       "CDM                                                 124\n",
       "Lancosola                                            10\n",
       "National Renewable Energy Laboratory                  8\n",
       "National Thermal Power Corporation (NTPC)             6\n",
       "                                                   ... \n",
       "Gangakhed Energy ltd                                  1\n",
       "Clover Solar Private Limited (CSPL)                   1\n",
       "Datta Ssk ltd                                         1\n",
       "Welspun Solar AP Private Limited                      1\n",
       "Gujarat Industries Power Company Limited (GIPCL)      1\n",
       "Name: source, Length: 191, dtype: int64"
      ]
     },
     "execution_count": 14,
     "metadata": {},
     "output_type": "execute_result"
    }
   ],
   "source": [
    "df.source.value_counts()"
   ]
  },
  {
   "cell_type": "code",
   "execution_count": 15,
   "id": "97496897",
   "metadata": {},
   "outputs": [
    {
     "data": {
      "text/plain": [
       "http://www.cea.nic.in/                                                                                                                     520\n",
       "http://www.lancosolar.com/pdfs/rajasthan-pv-project-details.pdf                                                                              7\n",
       "http://www.ntpc.co.in                                                                                                                        6\n",
       "http://viainfotech.biz/Biomass/theme5/document/green_market/REC-project-list.pdf                                                             5\n",
       "https://cdm.unfccc.int/Projects/DB/SGS-UKL1333450990.34/view                                                                                 4\n",
       "                                                                                                                                          ... \n",
       "http://www.punjlloyd.com/energy/renewables                                                                                                   1\n",
       "http://www.tatapower.com/                                                                                                                    1\n",
       "https://cdm.unfccc.int/Projects/DB/RWTUV1356681143.52/view                                                                                   1\n",
       "http://www.abelloncleanenergy.com                                                                                                            1\n",
       "https://cdm.unfccc.int/filestorage/O/6/L/O6LOWTE60VD7BDDY8ZB8AQBVNQQZCJ/1115%20PDD%20revised.pdf?t=dWd8b2picW9kfDBLXNNinuA2EARAJAJta6Yw      1\n",
       "Name: url, Length: 304, dtype: int64"
      ]
     },
     "execution_count": 15,
     "metadata": {},
     "output_type": "execute_result"
    }
   ],
   "source": [
    "df.url.value_counts()"
   ]
  },
  {
   "cell_type": "code",
   "execution_count": 16,
   "id": "298da693",
   "metadata": {},
   "outputs": [
    {
     "data": {
      "text/plain": [
       "24.1917    3\n",
       "19.0004    3\n",
       "16.5697    2\n",
       "23.4639    2\n",
       "13.2450    2\n",
       "          ..\n",
       "20.9099    1\n",
       "17.2387    1\n",
       "23.5594    1\n",
       "27.3426    1\n",
       "16.5973    1\n",
       "Name: latitude, Length: 837, dtype: int64"
      ]
     },
     "execution_count": 16,
     "metadata": {},
     "output_type": "execute_result"
    }
   ],
   "source": [
    "df.latitude.value_counts()"
   ]
  },
  {
   "cell_type": "code",
   "execution_count": 17,
   "id": "8f319b28",
   "metadata": {},
   "outputs": [
    {
     "data": {
      "text/plain": [
       "71.6917    4\n",
       "71.6918    3\n",
       "75.8988    3\n",
       "72.8983    3\n",
       "81.2875    3\n",
       "          ..\n",
       "80.1264    1\n",
       "76.1137    1\n",
       "74.6447    1\n",
       "86.0970    1\n",
       "79.5748    1\n",
       "Name: longitude, Length: 828, dtype: int64"
      ]
     },
     "execution_count": 17,
     "metadata": {},
     "output_type": "execute_result"
    }
   ],
   "source": [
    "df.longitude.value_counts()"
   ]
  },
  {
   "cell_type": "code",
   "execution_count": 18,
   "id": "2c15c431",
   "metadata": {},
   "outputs": [
    {
     "data": {
      "text/plain": [
       "Series([], Name: estimated_generation_gwh, dtype: int64)"
      ]
     },
     "execution_count": 18,
     "metadata": {},
     "output_type": "execute_result"
    }
   ],
   "source": [
    "df.estimated_generation_gwh.value_counts()"
   ]
  },
  {
   "cell_type": "code",
   "execution_count": 19,
   "id": "bec783f9",
   "metadata": {},
   "outputs": [
    {
     "data": {
      "text/plain": [
       "2018.0    520\n",
       "Name: year_of_capacity_data, dtype: int64"
      ]
     },
     "execution_count": 19,
     "metadata": {},
     "output_type": "execute_result"
    }
   ],
   "source": [
    "df.year_of_capacity_data.value_counts()"
   ]
  },
  {
   "cell_type": "code",
   "execution_count": 20,
   "id": "86028fc4",
   "metadata": {},
   "outputs": [
    {
     "data": {
      "text/plain": [
       "Central Electricity Authority    450\n",
       "Name: generation_data_source, dtype: int64"
      ]
     },
     "execution_count": 20,
     "metadata": {},
     "output_type": "execute_result"
    }
   ],
   "source": [
    "df.generation_data_source.value_counts()"
   ]
  },
  {
   "cell_type": "code",
   "execution_count": 21,
   "id": "0c9251e2",
   "metadata": {},
   "outputs": [
    {
     "data": {
      "text/plain": [
       "0.00000        21\n",
       "14881.88000     1\n",
       "42.49645        1\n",
       "2036.00000      1\n",
       "97.73885        1\n",
       "               ..\n",
       "7229.33000      1\n",
       "657.21740       1\n",
       "507.89775       1\n",
       "8556.42400      1\n",
       "8211.00000      1\n",
       "Name: generation_gwh_2013, Length: 364, dtype: int64"
      ]
     },
     "execution_count": 21,
     "metadata": {},
     "output_type": "execute_result"
    }
   ],
   "source": [
    "df.generation_gwh_2013.value_counts()"
   ]
  },
  {
   "cell_type": "code",
   "execution_count": 22,
   "id": "d14b0d05",
   "metadata": {},
   "outputs": [
    {
     "data": {
      "text/plain": [
       "0.00000       28\n",
       "6803.31250     1\n",
       "4735.13000     1\n",
       "145.81400      1\n",
       "2022.57000     1\n",
       "              ..\n",
       "6224.00000     1\n",
       "268.48085      1\n",
       "1255.73200     1\n",
       "164.32425      1\n",
       "1153.65300     1\n",
       "Name: generation_gwh_2014, Length: 374, dtype: int64"
      ]
     },
     "execution_count": 22,
     "metadata": {},
     "output_type": "execute_result"
    }
   ],
   "source": [
    "df.generation_gwh_2014.value_counts()"
   ]
  },
  {
   "cell_type": "code",
   "execution_count": 23,
   "id": "ed96ba17",
   "metadata": {},
   "outputs": [
    {
     "data": {
      "text/plain": [
       "0.00000       28\n",
       "5837.76600     1\n",
       "1297.97750     1\n",
       "8076.81050     1\n",
       "1.09395        1\n",
       "              ..\n",
       "2636.86400     1\n",
       "665.19730      1\n",
       "1516.36010     1\n",
       "741.86205      1\n",
       "7130.50700     1\n",
       "Name: generation_gwh_2015, Length: 398, dtype: int64"
      ]
     },
     "execution_count": 23,
     "metadata": {},
     "output_type": "execute_result"
    }
   ],
   "source": [
    "df.generation_gwh_2015.value_counts()"
   ]
  },
  {
   "cell_type": "code",
   "execution_count": 24,
   "id": "ad05d5de",
   "metadata": {},
   "outputs": [
    {
     "data": {
      "text/plain": [
       "0.00000       31\n",
       "8470.57000     2\n",
       "1511.00000     2\n",
       "7.31325        1\n",
       "94.85500       1\n",
       "              ..\n",
       "433.84800      1\n",
       "283.74811      1\n",
       "259.94375      1\n",
       "403.96000      1\n",
       "307.87290      1\n",
       "Name: generation_gwh_2016, Length: 405, dtype: int64"
      ]
     },
     "execution_count": 24,
     "metadata": {},
     "output_type": "execute_result"
    }
   ],
   "source": [
    "df.generation_gwh_2016.value_counts()"
   ]
  },
  {
   "cell_type": "code",
   "execution_count": 25,
   "id": "3bb04a32",
   "metadata": {},
   "outputs": [
    {
     "data": {
      "text/plain": [
       "0.00000       33\n",
       "170.08530      2\n",
       "344.35955      1\n",
       "2265.47000     1\n",
       "59.43135       1\n",
       "              ..\n",
       "214.48220      1\n",
       "272.73945      1\n",
       "2887.00000     1\n",
       "12.73600       1\n",
       "158.73235      1\n",
       "Name: generation_gwh_2017, Length: 410, dtype: int64"
      ]
     },
     "execution_count": 25,
     "metadata": {},
     "output_type": "execute_result"
    }
   ],
   "source": [
    "df.generation_gwh_2017.value_counts()"
   ]
  },
  {
   "cell_type": "code",
   "execution_count": 26,
   "id": "11fb5a4e",
   "metadata": {},
   "outputs": [
    {
     "data": {
      "text/plain": [
       "Central Electricity Authority                       520\n",
       "CDM                                                 124\n",
       "Lancosola                                            10\n",
       "National Renewable Energy Laboratory                  8\n",
       "National Thermal Power Corporation (NTPC)             6\n",
       "                                                   ... \n",
       "Gangakhed Energy ltd                                  1\n",
       "Clover Solar Private Limited (CSPL)                   1\n",
       "Datta Ssk ltd                                         1\n",
       "Welspun Solar AP Private Limited                      1\n",
       "Gujarat Industries Power Company Limited (GIPCL)      1\n",
       "Name: source, Length: 191, dtype: int64"
      ]
     },
     "execution_count": 26,
     "metadata": {},
     "output_type": "execute_result"
    }
   ],
   "source": [
    "df.source.value_counts()"
   ]
  },
  {
   "cell_type": "markdown",
   "id": "8cae31a0",
   "metadata": {},
   "source": [
    "### drop column & their reason\n",
    "### country and country long: the whole dataset contains same value \n",
    "### name, gppd_idnr: unique for everyone\n",
    "### wepp_id,estimated_generation_gwh, other_fuel2, other_fuel3: almost whole column empty \n",
    "### other_fuel1: almost whole column is empty, only 1 category value is entered & other 2 values are only entered once or twice\n",
    "### latitude, longitude: contains almost same value over the whole dataset\n",
    "### url, owner, commissioning_year, source: (logical reasoning) a model should not conclude fuel type or capacity mw from owner name or url or the year it started. who reports doesnt matter hence drop source too\n",
    "### year_of_capacity_data, generation_data_source: it contains only 1 datapoint rest is null"
   ]
  },
  {
   "cell_type": "code",
   "execution_count": 27,
   "id": "1b22f024",
   "metadata": {},
   "outputs": [
    {
     "data": {
      "text/html": [
       "<div>\n",
       "<style scoped>\n",
       "    .dataframe tbody tr th:only-of-type {\n",
       "        vertical-align: middle;\n",
       "    }\n",
       "\n",
       "    .dataframe tbody tr th {\n",
       "        vertical-align: top;\n",
       "    }\n",
       "\n",
       "    .dataframe thead th {\n",
       "        text-align: right;\n",
       "    }\n",
       "</style>\n",
       "<table border=\"1\" class=\"dataframe\">\n",
       "  <thead>\n",
       "    <tr style=\"text-align: right;\">\n",
       "      <th></th>\n",
       "      <th>capacity_mw</th>\n",
       "      <th>primary_fuel</th>\n",
       "      <th>geolocation_source</th>\n",
       "      <th>generation_gwh_2013</th>\n",
       "      <th>generation_gwh_2014</th>\n",
       "      <th>generation_gwh_2015</th>\n",
       "      <th>generation_gwh_2016</th>\n",
       "      <th>generation_gwh_2017</th>\n",
       "    </tr>\n",
       "  </thead>\n",
       "  <tbody>\n",
       "    <tr>\n",
       "      <th>0</th>\n",
       "      <td>2.5</td>\n",
       "      <td>Solar</td>\n",
       "      <td>National Renewable Energy Laboratory</td>\n",
       "      <td>NaN</td>\n",
       "      <td>NaN</td>\n",
       "      <td>NaN</td>\n",
       "      <td>NaN</td>\n",
       "      <td>NaN</td>\n",
       "    </tr>\n",
       "    <tr>\n",
       "      <th>1</th>\n",
       "      <td>98.0</td>\n",
       "      <td>Coal</td>\n",
       "      <td>WRI</td>\n",
       "      <td>NaN</td>\n",
       "      <td>NaN</td>\n",
       "      <td>NaN</td>\n",
       "      <td>NaN</td>\n",
       "      <td>NaN</td>\n",
       "    </tr>\n",
       "    <tr>\n",
       "      <th>2</th>\n",
       "      <td>39.2</td>\n",
       "      <td>Wind</td>\n",
       "      <td>WRI</td>\n",
       "      <td>NaN</td>\n",
       "      <td>NaN</td>\n",
       "      <td>NaN</td>\n",
       "      <td>NaN</td>\n",
       "      <td>NaN</td>\n",
       "    </tr>\n",
       "    <tr>\n",
       "      <th>3</th>\n",
       "      <td>135.0</td>\n",
       "      <td>Gas</td>\n",
       "      <td>WRI</td>\n",
       "      <td>631.777928</td>\n",
       "      <td>617.789264</td>\n",
       "      <td>843.747000</td>\n",
       "      <td>886.004428</td>\n",
       "      <td>663.774500</td>\n",
       "    </tr>\n",
       "    <tr>\n",
       "      <th>4</th>\n",
       "      <td>1800.0</td>\n",
       "      <td>Coal</td>\n",
       "      <td>WRI</td>\n",
       "      <td>1668.290000</td>\n",
       "      <td>3035.550000</td>\n",
       "      <td>5916.370000</td>\n",
       "      <td>6243.000000</td>\n",
       "      <td>5385.579736</td>\n",
       "    </tr>\n",
       "    <tr>\n",
       "      <th>...</th>\n",
       "      <td>...</td>\n",
       "      <td>...</td>\n",
       "      <td>...</td>\n",
       "      <td>...</td>\n",
       "      <td>...</td>\n",
       "      <td>...</td>\n",
       "      <td>...</td>\n",
       "      <td>...</td>\n",
       "    </tr>\n",
       "    <tr>\n",
       "      <th>903</th>\n",
       "      <td>1600.0</td>\n",
       "      <td>Coal</td>\n",
       "      <td>WRI</td>\n",
       "      <td>NaN</td>\n",
       "      <td>NaN</td>\n",
       "      <td>0.994875</td>\n",
       "      <td>233.596650</td>\n",
       "      <td>865.400000</td>\n",
       "    </tr>\n",
       "    <tr>\n",
       "      <th>904</th>\n",
       "      <td>3.0</td>\n",
       "      <td>Solar</td>\n",
       "      <td>Industry About</td>\n",
       "      <td>NaN</td>\n",
       "      <td>NaN</td>\n",
       "      <td>NaN</td>\n",
       "      <td>NaN</td>\n",
       "      <td>NaN</td>\n",
       "    </tr>\n",
       "    <tr>\n",
       "      <th>905</th>\n",
       "      <td>25.5</td>\n",
       "      <td>Wind</td>\n",
       "      <td>WRI</td>\n",
       "      <td>NaN</td>\n",
       "      <td>NaN</td>\n",
       "      <td>NaN</td>\n",
       "      <td>NaN</td>\n",
       "      <td>NaN</td>\n",
       "    </tr>\n",
       "    <tr>\n",
       "      <th>906</th>\n",
       "      <td>80.0</td>\n",
       "      <td>Coal</td>\n",
       "      <td>WRI</td>\n",
       "      <td>NaN</td>\n",
       "      <td>NaN</td>\n",
       "      <td>NaN</td>\n",
       "      <td>NaN</td>\n",
       "      <td>NaN</td>\n",
       "    </tr>\n",
       "    <tr>\n",
       "      <th>907</th>\n",
       "      <td>16.5</td>\n",
       "      <td>Wind</td>\n",
       "      <td>WRI</td>\n",
       "      <td>NaN</td>\n",
       "      <td>NaN</td>\n",
       "      <td>NaN</td>\n",
       "      <td>NaN</td>\n",
       "      <td>NaN</td>\n",
       "    </tr>\n",
       "  </tbody>\n",
       "</table>\n",
       "<p>908 rows × 8 columns</p>\n",
       "</div>"
      ],
      "text/plain": [
       "     capacity_mw primary_fuel                    geolocation_source  \\\n",
       "0            2.5        Solar  National Renewable Energy Laboratory   \n",
       "1           98.0         Coal                                   WRI   \n",
       "2           39.2         Wind                                   WRI   \n",
       "3          135.0          Gas                                   WRI   \n",
       "4         1800.0         Coal                                   WRI   \n",
       "..           ...          ...                                   ...   \n",
       "903       1600.0         Coal                                   WRI   \n",
       "904          3.0        Solar                        Industry About   \n",
       "905         25.5         Wind                                   WRI   \n",
       "906         80.0         Coal                                   WRI   \n",
       "907         16.5         Wind                                   WRI   \n",
       "\n",
       "     generation_gwh_2013  generation_gwh_2014  generation_gwh_2015  \\\n",
       "0                    NaN                  NaN                  NaN   \n",
       "1                    NaN                  NaN                  NaN   \n",
       "2                    NaN                  NaN                  NaN   \n",
       "3             631.777928           617.789264           843.747000   \n",
       "4            1668.290000          3035.550000          5916.370000   \n",
       "..                   ...                  ...                  ...   \n",
       "903                  NaN                  NaN             0.994875   \n",
       "904                  NaN                  NaN                  NaN   \n",
       "905                  NaN                  NaN                  NaN   \n",
       "906                  NaN                  NaN                  NaN   \n",
       "907                  NaN                  NaN                  NaN   \n",
       "\n",
       "     generation_gwh_2016  generation_gwh_2017  \n",
       "0                    NaN                  NaN  \n",
       "1                    NaN                  NaN  \n",
       "2                    NaN                  NaN  \n",
       "3             886.004428           663.774500  \n",
       "4            6243.000000          5385.579736  \n",
       "..                   ...                  ...  \n",
       "903           233.596650           865.400000  \n",
       "904                  NaN                  NaN  \n",
       "905                  NaN                  NaN  \n",
       "906                  NaN                  NaN  \n",
       "907                  NaN                  NaN  \n",
       "\n",
       "[908 rows x 8 columns]"
      ]
     },
     "execution_count": 27,
     "metadata": {},
     "output_type": "execute_result"
    }
   ],
   "source": [
    "df=df.drop(['country','country_long','name','gppd_idnr','wepp_id','other_fuel2','other_fuel3','other_fuel1','url','owner',\n",
    "           'longitude','latitude','estimated_generation_gwh','year_of_capacity_data','generation_data_source',\n",
    "           'commissioning_year','source'],axis=1)\n",
    "df"
   ]
  },
  {
   "cell_type": "markdown",
   "id": "1fb2e540",
   "metadata": {},
   "source": [
    "### create a new column fuel type"
   ]
  },
  {
   "cell_type": "code",
   "execution_count": 28,
   "id": "3a5af144",
   "metadata": {},
   "outputs": [
    {
     "data": {
      "text/plain": [
       "Coal       259\n",
       "Hydro      250\n",
       "Solar      127\n",
       "Wind       123\n",
       "Gas         69\n",
       "Biomass     50\n",
       "Oil         21\n",
       "Nuclear      9\n",
       "Name: primary_fuel, dtype: int64"
      ]
     },
     "execution_count": 28,
     "metadata": {},
     "output_type": "execute_result"
    }
   ],
   "source": [
    "df.primary_fuel.value_counts()"
   ]
  },
  {
   "cell_type": "markdown",
   "id": "5ec5554e",
   "metadata": {},
   "source": [
    "### create fuel types as renewable and non renewable fuel"
   ]
  },
  {
   "cell_type": "code",
   "execution_count": 29,
   "id": "d96b223c",
   "metadata": {},
   "outputs": [],
   "source": [
    "renew=['Solar','Hydro','Wind','Biomass']\n",
    "nonrenew=['Coal','Nuclear','Oil','Gas']\n",
    "df['fuel_type']=0\n",
    "for i in range(len(df.primary_fuel)):\n",
    "    if df.primary_fuel[i] in renew:\n",
    "        df.fuel_type[i]=0\n",
    "    elif df.primary_fuel[i] in nonrenew:\n",
    "        df.fuel_type[i]=1"
   ]
  },
  {
   "cell_type": "code",
   "execution_count": 30,
   "id": "dd2eef8d",
   "metadata": {},
   "outputs": [
    {
     "name": "stdout",
     "output_type": "stream",
     "text": [
      "Number of rows x columns in dataset are: (908, 9)\n"
     ]
    }
   ],
   "source": [
    "print('Number of rows x columns in dataset are:',df.shape)"
   ]
  },
  {
   "cell_type": "code",
   "execution_count": 31,
   "id": "6f47f7d3",
   "metadata": {},
   "outputs": [
    {
     "name": "stdout",
     "output_type": "stream",
     "text": [
      "Dataset contains any null values: True\n"
     ]
    }
   ],
   "source": [
    "print('Dataset contains any null values:',df.isnull().values.any())"
   ]
  },
  {
   "cell_type": "code",
   "execution_count": 32,
   "id": "d628f100",
   "metadata": {},
   "outputs": [
    {
     "name": "stdout",
     "output_type": "stream",
     "text": [
      "<class 'pandas.core.frame.DataFrame'>\n",
      "RangeIndex: 908 entries, 0 to 907\n",
      "Data columns (total 9 columns):\n",
      " #   Column               Non-Null Count  Dtype  \n",
      "---  ------               --------------  -----  \n",
      " 0   capacity_mw          908 non-null    float64\n",
      " 1   primary_fuel         908 non-null    object \n",
      " 2   geolocation_source   889 non-null    object \n",
      " 3   generation_gwh_2013  384 non-null    float64\n",
      " 4   generation_gwh_2014  401 non-null    float64\n",
      " 5   generation_gwh_2015  425 non-null    float64\n",
      " 6   generation_gwh_2016  437 non-null    float64\n",
      " 7   generation_gwh_2017  443 non-null    float64\n",
      " 8   fuel_type            908 non-null    int64  \n",
      "dtypes: float64(6), int64(1), object(2)\n",
      "memory usage: 64.0+ KB\n"
     ]
    }
   ],
   "source": [
    "df.info()"
   ]
  },
  {
   "cell_type": "markdown",
   "id": "e9b62b95",
   "metadata": {},
   "source": [
    "### From above we can conclude that null are present in  geolocation_source, year_of_capacity_data, generation_gwh_2013, generation_gwh_2014, generation_gwh_2015, generation_gwh_2016, generation_gwh_2017, generation_data_source columns.\n",
    "### fuel_type (categorical data) is of int dtype\n",
    "### generation_data_source, geolocation_source, source, primary_fuel is of type object (string)\n",
    "### capacity_mw, generation_gwh_2013, generation_gwh_2014, generation_gwh_2015, generation_gwh_2016, generation_gwh_2017, generation_data_source columns are of float dtype"
   ]
  },
  {
   "cell_type": "markdown",
   "id": "b29e68a6",
   "metadata": {},
   "source": [
    "### start analyzes and fill missing data\n",
    "### missing data in geolocation_source"
   ]
  },
  {
   "cell_type": "code",
   "execution_count": 33,
   "id": "27ba6890",
   "metadata": {},
   "outputs": [
    {
     "data": {
      "text/plain": [
       "WRI                                     766\n",
       "Industry About                          119\n",
       "National Renewable Energy Laboratory      4\n",
       "Name: geolocation_source, dtype: int64"
      ]
     },
     "execution_count": 33,
     "metadata": {},
     "output_type": "execute_result"
    }
   ],
   "source": [
    "df['geolocation_source'].value_counts()"
   ]
  },
  {
   "cell_type": "code",
   "execution_count": 34,
   "id": "71167908",
   "metadata": {},
   "outputs": [
    {
     "data": {
      "text/plain": [
       "Wind     15\n",
       "Solar     4\n",
       "Name: primary_fuel, dtype: int64"
      ]
     },
     "execution_count": 34,
     "metadata": {},
     "output_type": "execute_result"
    }
   ],
   "source": [
    "df[df['geolocation_source'].isnull()]['primary_fuel'].value_counts()"
   ]
  },
  {
   "cell_type": "code",
   "execution_count": 35,
   "id": "59436bc7",
   "metadata": {},
   "outputs": [
    {
     "data": {
      "text/plain": [
       "WRI    108\n",
       "Name: geolocation_source, dtype: int64"
      ]
     },
     "execution_count": 35,
     "metadata": {},
     "output_type": "execute_result"
    }
   ],
   "source": [
    "df[df['primary_fuel']=='Wind']['geolocation_source'].value_counts()"
   ]
  },
  {
   "cell_type": "code",
   "execution_count": 36,
   "id": "49c9454c",
   "metadata": {},
   "outputs": [
    {
     "data": {
      "text/plain": [
       "Industry About                          119\n",
       "National Renewable Energy Laboratory      4\n",
       "Name: geolocation_source, dtype: int64"
      ]
     },
     "execution_count": 36,
     "metadata": {},
     "output_type": "execute_result"
    }
   ],
   "source": [
    "df[df['primary_fuel']=='Solar']['geolocation_source'].value_counts()"
   ]
  },
  {
   "cell_type": "markdown",
   "id": "6e08c9c0",
   "metadata": {},
   "source": [
    "### for null rows of geolocation_source fill it with WRI if primary_fuel is solar else Industry About"
   ]
  },
  {
   "cell_type": "code",
   "execution_count": 37,
   "id": "8c3573fd",
   "metadata": {},
   "outputs": [],
   "source": [
    "for i in range(len(df['geolocation_source'])):\n",
    "    if str(df['geolocation_source'][i])=='nan':\n",
    "        if df['primary_fuel'][i]=='Solar':\n",
    "            df['geolocation_source'][i]='Industry About'\n",
    "        elif df['primary_fuel'][i]=='Wind':\n",
    "            df['geolocation_source'][i]='WRI'"
   ]
  },
  {
   "cell_type": "markdown",
   "id": "2580b334",
   "metadata": {},
   "source": [
    "### fill missing values of generation_gwh_2013"
   ]
  },
  {
   "cell_type": "code",
   "execution_count": 38,
   "id": "aea9f4cc",
   "metadata": {},
   "outputs": [
    {
     "data": {
      "text/plain": [
       "<AxesSubplot:xlabel='generation_gwh_2013', ylabel='Density'>"
      ]
     },
     "execution_count": 38,
     "metadata": {},
     "output_type": "execute_result"
    },
    {
     "data": {
      "image/png": "[encoded data removed]",
      "text/plain": [
       "<Figure size 432x288 with 1 Axes>"
      ]
     },
     "metadata": {
      "needs_background": "light"
     },
     "output_type": "display_data"
    }
   ],
   "source": [
    "sn.distplot(df['generation_gwh_2013'])"
   ]
  },
  {
   "cell_type": "markdown",
   "id": "b47e3101",
   "metadata": {},
   "source": [
    "### because generation_gwh_2013 has normal dist plot fill null values using mean of generation_gwh_2013"
   ]
  },
  {
   "cell_type": "code",
   "execution_count": 39,
   "id": "469611ad",
   "metadata": {},
   "outputs": [],
   "source": [
    "for i in range(len(df['generation_gwh_2013'])):\n",
    "    if str(df['generation_gwh_2013'][i])=='nan':\n",
    "        df['generation_gwh_2013'][i]=df['generation_gwh_2013'].mean()"
   ]
  },
  {
   "cell_type": "markdown",
   "id": "5a00b0ab",
   "metadata": {},
   "source": [
    "### fill missing values of generation_gwh_2014"
   ]
  },
  {
   "cell_type": "code",
   "execution_count": 40,
   "id": "f7ac1ede",
   "metadata": {},
   "outputs": [
    {
     "data": {
      "text/plain": [
       "<AxesSubplot:xlabel='generation_gwh_2014', ylabel='Density'>"
      ]
     },
     "execution_count": 40,
     "metadata": {},
     "output_type": "execute_result"
    },
    {
     "data": {
      "image/png": "[encoded data removed]",
      "text/plain": [
       "<Figure size 432x288 with 1 Axes>"
      ]
     },
     "metadata": {
      "needs_background": "light"
     },
     "output_type": "display_data"
    }
   ],
   "source": [
    "sn.distplot(df['generation_gwh_2014'])"
   ]
  },
  {
   "cell_type": "markdown",
   "id": "168ce4f7",
   "metadata": {},
   "source": [
    "### because generation_gwh_2014 has normal dist plot fill null values using mean of generation_gwh_2014"
   ]
  },
  {
   "cell_type": "code",
   "execution_count": 41,
   "id": "e934b2d9",
   "metadata": {},
   "outputs": [],
   "source": [
    "for i in range(len(df['generation_gwh_2014'])):\n",
    "    if str(df['generation_gwh_2014'][i])=='nan':\n",
    "        df['generation_gwh_2014'][i]=df['generation_gwh_2014'].mean()"
   ]
  },
  {
   "cell_type": "markdown",
   "id": "7d17f2f8",
   "metadata": {},
   "source": [
    "### fill missing values of generation_gwh_2015"
   ]
  },
  {
   "cell_type": "code",
   "execution_count": 42,
   "id": "012a5f4d",
   "metadata": {},
   "outputs": [
    {
     "data": {
      "text/plain": [
       "<AxesSubplot:xlabel='generation_gwh_2015', ylabel='Density'>"
      ]
     },
     "execution_count": 42,
     "metadata": {},
     "output_type": "execute_result"
    },
    {
     "data": {
      "image/png": "[encoded data removed]",
      "text/plain": [
       "<Figure size 432x288 with 1 Axes>"
      ]
     },
     "metadata": {
      "needs_background": "light"
     },
     "output_type": "display_data"
    }
   ],
   "source": [
    "sn.distplot(df['generation_gwh_2015'])"
   ]
  },
  {
   "cell_type": "markdown",
   "id": "a71f4e20",
   "metadata": {},
   "source": [
    "### because generation_gwh_2015 has normal dist plot fill null values using mean of generation_gwh_2015"
   ]
  },
  {
   "cell_type": "code",
   "execution_count": 43,
   "id": "e4f5d196",
   "metadata": {},
   "outputs": [],
   "source": [
    "for i in range(len(df['generation_gwh_2015'])):\n",
    "    if str(df['generation_gwh_2015'][i])=='nan':\n",
    "        df['generation_gwh_2015'][i]=df['generation_gwh_2015'].mean()"
   ]
  },
  {
   "cell_type": "markdown",
   "id": "e1256e7a",
   "metadata": {},
   "source": [
    "### fill missing values of generation_gwh_2016"
   ]
  },
  {
   "cell_type": "code",
   "execution_count": 44,
   "id": "570095a6",
   "metadata": {},
   "outputs": [
    {
     "data": {
      "text/plain": [
       "<AxesSubplot:xlabel='generation_gwh_2016', ylabel='Density'>"
      ]
     },
     "execution_count": 44,
     "metadata": {},
     "output_type": "execute_result"
    },
    {
     "data": {
      "image/png": "[encoded data removed]",
      "text/plain": [
       "<Figure size 432x288 with 1 Axes>"
      ]
     },
     "metadata": {
      "needs_background": "light"
     },
     "output_type": "display_data"
    }
   ],
   "source": [
    "sn.distplot(df['generation_gwh_2016'])"
   ]
  },
  {
   "cell_type": "markdown",
   "id": "9f96be82",
   "metadata": {},
   "source": [
    "### because generation_gwh_2016 has normal dist plot fill null values using mean of generation_gwh_2016"
   ]
  },
  {
   "cell_type": "code",
   "execution_count": 45,
   "id": "a392f2ce",
   "metadata": {},
   "outputs": [],
   "source": [
    "for i in range(len(df['generation_gwh_2016'])):\n",
    "    if str(df['generation_gwh_2016'][i])=='nan':\n",
    "        df['generation_gwh_2016'][i]=df['generation_gwh_2016'].mean()"
   ]
  },
  {
   "cell_type": "markdown",
   "id": "ca5dfbe6",
   "metadata": {},
   "source": [
    "### fill missing values of generation_gwh_2017"
   ]
  },
  {
   "cell_type": "code",
   "execution_count": 46,
   "id": "76c3d20c",
   "metadata": {},
   "outputs": [
    {
     "data": {
      "text/plain": [
       "<AxesSubplot:xlabel='generation_gwh_2017', ylabel='Density'>"
      ]
     },
     "execution_count": 46,
     "metadata": {},
     "output_type": "execute_result"
    },
    {
     "data": {
      "image/png": "[encoded data removed]",
      "text/plain": [
       "<Figure size 432x288 with 1 Axes>"
      ]
     },
     "metadata": {
      "needs_background": "light"
     },
     "output_type": "display_data"
    }
   ],
   "source": [
    "sn.distplot(df['generation_gwh_2017'])"
   ]
  },
  {
   "cell_type": "markdown",
   "id": "350b2ef9",
   "metadata": {},
   "source": [
    "### because generation_gwh_2017 has normal dist plot fill null values using mean of generation_gwh_2017"
   ]
  },
  {
   "cell_type": "code",
   "execution_count": 47,
   "id": "831ec5da",
   "metadata": {},
   "outputs": [],
   "source": [
    "for i in range(len(df['generation_gwh_2017'])):\n",
    "    if str(df['generation_gwh_2017'][i])=='nan':\n",
    "        df['generation_gwh_2017'][i]=df['generation_gwh_2017'].mean()"
   ]
  },
  {
   "cell_type": "markdown",
   "id": "8e286822",
   "metadata": {},
   "source": [
    "### all missing values are now filled"
   ]
  },
  {
   "cell_type": "code",
   "execution_count": 48,
   "id": "fe4ef012",
   "metadata": {},
   "outputs": [
    {
     "name": "stdout",
     "output_type": "stream",
     "text": [
      "<class 'pandas.core.frame.DataFrame'>\n",
      "RangeIndex: 908 entries, 0 to 907\n",
      "Data columns (total 9 columns):\n",
      " #   Column               Non-Null Count  Dtype  \n",
      "---  ------               --------------  -----  \n",
      " 0   capacity_mw          908 non-null    float64\n",
      " 1   primary_fuel         908 non-null    object \n",
      " 2   geolocation_source   908 non-null    object \n",
      " 3   generation_gwh_2013  908 non-null    float64\n",
      " 4   generation_gwh_2014  908 non-null    float64\n",
      " 5   generation_gwh_2015  908 non-null    float64\n",
      " 6   generation_gwh_2016  908 non-null    float64\n",
      " 7   generation_gwh_2017  908 non-null    float64\n",
      " 8   fuel_type            908 non-null    int64  \n",
      "dtypes: float64(6), int64(1), object(2)\n",
      "memory usage: 64.0+ KB\n"
     ]
    }
   ],
   "source": [
    "df.info()"
   ]
  },
  {
   "cell_type": "markdown",
   "id": "573513b5",
   "metadata": {},
   "source": [
    "### conv categorical column to numerical column"
   ]
  },
  {
   "cell_type": "code",
   "execution_count": 49,
   "id": "1cfc6db2",
   "metadata": {},
   "outputs": [
    {
     "data": {
      "text/plain": [
       "Coal       259\n",
       "Hydro      250\n",
       "Solar      127\n",
       "Wind       123\n",
       "Gas         69\n",
       "Biomass     50\n",
       "Oil         21\n",
       "Nuclear      9\n",
       "Name: primary_fuel, dtype: int64"
      ]
     },
     "execution_count": 49,
     "metadata": {},
     "output_type": "execute_result"
    }
   ],
   "source": [
    "df.primary_fuel.value_counts()"
   ]
  },
  {
   "cell_type": "code",
   "execution_count": 50,
   "id": "ce6e5a2b",
   "metadata": {},
   "outputs": [
    {
     "data": {
      "text/plain": [
       "{'primary_fuel': {'Solar': 0,\n",
       "  'Coal': 1,\n",
       "  'Wind': 2,\n",
       "  'Gas': 3,\n",
       "  'Hydro': 4,\n",
       "  'Biomass': 5,\n",
       "  'Oil': 6,\n",
       "  'Nuclear': 7}}"
      ]
     },
     "execution_count": 50,
     "metadata": {},
     "output_type": "execute_result"
    }
   ],
   "source": [
    "dicty={}\n",
    "for i in df[['primary_fuel']]:\n",
    "    dicto={}\n",
    "    for j in range(len(df[i].unique())):\n",
    "        dicto[df[i].unique()[j]]=j\n",
    "    dicty[i]=dicto\n",
    "dicty"
   ]
  },
  {
   "cell_type": "code",
   "execution_count": 51,
   "id": "f23509f7",
   "metadata": {},
   "outputs": [],
   "source": [
    "for i in ['primary_fuel']:\n",
    "    df[i]=df[i].apply(lambda x:dicty[i][x])"
   ]
  },
  {
   "cell_type": "code",
   "execution_count": 52,
   "id": "95dfd09b",
   "metadata": {},
   "outputs": [
    {
     "data": {
      "text/plain": [
       "WRI                                     781\n",
       "Industry About                          123\n",
       "National Renewable Energy Laboratory      4\n",
       "Name: geolocation_source, dtype: int64"
      ]
     },
     "execution_count": 52,
     "metadata": {},
     "output_type": "execute_result"
    }
   ],
   "source": [
    "df.geolocation_source.value_counts()"
   ]
  },
  {
   "cell_type": "code",
   "execution_count": 53,
   "id": "4ebca0fa",
   "metadata": {},
   "outputs": [
    {
     "data": {
      "text/plain": [
       "{'geolocation_source': {'National Renewable Energy Laboratory': 0,\n",
       "  'WRI': 1,\n",
       "  'Industry About': 2}}"
      ]
     },
     "execution_count": 53,
     "metadata": {},
     "output_type": "execute_result"
    }
   ],
   "source": [
    "dicty={}\n",
    "for i in df[['geolocation_source']]:\n",
    "    dicto={}\n",
    "    for j in range(len(df[i].unique())):\n",
    "        dicto[df[i].unique()[j]]=j\n",
    "    dicty[i]=dicto\n",
    "dicty"
   ]
  },
  {
   "cell_type": "code",
   "execution_count": 54,
   "id": "23fdd346",
   "metadata": {},
   "outputs": [],
   "source": [
    "for i in ['geolocation_source']:\n",
    "    df[i]=df[i].apply(lambda x:dicty[i][x])"
   ]
  },
  {
   "cell_type": "code",
   "execution_count": 55,
   "id": "7edd5354",
   "metadata": {},
   "outputs": [
    {
     "name": "stdout",
     "output_type": "stream",
     "text": [
      "<class 'pandas.core.frame.DataFrame'>\n",
      "RangeIndex: 908 entries, 0 to 907\n",
      "Data columns (total 9 columns):\n",
      " #   Column               Non-Null Count  Dtype  \n",
      "---  ------               --------------  -----  \n",
      " 0   capacity_mw          908 non-null    float64\n",
      " 1   primary_fuel         908 non-null    int64  \n",
      " 2   geolocation_source   908 non-null    int64  \n",
      " 3   generation_gwh_2013  908 non-null    float64\n",
      " 4   generation_gwh_2014  908 non-null    float64\n",
      " 5   generation_gwh_2015  908 non-null    float64\n",
      " 6   generation_gwh_2016  908 non-null    float64\n",
      " 7   generation_gwh_2017  908 non-null    float64\n",
      " 8   fuel_type            908 non-null    int64  \n",
      "dtypes: float64(6), int64(3)\n",
      "memory usage: 64.0 KB\n"
     ]
    }
   ],
   "source": [
    "df.info()"
   ]
  },
  {
   "cell_type": "markdown",
   "id": "7da9723c",
   "metadata": {},
   "source": [
    "### All null values and categorical values filled"
   ]
  },
  {
   "cell_type": "code",
   "execution_count": 56,
   "id": "bae90a22",
   "metadata": {},
   "outputs": [
    {
     "data": {
      "text/html": [
       "<div>\n",
       "<style scoped>\n",
       "    .dataframe tbody tr th:only-of-type {\n",
       "        vertical-align: middle;\n",
       "    }\n",
       "\n",
       "    .dataframe tbody tr th {\n",
       "        vertical-align: top;\n",
       "    }\n",
       "\n",
       "    .dataframe thead th {\n",
       "        text-align: right;\n",
       "    }\n",
       "</style>\n",
       "<table border=\"1\" class=\"dataframe\">\n",
       "  <thead>\n",
       "    <tr style=\"text-align: right;\">\n",
       "      <th></th>\n",
       "      <th>capacity_mw</th>\n",
       "      <th>primary_fuel</th>\n",
       "      <th>geolocation_source</th>\n",
       "      <th>generation_gwh_2013</th>\n",
       "      <th>generation_gwh_2014</th>\n",
       "      <th>generation_gwh_2015</th>\n",
       "      <th>generation_gwh_2016</th>\n",
       "      <th>generation_gwh_2017</th>\n",
       "      <th>fuel_type</th>\n",
       "    </tr>\n",
       "  </thead>\n",
       "  <tbody>\n",
       "    <tr>\n",
       "      <th>0</th>\n",
       "      <td>2.5</td>\n",
       "      <td>0</td>\n",
       "      <td>0</td>\n",
       "      <td>2304.059202</td>\n",
       "      <td>2420.393316</td>\n",
       "      <td>2414.072373</td>\n",
       "      <td>2453.936292</td>\n",
       "      <td>2531.754458</td>\n",
       "      <td>0</td>\n",
       "    </tr>\n",
       "    <tr>\n",
       "      <th>1</th>\n",
       "      <td>98.0</td>\n",
       "      <td>1</td>\n",
       "      <td>1</td>\n",
       "      <td>2304.059202</td>\n",
       "      <td>2420.393316</td>\n",
       "      <td>2414.072373</td>\n",
       "      <td>2453.936292</td>\n",
       "      <td>2531.754458</td>\n",
       "      <td>1</td>\n",
       "    </tr>\n",
       "    <tr>\n",
       "      <th>2</th>\n",
       "      <td>39.2</td>\n",
       "      <td>2</td>\n",
       "      <td>1</td>\n",
       "      <td>2304.059202</td>\n",
       "      <td>2420.393316</td>\n",
       "      <td>2414.072373</td>\n",
       "      <td>2453.936292</td>\n",
       "      <td>2531.754458</td>\n",
       "      <td>0</td>\n",
       "    </tr>\n",
       "    <tr>\n",
       "      <th>3</th>\n",
       "      <td>135.0</td>\n",
       "      <td>3</td>\n",
       "      <td>1</td>\n",
       "      <td>631.777928</td>\n",
       "      <td>617.789264</td>\n",
       "      <td>843.747000</td>\n",
       "      <td>886.004428</td>\n",
       "      <td>663.774500</td>\n",
       "      <td>1</td>\n",
       "    </tr>\n",
       "    <tr>\n",
       "      <th>4</th>\n",
       "      <td>1800.0</td>\n",
       "      <td>1</td>\n",
       "      <td>1</td>\n",
       "      <td>1668.290000</td>\n",
       "      <td>3035.550000</td>\n",
       "      <td>5916.370000</td>\n",
       "      <td>6243.000000</td>\n",
       "      <td>5385.579736</td>\n",
       "      <td>1</td>\n",
       "    </tr>\n",
       "    <tr>\n",
       "      <th>...</th>\n",
       "      <td>...</td>\n",
       "      <td>...</td>\n",
       "      <td>...</td>\n",
       "      <td>...</td>\n",
       "      <td>...</td>\n",
       "      <td>...</td>\n",
       "      <td>...</td>\n",
       "      <td>...</td>\n",
       "      <td>...</td>\n",
       "    </tr>\n",
       "    <tr>\n",
       "      <th>903</th>\n",
       "      <td>1600.0</td>\n",
       "      <td>1</td>\n",
       "      <td>1</td>\n",
       "      <td>2304.059202</td>\n",
       "      <td>2420.393316</td>\n",
       "      <td>0.994875</td>\n",
       "      <td>233.596650</td>\n",
       "      <td>865.400000</td>\n",
       "      <td>1</td>\n",
       "    </tr>\n",
       "    <tr>\n",
       "      <th>904</th>\n",
       "      <td>3.0</td>\n",
       "      <td>0</td>\n",
       "      <td>2</td>\n",
       "      <td>2304.059202</td>\n",
       "      <td>2420.393316</td>\n",
       "      <td>2414.072373</td>\n",
       "      <td>2453.936292</td>\n",
       "      <td>2531.754458</td>\n",
       "      <td>0</td>\n",
       "    </tr>\n",
       "    <tr>\n",
       "      <th>905</th>\n",
       "      <td>25.5</td>\n",
       "      <td>2</td>\n",
       "      <td>1</td>\n",
       "      <td>2304.059202</td>\n",
       "      <td>2420.393316</td>\n",
       "      <td>2414.072373</td>\n",
       "      <td>2453.936292</td>\n",
       "      <td>2531.754458</td>\n",
       "      <td>0</td>\n",
       "    </tr>\n",
       "    <tr>\n",
       "      <th>906</th>\n",
       "      <td>80.0</td>\n",
       "      <td>1</td>\n",
       "      <td>1</td>\n",
       "      <td>2304.059202</td>\n",
       "      <td>2420.393316</td>\n",
       "      <td>2414.072373</td>\n",
       "      <td>2453.936292</td>\n",
       "      <td>2531.754458</td>\n",
       "      <td>1</td>\n",
       "    </tr>\n",
       "    <tr>\n",
       "      <th>907</th>\n",
       "      <td>16.5</td>\n",
       "      <td>2</td>\n",
       "      <td>1</td>\n",
       "      <td>2304.059202</td>\n",
       "      <td>2420.393316</td>\n",
       "      <td>2414.072373</td>\n",
       "      <td>2453.936292</td>\n",
       "      <td>2531.754458</td>\n",
       "      <td>0</td>\n",
       "    </tr>\n",
       "  </tbody>\n",
       "</table>\n",
       "<p>908 rows × 9 columns</p>\n",
       "</div>"
      ],
      "text/plain": [
       "     capacity_mw  primary_fuel  geolocation_source  generation_gwh_2013  \\\n",
       "0            2.5             0                   0          2304.059202   \n",
       "1           98.0             1                   1          2304.059202   \n",
       "2           39.2             2                   1          2304.059202   \n",
       "3          135.0             3                   1           631.777928   \n",
       "4         1800.0             1                   1          1668.290000   \n",
       "..           ...           ...                 ...                  ...   \n",
       "903       1600.0             1                   1          2304.059202   \n",
       "904          3.0             0                   2          2304.059202   \n",
       "905         25.5             2                   1          2304.059202   \n",
       "906         80.0             1                   1          2304.059202   \n",
       "907         16.5             2                   1          2304.059202   \n",
       "\n",
       "     generation_gwh_2014  generation_gwh_2015  generation_gwh_2016  \\\n",
       "0            2420.393316          2414.072373          2453.936292   \n",
       "1            2420.393316          2414.072373          2453.936292   \n",
       "2            2420.393316          2414.072373          2453.936292   \n",
       "3             617.789264           843.747000           886.004428   \n",
       "4            3035.550000          5916.370000          6243.000000   \n",
       "..                   ...                  ...                  ...   \n",
       "903          2420.393316             0.994875           233.596650   \n",
       "904          2420.393316          2414.072373          2453.936292   \n",
       "905          2420.393316          2414.072373          2453.936292   \n",
       "906          2420.393316          2414.072373          2453.936292   \n",
       "907          2420.393316          2414.072373          2453.936292   \n",
       "\n",
       "     generation_gwh_2017  fuel_type  \n",
       "0            2531.754458          0  \n",
       "1            2531.754458          1  \n",
       "2            2531.754458          0  \n",
       "3             663.774500          1  \n",
       "4            5385.579736          1  \n",
       "..                   ...        ...  \n",
       "903           865.400000          1  \n",
       "904          2531.754458          0  \n",
       "905          2531.754458          0  \n",
       "906          2531.754458          1  \n",
       "907          2531.754458          0  \n",
       "\n",
       "[908 rows x 9 columns]"
      ]
     },
     "execution_count": 56,
     "metadata": {},
     "output_type": "execute_result"
    }
   ],
   "source": [
    "df"
   ]
  },
  {
   "cell_type": "markdown",
   "id": "15c031a0",
   "metadata": {},
   "source": [
    "### now use describe func and analyze dataset"
   ]
  },
  {
   "cell_type": "code",
   "execution_count": 57,
   "id": "5b8cb6fd",
   "metadata": {},
   "outputs": [
    {
     "data": {
      "text/html": [
       "<div>\n",
       "<style scoped>\n",
       "    .dataframe tbody tr th:only-of-type {\n",
       "        vertical-align: middle;\n",
       "    }\n",
       "\n",
       "    .dataframe tbody tr th {\n",
       "        vertical-align: top;\n",
       "    }\n",
       "\n",
       "    .dataframe thead th {\n",
       "        text-align: right;\n",
       "    }\n",
       "</style>\n",
       "<table border=\"1\" class=\"dataframe\">\n",
       "  <thead>\n",
       "    <tr style=\"text-align: right;\">\n",
       "      <th></th>\n",
       "      <th>capacity_mw</th>\n",
       "      <th>primary_fuel</th>\n",
       "      <th>geolocation_source</th>\n",
       "      <th>generation_gwh_2013</th>\n",
       "      <th>generation_gwh_2014</th>\n",
       "      <th>generation_gwh_2015</th>\n",
       "      <th>generation_gwh_2016</th>\n",
       "      <th>generation_gwh_2017</th>\n",
       "      <th>fuel_type</th>\n",
       "    </tr>\n",
       "  </thead>\n",
       "  <tbody>\n",
       "    <tr>\n",
       "      <th>count</th>\n",
       "      <td>908.000000</td>\n",
       "      <td>908.000000</td>\n",
       "      <td>908.000000</td>\n",
       "      <td>908.000000</td>\n",
       "      <td>908.000000</td>\n",
       "      <td>908.000000</td>\n",
       "      <td>908.000000</td>\n",
       "      <td>908.000000</td>\n",
       "      <td>908.000000</td>\n",
       "    </tr>\n",
       "    <tr>\n",
       "      <th>mean</th>\n",
       "      <td>321.046378</td>\n",
       "      <td>2.368943</td>\n",
       "      <td>1.131057</td>\n",
       "      <td>2304.059202</td>\n",
       "      <td>2420.393316</td>\n",
       "      <td>2414.072373</td>\n",
       "      <td>2453.936292</td>\n",
       "      <td>2531.754458</td>\n",
       "      <td>0.394273</td>\n",
       "    </tr>\n",
       "    <tr>\n",
       "      <th>std</th>\n",
       "      <td>580.221767</td>\n",
       "      <td>1.732816</td>\n",
       "      <td>0.350467</td>\n",
       "      <td>2465.930970</td>\n",
       "      <td>2665.360236</td>\n",
       "      <td>2860.146282</td>\n",
       "      <td>2878.730064</td>\n",
       "      <td>2923.041411</td>\n",
       "      <td>0.488963</td>\n",
       "    </tr>\n",
       "    <tr>\n",
       "      <th>min</th>\n",
       "      <td>0.000000</td>\n",
       "      <td>0.000000</td>\n",
       "      <td>0.000000</td>\n",
       "      <td>0.000000</td>\n",
       "      <td>0.000000</td>\n",
       "      <td>0.000000</td>\n",
       "      <td>0.000000</td>\n",
       "      <td>0.000000</td>\n",
       "      <td>0.000000</td>\n",
       "    </tr>\n",
       "    <tr>\n",
       "      <th>25%</th>\n",
       "      <td>16.837500</td>\n",
       "      <td>1.000000</td>\n",
       "      <td>1.000000</td>\n",
       "      <td>1332.538825</td>\n",
       "      <td>1175.264825</td>\n",
       "      <td>874.205000</td>\n",
       "      <td>826.629750</td>\n",
       "      <td>852.438887</td>\n",
       "      <td>0.000000</td>\n",
       "    </tr>\n",
       "    <tr>\n",
       "      <th>50%</th>\n",
       "      <td>60.000000</td>\n",
       "      <td>2.000000</td>\n",
       "      <td>1.000000</td>\n",
       "      <td>2304.059202</td>\n",
       "      <td>2420.393316</td>\n",
       "      <td>2414.072373</td>\n",
       "      <td>2453.936292</td>\n",
       "      <td>2531.754458</td>\n",
       "      <td>0.000000</td>\n",
       "    </tr>\n",
       "    <tr>\n",
       "      <th>75%</th>\n",
       "      <td>388.125000</td>\n",
       "      <td>4.000000</td>\n",
       "      <td>1.000000</td>\n",
       "      <td>2304.059202</td>\n",
       "      <td>2420.393316</td>\n",
       "      <td>2414.072373</td>\n",
       "      <td>2453.936292</td>\n",
       "      <td>2531.754458</td>\n",
       "      <td>1.000000</td>\n",
       "    </tr>\n",
       "    <tr>\n",
       "      <th>max</th>\n",
       "      <td>4760.000000</td>\n",
       "      <td>7.000000</td>\n",
       "      <td>2.000000</td>\n",
       "      <td>27586.200000</td>\n",
       "      <td>28127.000000</td>\n",
       "      <td>30539.000000</td>\n",
       "      <td>30015.000000</td>\n",
       "      <td>35116.000000</td>\n",
       "      <td>1.000000</td>\n",
       "    </tr>\n",
       "  </tbody>\n",
       "</table>\n",
       "</div>"
      ],
      "text/plain": [
       "       capacity_mw  primary_fuel  geolocation_source  generation_gwh_2013  \\\n",
       "count   908.000000    908.000000          908.000000           908.000000   \n",
       "mean    321.046378      2.368943            1.131057          2304.059202   \n",
       "std     580.221767      1.732816            0.350467          2465.930970   \n",
       "min       0.000000      0.000000            0.000000             0.000000   \n",
       "25%      16.837500      1.000000            1.000000          1332.538825   \n",
       "50%      60.000000      2.000000            1.000000          2304.059202   \n",
       "75%     388.125000      4.000000            1.000000          2304.059202   \n",
       "max    4760.000000      7.000000            2.000000         27586.200000   \n",
       "\n",
       "       generation_gwh_2014  generation_gwh_2015  generation_gwh_2016  \\\n",
       "count           908.000000           908.000000           908.000000   \n",
       "mean           2420.393316          2414.072373          2453.936292   \n",
       "std            2665.360236          2860.146282          2878.730064   \n",
       "min               0.000000             0.000000             0.000000   \n",
       "25%            1175.264825           874.205000           826.629750   \n",
       "50%            2420.393316          2414.072373          2453.936292   \n",
       "75%            2420.393316          2414.072373          2453.936292   \n",
       "max           28127.000000         30539.000000         30015.000000   \n",
       "\n",
       "       generation_gwh_2017   fuel_type  \n",
       "count           908.000000  908.000000  \n",
       "mean           2531.754458    0.394273  \n",
       "std            2923.041411    0.488963  \n",
       "min               0.000000    0.000000  \n",
       "25%             852.438887    0.000000  \n",
       "50%            2531.754458    0.000000  \n",
       "75%            2531.754458    1.000000  \n",
       "max           35116.000000    1.000000  "
      ]
     },
     "execution_count": 57,
     "metadata": {},
     "output_type": "execute_result"
    }
   ],
   "source": [
    "df.describe()"
   ]
  },
  {
   "cell_type": "markdown",
   "id": "b6465475",
   "metadata": {},
   "source": [
    "### check data imbalancement and balance if required"
   ]
  },
  {
   "cell_type": "code",
   "execution_count": 58,
   "id": "7f5684a5",
   "metadata": {},
   "outputs": [
    {
     "name": "stdout",
     "output_type": "stream",
     "text": [
      "Number of fuel_type are: 550\n",
      "Number of fuel_type are: 358\n",
      "Unbalanced dataset\n"
     ]
    }
   ],
   "source": [
    "print('Number of fuel_type are:',df['fuel_type'].value_counts()[0])\n",
    "print('Number of fuel_type are:',df['fuel_type'].value_counts()[1])\n",
    "print('Unbalanced dataset' if df['fuel_type'].value_counts()[0]!=df['fuel_type'].value_counts()[1] else 'Balanced dataset')"
   ]
  },
  {
   "cell_type": "code",
   "execution_count": 59,
   "id": "c9a15e53",
   "metadata": {},
   "outputs": [
    {
     "data": {
      "image/png": "[encoded data removed]",
      "text/plain": [
       "<Figure size 360x360 with 1 Axes>"
      ]
     },
     "metadata": {
      "needs_background": "light"
     },
     "output_type": "display_data"
    }
   ],
   "source": [
    "plt.figure(figsize=[5,5])\n",
    "df['fuel_type'].value_counts().plot(kind='bar')\n",
    "plt.xlabel(\"fuel_type\")\n",
    "plt.ylabel('value counts')\n",
    "plt.title('Value counts of renewable vs non renewable')\n",
    "plt.grid()"
   ]
  },
  {
   "cell_type": "code",
   "execution_count": 60,
   "id": "307aff45",
   "metadata": {},
   "outputs": [
    {
     "name": "stdout",
     "output_type": "stream",
     "text": [
      "Number of fuel_type are: 550\n",
      "Number of fuel_type are: 550\n",
      "Balanced dataset\n"
     ]
    }
   ],
   "source": [
    "dfmin=df[df['fuel_type']==1]\n",
    "dfmax=df[df['fuel_type']==0]\n",
    "dfminup=resample(dfmin,replace=True,n_samples=550,random_state=123)\n",
    "dff=pd.concat([dfmax, dfminup])\n",
    "print('Number of fuel_type are:',dff['fuel_type'].value_counts()[0])\n",
    "print('Number of fuel_type are:',dff['fuel_type'].value_counts()[1])\n",
    "print('Unbalanced dataset' if dff['fuel_type'].value_counts()[0]!=dff['fuel_type'].value_counts()[1] else 'Balanced dataset')"
   ]
  },
  {
   "cell_type": "markdown",
   "id": "88e651d7",
   "metadata": {},
   "source": [
    "### start analyzing to find correlation and the columns to drop"
   ]
  },
  {
   "cell_type": "code",
   "execution_count": 61,
   "id": "d69a4915",
   "metadata": {},
   "outputs": [
    {
     "data": {
      "text/plain": [
       "capacity_mw            0.433637\n",
       "primary_fuel          -0.270903\n",
       "geolocation_source    -0.335859\n",
       "generation_gwh_2013    0.193872\n",
       "generation_gwh_2014    0.204994\n",
       "generation_gwh_2015    0.203246\n",
       "generation_gwh_2016    0.221738\n",
       "generation_gwh_2017    0.235696\n",
       "fuel_type              1.000000\n",
       "Name: fuel_type, dtype: float64"
      ]
     },
     "execution_count": 61,
     "metadata": {},
     "output_type": "execute_result"
    }
   ],
   "source": [
    "dff.corr()['fuel_type']"
   ]
  },
  {
   "cell_type": "markdown",
   "id": "81159785",
   "metadata": {},
   "source": [
    "### use heatmap to check correlation on dataset"
   ]
  },
  {
   "cell_type": "code",
   "execution_count": 62,
   "id": "f0ddc3e8",
   "metadata": {},
   "outputs": [
    {
     "data": {
      "text/plain": [
       "<AxesSubplot:>"
      ]
     },
     "execution_count": 62,
     "metadata": {},
     "output_type": "execute_result"
    },
    {
     "data": {
      "image/png": "[encoded data removed]",
      "text/plain": [
       "<Figure size 720x720 with 2 Axes>"
      ]
     },
     "metadata": {
      "needs_background": "light"
     },
     "output_type": "display_data"
    }
   ],
   "source": [
    "plt.figure(figsize=[10,10])\n",
    "sn.heatmap(dff.corr(),annot=True,cmap='Blues')"
   ]
  },
  {
   "cell_type": "markdown",
   "id": "b4413b2d",
   "metadata": {},
   "source": [
    "### check the graphical relation between fuel_type column and rest"
   ]
  },
  {
   "cell_type": "code",
   "execution_count": 63,
   "id": "9ced86a9",
   "metadata": {},
   "outputs": [
    {
     "data": {
      "image/png": "[encoded data removed]",
      "text/plain": [
       "<Figure size 432x288 with 1 Axes>"
      ]
     },
     "metadata": {
      "needs_background": "light"
     },
     "output_type": "display_data"
    },
    {
     "data": {
      "image/png": "[encoded data removed]",
      "text/plain": [
       "<Figure size 432x288 with 1 Axes>"
      ]
     },
     "metadata": {
      "needs_background": "light"
     },
     "output_type": "display_data"
    },
    {
     "data": {
      "image/png": "[encoded data removed]",
      "text/plain": [
       "<Figure size 432x288 with 1 Axes>"
      ]
     },
     "metadata": {
      "needs_background": "light"
     },
     "output_type": "display_data"
    },
    {
     "data": {
      "image/png": "[encoded data removed]",
      "text/plain": [
       "<Figure size 432x288 with 1 Axes>"
      ]
     },
     "metadata": {
      "needs_background": "light"
     },
     "output_type": "display_data"
    },
    {
     "data": {
      "image/png": "[encoded data removed]",
      "text/plain": [
       "<Figure size 432x288 with 1 Axes>"
      ]
     },
     "metadata": {
      "needs_background": "light"
     },
     "output_type": "display_data"
    },
    {
     "data": {
      "image/png": "[encoded data removed]",
      "text/plain": [
       "<Figure size 432x288 with 1 Axes>"
      ]
     },
     "metadata": {
      "needs_background": "light"
     },
     "output_type": "display_data"
    },
    {
     "data": {
      "image/png": "[encoded data removed]",
      "text/plain": [
       "<Figure size 432x288 with 1 Axes>"
      ]
     },
     "metadata": {
      "needs_background": "light"
     },
     "output_type": "display_data"
    },
    {
     "data": {
      "image/png": "[encoded data removed]",
      "text/plain": [
       "<Figure size 432x288 with 1 Axes>"
      ]
     },
     "metadata": {
      "needs_background": "light"
     },
     "output_type": "display_data"
    },
    {
     "data": {
      "image/png": "[encoded data removed]",
      "text/plain": [
       "<Figure size 432x288 with 1 Axes>"
      ]
     },
     "metadata": {
      "needs_background": "light"
     },
     "output_type": "display_data"
    }
   ],
   "source": [
    "for i in dff.columns:\n",
    "    sn.countplot(x=i,hue=\"fuel_type\",data=dff)\n",
    "    plt.show()"
   ]
  },
  {
   "cell_type": "markdown",
   "id": "5ea036fd",
   "metadata": {},
   "source": [
    "### check dist plots of all columns"
   ]
  },
  {
   "cell_type": "code",
   "execution_count": 65,
   "id": "25043dc1",
   "metadata": {},
   "outputs": [
    {
     "data": {
      "image/png": "[encoded data removed]",
      "text/plain": [
       "<Figure size 1440x1800 with 9 Axes>"
      ]
     },
     "metadata": {},
     "output_type": "display_data"
    }
   ],
   "source": [
    "plt.figure(figsize=(20,25),facecolor='white')\n",
    "plotnumber=1\n",
    "for column in dff.columns:\n",
    "    if plotnumber<=len(dff.columns):\n",
    "        ax=plt.subplot(3,3,plotnumber)\n",
    "        sn.distplot(dff[column])\n",
    "        plt.xlabel(column,fontsize=20)\n",
    "    plotnumber+=1\n",
    "plt.show()"
   ]
  },
  {
   "cell_type": "markdown",
   "id": "6f0c2089",
   "metadata": {},
   "source": [
    "### columns having bimodal distribution plot: primary fuel, geolocation_source\n",
    "### rest all columns have almost normal distribution plot being positively skewed\n",
    "### check for outliers"
   ]
  },
  {
   "cell_type": "code",
   "execution_count": 66,
   "id": "cbcf2e9e",
   "metadata": {},
   "outputs": [
    {
     "data": {
      "image/png": "[encoded data removed]",
      "text/plain": [
       "<Figure size 432x288 with 1 Axes>"
      ]
     },
     "metadata": {
      "needs_background": "light"
     },
     "output_type": "display_data"
    },
    {
     "data": {
      "image/png": "[encoded data removed]",
      "text/plain": [
       "<Figure size 432x288 with 1 Axes>"
      ]
     },
     "metadata": {
      "needs_background": "light"
     },
     "output_type": "display_data"
    },
    {
     "data": {
      "image/png": "[encoded data removed]",
      "text/plain": [
       "<Figure size 432x288 with 1 Axes>"
      ]
     },
     "metadata": {
      "needs_background": "light"
     },
     "output_type": "display_data"
    },
    {
     "data": {
      "image/png": "[encoded data removed]",
      "text/plain": [
       "<Figure size 432x288 with 1 Axes>"
      ]
     },
     "metadata": {
      "needs_background": "light"
     },
     "output_type": "display_data"
    },
    {
     "data": {
      "image/png": "[encoded data removed]",
      "text/plain": [
       "<Figure size 432x288 with 1 Axes>"
      ]
     },
     "metadata": {
      "needs_background": "light"
     },
     "output_type": "display_data"
    },
    {
     "data": {
      "image/png": "[encoded data removed]",
      "text/plain": [
       "<Figure size 432x288 with 1 Axes>"
      ]
     },
     "metadata": {
      "needs_background": "light"
     },
     "output_type": "display_data"
    },
    {
     "data": {
      "image/png": "[encoded data removed]",
      "text/plain": [
       "<Figure size 432x288 with 1 Axes>"
      ]
     },
     "metadata": {
      "needs_background": "light"
     },
     "output_type": "display_data"
    },
    {
     "data": {
      "image/png": "[encoded data removed]",
      "text/plain": [
       "<Figure size 432x288 with 1 Axes>"
      ]
     },
     "metadata": {
      "needs_background": "light"
     },
     "output_type": "display_data"
    },
    {
     "data": {
      "image/png": "[encoded data removed]",
      "text/plain": [
       "<Figure size 432x288 with 1 Axes>"
      ]
     },
     "metadata": {
      "needs_background": "light"
     },
     "output_type": "display_data"
    }
   ],
   "source": [
    "for i in dff.columns:\n",
    "    sn.boxplot(dff[i])\n",
    "    plt.show()"
   ]
  },
  {
   "cell_type": "markdown",
   "id": "d22c7401",
   "metadata": {},
   "source": [
    "### there are outliers present in all non categorical columns. try to remove them"
   ]
  },
  {
   "cell_type": "code",
   "execution_count": 67,
   "id": "f86af97b",
   "metadata": {},
   "outputs": [
    {
     "name": "stdout",
     "output_type": "stream",
     "text": [
      "(1100, 9)\n",
      "(1065, 9)\n"
     ]
    }
   ],
   "source": [
    "z_scr=zscore(dff)\n",
    "print(dff.shape)\n",
    "df_new=dff.loc[(abs(z_scr)<3).all(axis=1)]\n",
    "print(df_new.shape)"
   ]
  },
  {
   "cell_type": "code",
   "execution_count": 68,
   "id": "97270b65",
   "metadata": {},
   "outputs": [
    {
     "data": {
      "image/png": "[encoded data removed]",
      "text/plain": [
       "<Figure size 432x288 with 1 Axes>"
      ]
     },
     "metadata": {
      "needs_background": "light"
     },
     "output_type": "display_data"
    },
    {
     "data": {
      "image/png": "[encoded data removed]",
      "text/plain": [
       "<Figure size 432x288 with 1 Axes>"
      ]
     },
     "metadata": {
      "needs_background": "light"
     },
     "output_type": "display_data"
    },
    {
     "data": {
      "image/png": "[encoded data removed]",
      "text/plain": [
       "<Figure size 432x288 with 1 Axes>"
      ]
     },
     "metadata": {
      "needs_background": "light"
     },
     "output_type": "display_data"
    },
    {
     "data": {
      "image/png": "[encoded data removed]",
      "text/plain": [
       "<Figure size 432x288 with 1 Axes>"
      ]
     },
     "metadata": {
      "needs_background": "light"
     },
     "output_type": "display_data"
    },
    {
     "data": {
      "image/png": "[encoded data removed]",
      "text/plain": [
       "<Figure size 432x288 with 1 Axes>"
      ]
     },
     "metadata": {
      "needs_background": "light"
     },
     "output_type": "display_data"
    },
    {
     "data": {
      "image/png": "[encoded data removed]",
      "text/plain": [
       "<Figure size 432x288 with 1 Axes>"
      ]
     },
     "metadata": {
      "needs_background": "light"
     },
     "output_type": "display_data"
    },
    {
     "data": {
      "image/png": "[encoded data removed]",
      "text/plain": [
       "<Figure size 432x288 with 1 Axes>"
      ]
     },
     "metadata": {
      "needs_background": "light"
     },
     "output_type": "display_data"
    },
    {
     "data": {
      "image/png": "[encoded data removed]",
      "text/plain": [
       "<Figure size 432x288 with 1 Axes>"
      ]
     },
     "metadata": {
      "needs_background": "light"
     },
     "output_type": "display_data"
    },
    {
     "data": {
      "image/png": "[encoded data removed]",
      "text/plain": [
       "<Figure size 432x288 with 1 Axes>"
      ]
     },
     "metadata": {
      "needs_background": "light"
     },
     "output_type": "display_data"
    }
   ],
   "source": [
    "for i in df_new.columns:\n",
    "    sn.boxplot(df_new[i])\n",
    "    plt.show()"
   ]
  },
  {
   "cell_type": "code",
   "execution_count": 69,
   "id": "a89c11fa",
   "metadata": {},
   "outputs": [
    {
     "name": "stdout",
     "output_type": "stream",
     "text": [
      "(1065, 9)\n",
      "(1007, 9)\n"
     ]
    }
   ],
   "source": [
    "z_scr=zscore(df_new)\n",
    "print(df_new.shape)\n",
    "df=df_new.loc[(abs(z_scr)<3).all(axis=1)]\n",
    "print(df.shape)"
   ]
  },
  {
   "cell_type": "code",
   "execution_count": 70,
   "id": "1a39f4bd",
   "metadata": {},
   "outputs": [
    {
     "data": {
      "image/png": "[encoded data removed]",
      "text/plain": [
       "<Figure size 432x288 with 1 Axes>"
      ]
     },
     "metadata": {
      "needs_background": "light"
     },
     "output_type": "display_data"
    },
    {
     "data": {
      "image/png": "[encoded data removed]",
      "text/plain": [
       "<Figure size 432x288 with 1 Axes>"
      ]
     },
     "metadata": {
      "needs_background": "light"
     },
     "output_type": "display_data"
    },
    {
     "data": {
      "image/png": "[encoded data removed]",
      "text/plain": [
       "<Figure size 432x288 with 1 Axes>"
      ]
     },
     "metadata": {
      "needs_background": "light"
     },
     "output_type": "display_data"
    },
    {
     "data": {
      "image/png": "[encoded data removed]",
      "text/plain": [
       "<Figure size 432x288 with 1 Axes>"
      ]
     },
     "metadata": {
      "needs_background": "light"
     },
     "output_type": "display_data"
    },
    {
     "data": {
      "image/png": "[encoded data removed]",
      "text/plain": [
       "<Figure size 432x288 with 1 Axes>"
      ]
     },
     "metadata": {
      "needs_background": "light"
     },
     "output_type": "display_data"
    },
    {
     "data": {
      "image/png": "[encoded data removed]",
      "text/plain": [
       "<Figure size 432x288 with 1 Axes>"
      ]
     },
     "metadata": {
      "needs_background": "light"
     },
     "output_type": "display_data"
    },
    {
     "data": {
      "image/png": "[encoded data removed]",
      "text/plain": [
       "<Figure size 432x288 with 1 Axes>"
      ]
     },
     "metadata": {
      "needs_background": "light"
     },
     "output_type": "display_data"
    },
    {
     "data": {
      "image/png": "[encoded data removed]",
      "text/plain": [
       "<Figure size 432x288 with 1 Axes>"
      ]
     },
     "metadata": {
      "needs_background": "light"
     },
     "output_type": "display_data"
    },
    {
     "data": {
      "image/png": "[encoded data removed]",
      "text/plain": [
       "<Figure size 432x288 with 1 Axes>"
      ]
     },
     "metadata": {
      "needs_background": "light"
     },
     "output_type": "display_data"
    }
   ],
   "source": [
    "for i in df.columns:\n",
    "    sn.boxplot(df[i])\n",
    "    plt.show()"
   ]
  },
  {
   "cell_type": "code",
   "execution_count": 71,
   "id": "ab7ba53b",
   "metadata": {},
   "outputs": [
    {
     "name": "stdout",
     "output_type": "stream",
     "text": [
      "(1007, 9)\n",
      "(945, 9)\n"
     ]
    }
   ],
   "source": [
    "z_scr=zscore(df)\n",
    "print(df.shape)\n",
    "df_new=df.loc[(abs(z_scr)<3).all(axis=1)]\n",
    "print(df_new.shape)"
   ]
  },
  {
   "cell_type": "markdown",
   "id": "20ee5720",
   "metadata": {},
   "source": [
    "### this iteration of zscore causes data loss more than 10%. hence use prev iteration which is df"
   ]
  },
  {
   "cell_type": "code",
   "execution_count": 72,
   "id": "db2f7f67",
   "metadata": {},
   "outputs": [],
   "source": [
    "y = df[['fuel_type']]\n",
    "x = df.drop(columns = ['fuel_type'])"
   ]
  },
  {
   "cell_type": "markdown",
   "id": "3f124969",
   "metadata": {},
   "source": [
    "### check biasing and fix it"
   ]
  },
  {
   "cell_type": "code",
   "execution_count": 73,
   "id": "6c0f8945",
   "metadata": {},
   "outputs": [
    {
     "name": "stdout",
     "output_type": "stream",
     "text": [
      "capacity_mw            1.865193\n",
      "primary_fuel           0.374653\n",
      "geolocation_source     2.311286\n",
      "generation_gwh_2013    0.199896\n",
      "generation_gwh_2014    0.278528\n",
      "generation_gwh_2015    0.296078\n",
      "generation_gwh_2016    0.488964\n",
      "generation_gwh_2017    0.534677\n",
      "dtype: float64\n",
      "2\n"
     ]
    }
   ],
   "source": [
    "print(x.skew())\n",
    "print(len(x.skew().loc[x.skew()>0.55]))"
   ]
  },
  {
   "cell_type": "code",
   "execution_count": 74,
   "id": "ee604ea5",
   "metadata": {},
   "outputs": [],
   "source": [
    "for index in x.skew().index:\n",
    "    if x.skew().loc[index] >0.55:\n",
    "        x[index]=np.cbrt(x[index])"
   ]
  },
  {
   "cell_type": "code",
   "execution_count": 75,
   "id": "f9acfd5b",
   "metadata": {},
   "outputs": [
    {
     "name": "stdout",
     "output_type": "stream",
     "text": [
      "capacity_mw            0.710494\n",
      "primary_fuel           0.374653\n",
      "geolocation_source     2.311286\n",
      "generation_gwh_2013    0.199896\n",
      "generation_gwh_2014    0.278528\n",
      "generation_gwh_2015    0.296078\n",
      "generation_gwh_2016    0.488964\n",
      "generation_gwh_2017    0.534677\n",
      "dtype: float64\n",
      "\n",
      "2\n"
     ]
    }
   ],
   "source": [
    "#lets again check the skewness\n",
    "print(x.skew())\n",
    "print()\n",
    "print(len(x.skew().loc[x.skew()>0.55]))# Number of features having skewness more than 0.55 "
   ]
  },
  {
   "cell_type": "code",
   "execution_count": 76,
   "id": "126f7e99",
   "metadata": {},
   "outputs": [
    {
     "data": {
      "text/html": [
       "<div>\n",
       "<style scoped>\n",
       "    .dataframe tbody tr th:only-of-type {\n",
       "        vertical-align: middle;\n",
       "    }\n",
       "\n",
       "    .dataframe tbody tr th {\n",
       "        vertical-align: top;\n",
       "    }\n",
       "\n",
       "    .dataframe thead th {\n",
       "        text-align: right;\n",
       "    }\n",
       "</style>\n",
       "<table border=\"1\" class=\"dataframe\">\n",
       "  <thead>\n",
       "    <tr style=\"text-align: right;\">\n",
       "      <th></th>\n",
       "      <th>capacity_mw</th>\n",
       "      <th>primary_fuel</th>\n",
       "      <th>geolocation_source</th>\n",
       "      <th>generation_gwh_2013</th>\n",
       "      <th>generation_gwh_2014</th>\n",
       "      <th>generation_gwh_2015</th>\n",
       "      <th>generation_gwh_2016</th>\n",
       "      <th>generation_gwh_2017</th>\n",
       "    </tr>\n",
       "  </thead>\n",
       "  <tbody>\n",
       "    <tr>\n",
       "      <th>2</th>\n",
       "      <td>3.396999</td>\n",
       "      <td>2</td>\n",
       "      <td>1.0</td>\n",
       "      <td>2304.059202</td>\n",
       "      <td>2420.393316</td>\n",
       "      <td>2414.072373</td>\n",
       "      <td>2453.936292</td>\n",
       "      <td>2531.754458</td>\n",
       "    </tr>\n",
       "    <tr>\n",
       "      <th>6</th>\n",
       "      <td>3.914868</td>\n",
       "      <td>4</td>\n",
       "      <td>1.0</td>\n",
       "      <td>147.568450</td>\n",
       "      <td>157.558250</td>\n",
       "      <td>152.195200</td>\n",
       "      <td>61.421350</td>\n",
       "      <td>89.629600</td>\n",
       "    </tr>\n",
       "    <tr>\n",
       "      <th>7</th>\n",
       "      <td>5.768998</td>\n",
       "      <td>4</td>\n",
       "      <td>1.0</td>\n",
       "      <td>696.738800</td>\n",
       "      <td>674.391100</td>\n",
       "      <td>721.335200</td>\n",
       "      <td>675.724400</td>\n",
       "      <td>679.594950</td>\n",
       "    </tr>\n",
       "    <tr>\n",
       "      <th>8</th>\n",
       "      <td>6.619106</td>\n",
       "      <td>4</td>\n",
       "      <td>1.0</td>\n",
       "      <td>504.813250</td>\n",
       "      <td>480.594950</td>\n",
       "      <td>144.434200</td>\n",
       "      <td>402.029750</td>\n",
       "      <td>439.372100</td>\n",
       "    </tr>\n",
       "    <tr>\n",
       "      <th>11</th>\n",
       "      <td>5.117230</td>\n",
       "      <td>4</td>\n",
       "      <td>1.0</td>\n",
       "      <td>731.334950</td>\n",
       "      <td>614.412500</td>\n",
       "      <td>665.197300</td>\n",
       "      <td>670.500650</td>\n",
       "      <td>644.570950</td>\n",
       "    </tr>\n",
       "    <tr>\n",
       "      <th>...</th>\n",
       "      <td>...</td>\n",
       "      <td>...</td>\n",
       "      <td>...</td>\n",
       "      <td>...</td>\n",
       "      <td>...</td>\n",
       "      <td>...</td>\n",
       "      <td>...</td>\n",
       "      <td>...</td>\n",
       "    </tr>\n",
       "    <tr>\n",
       "      <th>74</th>\n",
       "      <td>2.154435</td>\n",
       "      <td>1</td>\n",
       "      <td>1.0</td>\n",
       "      <td>2304.059202</td>\n",
       "      <td>2420.393316</td>\n",
       "      <td>2414.072373</td>\n",
       "      <td>2453.936292</td>\n",
       "      <td>2531.754458</td>\n",
       "    </tr>\n",
       "    <tr>\n",
       "      <th>473</th>\n",
       "      <td>10.000000</td>\n",
       "      <td>1</td>\n",
       "      <td>1.0</td>\n",
       "      <td>4724.030000</td>\n",
       "      <td>5111.950000</td>\n",
       "      <td>5882.550000</td>\n",
       "      <td>6189.110000</td>\n",
       "      <td>5101.265600</td>\n",
       "    </tr>\n",
       "    <tr>\n",
       "      <th>190</th>\n",
       "      <td>10.000000</td>\n",
       "      <td>1</td>\n",
       "      <td>1.0</td>\n",
       "      <td>4117.682000</td>\n",
       "      <td>3633.396000</td>\n",
       "      <td>4179.266000</td>\n",
       "      <td>6327.030000</td>\n",
       "      <td>6182.040900</td>\n",
       "    </tr>\n",
       "    <tr>\n",
       "      <th>168</th>\n",
       "      <td>10.626586</td>\n",
       "      <td>1</td>\n",
       "      <td>1.0</td>\n",
       "      <td>2304.059202</td>\n",
       "      <td>481.945750</td>\n",
       "      <td>5837.766000</td>\n",
       "      <td>6164.740000</td>\n",
       "      <td>3444.420000</td>\n",
       "    </tr>\n",
       "    <tr>\n",
       "      <th>320</th>\n",
       "      <td>10.163964</td>\n",
       "      <td>1</td>\n",
       "      <td>1.0</td>\n",
       "      <td>1185.569000</td>\n",
       "      <td>4436.700000</td>\n",
       "      <td>5747.000000</td>\n",
       "      <td>5476.700000</td>\n",
       "      <td>5174.090000</td>\n",
       "    </tr>\n",
       "  </tbody>\n",
       "</table>\n",
       "<p>1007 rows × 8 columns</p>\n",
       "</div>"
      ],
      "text/plain": [
       "     capacity_mw  primary_fuel  geolocation_source  generation_gwh_2013  \\\n",
       "2       3.396999             2                 1.0          2304.059202   \n",
       "6       3.914868             4                 1.0           147.568450   \n",
       "7       5.768998             4                 1.0           696.738800   \n",
       "8       6.619106             4                 1.0           504.813250   \n",
       "11      5.117230             4                 1.0           731.334950   \n",
       "..           ...           ...                 ...                  ...   \n",
       "74      2.154435             1                 1.0          2304.059202   \n",
       "473    10.000000             1                 1.0          4724.030000   \n",
       "190    10.000000             1                 1.0          4117.682000   \n",
       "168    10.626586             1                 1.0          2304.059202   \n",
       "320    10.163964             1                 1.0          1185.569000   \n",
       "\n",
       "     generation_gwh_2014  generation_gwh_2015  generation_gwh_2016  \\\n",
       "2            2420.393316          2414.072373          2453.936292   \n",
       "6             157.558250           152.195200            61.421350   \n",
       "7             674.391100           721.335200           675.724400   \n",
       "8             480.594950           144.434200           402.029750   \n",
       "11            614.412500           665.197300           670.500650   \n",
       "..                   ...                  ...                  ...   \n",
       "74           2420.393316          2414.072373          2453.936292   \n",
       "473          5111.950000          5882.550000          6189.110000   \n",
       "190          3633.396000          4179.266000          6327.030000   \n",
       "168           481.945750          5837.766000          6164.740000   \n",
       "320          4436.700000          5747.000000          5476.700000   \n",
       "\n",
       "     generation_gwh_2017  \n",
       "2            2531.754458  \n",
       "6              89.629600  \n",
       "7             679.594950  \n",
       "8             439.372100  \n",
       "11            644.570950  \n",
       "..                   ...  \n",
       "74           2531.754458  \n",
       "473          5101.265600  \n",
       "190          6182.040900  \n",
       "168          3444.420000  \n",
       "320          5174.090000  \n",
       "\n",
       "[1007 rows x 8 columns]"
      ]
     },
     "execution_count": 76,
     "metadata": {},
     "output_type": "execute_result"
    }
   ],
   "source": [
    "x"
   ]
  },
  {
   "cell_type": "markdown",
   "id": "565adc41",
   "metadata": {},
   "source": [
    "### scale non categorical data"
   ]
  },
  {
   "cell_type": "code",
   "execution_count": 77,
   "id": "e14c5b62",
   "metadata": {
    "scrolled": false
   },
   "outputs": [
    {
     "data": {
      "text/html": [
       "<div>\n",
       "<style scoped>\n",
       "    .dataframe tbody tr th:only-of-type {\n",
       "        vertical-align: middle;\n",
       "    }\n",
       "\n",
       "    .dataframe tbody tr th {\n",
       "        vertical-align: top;\n",
       "    }\n",
       "\n",
       "    .dataframe thead th {\n",
       "        text-align: right;\n",
       "    }\n",
       "</style>\n",
       "<table border=\"1\" class=\"dataframe\">\n",
       "  <thead>\n",
       "    <tr style=\"text-align: right;\">\n",
       "      <th></th>\n",
       "      <th>capacity_mw</th>\n",
       "      <th>primary_fuel</th>\n",
       "      <th>geolocation_source</th>\n",
       "      <th>generation_gwh_2013</th>\n",
       "      <th>generation_gwh_2014</th>\n",
       "      <th>generation_gwh_2015</th>\n",
       "      <th>generation_gwh_2016</th>\n",
       "      <th>generation_gwh_2017</th>\n",
       "    </tr>\n",
       "  </thead>\n",
       "  <tbody>\n",
       "    <tr>\n",
       "      <th>2</th>\n",
       "      <td>-0.503184</td>\n",
       "      <td>2</td>\n",
       "      <td>1.0</td>\n",
       "      <td>0.384366</td>\n",
       "      <td>0.396953</td>\n",
       "      <td>0.405586</td>\n",
       "      <td>0.389112</td>\n",
       "      <td>0.376835</td>\n",
       "    </tr>\n",
       "    <tr>\n",
       "      <th>6</th>\n",
       "      <td>-0.310035</td>\n",
       "      <td>4</td>\n",
       "      <td>1.0</td>\n",
       "      <td>-1.637834</td>\n",
       "      <td>-1.556754</td>\n",
       "      <td>-1.465043</td>\n",
       "      <td>-1.463775</td>\n",
       "      <td>-1.424358</td>\n",
       "    </tr>\n",
       "    <tr>\n",
       "      <th>7</th>\n",
       "      <td>0.381497</td>\n",
       "      <td>4</td>\n",
       "      <td>1.0</td>\n",
       "      <td>-1.122862</td>\n",
       "      <td>-1.110526</td>\n",
       "      <td>-0.994350</td>\n",
       "      <td>-0.988027</td>\n",
       "      <td>-0.989228</td>\n",
       "    </tr>\n",
       "    <tr>\n",
       "      <th>8</th>\n",
       "      <td>0.698560</td>\n",
       "      <td>4</td>\n",
       "      <td>1.0</td>\n",
       "      <td>-1.302836</td>\n",
       "      <td>-1.277847</td>\n",
       "      <td>-1.471462</td>\n",
       "      <td>-1.199990</td>\n",
       "      <td>-1.166405</td>\n",
       "    </tr>\n",
       "    <tr>\n",
       "      <th>11</th>\n",
       "      <td>0.138408</td>\n",
       "      <td>4</td>\n",
       "      <td>1.0</td>\n",
       "      <td>-1.090421</td>\n",
       "      <td>-1.162311</td>\n",
       "      <td>-1.040778</td>\n",
       "      <td>-0.992072</td>\n",
       "      <td>-1.015060</td>\n",
       "    </tr>\n",
       "    <tr>\n",
       "      <th>...</th>\n",
       "      <td>...</td>\n",
       "      <td>...</td>\n",
       "      <td>...</td>\n",
       "      <td>...</td>\n",
       "      <td>...</td>\n",
       "      <td>...</td>\n",
       "      <td>...</td>\n",
       "      <td>...</td>\n",
       "    </tr>\n",
       "    <tr>\n",
       "      <th>74</th>\n",
       "      <td>-0.966621</td>\n",
       "      <td>1</td>\n",
       "      <td>1.0</td>\n",
       "      <td>0.384366</td>\n",
       "      <td>0.396953</td>\n",
       "      <td>0.405586</td>\n",
       "      <td>0.389112</td>\n",
       "      <td>0.376835</td>\n",
       "    </tr>\n",
       "    <tr>\n",
       "      <th>473</th>\n",
       "      <td>1.959527</td>\n",
       "      <td>1</td>\n",
       "      <td>1.0</td>\n",
       "      <td>2.653638</td>\n",
       "      <td>2.720814</td>\n",
       "      <td>3.274105</td>\n",
       "      <td>3.281824</td>\n",
       "      <td>2.271982</td>\n",
       "    </tr>\n",
       "    <tr>\n",
       "      <th>190</th>\n",
       "      <td>1.959527</td>\n",
       "      <td>1</td>\n",
       "      <td>1.0</td>\n",
       "      <td>2.085049</td>\n",
       "      <td>1.444246</td>\n",
       "      <td>1.865446</td>\n",
       "      <td>3.388636</td>\n",
       "      <td>3.069109</td>\n",
       "    </tr>\n",
       "    <tr>\n",
       "      <th>168</th>\n",
       "      <td>2.193224</td>\n",
       "      <td>1</td>\n",
       "      <td>1.0</td>\n",
       "      <td>0.384366</td>\n",
       "      <td>-1.276681</td>\n",
       "      <td>3.237068</td>\n",
       "      <td>3.262950</td>\n",
       "      <td>1.049973</td>\n",
       "    </tr>\n",
       "    <tr>\n",
       "      <th>320</th>\n",
       "      <td>2.020680</td>\n",
       "      <td>1</td>\n",
       "      <td>1.0</td>\n",
       "      <td>-0.664473</td>\n",
       "      <td>2.137810</td>\n",
       "      <td>3.162002</td>\n",
       "      <td>2.730097</td>\n",
       "      <td>2.325693</td>\n",
       "    </tr>\n",
       "  </tbody>\n",
       "</table>\n",
       "<p>1007 rows × 8 columns</p>\n",
       "</div>"
      ],
      "text/plain": [
       "     capacity_mw  primary_fuel  geolocation_source  generation_gwh_2013  \\\n",
       "2      -0.503184             2                 1.0             0.384366   \n",
       "6      -0.310035             4                 1.0            -1.637834   \n",
       "7       0.381497             4                 1.0            -1.122862   \n",
       "8       0.698560             4                 1.0            -1.302836   \n",
       "11      0.138408             4                 1.0            -1.090421   \n",
       "..           ...           ...                 ...                  ...   \n",
       "74     -0.966621             1                 1.0             0.384366   \n",
       "473     1.959527             1                 1.0             2.653638   \n",
       "190     1.959527             1                 1.0             2.085049   \n",
       "168     2.193224             1                 1.0             0.384366   \n",
       "320     2.020680             1                 1.0            -0.664473   \n",
       "\n",
       "     generation_gwh_2014  generation_gwh_2015  generation_gwh_2016  \\\n",
       "2               0.396953             0.405586             0.389112   \n",
       "6              -1.556754            -1.465043            -1.463775   \n",
       "7              -1.110526            -0.994350            -0.988027   \n",
       "8              -1.277847            -1.471462            -1.199990   \n",
       "11             -1.162311            -1.040778            -0.992072   \n",
       "..                   ...                  ...                  ...   \n",
       "74              0.396953             0.405586             0.389112   \n",
       "473             2.720814             3.274105             3.281824   \n",
       "190             1.444246             1.865446             3.388636   \n",
       "168            -1.276681             3.237068             3.262950   \n",
       "320             2.137810             3.162002             2.730097   \n",
       "\n",
       "     generation_gwh_2017  \n",
       "2               0.376835  \n",
       "6              -1.424358  \n",
       "7              -0.989228  \n",
       "8              -1.166405  \n",
       "11             -1.015060  \n",
       "..                   ...  \n",
       "74              0.376835  \n",
       "473             2.271982  \n",
       "190             3.069109  \n",
       "168             1.049973  \n",
       "320             2.325693  \n",
       "\n",
       "[1007 rows x 8 columns]"
      ]
     },
     "execution_count": 77,
     "metadata": {},
     "output_type": "execute_result"
    }
   ],
   "source": [
    "scaler = StandardScaler()\n",
    "x[['capacity_mw','generation_gwh_2013','generation_gwh_2014','generation_gwh_2015','generation_gwh_2016','generation_gwh_2017']] = scaler.fit_transform(x[['capacity_mw','generation_gwh_2013','generation_gwh_2014','generation_gwh_2015','generation_gwh_2016','generation_gwh_2017']])\n",
    "x"
   ]
  },
  {
   "cell_type": "markdown",
   "id": "aac7f5a4",
   "metadata": {},
   "source": [
    "### Classification part"
   ]
  },
  {
   "cell_type": "markdown",
   "id": "02a7b8b9",
   "metadata": {},
   "source": [
    "### performing pca and choose appropriate component to train model"
   ]
  },
  {
   "cell_type": "code",
   "execution_count": 81,
   "id": "884709d5",
   "metadata": {},
   "outputs": [
    {
     "name": "stdout",
     "output_type": "stream",
     "text": [
      "2 0.802382901581455\n",
      "3 0.9150632560808349\n",
      "4 0.965642263450306\n",
      "5 0.9825219113449846\n",
      "6 0.9932487286550906\n",
      "7 0.9995224418280646\n",
      "8 1.0000000000000002\n"
     ]
    }
   ],
   "source": [
    "for i in range(2,9):\n",
    "    pca = PCA(n_components=i)\n",
    "    principalComponents = pca.fit_transform(x)\n",
    "    print(i,sum(pca.explained_variance_ratio_))"
   ]
  },
  {
   "cell_type": "markdown",
   "id": "559e7c8f",
   "metadata": {},
   "source": [
    "### i will use 4 as data retention is good(personal choice)"
   ]
  },
  {
   "cell_type": "code",
   "execution_count": 82,
   "id": "4296edf8",
   "metadata": {},
   "outputs": [],
   "source": [
    "pca = PCA(n_components=4)\n",
    "principalComponents = pca.fit_transform(x)"
   ]
  },
  {
   "cell_type": "markdown",
   "id": "a925301f",
   "metadata": {},
   "source": [
    "### algo to find best train test random split for classification issue"
   ]
  },
  {
   "cell_type": "code",
   "execution_count": 79,
   "id": "45152e28",
   "metadata": {},
   "outputs": [],
   "source": [
    "def besttrain(model,x,y):\n",
    "    random=0\n",
    "    score=0\n",
    "    for i in range(42,100):\n",
    "        x_train,x_test,y_train,y_test=train_test_split(x,y,random_state = i,test_size=0.20,stratify=y)\n",
    "        model.fit(x_train,y_train)\n",
    "        tmp=roc_auc_score(y_test,model.predict(x_test))\n",
    "        #print(i,tmp)\n",
    "        if tmp>score:\n",
    "            score=tmp\n",
    "            random=i\n",
    "    print(\"maximum roc_auc_score is at random state :\",random,\" and it is :\",score)"
   ]
  },
  {
   "cell_type": "markdown",
   "id": "a0b6cb37",
   "metadata": {},
   "source": [
    "### All models we are going to use to iterate and find the best model"
   ]
  },
  {
   "cell_type": "code",
   "execution_count": 80,
   "id": "e3d79e13",
   "metadata": {},
   "outputs": [],
   "source": [
    "models=[LogisticRegression(),DecisionTreeClassifier(),KNeighborsClassifier(),RandomForestClassifier(),SVC(),RidgeClassifier(),\n",
    "        BaggingClassifier(),GradientBoostingClassifier(),SGDClassifier(),\n",
    "       LGBMClassifier(),XGBClassifier(),ExtraTreesClassifier(),AdaBoostClassifier(),\n",
    "       QuadraticDiscriminantAnalysis(),CalibratedClassifierCV(),LinearSVC(),NuSVC(),\n",
    "       LinearDiscriminantAnalysis(),RidgeClassifierCV(),GaussianNB(),BernoulliNB(),\n",
    "        PassiveAggressiveClassifier(),Perceptron(),DummyClassifier()]"
   ]
  },
  {
   "cell_type": "code",
   "execution_count": 83,
   "id": "808ec052",
   "metadata": {},
   "outputs": [
    {
     "name": "stdout",
     "output_type": "stream",
     "text": [
      "**********\n",
      "LogisticRegression()\n",
      "score 0.8403035176315047\n",
      "roc 0.69621189701095\n",
      "diff 0.1440916206205547\n",
      "**********\n",
      "DecisionTreeClassifier()\n",
      "score 0.9884482686375229\n",
      "roc 0.9762750320607675\n",
      "diff 0.012173236576755397\n",
      "**********\n",
      "KNeighborsClassifier()\n",
      "score 0.9974547924026673\n",
      "roc 0.9854493439873729\n",
      "diff 0.012005448415294384\n",
      "**********\n",
      "RandomForestClassifier()\n",
      "score 0.9996429195835772\n",
      "roc 0.9762750320607675\n",
      "diff 0.023367887522809716\n",
      "**********\n",
      "SVC()\n",
      "score 0.9565925572725893\n",
      "roc 0.9531912794712439\n",
      "diff 0.0034012778013453593\n",
      "**********\n",
      "RidgeClassifier()\n",
      "score 0.8405201095241193\n",
      "roc 0.6693301765808425\n",
      "diff 0.17118993294327678\n",
      "**********\n",
      "BaggingClassifier()\n",
      "score 0.9996118829334547\n",
      "roc 0.9701094998520272\n",
      "diff 0.029502383081427497\n",
      "**********\n",
      "GradientBoostingClassifier()\n",
      "score 0.9991310315929403\n",
      "roc 0.9808621880240702\n",
      "diff 0.01826884356887004\n",
      "**********\n",
      "SGDClassifier()\n",
      "score 0.7550269981288426\n",
      "roc 0.7447469665581533\n",
      "diff 0.010280031570689241\n",
      "**********\n",
      "LGBMClassifier()\n",
      "score 0.9992864171308437\n",
      "roc 0.9808621880240702\n",
      "diff 0.018424229106773438\n",
      "[22:51:35] WARNING: C:/Users/Administrator/workspace/xgboost-win64_release_1.4.0/src/learner.cc:1095: Starting in XGBoost 1.3.0, the default evaluation metric used with the objective 'binary:logistic' was changed from 'error' to 'logloss'. Explicitly set eval_metric if you'd like to restore the old behavior.\n",
      "[22:51:35] WARNING: C:/Users/Administrator/workspace/xgboost-win64_release_1.4.0/src/learner.cc:1095: Starting in XGBoost 1.3.0, the default evaluation metric used with the objective 'binary:logistic' was changed from 'error' to 'logloss'. Explicitly set eval_metric if you'd like to restore the old behavior.\n",
      "[22:51:35] WARNING: C:/Users/Administrator/workspace/xgboost-win64_release_1.4.0/src/learner.cc:1095: Starting in XGBoost 1.3.0, the default evaluation metric used with the objective 'binary:logistic' was changed from 'error' to 'logloss'. Explicitly set eval_metric if you'd like to restore the old behavior.\n",
      "[22:51:35] WARNING: C:/Users/Administrator/workspace/xgboost-win64_release_1.4.0/src/learner.cc:1095: Starting in XGBoost 1.3.0, the default evaluation metric used with the objective 'binary:logistic' was changed from 'error' to 'logloss'. Explicitly set eval_metric if you'd like to restore the old behavior.\n",
      "[22:51:35] WARNING: C:/Users/Administrator/workspace/xgboost-win64_release_1.4.0/src/learner.cc:1095: Starting in XGBoost 1.3.0, the default evaluation metric used with the objective 'binary:logistic' was changed from 'error' to 'logloss'. Explicitly set eval_metric if you'd like to restore the old behavior.\n",
      "[22:51:35] WARNING: C:/Users/Administrator/workspace/xgboost-win64_release_1.4.0/src/learner.cc:1095: Starting in XGBoost 1.3.0, the default evaluation metric used with the objective 'binary:logistic' was changed from 'error' to 'logloss'. Explicitly set eval_metric if you'd like to restore the old behavior.\n",
      "**********\n",
      "XGBClassifier(base_score=0.5, booster='gbtree', colsample_bylevel=1,\n",
      "              colsample_bynode=1, colsample_bytree=1, gamma=0, gpu_id=-1,\n",
      "              importance_type='gain', interaction_constraints='',\n",
      "              learning_rate=0.300000012, max_delta_step=0, max_depth=6,\n",
      "              min_child_weight=1, missing=nan, monotone_constraints='()',\n",
      "              n_estimators=100, n_jobs=8, num_parallel_tree=1, random_state=0,\n",
      "              reg_alpha=0, reg_lambda=1, scale_pos_weight=1, subsample=1,\n",
      "              tree_method='exact', validate_parameters=1, verbosity=None)\n",
      "score 0.9982942846615661\n",
      "roc 0.9655223438887245\n",
      "diff 0.03277194077284162\n",
      "**********\n",
      "ExtraTreesClassifier()\n",
      "score 0.9998758533995101\n",
      "roc 0.9808621880240702\n",
      "diff 0.019013665375439914\n",
      "**********\n",
      "AdaBoostClassifier()\n",
      "score 0.9859019629091803\n",
      "roc 0.9808621880240702\n",
      "diff 0.005039774885110093\n",
      "**********\n",
      "QuadraticDiscriminantAnalysis()\n",
      "score 0.8308845878757667\n",
      "roc 0.6914767682746374\n",
      "diff 0.13940781960112925\n",
      "**********\n",
      "CalibratedClassifierCV()\n",
      "score 0.8399918218137946\n",
      "roc 0.69621189701095\n",
      "diff 0.14377992480284463\n",
      "**********\n",
      "LinearSVC()\n",
      "score 0.840271353952188\n",
      "roc 0.6800828647528856\n",
      "diff 0.1601884891993024\n",
      "**********\n",
      "NuSVC()\n",
      "score 0.9373740219770692\n",
      "roc 0.7980664890993389\n",
      "diff 0.13930753287773034\n",
      "**********\n",
      "LinearDiscriminantAnalysis()\n",
      "score 0.8404269706755674\n",
      "roc 0.6693301765808425\n",
      "diff 0.1710967940947249\n",
      "**********\n",
      "RidgeClassifierCV(alphas=array([ 0.1,  1. , 10. ]))\n",
      "score 0.8406135373545156\n",
      "roc 0.663953832494821\n",
      "diff 0.17665970485969462\n",
      "**********\n",
      "GaussianNB()\n",
      "score 0.8098807082945015\n",
      "roc 0.6446680477458815\n",
      "diff 0.16521266054862005\n",
      "**********\n",
      "BernoulliNB()\n",
      "score 0.819262648374116\n",
      "roc 0.7309854986682449\n",
      "diff 0.08827714970587108\n",
      "**********\n",
      "PassiveAggressiveClassifier()\n",
      "score 0.7780187115744452\n",
      "roc 0.6737693597711355\n",
      "diff 0.10424935180330974\n",
      "**********\n",
      "Perceptron()\n",
      "score 0.7359425504092705\n",
      "roc 0.6859031271579363\n",
      "diff 0.05003942325133415\n",
      "**********\n",
      "DummyClassifier()\n",
      "score 0.5046909844888996\n",
      "roc 0.4504291210417284\n",
      "diff 0.05426186344717121\n"
     ]
    }
   ],
   "source": [
    "for i in models:\n",
    "    x_train,x_test,y_train,y_test=train_test_split(principalComponents,y,random_state = 42,test_size=0.20,stratify=y)\n",
    "    scores=cross_val_score(i,x_train,y_train,cv=5,scoring='roc_auc')\n",
    "    score=np.mean(scores)\n",
    "    i.fit(x_train,y_train)\n",
    "    y_pred=i.predict(x_test)\n",
    "    if roc_auc_score(y_test,y_pred)>score:\n",
    "        diff=roc_auc_score(y_test,y_pred)-score\n",
    "        print('roc bigger')\n",
    "    else:\n",
    "        diff=score-roc_auc_score(y_test,y_pred)\n",
    "    print('*'*10)\n",
    "    print(i)\n",
    "    print('score',score)\n",
    "    print('roc',roc_auc_score(y_test,y_pred))\n",
    "    print('diff',diff)"
   ]
  },
  {
   "cell_type": "markdown",
   "id": "b658f962",
   "metadata": {},
   "source": [
    "### Top models are:\n",
    "#### AdaBoostClassifier: cv score: 98.5% pred score: 98% diff: 0.5%\n",
    "#### ExtraTreesClassifier: cv score: 99.8% pred score: 98% diff: 1.9%\n",
    "#### LGBMClassifier: cv score: 99.98% pred score: 98% diff: 1.8%\n",
    "#### GradientBoostingClassifier: cv score: 99.91% pred score: 98% diff: 1.8%\n",
    "#### KNeighborsClassifier: cv score: 99.7% pred score: 98.5% diff: 1.2%\n",
    "#### choosing KNeighborsClassifier as it has better accuracy and reasonable difference which indicates less underfitting and overfitting problems"
   ]
  },
  {
   "cell_type": "code",
   "execution_count": 87,
   "id": "1dd5fb18",
   "metadata": {},
   "outputs": [
    {
     "name": "stdout",
     "output_type": "stream",
     "text": [
      "Fitting 10 folds for each of 80 candidates, totalling 800 fits\n"
     ]
    },
    {
     "name": "stderr",
     "output_type": "stream",
     "text": [
      "[Parallel(n_jobs=-1)]: Using backend LokyBackend with 8 concurrent workers.\n",
      "[Parallel(n_jobs=-1)]: Done  34 tasks      | elapsed:    0.8s\n",
      "[Parallel(n_jobs=-1)]: Done 800 out of 800 | elapsed:    2.8s finished\n"
     ]
    },
    {
     "data": {
      "text/plain": [
       "{'algorithm': 'auto', 'n_neighbors': 4, 'weights': 'uniform'}"
      ]
     },
     "execution_count": 87,
     "metadata": {},
     "output_type": "execute_result"
    }
   ],
   "source": [
    "parameters={\"n_neighbors\":list(range(1,11)),'weights':['uniform', 'distance'],'algorithm':['auto', 'ball_tree', 'kd_tree','brute']}\n",
    "clf = GridSearchCV(KNeighborsClassifier(), parameters, cv=10,scoring=\"roc_auc\",n_jobs=-1,verbose=1)\n",
    "clf.fit(principalComponents,y)\n",
    "clf.best_params_"
   ]
  },
  {
   "cell_type": "markdown",
   "id": "4040137d",
   "metadata": {},
   "source": [
    "### find best random state"
   ]
  },
  {
   "cell_type": "code",
   "execution_count": 88,
   "id": "a720d98c",
   "metadata": {},
   "outputs": [
    {
     "name": "stdout",
     "output_type": "stream",
     "text": [
      "maximum roc_auc_score is at random state : 43  and it is : 1.0\n"
     ]
    }
   ],
   "source": [
    "besttrain(KNeighborsClassifier(n_neighbors=4,algorithm='auto',weights='uniform'),principalComponents,y)"
   ]
  },
  {
   "cell_type": "markdown",
   "id": "e9a64e46",
   "metadata": {},
   "source": [
    "### best random state is 43\n",
    "### build model, train it & test it"
   ]
  },
  {
   "cell_type": "code",
   "execution_count": 89,
   "id": "8e0d45c6",
   "metadata": {},
   "outputs": [],
   "source": [
    "x_train, x_test, y_train, y_test = train_test_split(principalComponents, y,random_state = 43,test_size=0.20,stratify=y)\n",
    "classmodel=KNeighborsClassifier(n_neighbors=4,algorithm='auto',weights='uniform')\n",
    "classmodel.fit(x_train,y_train)\n",
    "y_pred=classmodel.predict(x_test)"
   ]
  },
  {
   "cell_type": "markdown",
   "id": "476ebb6b",
   "metadata": {},
   "source": [
    "### check all the metrics of the model"
   ]
  },
  {
   "cell_type": "code",
   "execution_count": 92,
   "id": "b95599ae",
   "metadata": {},
   "outputs": [
    {
     "name": "stdout",
     "output_type": "stream",
     "text": [
      "Confusion matrix \n",
      " [[109   0]\n",
      " [  0  93]]\n",
      "f1 score is :  1.0\n",
      "classification report \n",
      "               precision    recall  f1-score   support\n",
      "\n",
      "           0       1.00      1.00      1.00       109\n",
      "           1       1.00      1.00      1.00        93\n",
      "\n",
      "    accuracy                           1.00       202\n",
      "   macro avg       1.00      1.00      1.00       202\n",
      "weighted avg       1.00      1.00      1.00       202\n",
      "\n",
      "AUC ROC Score:  1.0\n",
      "CV mean 0.9999901351484659\n",
      "std: 1.972970306796107e-05\n"
     ]
    }
   ],
   "source": [
    "print(\"Confusion matrix \\n\",confusion_matrix(y_test,y_pred))\n",
    "print(\"f1 score is : \",f1_score(y_test,y_pred))\n",
    "print(\"classification report \\n\",classification_report(y_test,y_pred))\n",
    "print(\"AUC ROC Score: \",roc_auc_score(y_test,y_pred))\n",
    "scores=cross_val_score(classmodel,principalComponents,y,cv=5,scoring='roc_auc')\n",
    "score=np.mean(scores)\n",
    "std=np.std(scores)\n",
    "print('CV mean',score)\n",
    "print('std:',std)"
   ]
  },
  {
   "cell_type": "markdown",
   "id": "98fab4e5",
   "metadata": {},
   "source": [
    "### confusion matrix looks perfect on test dataset\n",
    "### acc varies from 1.0 to 99.99%\n",
    "### std error is 1.972%"
   ]
  },
  {
   "cell_type": "markdown",
   "id": "adc254cc",
   "metadata": {},
   "source": [
    "### test on all whole dataset"
   ]
  },
  {
   "cell_type": "code",
   "execution_count": 93,
   "id": "58e3bc41",
   "metadata": {},
   "outputs": [
    {
     "name": "stdout",
     "output_type": "stream",
     "text": [
      "Confusion matrix \n",
      " [[542   1]\n",
      " [  2 462]]\n",
      "f1 score is :  0.9967637540453075\n",
      "classification report \n",
      "               precision    recall  f1-score   support\n",
      "\n",
      "           0       1.00      1.00      1.00       543\n",
      "           1       1.00      1.00      1.00       464\n",
      "\n",
      "    accuracy                           1.00      1007\n",
      "   macro avg       1.00      1.00      1.00      1007\n",
      "weighted avg       1.00      1.00      1.00      1007\n",
      "\n",
      "AUC ROC Score:  0.9969240172731313\n",
      "CV mean 0.9999901351484659\n",
      "std: 1.972970306796107e-05\n"
     ]
    }
   ],
   "source": [
    "y_pred=classmodel.predict(principalComponents)\n",
    "print(\"Confusion matrix \\n\",confusion_matrix(y,y_pred))\n",
    "print(\"f1 score is : \",f1_score(y,y_pred))\n",
    "print(\"classification report \\n\",classification_report(y,y_pred))\n",
    "print(\"AUC ROC Score: \",roc_auc_score(y,y_pred))\n",
    "scores=cross_val_score(classmodel,principalComponents,y,cv=5,scoring='roc_auc')\n",
    "score=np.mean(scores)\n",
    "std=np.std(scores)\n",
    "print('CV mean',score)\n",
    "print('std:',std)"
   ]
  },
  {
   "cell_type": "markdown",
   "id": "63a6b8fe",
   "metadata": {},
   "source": [
    "### confusion matrix has 2 false positive and 1 true negative\n",
    "### acc varies from 99.99% to 99.67%"
   ]
  },
  {
   "cell_type": "markdown",
   "id": "a2da38b3",
   "metadata": {},
   "source": [
    "### Roc curve of the rfmodel is shown below"
   ]
  },
  {
   "cell_type": "code",
   "execution_count": 94,
   "id": "e393d623",
   "metadata": {},
   "outputs": [
    {
     "data": {
      "image/png": "[encoded data removed]",
      "text/plain": [
       "<Figure size 432x288 with 1 Axes>"
      ]
     },
     "metadata": {
      "needs_background": "light"
     },
     "output_type": "display_data"
    }
   ],
   "source": [
    "fpr, tpr, threshold = roc_curve(y,y_pred)\n",
    "auc = roc_auc_score(y,y_pred)\n",
    "plt.plot(fpr, tpr, color ='orange', label ='ROC')\n",
    "plt.plot([0, 1], [0, 1], color='darkblue', linestyle='--', label ='ROC curve (area = %0.3f)'% auc)\n",
    "plt.xlabel('False Positive Rate')\n",
    "plt.ylabel('True Positive Rate')\n",
    "plt.legend()\n",
    "plt.show()"
   ]
  },
  {
   "cell_type": "markdown",
   "id": "e9274f6b",
   "metadata": {},
   "source": [
    "### from the above we get all the metrics of the currently trained model.\n",
    "### put fuel_type column and predicted fuel_type column side by side to observe the diff between these two columns"
   ]
  },
  {
   "cell_type": "code",
   "execution_count": 97,
   "id": "5b28426c",
   "metadata": {},
   "outputs": [
    {
     "data": {
      "text/html": [
       "<div>\n",
       "<style scoped>\n",
       "    .dataframe tbody tr th:only-of-type {\n",
       "        vertical-align: middle;\n",
       "    }\n",
       "\n",
       "    .dataframe tbody tr th {\n",
       "        vertical-align: top;\n",
       "    }\n",
       "\n",
       "    .dataframe thead th {\n",
       "        text-align: right;\n",
       "    }\n",
       "</style>\n",
       "<table border=\"1\" class=\"dataframe\">\n",
       "  <thead>\n",
       "    <tr style=\"text-align: right;\">\n",
       "      <th></th>\n",
       "      <th>fuel_type</th>\n",
       "      <th>fuel_typepred</th>\n",
       "    </tr>\n",
       "  </thead>\n",
       "  <tbody>\n",
       "    <tr>\n",
       "      <th>2</th>\n",
       "      <td>0</td>\n",
       "      <td>0</td>\n",
       "    </tr>\n",
       "    <tr>\n",
       "      <th>6</th>\n",
       "      <td>0</td>\n",
       "      <td>0</td>\n",
       "    </tr>\n",
       "    <tr>\n",
       "      <th>7</th>\n",
       "      <td>0</td>\n",
       "      <td>0</td>\n",
       "    </tr>\n",
       "    <tr>\n",
       "      <th>8</th>\n",
       "      <td>0</td>\n",
       "      <td>0</td>\n",
       "    </tr>\n",
       "    <tr>\n",
       "      <th>11</th>\n",
       "      <td>0</td>\n",
       "      <td>0</td>\n",
       "    </tr>\n",
       "    <tr>\n",
       "      <th>...</th>\n",
       "      <td>...</td>\n",
       "      <td>...</td>\n",
       "    </tr>\n",
       "    <tr>\n",
       "      <th>74</th>\n",
       "      <td>1</td>\n",
       "      <td>1</td>\n",
       "    </tr>\n",
       "    <tr>\n",
       "      <th>473</th>\n",
       "      <td>1</td>\n",
       "      <td>1</td>\n",
       "    </tr>\n",
       "    <tr>\n",
       "      <th>190</th>\n",
       "      <td>1</td>\n",
       "      <td>1</td>\n",
       "    </tr>\n",
       "    <tr>\n",
       "      <th>168</th>\n",
       "      <td>1</td>\n",
       "      <td>1</td>\n",
       "    </tr>\n",
       "    <tr>\n",
       "      <th>320</th>\n",
       "      <td>1</td>\n",
       "      <td>1</td>\n",
       "    </tr>\n",
       "  </tbody>\n",
       "</table>\n",
       "<p>1007 rows × 2 columns</p>\n",
       "</div>"
      ],
      "text/plain": [
       "     fuel_type  fuel_typepred\n",
       "2            0              0\n",
       "6            0              0\n",
       "7            0              0\n",
       "8            0              0\n",
       "11           0              0\n",
       "..         ...            ...\n",
       "74           1              1\n",
       "473          1              1\n",
       "190          1              1\n",
       "168          1              1\n",
       "320          1              1\n",
       "\n",
       "[1007 rows x 2 columns]"
      ]
     },
     "execution_count": 97,
     "metadata": {},
     "output_type": "execute_result"
    }
   ],
   "source": [
    "x['fuel_typepred']=y_pred\n",
    "x['fuel_type']=y\n",
    "x[['fuel_type','fuel_typepred']]"
   ]
  },
  {
   "cell_type": "code",
   "execution_count": 101,
   "id": "485ea7df",
   "metadata": {},
   "outputs": [
    {
     "name": "stdout",
     "output_type": "stream",
     "text": [
      "Number of falsely predicted fuel_type nonrenewable 1\n"
     ]
    }
   ],
   "source": [
    "print('Number of falsely predicted fuel_type nonrenewable',x.fuel_type.value_counts()[1]-x.fuel_typepred.value_counts()[1])"
   ]
  },
  {
   "cell_type": "code",
   "execution_count": 100,
   "id": "5160ca59",
   "metadata": {},
   "outputs": [
    {
     "name": "stdout",
     "output_type": "stream",
     "text": [
      "Number of falsely predicted fuel_type renewable 1\n"
     ]
    }
   ],
   "source": [
    "print('Number of falsely predicted fuel_type renewable',x.fuel_typepred.value_counts()[0]-x.fuel_type.value_counts()[0])"
   ]
  },
  {
   "cell_type": "markdown",
   "id": "65f7c9b4",
   "metadata": {},
   "source": [
    "### analyze how similar dist plot are of actual and predicted values"
   ]
  },
  {
   "cell_type": "code",
   "execution_count": 104,
   "id": "0b00a9a0",
   "metadata": {},
   "outputs": [
    {
     "data": {
      "image/png": "[encoded data removed]",
      "text/plain": [
       "<Figure size 432x288 with 1 Axes>"
      ]
     },
     "metadata": {
      "needs_background": "light"
     },
     "output_type": "display_data"
    },
    {
     "data": {
      "text/plain": [
       "<AxesSubplot:xlabel='fuel_typepred', ylabel='Density'>"
      ]
     },
     "execution_count": 104,
     "metadata": {},
     "output_type": "execute_result"
    },
    {
     "data": {
      "image/png": "[encoded data removed]",
      "text/plain": [
       "<Figure size 432x288 with 1 Axes>"
      ]
     },
     "metadata": {
      "needs_background": "light"
     },
     "output_type": "display_data"
    }
   ],
   "source": [
    "sn.distplot(x['fuel_type'])\n",
    "plt.show()\n",
    "sn.distplot(x['fuel_typepred'])"
   ]
  },
  {
   "cell_type": "markdown",
   "id": "9331e0c4",
   "metadata": {},
   "source": [
    "### heatmap of the confusion matrix"
   ]
  },
  {
   "cell_type": "code",
   "execution_count": 106,
   "id": "eecfaf23",
   "metadata": {},
   "outputs": [
    {
     "data": {
      "text/plain": [
       "<AxesSubplot:>"
      ]
     },
     "execution_count": 106,
     "metadata": {},
     "output_type": "execute_result"
    },
    {
     "data": {
      "image/png": "[encoded data removed]",
      "text/plain": [
       "<Figure size 720x720 with 2 Axes>"
      ]
     },
     "metadata": {
      "needs_background": "light"
     },
     "output_type": "display_data"
    }
   ],
   "source": [
    "plt.figure(figsize=[10,10])\n",
    "sn.heatmap(confusion_matrix(x['fuel_type'],x['fuel_typepred']),annot=True,cmap=\"Oranges\",xticklabels=classmodel.classes_\n",
    "               ,yticklabels=classmodel.classes_)"
   ]
  },
  {
   "cell_type": "markdown",
   "id": "3c419648",
   "metadata": {},
   "source": [
    "### 2 false positive were detected\n",
    "### 1 true negative\n",
    "### Save model"
   ]
  },
  {
   "cell_type": "code",
   "execution_count": 107,
   "id": "6630c2d2",
   "metadata": {},
   "outputs": [
    {
     "data": {
      "text/plain": [
       "['fuel_type.pkl']"
      ]
     },
     "execution_count": 107,
     "metadata": {},
     "output_type": "execute_result"
    }
   ],
   "source": [
    "joblib.dump(classmodel, 'fuel_type.pkl')"
   ]
  },
  {
   "cell_type": "markdown",
   "id": "67015f28",
   "metadata": {},
   "source": [
    "### regression part"
   ]
  },
  {
   "cell_type": "code",
   "execution_count": 109,
   "id": "7d58f23f",
   "metadata": {},
   "outputs": [
    {
     "data": {
      "text/html": [
       "<div>\n",
       "<style scoped>\n",
       "    .dataframe tbody tr th:only-of-type {\n",
       "        vertical-align: middle;\n",
       "    }\n",
       "\n",
       "    .dataframe tbody tr th {\n",
       "        vertical-align: top;\n",
       "    }\n",
       "\n",
       "    .dataframe thead th {\n",
       "        text-align: right;\n",
       "    }\n",
       "</style>\n",
       "<table border=\"1\" class=\"dataframe\">\n",
       "  <thead>\n",
       "    <tr style=\"text-align: right;\">\n",
       "      <th></th>\n",
       "      <th>primary_fuel</th>\n",
       "      <th>geolocation_source</th>\n",
       "      <th>generation_gwh_2013</th>\n",
       "      <th>generation_gwh_2014</th>\n",
       "      <th>generation_gwh_2015</th>\n",
       "      <th>generation_gwh_2016</th>\n",
       "      <th>generation_gwh_2017</th>\n",
       "      <th>fuel_type</th>\n",
       "    </tr>\n",
       "  </thead>\n",
       "  <tbody>\n",
       "    <tr>\n",
       "      <th>2</th>\n",
       "      <td>2</td>\n",
       "      <td>1</td>\n",
       "      <td>2304.059202</td>\n",
       "      <td>2420.393316</td>\n",
       "      <td>2414.072373</td>\n",
       "      <td>2453.936292</td>\n",
       "      <td>2531.754458</td>\n",
       "      <td>0</td>\n",
       "    </tr>\n",
       "    <tr>\n",
       "      <th>6</th>\n",
       "      <td>4</td>\n",
       "      <td>1</td>\n",
       "      <td>147.568450</td>\n",
       "      <td>157.558250</td>\n",
       "      <td>152.195200</td>\n",
       "      <td>61.421350</td>\n",
       "      <td>89.629600</td>\n",
       "      <td>0</td>\n",
       "    </tr>\n",
       "    <tr>\n",
       "      <th>7</th>\n",
       "      <td>4</td>\n",
       "      <td>1</td>\n",
       "      <td>696.738800</td>\n",
       "      <td>674.391100</td>\n",
       "      <td>721.335200</td>\n",
       "      <td>675.724400</td>\n",
       "      <td>679.594950</td>\n",
       "      <td>0</td>\n",
       "    </tr>\n",
       "    <tr>\n",
       "      <th>8</th>\n",
       "      <td>4</td>\n",
       "      <td>1</td>\n",
       "      <td>504.813250</td>\n",
       "      <td>480.594950</td>\n",
       "      <td>144.434200</td>\n",
       "      <td>402.029750</td>\n",
       "      <td>439.372100</td>\n",
       "      <td>0</td>\n",
       "    </tr>\n",
       "    <tr>\n",
       "      <th>11</th>\n",
       "      <td>4</td>\n",
       "      <td>1</td>\n",
       "      <td>731.334950</td>\n",
       "      <td>614.412500</td>\n",
       "      <td>665.197300</td>\n",
       "      <td>670.500650</td>\n",
       "      <td>644.570950</td>\n",
       "      <td>0</td>\n",
       "    </tr>\n",
       "    <tr>\n",
       "      <th>...</th>\n",
       "      <td>...</td>\n",
       "      <td>...</td>\n",
       "      <td>...</td>\n",
       "      <td>...</td>\n",
       "      <td>...</td>\n",
       "      <td>...</td>\n",
       "      <td>...</td>\n",
       "      <td>...</td>\n",
       "    </tr>\n",
       "    <tr>\n",
       "      <th>74</th>\n",
       "      <td>1</td>\n",
       "      <td>1</td>\n",
       "      <td>2304.059202</td>\n",
       "      <td>2420.393316</td>\n",
       "      <td>2414.072373</td>\n",
       "      <td>2453.936292</td>\n",
       "      <td>2531.754458</td>\n",
       "      <td>1</td>\n",
       "    </tr>\n",
       "    <tr>\n",
       "      <th>473</th>\n",
       "      <td>1</td>\n",
       "      <td>1</td>\n",
       "      <td>4724.030000</td>\n",
       "      <td>5111.950000</td>\n",
       "      <td>5882.550000</td>\n",
       "      <td>6189.110000</td>\n",
       "      <td>5101.265600</td>\n",
       "      <td>1</td>\n",
       "    </tr>\n",
       "    <tr>\n",
       "      <th>190</th>\n",
       "      <td>1</td>\n",
       "      <td>1</td>\n",
       "      <td>4117.682000</td>\n",
       "      <td>3633.396000</td>\n",
       "      <td>4179.266000</td>\n",
       "      <td>6327.030000</td>\n",
       "      <td>6182.040900</td>\n",
       "      <td>1</td>\n",
       "    </tr>\n",
       "    <tr>\n",
       "      <th>168</th>\n",
       "      <td>1</td>\n",
       "      <td>1</td>\n",
       "      <td>2304.059202</td>\n",
       "      <td>481.945750</td>\n",
       "      <td>5837.766000</td>\n",
       "      <td>6164.740000</td>\n",
       "      <td>3444.420000</td>\n",
       "      <td>1</td>\n",
       "    </tr>\n",
       "    <tr>\n",
       "      <th>320</th>\n",
       "      <td>1</td>\n",
       "      <td>1</td>\n",
       "      <td>1185.569000</td>\n",
       "      <td>4436.700000</td>\n",
       "      <td>5747.000000</td>\n",
       "      <td>5476.700000</td>\n",
       "      <td>5174.090000</td>\n",
       "      <td>1</td>\n",
       "    </tr>\n",
       "  </tbody>\n",
       "</table>\n",
       "<p>1007 rows × 8 columns</p>\n",
       "</div>"
      ],
      "text/plain": [
       "     primary_fuel  geolocation_source  generation_gwh_2013  \\\n",
       "2               2                   1          2304.059202   \n",
       "6               4                   1           147.568450   \n",
       "7               4                   1           696.738800   \n",
       "8               4                   1           504.813250   \n",
       "11              4                   1           731.334950   \n",
       "..            ...                 ...                  ...   \n",
       "74              1                   1          2304.059202   \n",
       "473             1                   1          4724.030000   \n",
       "190             1                   1          4117.682000   \n",
       "168             1                   1          2304.059202   \n",
       "320             1                   1          1185.569000   \n",
       "\n",
       "     generation_gwh_2014  generation_gwh_2015  generation_gwh_2016  \\\n",
       "2            2420.393316          2414.072373          2453.936292   \n",
       "6             157.558250           152.195200            61.421350   \n",
       "7             674.391100           721.335200           675.724400   \n",
       "8             480.594950           144.434200           402.029750   \n",
       "11            614.412500           665.197300           670.500650   \n",
       "..                   ...                  ...                  ...   \n",
       "74           2420.393316          2414.072373          2453.936292   \n",
       "473          5111.950000          5882.550000          6189.110000   \n",
       "190          3633.396000          4179.266000          6327.030000   \n",
       "168           481.945750          5837.766000          6164.740000   \n",
       "320          4436.700000          5747.000000          5476.700000   \n",
       "\n",
       "     generation_gwh_2017  fuel_type  \n",
       "2            2531.754458          0  \n",
       "6              89.629600          0  \n",
       "7             679.594950          0  \n",
       "8             439.372100          0  \n",
       "11            644.570950          0  \n",
       "..                   ...        ...  \n",
       "74           2531.754458          1  \n",
       "473          5101.265600          1  \n",
       "190          6182.040900          1  \n",
       "168          3444.420000          1  \n",
       "320          5174.090000          1  \n",
       "\n",
       "[1007 rows x 8 columns]"
      ]
     },
     "execution_count": 109,
     "metadata": {},
     "output_type": "execute_result"
    }
   ],
   "source": [
    "y = df[['capacity_mw']]\n",
    "x = df.drop(columns = ['capacity_mw'])\n",
    "x"
   ]
  },
  {
   "cell_type": "markdown",
   "id": "f32619f6",
   "metadata": {},
   "source": [
    "### check for biasing and fix it"
   ]
  },
  {
   "cell_type": "code",
   "execution_count": 110,
   "id": "95776a5e",
   "metadata": {},
   "outputs": [
    {
     "name": "stdout",
     "output_type": "stream",
     "text": [
      "primary_fuel           0.374653\n",
      "geolocation_source     2.311286\n",
      "generation_gwh_2013    0.199896\n",
      "generation_gwh_2014    0.278528\n",
      "generation_gwh_2015    0.296078\n",
      "generation_gwh_2016    0.488964\n",
      "generation_gwh_2017    0.534677\n",
      "fuel_type              0.157622\n",
      "dtype: float64\n",
      "1\n"
     ]
    }
   ],
   "source": [
    "print(x.skew())\n",
    "print(len(x.skew().loc[x.skew()>0.55]))"
   ]
  },
  {
   "cell_type": "code",
   "execution_count": 111,
   "id": "cb20188d",
   "metadata": {},
   "outputs": [],
   "source": [
    "for index in x.skew().index:\n",
    "    if x.skew().loc[index] >0.55:\n",
    "        x[index]=np.cbrt(x[index])"
   ]
  },
  {
   "cell_type": "code",
   "execution_count": 112,
   "id": "f9b0e382",
   "metadata": {},
   "outputs": [
    {
     "name": "stdout",
     "output_type": "stream",
     "text": [
      "primary_fuel           0.374653\n",
      "geolocation_source     2.311286\n",
      "generation_gwh_2013    0.199896\n",
      "generation_gwh_2014    0.278528\n",
      "generation_gwh_2015    0.296078\n",
      "generation_gwh_2016    0.488964\n",
      "generation_gwh_2017    0.534677\n",
      "fuel_type              0.157622\n",
      "dtype: float64\n",
      "1\n"
     ]
    }
   ],
   "source": [
    "print(x.skew())\n",
    "print(len(x.skew().loc[x.skew()>0.55]))"
   ]
  },
  {
   "cell_type": "code",
   "execution_count": 113,
   "id": "aa5a54fb",
   "metadata": {},
   "outputs": [
    {
     "data": {
      "text/html": [
       "<div>\n",
       "<style scoped>\n",
       "    .dataframe tbody tr th:only-of-type {\n",
       "        vertical-align: middle;\n",
       "    }\n",
       "\n",
       "    .dataframe tbody tr th {\n",
       "        vertical-align: top;\n",
       "    }\n",
       "\n",
       "    .dataframe thead th {\n",
       "        text-align: right;\n",
       "    }\n",
       "</style>\n",
       "<table border=\"1\" class=\"dataframe\">\n",
       "  <thead>\n",
       "    <tr style=\"text-align: right;\">\n",
       "      <th></th>\n",
       "      <th>primary_fuel</th>\n",
       "      <th>geolocation_source</th>\n",
       "      <th>generation_gwh_2013</th>\n",
       "      <th>generation_gwh_2014</th>\n",
       "      <th>generation_gwh_2015</th>\n",
       "      <th>generation_gwh_2016</th>\n",
       "      <th>generation_gwh_2017</th>\n",
       "      <th>fuel_type</th>\n",
       "    </tr>\n",
       "  </thead>\n",
       "  <tbody>\n",
       "    <tr>\n",
       "      <th>2</th>\n",
       "      <td>2</td>\n",
       "      <td>1.0</td>\n",
       "      <td>2304.059202</td>\n",
       "      <td>2420.393316</td>\n",
       "      <td>2414.072373</td>\n",
       "      <td>2453.936292</td>\n",
       "      <td>2531.754458</td>\n",
       "      <td>0</td>\n",
       "    </tr>\n",
       "    <tr>\n",
       "      <th>6</th>\n",
       "      <td>4</td>\n",
       "      <td>1.0</td>\n",
       "      <td>147.568450</td>\n",
       "      <td>157.558250</td>\n",
       "      <td>152.195200</td>\n",
       "      <td>61.421350</td>\n",
       "      <td>89.629600</td>\n",
       "      <td>0</td>\n",
       "    </tr>\n",
       "    <tr>\n",
       "      <th>7</th>\n",
       "      <td>4</td>\n",
       "      <td>1.0</td>\n",
       "      <td>696.738800</td>\n",
       "      <td>674.391100</td>\n",
       "      <td>721.335200</td>\n",
       "      <td>675.724400</td>\n",
       "      <td>679.594950</td>\n",
       "      <td>0</td>\n",
       "    </tr>\n",
       "    <tr>\n",
       "      <th>8</th>\n",
       "      <td>4</td>\n",
       "      <td>1.0</td>\n",
       "      <td>504.813250</td>\n",
       "      <td>480.594950</td>\n",
       "      <td>144.434200</td>\n",
       "      <td>402.029750</td>\n",
       "      <td>439.372100</td>\n",
       "      <td>0</td>\n",
       "    </tr>\n",
       "    <tr>\n",
       "      <th>11</th>\n",
       "      <td>4</td>\n",
       "      <td>1.0</td>\n",
       "      <td>731.334950</td>\n",
       "      <td>614.412500</td>\n",
       "      <td>665.197300</td>\n",
       "      <td>670.500650</td>\n",
       "      <td>644.570950</td>\n",
       "      <td>0</td>\n",
       "    </tr>\n",
       "    <tr>\n",
       "      <th>...</th>\n",
       "      <td>...</td>\n",
       "      <td>...</td>\n",
       "      <td>...</td>\n",
       "      <td>...</td>\n",
       "      <td>...</td>\n",
       "      <td>...</td>\n",
       "      <td>...</td>\n",
       "      <td>...</td>\n",
       "    </tr>\n",
       "    <tr>\n",
       "      <th>74</th>\n",
       "      <td>1</td>\n",
       "      <td>1.0</td>\n",
       "      <td>2304.059202</td>\n",
       "      <td>2420.393316</td>\n",
       "      <td>2414.072373</td>\n",
       "      <td>2453.936292</td>\n",
       "      <td>2531.754458</td>\n",
       "      <td>1</td>\n",
       "    </tr>\n",
       "    <tr>\n",
       "      <th>473</th>\n",
       "      <td>1</td>\n",
       "      <td>1.0</td>\n",
       "      <td>4724.030000</td>\n",
       "      <td>5111.950000</td>\n",
       "      <td>5882.550000</td>\n",
       "      <td>6189.110000</td>\n",
       "      <td>5101.265600</td>\n",
       "      <td>1</td>\n",
       "    </tr>\n",
       "    <tr>\n",
       "      <th>190</th>\n",
       "      <td>1</td>\n",
       "      <td>1.0</td>\n",
       "      <td>4117.682000</td>\n",
       "      <td>3633.396000</td>\n",
       "      <td>4179.266000</td>\n",
       "      <td>6327.030000</td>\n",
       "      <td>6182.040900</td>\n",
       "      <td>1</td>\n",
       "    </tr>\n",
       "    <tr>\n",
       "      <th>168</th>\n",
       "      <td>1</td>\n",
       "      <td>1.0</td>\n",
       "      <td>2304.059202</td>\n",
       "      <td>481.945750</td>\n",
       "      <td>5837.766000</td>\n",
       "      <td>6164.740000</td>\n",
       "      <td>3444.420000</td>\n",
       "      <td>1</td>\n",
       "    </tr>\n",
       "    <tr>\n",
       "      <th>320</th>\n",
       "      <td>1</td>\n",
       "      <td>1.0</td>\n",
       "      <td>1185.569000</td>\n",
       "      <td>4436.700000</td>\n",
       "      <td>5747.000000</td>\n",
       "      <td>5476.700000</td>\n",
       "      <td>5174.090000</td>\n",
       "      <td>1</td>\n",
       "    </tr>\n",
       "  </tbody>\n",
       "</table>\n",
       "<p>1007 rows × 8 columns</p>\n",
       "</div>"
      ],
      "text/plain": [
       "     primary_fuel  geolocation_source  generation_gwh_2013  \\\n",
       "2               2                 1.0          2304.059202   \n",
       "6               4                 1.0           147.568450   \n",
       "7               4                 1.0           696.738800   \n",
       "8               4                 1.0           504.813250   \n",
       "11              4                 1.0           731.334950   \n",
       "..            ...                 ...                  ...   \n",
       "74              1                 1.0          2304.059202   \n",
       "473             1                 1.0          4724.030000   \n",
       "190             1                 1.0          4117.682000   \n",
       "168             1                 1.0          2304.059202   \n",
       "320             1                 1.0          1185.569000   \n",
       "\n",
       "     generation_gwh_2014  generation_gwh_2015  generation_gwh_2016  \\\n",
       "2            2420.393316          2414.072373          2453.936292   \n",
       "6             157.558250           152.195200            61.421350   \n",
       "7             674.391100           721.335200           675.724400   \n",
       "8             480.594950           144.434200           402.029750   \n",
       "11            614.412500           665.197300           670.500650   \n",
       "..                   ...                  ...                  ...   \n",
       "74           2420.393316          2414.072373          2453.936292   \n",
       "473          5111.950000          5882.550000          6189.110000   \n",
       "190          3633.396000          4179.266000          6327.030000   \n",
       "168           481.945750          5837.766000          6164.740000   \n",
       "320          4436.700000          5747.000000          5476.700000   \n",
       "\n",
       "     generation_gwh_2017  fuel_type  \n",
       "2            2531.754458          0  \n",
       "6              89.629600          0  \n",
       "7             679.594950          0  \n",
       "8             439.372100          0  \n",
       "11            644.570950          0  \n",
       "..                   ...        ...  \n",
       "74           2531.754458          1  \n",
       "473          5101.265600          1  \n",
       "190          6182.040900          1  \n",
       "168          3444.420000          1  \n",
       "320          5174.090000          1  \n",
       "\n",
       "[1007 rows x 8 columns]"
      ]
     },
     "execution_count": 113,
     "metadata": {},
     "output_type": "execute_result"
    }
   ],
   "source": [
    "x"
   ]
  },
  {
   "cell_type": "markdown",
   "id": "a5cdddf6",
   "metadata": {},
   "source": [
    "### Scale non categorical data"
   ]
  },
  {
   "cell_type": "code",
   "execution_count": 114,
   "id": "3f8c1d66",
   "metadata": {},
   "outputs": [
    {
     "data": {
      "text/html": [
       "<div>\n",
       "<style scoped>\n",
       "    .dataframe tbody tr th:only-of-type {\n",
       "        vertical-align: middle;\n",
       "    }\n",
       "\n",
       "    .dataframe tbody tr th {\n",
       "        vertical-align: top;\n",
       "    }\n",
       "\n",
       "    .dataframe thead th {\n",
       "        text-align: right;\n",
       "    }\n",
       "</style>\n",
       "<table border=\"1\" class=\"dataframe\">\n",
       "  <thead>\n",
       "    <tr style=\"text-align: right;\">\n",
       "      <th></th>\n",
       "      <th>primary_fuel</th>\n",
       "      <th>geolocation_source</th>\n",
       "      <th>generation_gwh_2013</th>\n",
       "      <th>generation_gwh_2014</th>\n",
       "      <th>generation_gwh_2015</th>\n",
       "      <th>generation_gwh_2016</th>\n",
       "      <th>generation_gwh_2017</th>\n",
       "      <th>fuel_type</th>\n",
       "    </tr>\n",
       "  </thead>\n",
       "  <tbody>\n",
       "    <tr>\n",
       "      <th>2</th>\n",
       "      <td>2</td>\n",
       "      <td>1.0</td>\n",
       "      <td>0.384366</td>\n",
       "      <td>0.396953</td>\n",
       "      <td>0.405586</td>\n",
       "      <td>0.389112</td>\n",
       "      <td>0.376835</td>\n",
       "      <td>0</td>\n",
       "    </tr>\n",
       "    <tr>\n",
       "      <th>6</th>\n",
       "      <td>4</td>\n",
       "      <td>1.0</td>\n",
       "      <td>-1.637834</td>\n",
       "      <td>-1.556754</td>\n",
       "      <td>-1.465043</td>\n",
       "      <td>-1.463775</td>\n",
       "      <td>-1.424358</td>\n",
       "      <td>0</td>\n",
       "    </tr>\n",
       "    <tr>\n",
       "      <th>7</th>\n",
       "      <td>4</td>\n",
       "      <td>1.0</td>\n",
       "      <td>-1.122862</td>\n",
       "      <td>-1.110526</td>\n",
       "      <td>-0.994350</td>\n",
       "      <td>-0.988027</td>\n",
       "      <td>-0.989228</td>\n",
       "      <td>0</td>\n",
       "    </tr>\n",
       "    <tr>\n",
       "      <th>8</th>\n",
       "      <td>4</td>\n",
       "      <td>1.0</td>\n",
       "      <td>-1.302836</td>\n",
       "      <td>-1.277847</td>\n",
       "      <td>-1.471462</td>\n",
       "      <td>-1.199990</td>\n",
       "      <td>-1.166405</td>\n",
       "      <td>0</td>\n",
       "    </tr>\n",
       "    <tr>\n",
       "      <th>11</th>\n",
       "      <td>4</td>\n",
       "      <td>1.0</td>\n",
       "      <td>-1.090421</td>\n",
       "      <td>-1.162311</td>\n",
       "      <td>-1.040778</td>\n",
       "      <td>-0.992072</td>\n",
       "      <td>-1.015060</td>\n",
       "      <td>0</td>\n",
       "    </tr>\n",
       "    <tr>\n",
       "      <th>...</th>\n",
       "      <td>...</td>\n",
       "      <td>...</td>\n",
       "      <td>...</td>\n",
       "      <td>...</td>\n",
       "      <td>...</td>\n",
       "      <td>...</td>\n",
       "      <td>...</td>\n",
       "      <td>...</td>\n",
       "    </tr>\n",
       "    <tr>\n",
       "      <th>74</th>\n",
       "      <td>1</td>\n",
       "      <td>1.0</td>\n",
       "      <td>0.384366</td>\n",
       "      <td>0.396953</td>\n",
       "      <td>0.405586</td>\n",
       "      <td>0.389112</td>\n",
       "      <td>0.376835</td>\n",
       "      <td>1</td>\n",
       "    </tr>\n",
       "    <tr>\n",
       "      <th>473</th>\n",
       "      <td>1</td>\n",
       "      <td>1.0</td>\n",
       "      <td>2.653638</td>\n",
       "      <td>2.720814</td>\n",
       "      <td>3.274105</td>\n",
       "      <td>3.281824</td>\n",
       "      <td>2.271982</td>\n",
       "      <td>1</td>\n",
       "    </tr>\n",
       "    <tr>\n",
       "      <th>190</th>\n",
       "      <td>1</td>\n",
       "      <td>1.0</td>\n",
       "      <td>2.085049</td>\n",
       "      <td>1.444246</td>\n",
       "      <td>1.865446</td>\n",
       "      <td>3.388636</td>\n",
       "      <td>3.069109</td>\n",
       "      <td>1</td>\n",
       "    </tr>\n",
       "    <tr>\n",
       "      <th>168</th>\n",
       "      <td>1</td>\n",
       "      <td>1.0</td>\n",
       "      <td>0.384366</td>\n",
       "      <td>-1.276681</td>\n",
       "      <td>3.237068</td>\n",
       "      <td>3.262950</td>\n",
       "      <td>1.049973</td>\n",
       "      <td>1</td>\n",
       "    </tr>\n",
       "    <tr>\n",
       "      <th>320</th>\n",
       "      <td>1</td>\n",
       "      <td>1.0</td>\n",
       "      <td>-0.664473</td>\n",
       "      <td>2.137810</td>\n",
       "      <td>3.162002</td>\n",
       "      <td>2.730097</td>\n",
       "      <td>2.325693</td>\n",
       "      <td>1</td>\n",
       "    </tr>\n",
       "  </tbody>\n",
       "</table>\n",
       "<p>1007 rows × 8 columns</p>\n",
       "</div>"
      ],
      "text/plain": [
       "     primary_fuel  geolocation_source  generation_gwh_2013  \\\n",
       "2               2                 1.0             0.384366   \n",
       "6               4                 1.0            -1.637834   \n",
       "7               4                 1.0            -1.122862   \n",
       "8               4                 1.0            -1.302836   \n",
       "11              4                 1.0            -1.090421   \n",
       "..            ...                 ...                  ...   \n",
       "74              1                 1.0             0.384366   \n",
       "473             1                 1.0             2.653638   \n",
       "190             1                 1.0             2.085049   \n",
       "168             1                 1.0             0.384366   \n",
       "320             1                 1.0            -0.664473   \n",
       "\n",
       "     generation_gwh_2014  generation_gwh_2015  generation_gwh_2016  \\\n",
       "2               0.396953             0.405586             0.389112   \n",
       "6              -1.556754            -1.465043            -1.463775   \n",
       "7              -1.110526            -0.994350            -0.988027   \n",
       "8              -1.277847            -1.471462            -1.199990   \n",
       "11             -1.162311            -1.040778            -0.992072   \n",
       "..                   ...                  ...                  ...   \n",
       "74              0.396953             0.405586             0.389112   \n",
       "473             2.720814             3.274105             3.281824   \n",
       "190             1.444246             1.865446             3.388636   \n",
       "168            -1.276681             3.237068             3.262950   \n",
       "320             2.137810             3.162002             2.730097   \n",
       "\n",
       "     generation_gwh_2017  fuel_type  \n",
       "2               0.376835          0  \n",
       "6              -1.424358          0  \n",
       "7              -0.989228          0  \n",
       "8              -1.166405          0  \n",
       "11             -1.015060          0  \n",
       "..                   ...        ...  \n",
       "74              0.376835          1  \n",
       "473             2.271982          1  \n",
       "190             3.069109          1  \n",
       "168             1.049973          1  \n",
       "320             2.325693          1  \n",
       "\n",
       "[1007 rows x 8 columns]"
      ]
     },
     "execution_count": 114,
     "metadata": {},
     "output_type": "execute_result"
    }
   ],
   "source": [
    "scaler = StandardScaler()\n",
    "x[['generation_gwh_2013','generation_gwh_2014','generation_gwh_2015','generation_gwh_2016','generation_gwh_2017']] = scaler.fit_transform(x[['generation_gwh_2013','generation_gwh_2014','generation_gwh_2015','generation_gwh_2016','generation_gwh_2017']])\n",
    "x"
   ]
  },
  {
   "cell_type": "markdown",
   "id": "7967c224",
   "metadata": {},
   "source": [
    "### check multicorrelation and drop columns accordingly"
   ]
  },
  {
   "cell_type": "code",
   "execution_count": 116,
   "id": "5a8b28df",
   "metadata": {},
   "outputs": [
    {
     "data": {
      "text/html": [
       "<div>\n",
       "<style scoped>\n",
       "    .dataframe tbody tr th:only-of-type {\n",
       "        vertical-align: middle;\n",
       "    }\n",
       "\n",
       "    .dataframe tbody tr th {\n",
       "        vertical-align: top;\n",
       "    }\n",
       "\n",
       "    .dataframe thead th {\n",
       "        text-align: right;\n",
       "    }\n",
       "</style>\n",
       "<table border=\"1\" class=\"dataframe\">\n",
       "  <thead>\n",
       "    <tr style=\"text-align: right;\">\n",
       "      <th></th>\n",
       "      <th>vif</th>\n",
       "      <th>Features</th>\n",
       "    </tr>\n",
       "  </thead>\n",
       "  <tbody>\n",
       "    <tr>\n",
       "      <th>0</th>\n",
       "      <td>3.087442</td>\n",
       "      <td>primary_fuel</td>\n",
       "    </tr>\n",
       "    <tr>\n",
       "      <th>1</th>\n",
       "      <td>4.017409</td>\n",
       "      <td>geolocation_source</td>\n",
       "    </tr>\n",
       "    <tr>\n",
       "      <th>2</th>\n",
       "      <td>6.116115</td>\n",
       "      <td>generation_gwh_2013</td>\n",
       "    </tr>\n",
       "    <tr>\n",
       "      <th>3</th>\n",
       "      <td>8.200222</td>\n",
       "      <td>generation_gwh_2014</td>\n",
       "    </tr>\n",
       "    <tr>\n",
       "      <th>4</th>\n",
       "      <td>7.941815</td>\n",
       "      <td>generation_gwh_2015</td>\n",
       "    </tr>\n",
       "    <tr>\n",
       "      <th>5</th>\n",
       "      <td>9.613637</td>\n",
       "      <td>generation_gwh_2016</td>\n",
       "    </tr>\n",
       "    <tr>\n",
       "      <th>6</th>\n",
       "      <td>5.781334</td>\n",
       "      <td>generation_gwh_2017</td>\n",
       "    </tr>\n",
       "    <tr>\n",
       "      <th>7</th>\n",
       "      <td>1.804924</td>\n",
       "      <td>fuel_type</td>\n",
       "    </tr>\n",
       "  </tbody>\n",
       "</table>\n",
       "</div>"
      ],
      "text/plain": [
       "        vif             Features\n",
       "0  3.087442         primary_fuel\n",
       "1  4.017409   geolocation_source\n",
       "2  6.116115  generation_gwh_2013\n",
       "3  8.200222  generation_gwh_2014\n",
       "4  7.941815  generation_gwh_2015\n",
       "5  9.613637  generation_gwh_2016\n",
       "6  5.781334  generation_gwh_2017\n",
       "7  1.804924            fuel_type"
      ]
     },
     "execution_count": 116,
     "metadata": {},
     "output_type": "execute_result"
    }
   ],
   "source": [
    "vif = pd.DataFrame()\n",
    "vif[\"vif\"] = [variance_inflation_factor(x.values,i) for i in range(x.shape[1]) ]\n",
    "vif[\"Features\"] = x.columns\n",
    "vif"
   ]
  },
  {
   "cell_type": "markdown",
   "id": "bae1411e",
   "metadata": {},
   "source": [
    "### Multicollinearity only affects the coefficients and p-values, but it does not influence the model’s ability to predict the dependent variable.\n",
    "### levels of multicollinearity does it signify.\n",
    "### VIF ~ 1: Negligible\n",
    "### 1<VIF<5 : Moderate\n",
    "### VIF>5 : Extreme\n",
    "### fix Multicollinearity"
   ]
  },
  {
   "cell_type": "markdown",
   "id": "dbe55ed9",
   "metadata": {},
   "source": [
    "### drop columns with highest vif"
   ]
  },
  {
   "cell_type": "code",
   "execution_count": 117,
   "id": "fa8d4b37",
   "metadata": {},
   "outputs": [
    {
     "data": {
      "text/html": [
       "<div>\n",
       "<style scoped>\n",
       "    .dataframe tbody tr th:only-of-type {\n",
       "        vertical-align: middle;\n",
       "    }\n",
       "\n",
       "    .dataframe tbody tr th {\n",
       "        vertical-align: top;\n",
       "    }\n",
       "\n",
       "    .dataframe thead th {\n",
       "        text-align: right;\n",
       "    }\n",
       "</style>\n",
       "<table border=\"1\" class=\"dataframe\">\n",
       "  <thead>\n",
       "    <tr style=\"text-align: right;\">\n",
       "      <th></th>\n",
       "      <th>vif</th>\n",
       "      <th>Features</th>\n",
       "    </tr>\n",
       "  </thead>\n",
       "  <tbody>\n",
       "    <tr>\n",
       "      <th>0</th>\n",
       "      <td>3.072866</td>\n",
       "      <td>primary_fuel</td>\n",
       "    </tr>\n",
       "    <tr>\n",
       "      <th>1</th>\n",
       "      <td>3.999410</td>\n",
       "      <td>geolocation_source</td>\n",
       "    </tr>\n",
       "    <tr>\n",
       "      <th>2</th>\n",
       "      <td>5.983572</td>\n",
       "      <td>generation_gwh_2013</td>\n",
       "    </tr>\n",
       "    <tr>\n",
       "      <th>3</th>\n",
       "      <td>7.888951</td>\n",
       "      <td>generation_gwh_2014</td>\n",
       "    </tr>\n",
       "    <tr>\n",
       "      <th>4</th>\n",
       "      <td>5.423883</td>\n",
       "      <td>generation_gwh_2015</td>\n",
       "    </tr>\n",
       "    <tr>\n",
       "      <th>5</th>\n",
       "      <td>3.074351</td>\n",
       "      <td>generation_gwh_2017</td>\n",
       "    </tr>\n",
       "    <tr>\n",
       "      <th>6</th>\n",
       "      <td>1.801426</td>\n",
       "      <td>fuel_type</td>\n",
       "    </tr>\n",
       "  </tbody>\n",
       "</table>\n",
       "</div>"
      ],
      "text/plain": [
       "        vif             Features\n",
       "0  3.072866         primary_fuel\n",
       "1  3.999410   geolocation_source\n",
       "2  5.983572  generation_gwh_2013\n",
       "3  7.888951  generation_gwh_2014\n",
       "4  5.423883  generation_gwh_2015\n",
       "5  3.074351  generation_gwh_2017\n",
       "6  1.801426            fuel_type"
      ]
     },
     "execution_count": 117,
     "metadata": {},
     "output_type": "execute_result"
    }
   ],
   "source": [
    "x=x.drop(['generation_gwh_2016'],axis=1)\n",
    "vif = pd.DataFrame()\n",
    "vif[\"vif\"] = [variance_inflation_factor(x.values,i) for i in range(x.shape[1]) ]\n",
    "vif[\"Features\"] = x.columns\n",
    "vif"
   ]
  },
  {
   "cell_type": "markdown",
   "id": "f2658664",
   "metadata": {},
   "source": [
    "### drop column with highest vif"
   ]
  },
  {
   "cell_type": "code",
   "execution_count": 118,
   "id": "636e85cb",
   "metadata": {},
   "outputs": [
    {
     "data": {
      "text/html": [
       "<div>\n",
       "<style scoped>\n",
       "    .dataframe tbody tr th:only-of-type {\n",
       "        vertical-align: middle;\n",
       "    }\n",
       "\n",
       "    .dataframe tbody tr th {\n",
       "        vertical-align: top;\n",
       "    }\n",
       "\n",
       "    .dataframe thead th {\n",
       "        text-align: right;\n",
       "    }\n",
       "</style>\n",
       "<table border=\"1\" class=\"dataframe\">\n",
       "  <thead>\n",
       "    <tr style=\"text-align: right;\">\n",
       "      <th></th>\n",
       "      <th>vif</th>\n",
       "      <th>Features</th>\n",
       "    </tr>\n",
       "  </thead>\n",
       "  <tbody>\n",
       "    <tr>\n",
       "      <th>0</th>\n",
       "      <td>3.072640</td>\n",
       "      <td>primary_fuel</td>\n",
       "    </tr>\n",
       "    <tr>\n",
       "      <th>1</th>\n",
       "      <td>3.999409</td>\n",
       "      <td>geolocation_source</td>\n",
       "    </tr>\n",
       "    <tr>\n",
       "      <th>2</th>\n",
       "      <td>2.895857</td>\n",
       "      <td>generation_gwh_2013</td>\n",
       "    </tr>\n",
       "    <tr>\n",
       "      <th>3</th>\n",
       "      <td>4.495374</td>\n",
       "      <td>generation_gwh_2015</td>\n",
       "    </tr>\n",
       "    <tr>\n",
       "      <th>4</th>\n",
       "      <td>3.072748</td>\n",
       "      <td>generation_gwh_2017</td>\n",
       "    </tr>\n",
       "    <tr>\n",
       "      <th>5</th>\n",
       "      <td>1.801211</td>\n",
       "      <td>fuel_type</td>\n",
       "    </tr>\n",
       "  </tbody>\n",
       "</table>\n",
       "</div>"
      ],
      "text/plain": [
       "        vif             Features\n",
       "0  3.072640         primary_fuel\n",
       "1  3.999409   geolocation_source\n",
       "2  2.895857  generation_gwh_2013\n",
       "3  4.495374  generation_gwh_2015\n",
       "4  3.072748  generation_gwh_2017\n",
       "5  1.801211            fuel_type"
      ]
     },
     "execution_count": 118,
     "metadata": {},
     "output_type": "execute_result"
    }
   ],
   "source": [
    "x=x.drop(['generation_gwh_2014'],axis=1)\n",
    "vif = pd.DataFrame()\n",
    "vif[\"vif\"] = [variance_inflation_factor(x.values,i) for i in range(x.shape[1]) ]\n",
    "vif[\"Features\"] = x.columns\n",
    "vif"
   ]
  },
  {
   "cell_type": "markdown",
   "id": "51f7b0ab",
   "metadata": {},
   "source": [
    "### performing pca"
   ]
  },
  {
   "cell_type": "code",
   "execution_count": 121,
   "id": "66ef84fa",
   "metadata": {},
   "outputs": [
    {
     "name": "stdout",
     "output_type": "stream",
     "text": [
      "2 0.8866197386537185\n",
      "3 0.937047326216306\n",
      "4 0.9752490342263009\n",
      "5 0.9994245904111203\n",
      "6 1.0\n"
     ]
    }
   ],
   "source": [
    "for i in range(2,7):\n",
    "    pca = PCA(n_components=i)\n",
    "    principalComponents = pca.fit_transform(x)\n",
    "    print(i,sum(pca.explained_variance_ratio_))"
   ]
  },
  {
   "cell_type": "markdown",
   "id": "7bacef43",
   "metadata": {},
   "source": [
    "### i want to choose 4 columns as they are able to retain more than 95% data"
   ]
  },
  {
   "cell_type": "code",
   "execution_count": 122,
   "id": "7a93b610",
   "metadata": {},
   "outputs": [],
   "source": [
    "pca = PCA(n_components=4)\n",
    "principalComponents = pca.fit_transform(x)"
   ]
  },
  {
   "cell_type": "markdown",
   "id": "25138df5",
   "metadata": {},
   "source": [
    "### iterate to find best model, best random state and most effective hyper parameters"
   ]
  },
  {
   "cell_type": "code",
   "execution_count": 123,
   "id": "c785811b",
   "metadata": {},
   "outputs": [],
   "source": [
    "def besttrain(model,x,y):\n",
    "    random=0\n",
    "    score=0\n",
    "    for i in range(42,100):\n",
    "        x_train,x_test,y_train,y_test=train_test_split(x,y,random_state = i,test_size=0.20,shuffle=True)\n",
    "        model.fit(x_train,y_train)\n",
    "        tmp=r2_score(y_test,model.predict(x_test))\n",
    "        if tmp>score:\n",
    "            score=tmp\n",
    "            random=i\n",
    "    return random"
   ]
  },
  {
   "cell_type": "code",
   "execution_count": 124,
   "id": "f5c8798a",
   "metadata": {},
   "outputs": [],
   "source": [
    "models=[GradientBoostingRegressor(),NuSVR(),LinearRegression(),Ridge(),RidgeCV(),BayesianRidge(),SGDRegressor(),SVR(),\n",
    "        AdaBoostRegressor(),LinearSVR(),KNeighborsRegressor(),RandomForestRegressor(),BaggingRegressor(),\n",
    "       DecisionTreeRegressor(),LGBMRegressor(), XGBRFRegressor(),XGBRegressor()]"
   ]
  },
  {
   "cell_type": "code",
   "execution_count": 125,
   "id": "b8ad235b",
   "metadata": {},
   "outputs": [
    {
     "name": "stdout",
     "output_type": "stream",
     "text": [
      "**********\n",
      "GradientBoostingRegressor()\n",
      "score 0.8110337213217418\n",
      "r2 0.8157817004519451\n",
      "diff 0.004747979130203306\n",
      "mae 66.30351290641029\n",
      "rmse 128.18200025168238\n",
      "**********\n",
      "NuSVR()\n",
      "score 0.010067409689816764\n",
      "r2 0.060623061230577924\n",
      "diff 0.05055565154076116\n",
      "mae 197.16308352373025\n",
      "rmse 289.45470075432286\n",
      "**********\n",
      "LinearRegression()\n",
      "score 0.2716528658040719\n",
      "r2 0.19817848455115517\n",
      "diff 0.07347438125291672\n",
      "mae 206.73198477556898\n",
      "rmse 267.42346557101763\n",
      "**********\n",
      "Ridge()\n",
      "score 0.2717888622383283\n",
      "r2 0.198525402279495\n",
      "diff 0.07326345995883332\n",
      "mae 206.82629091144247\n",
      "rmse 267.3656073217034\n",
      "**********\n",
      "RidgeCV(alphas=array([ 0.1,  1. , 10. ]))\n",
      "score 0.2717888622383251\n",
      "r2 0.19852540227933113\n",
      "diff 0.07326345995899397\n",
      "mae 206.82629091151057\n",
      "rmse 267.3656073217308\n",
      "**********\n",
      "BayesianRidge()\n",
      "score 0.2719172294331281\n",
      "r2 0.1992091124294617\n",
      "diff 0.07270811700366642\n",
      "mae 207.02647933471422\n",
      "rmse 267.2515428324221\n",
      "**********\n",
      "SGDRegressor()\n",
      "score 0.2732076521474057\n",
      "r2 0.19093795883807219\n",
      "diff 0.08226969330933354\n",
      "mae 210.29095230411016\n",
      "rmse 268.6281818661075\n",
      "**********\n",
      "SVR()\n",
      "score -0.20430523130063424\n",
      "r2 -0.09658581308973435\n",
      "diff 0.10771941821089989\n",
      "mae 152.078152441129\n",
      "rmse 312.7389482354825\n",
      "**********\n",
      "AdaBoostRegressor()\n",
      "score 0.5293033314923827\n",
      "r2 0.6149045477604755\n",
      "diff 0.0856012162680928\n",
      "mae 143.30218350835224\n",
      "rmse 185.32962830436674\n",
      "**********\n",
      "LinearSVR()\n",
      "score -0.2693144317783967\n",
      "r2 -0.1406681302546291\n",
      "diff 0.1286463015237676\n",
      "mae 155.24469380524394\n",
      "rmse 318.9630045727688\n",
      "**********\n",
      "KNeighborsRegressor()\n",
      "score 0.7605559959236291\n",
      "r2 0.769320145230738\n",
      "diff 0.008764149307108893\n",
      "mae 69.17254158415841\n",
      "rmse 143.4384205593943\n",
      "**********\n",
      "RandomForestRegressor()\n",
      "score 0.8210723948335545\n",
      "r2 0.8526097423237133\n",
      "diff 0.031537347490158796\n",
      "mae 52.61735267350395\n",
      "rmse 114.65554125357198\n",
      "**********\n",
      "BaggingRegressor()\n",
      "score 0.8150696798649253\n",
      "r2 0.8363327328774508\n",
      "diff 0.021263053012525512\n",
      "mae 54.03826727582361\n",
      "rmse 120.82076331033278\n",
      "**********\n",
      "DecisionTreeRegressor()\n",
      "score 0.717786749420986\n",
      "r2 0.7471233851623921\n",
      "diff 0.029336635741406103\n",
      "mae 59.36796524233317\n",
      "rmse 150.1810008795361\n",
      "**********\n",
      "LGBMRegressor()\n",
      "score 0.8233226518265468\n",
      "r2 0.7961628368365168\n",
      "diff 0.027159814990030062\n",
      "mae 67.66818859340029\n",
      "rmse 134.83490796894714\n",
      "**********\n",
      "XGBRFRegressor(base_score=0.5, booster='gbtree', colsample_bylevel=1,\n",
      "               colsample_bytree=1, gamma=0, gpu_id=-1, importance_type='gain',\n",
      "               interaction_constraints='', max_delta_step=0, max_depth=6,\n",
      "               min_child_weight=1, missing=nan, monotone_constraints='()',\n",
      "               n_estimators=100, n_jobs=8, num_parallel_tree=100,\n",
      "               objective='reg:squarederror', random_state=0, reg_alpha=0,\n",
      "               scale_pos_weight=1, tree_method='exact', validate_parameters=1,\n",
      "               verbosity=None)\n",
      "score 0.784992872946803\n",
      "r2 0.7954354079599103\n",
      "diff 0.010442535013107324\n",
      "mae 74.1059789924244\n",
      "rmse 135.07528478114185\n",
      "**********\n",
      "XGBRegressor(base_score=0.5, booster='gbtree', colsample_bylevel=1,\n",
      "             colsample_bynode=1, colsample_bytree=1, gamma=0, gpu_id=-1,\n",
      "             importance_type='gain', interaction_constraints='',\n",
      "             learning_rate=0.300000012, max_delta_step=0, max_depth=6,\n",
      "             min_child_weight=1, missing=nan, monotone_constraints='()',\n",
      "             n_estimators=100, n_jobs=8, num_parallel_tree=1, random_state=0,\n",
      "             reg_alpha=0, reg_lambda=1, scale_pos_weight=1, subsample=1,\n",
      "             tree_method='exact', validate_parameters=1, verbosity=None)\n",
      "score 0.8413114458853113\n",
      "r2 0.8199011400596846\n",
      "diff 0.02141030582562664\n",
      "mae 54.13011881860412\n",
      "rmse 126.74071172362852\n"
     ]
    }
   ],
   "source": [
    "for i in models:\n",
    "    x_train,x_test,y_train,y_test=train_test_split(principalComponents,y,random_state = 42,test_size=0.20)\n",
    "    scores=cross_val_score(i,x_train,y_train,cv=5,scoring='r2')\n",
    "    score=np.mean(scores)\n",
    "    i.fit(x_train,y_train)\n",
    "    y_pred=i.predict(x_test)\n",
    "    if r2_score(y_test,y_pred)>score:\n",
    "        diff=r2_score(y_test,y_pred)-score\n",
    "    else:\n",
    "        diff=score-r2_score(y_test,y_pred)\n",
    "    print('*'*10)\n",
    "    print(i)\n",
    "    print('score',score)\n",
    "    print('r2',r2_score(y_test,y_pred))\n",
    "    print('diff',diff)\n",
    "    print('mae',mean_absolute_error(y_test, y_pred))\n",
    "    print('rmse',np.sqrt(mean_squared_error(y_test, y_pred)))"
   ]
  },
  {
   "cell_type": "markdown",
   "id": "d68dc4d9",
   "metadata": {},
   "source": [
    "### from above can see that models XGBRegressor is best models with highest acc and do not much over or underfitting problem"
   ]
  },
  {
   "cell_type": "markdown",
   "id": "91838253",
   "metadata": {},
   "source": [
    "### Finetune those models"
   ]
  },
  {
   "cell_type": "code",
   "execution_count": 126,
   "id": "138f4407",
   "metadata": {},
   "outputs": [
    {
     "name": "stdout",
     "output_type": "stream",
     "text": [
      "Fitting 10 folds for each of 36 candidates, totalling 360 fits\n"
     ]
    },
    {
     "name": "stderr",
     "output_type": "stream",
     "text": [
      "[Parallel(n_jobs=-1)]: Using backend LokyBackend with 8 concurrent workers.\n",
      "[Parallel(n_jobs=-1)]: Done  34 tasks      | elapsed:    3.8s\n",
      "[Parallel(n_jobs=-1)]: Done 184 tasks      | elapsed:    9.2s\n",
      "[Parallel(n_jobs=-1)]: Done 360 out of 360 | elapsed:   23.2s finished\n"
     ]
    },
    {
     "data": {
      "text/plain": [
       "{'max_depth': 7, 'n_estimators': 55, 'reg_lambda': 0.25}"
      ]
     },
     "execution_count": 126,
     "metadata": {},
     "output_type": "execute_result"
    }
   ],
   "source": [
    "parameters={'n_estimators': [100, 80, 60, 55, 51, 45],  \n",
    "              'max_depth': [7, 8],\n",
    "              'reg_lambda' :[0.26, 0.25, 0.2]}\n",
    "clf = GridSearchCV(XGBRegressor(), parameters,scoring=\"r2\",cv=10,n_jobs=-1,verbose=1)\n",
    "clf.fit(principalComponents,y)\n",
    "clf.best_params_"
   ]
  },
  {
   "cell_type": "code",
   "execution_count": 127,
   "id": "dac44638",
   "metadata": {},
   "outputs": [
    {
     "data": {
      "text/plain": [
       "51"
      ]
     },
     "execution_count": 127,
     "metadata": {},
     "output_type": "execute_result"
    }
   ],
   "source": [
    "besttrain(XGBRegressor(max_depth=7,n_estimators=55,reg_lambda=0.25),principalComponents,y)"
   ]
  },
  {
   "cell_type": "markdown",
   "id": "28bb6ac5",
   "metadata": {},
   "source": [
    "### Best train test split random state is 51"
   ]
  },
  {
   "cell_type": "code",
   "execution_count": 128,
   "id": "cf6be4d0",
   "metadata": {},
   "outputs": [
    {
     "name": "stdout",
     "output_type": "stream",
     "text": [
      "coeff of determination is: 0.936282049837846\n",
      "mean absolute error: 40.468038603301096\n",
      "mean squared error: 9407.16670309964\n",
      "root mean square error: 96.99054955561206\n",
      "cross val score 0.7667650661474021\n",
      "std err 0.14820265661270438\n"
     ]
    }
   ],
   "source": [
    "x_train,x_test,y_train,y_test=train_test_split(principalComponents, y,random_state = 51,test_size=0.20,shuffle=True)\n",
    "model=XGBRegressor(max_depth=7,n_estimators=55,reg_lambda=0.25)\n",
    "model.fit(x_train,y_train)\n",
    "y_pred=model.predict(x_test)\n",
    "score=r2_score(y_test,y_pred)\n",
    "print('coeff of determination is:',score)\n",
    "print('mean absolute error:',mean_absolute_error(y_test,y_pred))\n",
    "print('mean squared error:',mean_squared_error(y_test,y_pred))\n",
    "print('root mean square error:',np.sqrt(mean_squared_error(y_test,y_pred)))\n",
    "scores =cross_val_score(model,x,y,cv=5)\n",
    "print('cross val score',scores.mean())\n",
    "print('std err',scores.std())"
   ]
  },
  {
   "cell_type": "markdown",
   "id": "88db6649",
   "metadata": {},
   "source": [
    "### from the above we get all the metrics of the currently trained model."
   ]
  },
  {
   "cell_type": "code",
   "execution_count": 129,
   "id": "c79a48f9",
   "metadata": {},
   "outputs": [
    {
     "data": {
      "text/html": [
       "<div>\n",
       "<style scoped>\n",
       "    .dataframe tbody tr th:only-of-type {\n",
       "        vertical-align: middle;\n",
       "    }\n",
       "\n",
       "    .dataframe tbody tr th {\n",
       "        vertical-align: top;\n",
       "    }\n",
       "\n",
       "    .dataframe thead th {\n",
       "        text-align: right;\n",
       "    }\n",
       "</style>\n",
       "<table border=\"1\" class=\"dataframe\">\n",
       "  <thead>\n",
       "    <tr style=\"text-align: right;\">\n",
       "      <th></th>\n",
       "      <th>0</th>\n",
       "      <th>1</th>\n",
       "      <th>2</th>\n",
       "      <th>3</th>\n",
       "    </tr>\n",
       "  </thead>\n",
       "  <tbody>\n",
       "    <tr>\n",
       "      <th>0</th>\n",
       "      <td>2.193067</td>\n",
       "      <td>-0.973772</td>\n",
       "      <td>-0.130709</td>\n",
       "      <td>-0.649410</td>\n",
       "    </tr>\n",
       "    <tr>\n",
       "      <th>1</th>\n",
       "      <td>-0.030887</td>\n",
       "      <td>0.902961</td>\n",
       "      <td>0.083176</td>\n",
       "      <td>0.590417</td>\n",
       "    </tr>\n",
       "    <tr>\n",
       "      <th>2</th>\n",
       "      <td>1.486370</td>\n",
       "      <td>-0.387018</td>\n",
       "      <td>0.014129</td>\n",
       "      <td>0.433572</td>\n",
       "    </tr>\n",
       "    <tr>\n",
       "      <th>3</th>\n",
       "      <td>-2.784836</td>\n",
       "      <td>-0.665251</td>\n",
       "      <td>0.043764</td>\n",
       "      <td>-0.356327</td>\n",
       "    </tr>\n",
       "    <tr>\n",
       "      <th>4</th>\n",
       "      <td>4.655617</td>\n",
       "      <td>3.296077</td>\n",
       "      <td>0.795699</td>\n",
       "      <td>0.457456</td>\n",
       "    </tr>\n",
       "    <tr>\n",
       "      <th>...</th>\n",
       "      <td>...</td>\n",
       "      <td>...</td>\n",
       "      <td>...</td>\n",
       "      <td>...</td>\n",
       "    </tr>\n",
       "    <tr>\n",
       "      <th>197</th>\n",
       "      <td>-0.846294</td>\n",
       "      <td>1.610973</td>\n",
       "      <td>0.010889</td>\n",
       "      <td>-0.312742</td>\n",
       "    </tr>\n",
       "    <tr>\n",
       "      <th>198</th>\n",
       "      <td>0.670963</td>\n",
       "      <td>0.320994</td>\n",
       "      <td>-0.058158</td>\n",
       "      <td>-0.469587</td>\n",
       "    </tr>\n",
       "    <tr>\n",
       "      <th>199</th>\n",
       "      <td>0.670963</td>\n",
       "      <td>0.320994</td>\n",
       "      <td>-0.058158</td>\n",
       "      <td>-0.469587</td>\n",
       "    </tr>\n",
       "    <tr>\n",
       "      <th>200</th>\n",
       "      <td>3.833710</td>\n",
       "      <td>2.394493</td>\n",
       "      <td>-0.622032</td>\n",
       "      <td>0.539662</td>\n",
       "    </tr>\n",
       "    <tr>\n",
       "      <th>201</th>\n",
       "      <td>1.486370</td>\n",
       "      <td>-0.387018</td>\n",
       "      <td>0.014129</td>\n",
       "      <td>0.433572</td>\n",
       "    </tr>\n",
       "  </tbody>\n",
       "</table>\n",
       "<p>202 rows × 4 columns</p>\n",
       "</div>"
      ],
      "text/plain": [
       "            0         1         2         3\n",
       "0    2.193067 -0.973772 -0.130709 -0.649410\n",
       "1   -0.030887  0.902961  0.083176  0.590417\n",
       "2    1.486370 -0.387018  0.014129  0.433572\n",
       "3   -2.784836 -0.665251  0.043764 -0.356327\n",
       "4    4.655617  3.296077  0.795699  0.457456\n",
       "..        ...       ...       ...       ...\n",
       "197 -0.846294  1.610973  0.010889 -0.312742\n",
       "198  0.670963  0.320994 -0.058158 -0.469587\n",
       "199  0.670963  0.320994 -0.058158 -0.469587\n",
       "200  3.833710  2.394493 -0.622032  0.539662\n",
       "201  1.486370 -0.387018  0.014129  0.433572\n",
       "\n",
       "[202 rows x 4 columns]"
      ]
     },
     "execution_count": 129,
     "metadata": {},
     "output_type": "execute_result"
    }
   ],
   "source": [
    "dfd=pd.DataFrame(x_test)\n",
    "dfd"
   ]
  },
  {
   "cell_type": "markdown",
   "id": "69ab987b",
   "metadata": {},
   "source": [
    "### plot appropriate graph to check how similar are y_test and y_pred values"
   ]
  },
  {
   "cell_type": "code",
   "execution_count": 131,
   "id": "237fb92d",
   "metadata": {},
   "outputs": [
    {
     "data": {
      "text/plain": [
       "[<matplotlib.lines.Line2D at 0x2f2675e3b50>]"
      ]
     },
     "execution_count": 131,
     "metadata": {},
     "output_type": "execute_result"
    },
    {
     "data": {
      "image/png": "[encoded data removed]",
      "text/plain": [
       "<Figure size 432x288 with 1 Axes>"
      ]
     },
     "metadata": {
      "needs_background": "light"
     },
     "output_type": "display_data"
    }
   ],
   "source": [
    "plt.plot(dfd[0],y_test,'y*')\n",
    "plt.plot(dfd[0],y_pred,'b.')"
   ]
  },
  {
   "cell_type": "code",
   "execution_count": 132,
   "id": "c83c1038",
   "metadata": {},
   "outputs": [
    {
     "data": {
      "text/plain": [
       "[<matplotlib.lines.Line2D at 0x2f266fce310>]"
      ]
     },
     "execution_count": 132,
     "metadata": {},
     "output_type": "execute_result"
    },
    {
     "data": {
      "image/png": "[encoded data removed]",
      "text/plain": [
       "<Figure size 432x288 with 1 Axes>"
      ]
     },
     "metadata": {
      "needs_background": "light"
     },
     "output_type": "display_data"
    }
   ],
   "source": [
    "plt.plot(dfd[1],y_test,'r*')\n",
    "plt.plot(dfd[1],y_pred,'b.')"
   ]
  },
  {
   "cell_type": "code",
   "execution_count": 133,
   "id": "15e3b70e",
   "metadata": {},
   "outputs": [
    {
     "data": {
      "text/plain": [
       "[<matplotlib.lines.Line2D at 0x2f269998c10>]"
      ]
     },
     "execution_count": 133,
     "metadata": {},
     "output_type": "execute_result"
    },
    {
     "data": {
      "image/png": "[encoded data removed]",
      "text/plain": [
       "<Figure size 432x288 with 1 Axes>"
      ]
     },
     "metadata": {
      "needs_background": "light"
     },
     "output_type": "display_data"
    }
   ],
   "source": [
    "plt.plot(dfd[2],y_test,'r*')\n",
    "plt.plot(dfd[2],y_pred,'b.')"
   ]
  },
  {
   "cell_type": "code",
   "execution_count": 134,
   "id": "a65d96a7",
   "metadata": {},
   "outputs": [
    {
     "data": {
      "text/plain": [
       "[<matplotlib.lines.Line2D at 0x2f269b494c0>]"
      ]
     },
     "execution_count": 134,
     "metadata": {},
     "output_type": "execute_result"
    },
    {
     "data": {
      "image/png": "[encoded data removed]",
      "text/plain": [
       "<Figure size 432x288 with 1 Axes>"
      ]
     },
     "metadata": {
      "needs_background": "light"
     },
     "output_type": "display_data"
    }
   ],
   "source": [
    "plt.plot(dfd[3],y_test,'r*')\n",
    "plt.plot(dfd[3],y_pred,'b.')"
   ]
  },
  {
   "cell_type": "markdown",
   "id": "31bc71b0",
   "metadata": {},
   "source": [
    "### plots of ypred is very similar to plot of ytest. they are almost at the same points.this confirms the acc of model"
   ]
  },
  {
   "cell_type": "markdown",
   "id": "ef61836c",
   "metadata": {},
   "source": [
    "### put capacity_mw column and predicted capacity_mw column side by side to observe the diff between these two columns\n",
    "### make capacity_mwPred as int"
   ]
  },
  {
   "cell_type": "code",
   "execution_count": 136,
   "id": "362c0ce0",
   "metadata": {},
   "outputs": [
    {
     "data": {
      "text/html": [
       "<div>\n",
       "<style scoped>\n",
       "    .dataframe tbody tr th:only-of-type {\n",
       "        vertical-align: middle;\n",
       "    }\n",
       "\n",
       "    .dataframe tbody tr th {\n",
       "        vertical-align: top;\n",
       "    }\n",
       "\n",
       "    .dataframe thead th {\n",
       "        text-align: right;\n",
       "    }\n",
       "</style>\n",
       "<table border=\"1\" class=\"dataframe\">\n",
       "  <thead>\n",
       "    <tr style=\"text-align: right;\">\n",
       "      <th></th>\n",
       "      <th>primary_fuel</th>\n",
       "      <th>geolocation_source</th>\n",
       "      <th>generation_gwh_2013</th>\n",
       "      <th>generation_gwh_2015</th>\n",
       "      <th>generation_gwh_2017</th>\n",
       "      <th>fuel_type</th>\n",
       "      <th>capacity_mwPred</th>\n",
       "      <th>capacity_mw</th>\n",
       "      <th>differnce</th>\n",
       "    </tr>\n",
       "  </thead>\n",
       "  <tbody>\n",
       "    <tr>\n",
       "      <th>2</th>\n",
       "      <td>2</td>\n",
       "      <td>1.0</td>\n",
       "      <td>0.384366</td>\n",
       "      <td>0.405586</td>\n",
       "      <td>0.376835</td>\n",
       "      <td>0</td>\n",
       "      <td>31</td>\n",
       "      <td>39.2</td>\n",
       "      <td>8.2</td>\n",
       "    </tr>\n",
       "    <tr>\n",
       "      <th>6</th>\n",
       "      <td>4</td>\n",
       "      <td>1.0</td>\n",
       "      <td>-1.637834</td>\n",
       "      <td>-1.465043</td>\n",
       "      <td>-1.424358</td>\n",
       "      <td>0</td>\n",
       "      <td>56</td>\n",
       "      <td>60.0</td>\n",
       "      <td>4.0</td>\n",
       "    </tr>\n",
       "    <tr>\n",
       "      <th>7</th>\n",
       "      <td>4</td>\n",
       "      <td>1.0</td>\n",
       "      <td>-1.122862</td>\n",
       "      <td>-0.994350</td>\n",
       "      <td>-0.989228</td>\n",
       "      <td>0</td>\n",
       "      <td>190</td>\n",
       "      <td>192.0</td>\n",
       "      <td>2.0</td>\n",
       "    </tr>\n",
       "    <tr>\n",
       "      <th>8</th>\n",
       "      <td>4</td>\n",
       "      <td>1.0</td>\n",
       "      <td>-1.302836</td>\n",
       "      <td>-1.471462</td>\n",
       "      <td>-1.166405</td>\n",
       "      <td>0</td>\n",
       "      <td>282</td>\n",
       "      <td>290.0</td>\n",
       "      <td>8.0</td>\n",
       "    </tr>\n",
       "    <tr>\n",
       "      <th>11</th>\n",
       "      <td>4</td>\n",
       "      <td>1.0</td>\n",
       "      <td>-1.090421</td>\n",
       "      <td>-1.040778</td>\n",
       "      <td>-1.015060</td>\n",
       "      <td>0</td>\n",
       "      <td>134</td>\n",
       "      <td>134.0</td>\n",
       "      <td>0.0</td>\n",
       "    </tr>\n",
       "    <tr>\n",
       "      <th>...</th>\n",
       "      <td>...</td>\n",
       "      <td>...</td>\n",
       "      <td>...</td>\n",
       "      <td>...</td>\n",
       "      <td>...</td>\n",
       "      <td>...</td>\n",
       "      <td>...</td>\n",
       "      <td>...</td>\n",
       "      <td>...</td>\n",
       "    </tr>\n",
       "    <tr>\n",
       "      <th>74</th>\n",
       "      <td>1</td>\n",
       "      <td>1.0</td>\n",
       "      <td>0.384366</td>\n",
       "      <td>0.405586</td>\n",
       "      <td>0.376835</td>\n",
       "      <td>1</td>\n",
       "      <td>65</td>\n",
       "      <td>10.0</td>\n",
       "      <td>-55.0</td>\n",
       "    </tr>\n",
       "    <tr>\n",
       "      <th>473</th>\n",
       "      <td>1</td>\n",
       "      <td>1.0</td>\n",
       "      <td>2.653638</td>\n",
       "      <td>3.274105</td>\n",
       "      <td>2.271982</td>\n",
       "      <td>1</td>\n",
       "      <td>1000</td>\n",
       "      <td>1000.0</td>\n",
       "      <td>0.0</td>\n",
       "    </tr>\n",
       "    <tr>\n",
       "      <th>190</th>\n",
       "      <td>1</td>\n",
       "      <td>1.0</td>\n",
       "      <td>2.085049</td>\n",
       "      <td>1.865446</td>\n",
       "      <td>3.069109</td>\n",
       "      <td>1</td>\n",
       "      <td>1000</td>\n",
       "      <td>1000.0</td>\n",
       "      <td>0.0</td>\n",
       "    </tr>\n",
       "    <tr>\n",
       "      <th>168</th>\n",
       "      <td>1</td>\n",
       "      <td>1.0</td>\n",
       "      <td>0.384366</td>\n",
       "      <td>3.237068</td>\n",
       "      <td>1.049973</td>\n",
       "      <td>1</td>\n",
       "      <td>1195</td>\n",
       "      <td>1200.0</td>\n",
       "      <td>5.0</td>\n",
       "    </tr>\n",
       "    <tr>\n",
       "      <th>320</th>\n",
       "      <td>1</td>\n",
       "      <td>1.0</td>\n",
       "      <td>-0.664473</td>\n",
       "      <td>3.162002</td>\n",
       "      <td>2.325693</td>\n",
       "      <td>1</td>\n",
       "      <td>1050</td>\n",
       "      <td>1050.0</td>\n",
       "      <td>0.0</td>\n",
       "    </tr>\n",
       "  </tbody>\n",
       "</table>\n",
       "<p>1007 rows × 9 columns</p>\n",
       "</div>"
      ],
      "text/plain": [
       "     primary_fuel  geolocation_source  generation_gwh_2013  \\\n",
       "2               2                 1.0             0.384366   \n",
       "6               4                 1.0            -1.637834   \n",
       "7               4                 1.0            -1.122862   \n",
       "8               4                 1.0            -1.302836   \n",
       "11              4                 1.0            -1.090421   \n",
       "..            ...                 ...                  ...   \n",
       "74              1                 1.0             0.384366   \n",
       "473             1                 1.0             2.653638   \n",
       "190             1                 1.0             2.085049   \n",
       "168             1                 1.0             0.384366   \n",
       "320             1                 1.0            -0.664473   \n",
       "\n",
       "     generation_gwh_2015  generation_gwh_2017  fuel_type  capacity_mwPred  \\\n",
       "2               0.405586             0.376835          0               31   \n",
       "6              -1.465043            -1.424358          0               56   \n",
       "7              -0.994350            -0.989228          0              190   \n",
       "8              -1.471462            -1.166405          0              282   \n",
       "11             -1.040778            -1.015060          0              134   \n",
       "..                   ...                  ...        ...              ...   \n",
       "74              0.405586             0.376835          1               65   \n",
       "473             3.274105             2.271982          1             1000   \n",
       "190             1.865446             3.069109          1             1000   \n",
       "168             3.237068             1.049973          1             1195   \n",
       "320             3.162002             2.325693          1             1050   \n",
       "\n",
       "     capacity_mw  differnce  \n",
       "2           39.2        8.2  \n",
       "6           60.0        4.0  \n",
       "7          192.0        2.0  \n",
       "8          290.0        8.0  \n",
       "11         134.0        0.0  \n",
       "..           ...        ...  \n",
       "74          10.0      -55.0  \n",
       "473       1000.0        0.0  \n",
       "190       1000.0        0.0  \n",
       "168       1200.0        5.0  \n",
       "320       1050.0        0.0  \n",
       "\n",
       "[1007 rows x 9 columns]"
      ]
     },
     "execution_count": 136,
     "metadata": {},
     "output_type": "execute_result"
    }
   ],
   "source": [
    "y_pred=model.predict(principalComponents)\n",
    "data=x\n",
    "data['capacity_mwPred']=[round(i) for i in y_pred]\n",
    "data['capacity_mw']=y\n",
    "data['differnce']=data['capacity_mw']-data['capacity_mwPred']\n",
    "data"
   ]
  },
  {
   "cell_type": "markdown",
   "id": "1cad5d73",
   "metadata": {},
   "source": [
    "### observing the above dataframe we can see that there is only slight difference between actual and predicted values\n",
    "### plot graph to check actual vs pred value"
   ]
  },
  {
   "cell_type": "code",
   "execution_count": 137,
   "id": "21253f7c",
   "metadata": {},
   "outputs": [
    {
     "data": {
      "text/plain": [
       "<seaborn.axisgrid.FacetGrid at 0x2f269b49b50>"
      ]
     },
     "execution_count": 137,
     "metadata": {},
     "output_type": "execute_result"
    },
    {
     "data": {
      "image/png": "[encoded data removed]",
      "text/plain": [
       "<Figure size 360x360 with 1 Axes>"
      ]
     },
     "metadata": {
      "needs_background": "light"
     },
     "output_type": "display_data"
    }
   ],
   "source": [
    "sn.lmplot(x='capacity_mw',y='capacity_mwPred',data=data,palette='rainbow')"
   ]
  },
  {
   "cell_type": "markdown",
   "id": "04b94b10",
   "metadata": {},
   "source": [
    "### analyze how similar dist plot are of actual and predicted values"
   ]
  },
  {
   "cell_type": "code",
   "execution_count": 138,
   "id": "657b1d13",
   "metadata": {},
   "outputs": [
    {
     "data": {
      "text/plain": [
       "<AxesSubplot:xlabel='capacity_mwPred', ylabel='Density'>"
      ]
     },
     "execution_count": 138,
     "metadata": {},
     "output_type": "execute_result"
    },
    {
     "data": {
      "image/png": "[encoded data removed]",
      "text/plain": [
       "<Figure size 432x288 with 1 Axes>"
      ]
     },
     "metadata": {
      "needs_background": "light"
     },
     "output_type": "display_data"
    }
   ],
   "source": [
    "sn.distplot(data['capacity_mw'])\n",
    "sn.distplot(data['capacity_mwPred'])"
   ]
  },
  {
   "cell_type": "markdown",
   "id": "bf0b0d10",
   "metadata": {},
   "source": [
    "### Model has accuracy around 93%.\n",
    "### Save model"
   ]
  },
  {
   "cell_type": "code",
   "execution_count": 139,
   "id": "2a1a78ab",
   "metadata": {},
   "outputs": [
    {
     "data": {
      "text/plain": [
       "['capacity_mw.pkl']"
      ]
     },
     "execution_count": 139,
     "metadata": {},
     "output_type": "execute_result"
    }
   ],
   "source": [
    "joblib.dump(model,'capacity_mw.pkl')"
   ]
  }
 ],
 "metadata": {
  "kernelspec": {
   "display_name": "Python 3",
   "language": "python",
   "name": "python3"
  },
  "language_info": {
   "codemirror_mode": {
    "name": "ipython",
    "version": 3
   },
   "file_extension": ".py",
   "mimetype": "text/x-python",
   "name": "python",
   "nbconvert_exporter": "python",
   "pygments_lexer": "ipython3",
   "version": "3.8.8"
  }
 },
 "nbformat": 4,
 "nbformat_minor": 5
}
