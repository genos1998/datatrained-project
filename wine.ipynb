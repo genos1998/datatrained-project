{
 "cells": [
  {
   "cell_type": "code",
   "execution_count": 1,
   "id": "2ab02417",
   "metadata": {},
   "outputs": [],
   "source": [
    "from sklearn.model_selection import train_test_split\n",
    "from sklearn.metrics import confusion_matrix\n",
    "import pandas as pd\n",
    "import matplotlib.pyplot as plt\n",
    "from imblearn.over_sampling import SMOTE\n",
    "from sklearn.preprocessing import LabelEncoder\n",
    "import warnings\n",
    "warnings.filterwarnings(\"ignore\")\n",
    "import seaborn as sn\n",
    "import numpy as np\n",
    "import scipy.stats as stats\n",
    "from scipy.stats import zscore\n",
    "from sklearn.preprocessing import StandardScaler\n",
    "from sklearn.decomposition import PCA\n",
    "from sklearn.metrics import f1_score\n",
    "from sklearn.model_selection import train_test_split\n",
    "from sklearn.model_selection import cross_val_score\n",
    "from sklearn.model_selection import GridSearchCV\n",
    "from sklearn.linear_model import LogisticRegression\n",
    "from sklearn.neighbors import KNeighborsClassifier\n",
    "from sklearn.tree import DecisionTreeClassifier\n",
    "from sklearn.ensemble import RandomForestClassifier\n",
    "from sklearn.svm import SVC\n",
    "from sklearn.linear_model import RidgeClassifier\n",
    "from sklearn.ensemble import BaggingClassifier\n",
    "from sklearn.ensemble import GradientBoostingClassifier\n",
    "from sklearn.linear_model import Lasso\n",
    "from sklearn.linear_model import ElasticNet\n",
    "from sklearn.linear_model import LassoLars\n",
    "from sklearn.linear_model import BayesianRidge\n",
    "from sklearn.linear_model import SGDClassifier\n",
    "from sklearn.metrics import confusion_matrix\n",
    "from sklearn.metrics import classification_report\n",
    "from sklearn.metrics import roc_auc_score,roc_curve\n",
    "import joblib"
   ]
  },
  {
   "cell_type": "code",
   "execution_count": 2,
   "id": "b65936a0",
   "metadata": {},
   "outputs": [
    {
     "data": {
      "text/html": [
       "<div>\n",
       "<style scoped>\n",
       "    .dataframe tbody tr th:only-of-type {\n",
       "        vertical-align: middle;\n",
       "    }\n",
       "\n",
       "    .dataframe tbody tr th {\n",
       "        vertical-align: top;\n",
       "    }\n",
       "\n",
       "    .dataframe thead th {\n",
       "        text-align: right;\n",
       "    }\n",
       "</style>\n",
       "<table border=\"1\" class=\"dataframe\">\n",
       "  <thead>\n",
       "    <tr style=\"text-align: right;\">\n",
       "      <th></th>\n",
       "      <th>fixed acidity</th>\n",
       "      <th>volatile acidity</th>\n",
       "      <th>citric acid</th>\n",
       "      <th>residual sugar</th>\n",
       "      <th>chlorides</th>\n",
       "      <th>free sulfur dioxide</th>\n",
       "      <th>total sulfur dioxide</th>\n",
       "      <th>density</th>\n",
       "      <th>pH</th>\n",
       "      <th>sulphates</th>\n",
       "      <th>alcohol</th>\n",
       "      <th>quality</th>\n",
       "    </tr>\n",
       "  </thead>\n",
       "  <tbody>\n",
       "    <tr>\n",
       "      <th>0</th>\n",
       "      <td>7.4</td>\n",
       "      <td>0.700</td>\n",
       "      <td>0.00</td>\n",
       "      <td>1.9</td>\n",
       "      <td>0.076</td>\n",
       "      <td>11.0</td>\n",
       "      <td>34.0</td>\n",
       "      <td>0.99780</td>\n",
       "      <td>3.51</td>\n",
       "      <td>0.56</td>\n",
       "      <td>9.4</td>\n",
       "      <td>5</td>\n",
       "    </tr>\n",
       "    <tr>\n",
       "      <th>1</th>\n",
       "      <td>7.8</td>\n",
       "      <td>0.880</td>\n",
       "      <td>0.00</td>\n",
       "      <td>2.6</td>\n",
       "      <td>0.098</td>\n",
       "      <td>25.0</td>\n",
       "      <td>67.0</td>\n",
       "      <td>0.99680</td>\n",
       "      <td>3.20</td>\n",
       "      <td>0.68</td>\n",
       "      <td>9.8</td>\n",
       "      <td>5</td>\n",
       "    </tr>\n",
       "    <tr>\n",
       "      <th>2</th>\n",
       "      <td>7.8</td>\n",
       "      <td>0.760</td>\n",
       "      <td>0.04</td>\n",
       "      <td>2.3</td>\n",
       "      <td>0.092</td>\n",
       "      <td>15.0</td>\n",
       "      <td>54.0</td>\n",
       "      <td>0.99700</td>\n",
       "      <td>3.26</td>\n",
       "      <td>0.65</td>\n",
       "      <td>9.8</td>\n",
       "      <td>5</td>\n",
       "    </tr>\n",
       "    <tr>\n",
       "      <th>3</th>\n",
       "      <td>11.2</td>\n",
       "      <td>0.280</td>\n",
       "      <td>0.56</td>\n",
       "      <td>1.9</td>\n",
       "      <td>0.075</td>\n",
       "      <td>17.0</td>\n",
       "      <td>60.0</td>\n",
       "      <td>0.99800</td>\n",
       "      <td>3.16</td>\n",
       "      <td>0.58</td>\n",
       "      <td>9.8</td>\n",
       "      <td>6</td>\n",
       "    </tr>\n",
       "    <tr>\n",
       "      <th>4</th>\n",
       "      <td>7.4</td>\n",
       "      <td>0.700</td>\n",
       "      <td>0.00</td>\n",
       "      <td>1.9</td>\n",
       "      <td>0.076</td>\n",
       "      <td>11.0</td>\n",
       "      <td>34.0</td>\n",
       "      <td>0.99780</td>\n",
       "      <td>3.51</td>\n",
       "      <td>0.56</td>\n",
       "      <td>9.4</td>\n",
       "      <td>5</td>\n",
       "    </tr>\n",
       "    <tr>\n",
       "      <th>...</th>\n",
       "      <td>...</td>\n",
       "      <td>...</td>\n",
       "      <td>...</td>\n",
       "      <td>...</td>\n",
       "      <td>...</td>\n",
       "      <td>...</td>\n",
       "      <td>...</td>\n",
       "      <td>...</td>\n",
       "      <td>...</td>\n",
       "      <td>...</td>\n",
       "      <td>...</td>\n",
       "      <td>...</td>\n",
       "    </tr>\n",
       "    <tr>\n",
       "      <th>1594</th>\n",
       "      <td>6.2</td>\n",
       "      <td>0.600</td>\n",
       "      <td>0.08</td>\n",
       "      <td>2.0</td>\n",
       "      <td>0.090</td>\n",
       "      <td>32.0</td>\n",
       "      <td>44.0</td>\n",
       "      <td>0.99490</td>\n",
       "      <td>3.45</td>\n",
       "      <td>0.58</td>\n",
       "      <td>10.5</td>\n",
       "      <td>5</td>\n",
       "    </tr>\n",
       "    <tr>\n",
       "      <th>1595</th>\n",
       "      <td>5.9</td>\n",
       "      <td>0.550</td>\n",
       "      <td>0.10</td>\n",
       "      <td>2.2</td>\n",
       "      <td>0.062</td>\n",
       "      <td>39.0</td>\n",
       "      <td>51.0</td>\n",
       "      <td>0.99512</td>\n",
       "      <td>3.52</td>\n",
       "      <td>0.76</td>\n",
       "      <td>11.2</td>\n",
       "      <td>6</td>\n",
       "    </tr>\n",
       "    <tr>\n",
       "      <th>1596</th>\n",
       "      <td>6.3</td>\n",
       "      <td>0.510</td>\n",
       "      <td>0.13</td>\n",
       "      <td>2.3</td>\n",
       "      <td>0.076</td>\n",
       "      <td>29.0</td>\n",
       "      <td>40.0</td>\n",
       "      <td>0.99574</td>\n",
       "      <td>3.42</td>\n",
       "      <td>0.75</td>\n",
       "      <td>11.0</td>\n",
       "      <td>6</td>\n",
       "    </tr>\n",
       "    <tr>\n",
       "      <th>1597</th>\n",
       "      <td>5.9</td>\n",
       "      <td>0.645</td>\n",
       "      <td>0.12</td>\n",
       "      <td>2.0</td>\n",
       "      <td>0.075</td>\n",
       "      <td>32.0</td>\n",
       "      <td>44.0</td>\n",
       "      <td>0.99547</td>\n",
       "      <td>3.57</td>\n",
       "      <td>0.71</td>\n",
       "      <td>10.2</td>\n",
       "      <td>5</td>\n",
       "    </tr>\n",
       "    <tr>\n",
       "      <th>1598</th>\n",
       "      <td>6.0</td>\n",
       "      <td>0.310</td>\n",
       "      <td>0.47</td>\n",
       "      <td>3.6</td>\n",
       "      <td>0.067</td>\n",
       "      <td>18.0</td>\n",
       "      <td>42.0</td>\n",
       "      <td>0.99549</td>\n",
       "      <td>3.39</td>\n",
       "      <td>0.66</td>\n",
       "      <td>11.0</td>\n",
       "      <td>6</td>\n",
       "    </tr>\n",
       "  </tbody>\n",
       "</table>\n",
       "<p>1599 rows × 12 columns</p>\n",
       "</div>"
      ],
      "text/plain": [
       "      fixed acidity  volatile acidity  citric acid  residual sugar  chlorides  \\\n",
       "0               7.4             0.700         0.00             1.9      0.076   \n",
       "1               7.8             0.880         0.00             2.6      0.098   \n",
       "2               7.8             0.760         0.04             2.3      0.092   \n",
       "3              11.2             0.280         0.56             1.9      0.075   \n",
       "4               7.4             0.700         0.00             1.9      0.076   \n",
       "...             ...               ...          ...             ...        ...   \n",
       "1594            6.2             0.600         0.08             2.0      0.090   \n",
       "1595            5.9             0.550         0.10             2.2      0.062   \n",
       "1596            6.3             0.510         0.13             2.3      0.076   \n",
       "1597            5.9             0.645         0.12             2.0      0.075   \n",
       "1598            6.0             0.310         0.47             3.6      0.067   \n",
       "\n",
       "      free sulfur dioxide  total sulfur dioxide  density    pH  sulphates  \\\n",
       "0                    11.0                  34.0  0.99780  3.51       0.56   \n",
       "1                    25.0                  67.0  0.99680  3.20       0.68   \n",
       "2                    15.0                  54.0  0.99700  3.26       0.65   \n",
       "3                    17.0                  60.0  0.99800  3.16       0.58   \n",
       "4                    11.0                  34.0  0.99780  3.51       0.56   \n",
       "...                   ...                   ...      ...   ...        ...   \n",
       "1594                 32.0                  44.0  0.99490  3.45       0.58   \n",
       "1595                 39.0                  51.0  0.99512  3.52       0.76   \n",
       "1596                 29.0                  40.0  0.99574  3.42       0.75   \n",
       "1597                 32.0                  44.0  0.99547  3.57       0.71   \n",
       "1598                 18.0                  42.0  0.99549  3.39       0.66   \n",
       "\n",
       "      alcohol  quality  \n",
       "0         9.4        5  \n",
       "1         9.8        5  \n",
       "2         9.8        5  \n",
       "3         9.8        6  \n",
       "4         9.4        5  \n",
       "...       ...      ...  \n",
       "1594     10.5        5  \n",
       "1595     11.2        6  \n",
       "1596     11.0        6  \n",
       "1597     10.2        5  \n",
       "1598     11.0        6  \n",
       "\n",
       "[1599 rows x 12 columns]"
      ]
     },
     "execution_count": 2,
     "metadata": {},
     "output_type": "execute_result"
    }
   ],
   "source": [
    "df=pd.read_csv('winequality-red.csv')\n",
    "df"
   ]
  },
  {
   "cell_type": "markdown",
   "id": "cdb2f594",
   "metadata": {},
   "source": [
    "### check the data points available in quality column and acc set a threshold to classify if good wine or not"
   ]
  },
  {
   "cell_type": "code",
   "execution_count": 3,
   "id": "01e9321f",
   "metadata": {},
   "outputs": [
    {
     "data": {
      "text/plain": [
       "{3, 4, 5, 6, 7, 8}"
      ]
     },
     "execution_count": 3,
     "metadata": {},
     "output_type": "execute_result"
    }
   ],
   "source": [
    "set(df['quality'])"
   ]
  },
  {
   "cell_type": "code",
   "execution_count": 4,
   "id": "f69ed98e",
   "metadata": {},
   "outputs": [],
   "source": [
    "df['classify']=1"
   ]
  },
  {
   "cell_type": "code",
   "execution_count": 5,
   "id": "58778ea9",
   "metadata": {},
   "outputs": [
    {
     "data": {
      "text/html": [
       "<div>\n",
       "<style scoped>\n",
       "    .dataframe tbody tr th:only-of-type {\n",
       "        vertical-align: middle;\n",
       "    }\n",
       "\n",
       "    .dataframe tbody tr th {\n",
       "        vertical-align: top;\n",
       "    }\n",
       "\n",
       "    .dataframe thead th {\n",
       "        text-align: right;\n",
       "    }\n",
       "</style>\n",
       "<table border=\"1\" class=\"dataframe\">\n",
       "  <thead>\n",
       "    <tr style=\"text-align: right;\">\n",
       "      <th></th>\n",
       "      <th>fixed acidity</th>\n",
       "      <th>volatile acidity</th>\n",
       "      <th>citric acid</th>\n",
       "      <th>residual sugar</th>\n",
       "      <th>chlorides</th>\n",
       "      <th>free sulfur dioxide</th>\n",
       "      <th>total sulfur dioxide</th>\n",
       "      <th>density</th>\n",
       "      <th>pH</th>\n",
       "      <th>sulphates</th>\n",
       "      <th>alcohol</th>\n",
       "      <th>quality</th>\n",
       "      <th>classify</th>\n",
       "    </tr>\n",
       "  </thead>\n",
       "  <tbody>\n",
       "    <tr>\n",
       "      <th>0</th>\n",
       "      <td>7.4</td>\n",
       "      <td>0.700</td>\n",
       "      <td>0.00</td>\n",
       "      <td>1.9</td>\n",
       "      <td>0.076</td>\n",
       "      <td>11.0</td>\n",
       "      <td>34.0</td>\n",
       "      <td>0.99780</td>\n",
       "      <td>3.51</td>\n",
       "      <td>0.56</td>\n",
       "      <td>9.4</td>\n",
       "      <td>5</td>\n",
       "      <td>0</td>\n",
       "    </tr>\n",
       "    <tr>\n",
       "      <th>1</th>\n",
       "      <td>7.8</td>\n",
       "      <td>0.880</td>\n",
       "      <td>0.00</td>\n",
       "      <td>2.6</td>\n",
       "      <td>0.098</td>\n",
       "      <td>25.0</td>\n",
       "      <td>67.0</td>\n",
       "      <td>0.99680</td>\n",
       "      <td>3.20</td>\n",
       "      <td>0.68</td>\n",
       "      <td>9.8</td>\n",
       "      <td>5</td>\n",
       "      <td>0</td>\n",
       "    </tr>\n",
       "    <tr>\n",
       "      <th>2</th>\n",
       "      <td>7.8</td>\n",
       "      <td>0.760</td>\n",
       "      <td>0.04</td>\n",
       "      <td>2.3</td>\n",
       "      <td>0.092</td>\n",
       "      <td>15.0</td>\n",
       "      <td>54.0</td>\n",
       "      <td>0.99700</td>\n",
       "      <td>3.26</td>\n",
       "      <td>0.65</td>\n",
       "      <td>9.8</td>\n",
       "      <td>5</td>\n",
       "      <td>0</td>\n",
       "    </tr>\n",
       "    <tr>\n",
       "      <th>3</th>\n",
       "      <td>11.2</td>\n",
       "      <td>0.280</td>\n",
       "      <td>0.56</td>\n",
       "      <td>1.9</td>\n",
       "      <td>0.075</td>\n",
       "      <td>17.0</td>\n",
       "      <td>60.0</td>\n",
       "      <td>0.99800</td>\n",
       "      <td>3.16</td>\n",
       "      <td>0.58</td>\n",
       "      <td>9.8</td>\n",
       "      <td>6</td>\n",
       "      <td>0</td>\n",
       "    </tr>\n",
       "    <tr>\n",
       "      <th>4</th>\n",
       "      <td>7.4</td>\n",
       "      <td>0.700</td>\n",
       "      <td>0.00</td>\n",
       "      <td>1.9</td>\n",
       "      <td>0.076</td>\n",
       "      <td>11.0</td>\n",
       "      <td>34.0</td>\n",
       "      <td>0.99780</td>\n",
       "      <td>3.51</td>\n",
       "      <td>0.56</td>\n",
       "      <td>9.4</td>\n",
       "      <td>5</td>\n",
       "      <td>0</td>\n",
       "    </tr>\n",
       "    <tr>\n",
       "      <th>...</th>\n",
       "      <td>...</td>\n",
       "      <td>...</td>\n",
       "      <td>...</td>\n",
       "      <td>...</td>\n",
       "      <td>...</td>\n",
       "      <td>...</td>\n",
       "      <td>...</td>\n",
       "      <td>...</td>\n",
       "      <td>...</td>\n",
       "      <td>...</td>\n",
       "      <td>...</td>\n",
       "      <td>...</td>\n",
       "      <td>...</td>\n",
       "    </tr>\n",
       "    <tr>\n",
       "      <th>1594</th>\n",
       "      <td>6.2</td>\n",
       "      <td>0.600</td>\n",
       "      <td>0.08</td>\n",
       "      <td>2.0</td>\n",
       "      <td>0.090</td>\n",
       "      <td>32.0</td>\n",
       "      <td>44.0</td>\n",
       "      <td>0.99490</td>\n",
       "      <td>3.45</td>\n",
       "      <td>0.58</td>\n",
       "      <td>10.5</td>\n",
       "      <td>5</td>\n",
       "      <td>0</td>\n",
       "    </tr>\n",
       "    <tr>\n",
       "      <th>1595</th>\n",
       "      <td>5.9</td>\n",
       "      <td>0.550</td>\n",
       "      <td>0.10</td>\n",
       "      <td>2.2</td>\n",
       "      <td>0.062</td>\n",
       "      <td>39.0</td>\n",
       "      <td>51.0</td>\n",
       "      <td>0.99512</td>\n",
       "      <td>3.52</td>\n",
       "      <td>0.76</td>\n",
       "      <td>11.2</td>\n",
       "      <td>6</td>\n",
       "      <td>0</td>\n",
       "    </tr>\n",
       "    <tr>\n",
       "      <th>1596</th>\n",
       "      <td>6.3</td>\n",
       "      <td>0.510</td>\n",
       "      <td>0.13</td>\n",
       "      <td>2.3</td>\n",
       "      <td>0.076</td>\n",
       "      <td>29.0</td>\n",
       "      <td>40.0</td>\n",
       "      <td>0.99574</td>\n",
       "      <td>3.42</td>\n",
       "      <td>0.75</td>\n",
       "      <td>11.0</td>\n",
       "      <td>6</td>\n",
       "      <td>0</td>\n",
       "    </tr>\n",
       "    <tr>\n",
       "      <th>1597</th>\n",
       "      <td>5.9</td>\n",
       "      <td>0.645</td>\n",
       "      <td>0.12</td>\n",
       "      <td>2.0</td>\n",
       "      <td>0.075</td>\n",
       "      <td>32.0</td>\n",
       "      <td>44.0</td>\n",
       "      <td>0.99547</td>\n",
       "      <td>3.57</td>\n",
       "      <td>0.71</td>\n",
       "      <td>10.2</td>\n",
       "      <td>5</td>\n",
       "      <td>0</td>\n",
       "    </tr>\n",
       "    <tr>\n",
       "      <th>1598</th>\n",
       "      <td>6.0</td>\n",
       "      <td>0.310</td>\n",
       "      <td>0.47</td>\n",
       "      <td>3.6</td>\n",
       "      <td>0.067</td>\n",
       "      <td>18.0</td>\n",
       "      <td>42.0</td>\n",
       "      <td>0.99549</td>\n",
       "      <td>3.39</td>\n",
       "      <td>0.66</td>\n",
       "      <td>11.0</td>\n",
       "      <td>6</td>\n",
       "      <td>0</td>\n",
       "    </tr>\n",
       "  </tbody>\n",
       "</table>\n",
       "<p>1599 rows × 13 columns</p>\n",
       "</div>"
      ],
      "text/plain": [
       "      fixed acidity  volatile acidity  citric acid  residual sugar  chlorides  \\\n",
       "0               7.4             0.700         0.00             1.9      0.076   \n",
       "1               7.8             0.880         0.00             2.6      0.098   \n",
       "2               7.8             0.760         0.04             2.3      0.092   \n",
       "3              11.2             0.280         0.56             1.9      0.075   \n",
       "4               7.4             0.700         0.00             1.9      0.076   \n",
       "...             ...               ...          ...             ...        ...   \n",
       "1594            6.2             0.600         0.08             2.0      0.090   \n",
       "1595            5.9             0.550         0.10             2.2      0.062   \n",
       "1596            6.3             0.510         0.13             2.3      0.076   \n",
       "1597            5.9             0.645         0.12             2.0      0.075   \n",
       "1598            6.0             0.310         0.47             3.6      0.067   \n",
       "\n",
       "      free sulfur dioxide  total sulfur dioxide  density    pH  sulphates  \\\n",
       "0                    11.0                  34.0  0.99780  3.51       0.56   \n",
       "1                    25.0                  67.0  0.99680  3.20       0.68   \n",
       "2                    15.0                  54.0  0.99700  3.26       0.65   \n",
       "3                    17.0                  60.0  0.99800  3.16       0.58   \n",
       "4                    11.0                  34.0  0.99780  3.51       0.56   \n",
       "...                   ...                   ...      ...   ...        ...   \n",
       "1594                 32.0                  44.0  0.99490  3.45       0.58   \n",
       "1595                 39.0                  51.0  0.99512  3.52       0.76   \n",
       "1596                 29.0                  40.0  0.99574  3.42       0.75   \n",
       "1597                 32.0                  44.0  0.99547  3.57       0.71   \n",
       "1598                 18.0                  42.0  0.99549  3.39       0.66   \n",
       "\n",
       "      alcohol  quality  classify  \n",
       "0         9.4        5         0  \n",
       "1         9.8        5         0  \n",
       "2         9.8        5         0  \n",
       "3         9.8        6         0  \n",
       "4         9.4        5         0  \n",
       "...       ...      ...       ...  \n",
       "1594     10.5        5         0  \n",
       "1595     11.2        6         0  \n",
       "1596     11.0        6         0  \n",
       "1597     10.2        5         0  \n",
       "1598     11.0        6         0  \n",
       "\n",
       "[1599 rows x 13 columns]"
      ]
     },
     "execution_count": 5,
     "metadata": {},
     "output_type": "execute_result"
    }
   ],
   "source": [
    "for i in range(len(df)):\n",
    "    if df['quality'][i]<7:\n",
    "        df['classify'][i]=0\n",
    "df"
   ]
  },
  {
   "cell_type": "code",
   "execution_count": 6,
   "id": "0f991e72",
   "metadata": {},
   "outputs": [
    {
     "data": {
      "text/plain": [
       "{7, 8}"
      ]
     },
     "execution_count": 6,
     "metadata": {},
     "output_type": "execute_result"
    }
   ],
   "source": [
    "set(df[df['classify']==1]['quality'])"
   ]
  },
  {
   "cell_type": "code",
   "execution_count": 7,
   "id": "b802ad6d",
   "metadata": {},
   "outputs": [
    {
     "data": {
      "text/plain": [
       "{3, 4, 5, 6}"
      ]
     },
     "execution_count": 7,
     "metadata": {},
     "output_type": "execute_result"
    }
   ],
   "source": [
    "set(df[df['classify']==0]['quality'])"
   ]
  },
  {
   "cell_type": "code",
   "execution_count": 8,
   "id": "feb663f5",
   "metadata": {},
   "outputs": [
    {
     "data": {
      "text/plain": [
       "0    1382\n",
       "1     217\n",
       "Name: classify, dtype: int64"
      ]
     },
     "execution_count": 8,
     "metadata": {},
     "output_type": "execute_result"
    }
   ],
   "source": [
    "df['classify'].value_counts()"
   ]
  },
  {
   "cell_type": "code",
   "execution_count": 9,
   "id": "67196b54",
   "metadata": {},
   "outputs": [
    {
     "name": "stdout",
     "output_type": "stream",
     "text": [
      "Number of rows x columns in dataset are: (1599, 13)\n"
     ]
    }
   ],
   "source": [
    "print('Number of rows x columns in dataset are:',df.shape)"
   ]
  },
  {
   "cell_type": "code",
   "execution_count": 10,
   "id": "3d5dd220",
   "metadata": {},
   "outputs": [
    {
     "name": "stdout",
     "output_type": "stream",
     "text": [
      "Dataset contains any null values: False\n"
     ]
    }
   ],
   "source": [
    "print('Dataset contains any null values:',df.isnull().values.any())"
   ]
  },
  {
   "cell_type": "code",
   "execution_count": 11,
   "id": "3b420450",
   "metadata": {},
   "outputs": [
    {
     "data": {
      "text/plain": [
       "fixed acidity           float64\n",
       "volatile acidity        float64\n",
       "citric acid             float64\n",
       "residual sugar          float64\n",
       "chlorides               float64\n",
       "free sulfur dioxide     float64\n",
       "total sulfur dioxide    float64\n",
       "density                 float64\n",
       "pH                      float64\n",
       "sulphates               float64\n",
       "alcohol                 float64\n",
       "quality                   int64\n",
       "classify                  int64\n",
       "dtype: object"
      ]
     },
     "execution_count": 11,
     "metadata": {},
     "output_type": "execute_result"
    }
   ],
   "source": [
    "df.dtypes"
   ]
  },
  {
   "cell_type": "markdown",
   "id": "ad19a009",
   "metadata": {},
   "source": [
    "### almost all columns are float datatype except for quality and classify which are int"
   ]
  },
  {
   "cell_type": "code",
   "execution_count": 12,
   "id": "f9de7688",
   "metadata": {},
   "outputs": [
    {
     "name": "stdout",
     "output_type": "stream",
     "text": [
      "Number of not good wine are: 1382\n",
      "Number of good wine are: 217\n",
      "Unbalanced dataset\n"
     ]
    }
   ],
   "source": [
    "print('Number of not good wine are:',df['classify'].value_counts()[0])\n",
    "print('Number of good wine are:',df['classify'].value_counts()[1])\n",
    "print('Unbalanced dataset' if df['classify'].value_counts()[0]!=df['classify'].value_counts()[1] else 'Balanced dataset')"
   ]
  },
  {
   "cell_type": "code",
   "execution_count": 13,
   "id": "3ebdd83f",
   "metadata": {},
   "outputs": [
    {
     "data": {
      "image/png": "[encoded data removed]",
      "text/plain": [
       "<Figure size 360x360 with 1 Axes>"
      ]
     },
     "metadata": {
      "needs_background": "light"
     },
     "output_type": "display_data"
    }
   ],
   "source": [
    "plt.figure(figsize=[5,5])\n",
    "df['classify'].value_counts().plot(kind='bar')\n",
    "plt.xlabel(\"class\")\n",
    "plt.ylabel('value counts')\n",
    "plt.title('Number of good and not good wine')\n",
    "plt.grid()"
   ]
  },
  {
   "cell_type": "markdown",
   "id": "70a17c1c",
   "metadata": {},
   "source": [
    "### balance back the dataset"
   ]
  },
  {
   "cell_type": "code",
   "execution_count": 14,
   "id": "3aba2cc7",
   "metadata": {},
   "outputs": [],
   "source": [
    "sm=SMOTE()\n",
    "x,y=sm.fit_resample(df[['fixed acidity','volatile acidity','citric acid','residual sugar','chlorides','free sulfur dioxide','total sulfur dioxide','density','pH','sulphates','alcohol']], df[['classify']])"
   ]
  },
  {
   "cell_type": "code",
   "execution_count": 15,
   "id": "33ad726d",
   "metadata": {},
   "outputs": [
    {
     "data": {
      "text/plain": [
       "classify\n",
       "0           1382\n",
       "1           1382\n",
       "dtype: int64"
      ]
     },
     "execution_count": 15,
     "metadata": {},
     "output_type": "execute_result"
    }
   ],
   "source": [
    "y.value_counts()"
   ]
  },
  {
   "cell_type": "code",
   "execution_count": 16,
   "id": "2d5f3f2c",
   "metadata": {},
   "outputs": [
    {
     "data": {
      "text/html": [
       "<div>\n",
       "<style scoped>\n",
       "    .dataframe tbody tr th:only-of-type {\n",
       "        vertical-align: middle;\n",
       "    }\n",
       "\n",
       "    .dataframe tbody tr th {\n",
       "        vertical-align: top;\n",
       "    }\n",
       "\n",
       "    .dataframe thead th {\n",
       "        text-align: right;\n",
       "    }\n",
       "</style>\n",
       "<table border=\"1\" class=\"dataframe\">\n",
       "  <thead>\n",
       "    <tr style=\"text-align: right;\">\n",
       "      <th></th>\n",
       "      <th>fixed acidity</th>\n",
       "      <th>volatile acidity</th>\n",
       "      <th>citric acid</th>\n",
       "      <th>residual sugar</th>\n",
       "      <th>chlorides</th>\n",
       "      <th>free sulfur dioxide</th>\n",
       "      <th>total sulfur dioxide</th>\n",
       "      <th>density</th>\n",
       "      <th>pH</th>\n",
       "      <th>sulphates</th>\n",
       "      <th>alcohol</th>\n",
       "    </tr>\n",
       "  </thead>\n",
       "  <tbody>\n",
       "    <tr>\n",
       "      <th>0</th>\n",
       "      <td>7.400000</td>\n",
       "      <td>0.700000</td>\n",
       "      <td>0.000000</td>\n",
       "      <td>1.900000</td>\n",
       "      <td>0.076000</td>\n",
       "      <td>11.000000</td>\n",
       "      <td>34.000000</td>\n",
       "      <td>0.997800</td>\n",
       "      <td>3.510000</td>\n",
       "      <td>0.560000</td>\n",
       "      <td>9.400000</td>\n",
       "    </tr>\n",
       "    <tr>\n",
       "      <th>1</th>\n",
       "      <td>7.800000</td>\n",
       "      <td>0.880000</td>\n",
       "      <td>0.000000</td>\n",
       "      <td>2.600000</td>\n",
       "      <td>0.098000</td>\n",
       "      <td>25.000000</td>\n",
       "      <td>67.000000</td>\n",
       "      <td>0.996800</td>\n",
       "      <td>3.200000</td>\n",
       "      <td>0.680000</td>\n",
       "      <td>9.800000</td>\n",
       "    </tr>\n",
       "    <tr>\n",
       "      <th>2</th>\n",
       "      <td>7.800000</td>\n",
       "      <td>0.760000</td>\n",
       "      <td>0.040000</td>\n",
       "      <td>2.300000</td>\n",
       "      <td>0.092000</td>\n",
       "      <td>15.000000</td>\n",
       "      <td>54.000000</td>\n",
       "      <td>0.997000</td>\n",
       "      <td>3.260000</td>\n",
       "      <td>0.650000</td>\n",
       "      <td>9.800000</td>\n",
       "    </tr>\n",
       "    <tr>\n",
       "      <th>3</th>\n",
       "      <td>11.200000</td>\n",
       "      <td>0.280000</td>\n",
       "      <td>0.560000</td>\n",
       "      <td>1.900000</td>\n",
       "      <td>0.075000</td>\n",
       "      <td>17.000000</td>\n",
       "      <td>60.000000</td>\n",
       "      <td>0.998000</td>\n",
       "      <td>3.160000</td>\n",
       "      <td>0.580000</td>\n",
       "      <td>9.800000</td>\n",
       "    </tr>\n",
       "    <tr>\n",
       "      <th>4</th>\n",
       "      <td>7.400000</td>\n",
       "      <td>0.700000</td>\n",
       "      <td>0.000000</td>\n",
       "      <td>1.900000</td>\n",
       "      <td>0.076000</td>\n",
       "      <td>11.000000</td>\n",
       "      <td>34.000000</td>\n",
       "      <td>0.997800</td>\n",
       "      <td>3.510000</td>\n",
       "      <td>0.560000</td>\n",
       "      <td>9.400000</td>\n",
       "    </tr>\n",
       "    <tr>\n",
       "      <th>...</th>\n",
       "      <td>...</td>\n",
       "      <td>...</td>\n",
       "      <td>...</td>\n",
       "      <td>...</td>\n",
       "      <td>...</td>\n",
       "      <td>...</td>\n",
       "      <td>...</td>\n",
       "      <td>...</td>\n",
       "      <td>...</td>\n",
       "      <td>...</td>\n",
       "      <td>...</td>\n",
       "    </tr>\n",
       "    <tr>\n",
       "      <th>2759</th>\n",
       "      <td>9.498668</td>\n",
       "      <td>0.308267</td>\n",
       "      <td>0.459600</td>\n",
       "      <td>3.395339</td>\n",
       "      <td>0.071920</td>\n",
       "      <td>42.853325</td>\n",
       "      <td>69.760011</td>\n",
       "      <td>0.998092</td>\n",
       "      <td>3.357200</td>\n",
       "      <td>0.856933</td>\n",
       "      <td>10.752002</td>\n",
       "    </tr>\n",
       "    <tr>\n",
       "      <th>2760</th>\n",
       "      <td>8.704400</td>\n",
       "      <td>0.516206</td>\n",
       "      <td>0.220377</td>\n",
       "      <td>2.001257</td>\n",
       "      <td>0.071709</td>\n",
       "      <td>3.670857</td>\n",
       "      <td>16.335429</td>\n",
       "      <td>0.996411</td>\n",
       "      <td>3.336143</td>\n",
       "      <td>0.829434</td>\n",
       "      <td>10.533543</td>\n",
       "    </tr>\n",
       "    <tr>\n",
       "      <th>2761</th>\n",
       "      <td>8.400865</td>\n",
       "      <td>0.250187</td>\n",
       "      <td>0.390029</td>\n",
       "      <td>2.000577</td>\n",
       "      <td>0.041089</td>\n",
       "      <td>4.002883</td>\n",
       "      <td>10.000000</td>\n",
       "      <td>0.993863</td>\n",
       "      <td>3.269798</td>\n",
       "      <td>0.709813</td>\n",
       "      <td>12.499135</td>\n",
       "    </tr>\n",
       "    <tr>\n",
       "      <th>2762</th>\n",
       "      <td>7.384886</td>\n",
       "      <td>0.347583</td>\n",
       "      <td>0.384285</td>\n",
       "      <td>1.732417</td>\n",
       "      <td>0.079159</td>\n",
       "      <td>29.593387</td>\n",
       "      <td>104.013740</td>\n",
       "      <td>0.995481</td>\n",
       "      <td>3.381099</td>\n",
       "      <td>0.706071</td>\n",
       "      <td>11.074453</td>\n",
       "    </tr>\n",
       "    <tr>\n",
       "      <th>2763</th>\n",
       "      <td>8.454470</td>\n",
       "      <td>0.475312</td>\n",
       "      <td>0.413929</td>\n",
       "      <td>2.176559</td>\n",
       "      <td>0.073690</td>\n",
       "      <td>7.537942</td>\n",
       "      <td>16.537942</td>\n",
       "      <td>0.993399</td>\n",
       "      <td>3.204621</td>\n",
       "      <td>0.706138</td>\n",
       "      <td>12.822765</td>\n",
       "    </tr>\n",
       "  </tbody>\n",
       "</table>\n",
       "<p>2764 rows × 11 columns</p>\n",
       "</div>"
      ],
      "text/plain": [
       "      fixed acidity  volatile acidity  citric acid  residual sugar  chlorides  \\\n",
       "0          7.400000          0.700000     0.000000        1.900000   0.076000   \n",
       "1          7.800000          0.880000     0.000000        2.600000   0.098000   \n",
       "2          7.800000          0.760000     0.040000        2.300000   0.092000   \n",
       "3         11.200000          0.280000     0.560000        1.900000   0.075000   \n",
       "4          7.400000          0.700000     0.000000        1.900000   0.076000   \n",
       "...             ...               ...          ...             ...        ...   \n",
       "2759       9.498668          0.308267     0.459600        3.395339   0.071920   \n",
       "2760       8.704400          0.516206     0.220377        2.001257   0.071709   \n",
       "2761       8.400865          0.250187     0.390029        2.000577   0.041089   \n",
       "2762       7.384886          0.347583     0.384285        1.732417   0.079159   \n",
       "2763       8.454470          0.475312     0.413929        2.176559   0.073690   \n",
       "\n",
       "      free sulfur dioxide  total sulfur dioxide   density        pH  \\\n",
       "0               11.000000             34.000000  0.997800  3.510000   \n",
       "1               25.000000             67.000000  0.996800  3.200000   \n",
       "2               15.000000             54.000000  0.997000  3.260000   \n",
       "3               17.000000             60.000000  0.998000  3.160000   \n",
       "4               11.000000             34.000000  0.997800  3.510000   \n",
       "...                   ...                   ...       ...       ...   \n",
       "2759            42.853325             69.760011  0.998092  3.357200   \n",
       "2760             3.670857             16.335429  0.996411  3.336143   \n",
       "2761             4.002883             10.000000  0.993863  3.269798   \n",
       "2762            29.593387            104.013740  0.995481  3.381099   \n",
       "2763             7.537942             16.537942  0.993399  3.204621   \n",
       "\n",
       "      sulphates    alcohol  \n",
       "0      0.560000   9.400000  \n",
       "1      0.680000   9.800000  \n",
       "2      0.650000   9.800000  \n",
       "3      0.580000   9.800000  \n",
       "4      0.560000   9.400000  \n",
       "...         ...        ...  \n",
       "2759   0.856933  10.752002  \n",
       "2760   0.829434  10.533543  \n",
       "2761   0.709813  12.499135  \n",
       "2762   0.706071  11.074453  \n",
       "2763   0.706138  12.822765  \n",
       "\n",
       "[2764 rows x 11 columns]"
      ]
     },
     "execution_count": 16,
     "metadata": {},
     "output_type": "execute_result"
    }
   ],
   "source": [
    "dff=x.copy()\n",
    "dff"
   ]
  },
  {
   "cell_type": "code",
   "execution_count": 17,
   "id": "bb787598",
   "metadata": {},
   "outputs": [
    {
     "data": {
      "text/html": [
       "<div>\n",
       "<style scoped>\n",
       "    .dataframe tbody tr th:only-of-type {\n",
       "        vertical-align: middle;\n",
       "    }\n",
       "\n",
       "    .dataframe tbody tr th {\n",
       "        vertical-align: top;\n",
       "    }\n",
       "\n",
       "    .dataframe thead th {\n",
       "        text-align: right;\n",
       "    }\n",
       "</style>\n",
       "<table border=\"1\" class=\"dataframe\">\n",
       "  <thead>\n",
       "    <tr style=\"text-align: right;\">\n",
       "      <th></th>\n",
       "      <th>fixed acidity</th>\n",
       "      <th>volatile acidity</th>\n",
       "      <th>citric acid</th>\n",
       "      <th>residual sugar</th>\n",
       "      <th>chlorides</th>\n",
       "      <th>free sulfur dioxide</th>\n",
       "      <th>total sulfur dioxide</th>\n",
       "      <th>density</th>\n",
       "      <th>pH</th>\n",
       "      <th>sulphates</th>\n",
       "      <th>alcohol</th>\n",
       "      <th>classify</th>\n",
       "    </tr>\n",
       "  </thead>\n",
       "  <tbody>\n",
       "    <tr>\n",
       "      <th>0</th>\n",
       "      <td>7.400000</td>\n",
       "      <td>0.700000</td>\n",
       "      <td>0.000000</td>\n",
       "      <td>1.900000</td>\n",
       "      <td>0.076000</td>\n",
       "      <td>11.000000</td>\n",
       "      <td>34.000000</td>\n",
       "      <td>0.997800</td>\n",
       "      <td>3.510000</td>\n",
       "      <td>0.560000</td>\n",
       "      <td>9.400000</td>\n",
       "      <td>0</td>\n",
       "    </tr>\n",
       "    <tr>\n",
       "      <th>1</th>\n",
       "      <td>7.800000</td>\n",
       "      <td>0.880000</td>\n",
       "      <td>0.000000</td>\n",
       "      <td>2.600000</td>\n",
       "      <td>0.098000</td>\n",
       "      <td>25.000000</td>\n",
       "      <td>67.000000</td>\n",
       "      <td>0.996800</td>\n",
       "      <td>3.200000</td>\n",
       "      <td>0.680000</td>\n",
       "      <td>9.800000</td>\n",
       "      <td>0</td>\n",
       "    </tr>\n",
       "    <tr>\n",
       "      <th>2</th>\n",
       "      <td>7.800000</td>\n",
       "      <td>0.760000</td>\n",
       "      <td>0.040000</td>\n",
       "      <td>2.300000</td>\n",
       "      <td>0.092000</td>\n",
       "      <td>15.000000</td>\n",
       "      <td>54.000000</td>\n",
       "      <td>0.997000</td>\n",
       "      <td>3.260000</td>\n",
       "      <td>0.650000</td>\n",
       "      <td>9.800000</td>\n",
       "      <td>0</td>\n",
       "    </tr>\n",
       "    <tr>\n",
       "      <th>3</th>\n",
       "      <td>11.200000</td>\n",
       "      <td>0.280000</td>\n",
       "      <td>0.560000</td>\n",
       "      <td>1.900000</td>\n",
       "      <td>0.075000</td>\n",
       "      <td>17.000000</td>\n",
       "      <td>60.000000</td>\n",
       "      <td>0.998000</td>\n",
       "      <td>3.160000</td>\n",
       "      <td>0.580000</td>\n",
       "      <td>9.800000</td>\n",
       "      <td>0</td>\n",
       "    </tr>\n",
       "    <tr>\n",
       "      <th>4</th>\n",
       "      <td>7.400000</td>\n",
       "      <td>0.700000</td>\n",
       "      <td>0.000000</td>\n",
       "      <td>1.900000</td>\n",
       "      <td>0.076000</td>\n",
       "      <td>11.000000</td>\n",
       "      <td>34.000000</td>\n",
       "      <td>0.997800</td>\n",
       "      <td>3.510000</td>\n",
       "      <td>0.560000</td>\n",
       "      <td>9.400000</td>\n",
       "      <td>0</td>\n",
       "    </tr>\n",
       "    <tr>\n",
       "      <th>...</th>\n",
       "      <td>...</td>\n",
       "      <td>...</td>\n",
       "      <td>...</td>\n",
       "      <td>...</td>\n",
       "      <td>...</td>\n",
       "      <td>...</td>\n",
       "      <td>...</td>\n",
       "      <td>...</td>\n",
       "      <td>...</td>\n",
       "      <td>...</td>\n",
       "      <td>...</td>\n",
       "      <td>...</td>\n",
       "    </tr>\n",
       "    <tr>\n",
       "      <th>2759</th>\n",
       "      <td>9.498668</td>\n",
       "      <td>0.308267</td>\n",
       "      <td>0.459600</td>\n",
       "      <td>3.395339</td>\n",
       "      <td>0.071920</td>\n",
       "      <td>42.853325</td>\n",
       "      <td>69.760011</td>\n",
       "      <td>0.998092</td>\n",
       "      <td>3.357200</td>\n",
       "      <td>0.856933</td>\n",
       "      <td>10.752002</td>\n",
       "      <td>1</td>\n",
       "    </tr>\n",
       "    <tr>\n",
       "      <th>2760</th>\n",
       "      <td>8.704400</td>\n",
       "      <td>0.516206</td>\n",
       "      <td>0.220377</td>\n",
       "      <td>2.001257</td>\n",
       "      <td>0.071709</td>\n",
       "      <td>3.670857</td>\n",
       "      <td>16.335429</td>\n",
       "      <td>0.996411</td>\n",
       "      <td>3.336143</td>\n",
       "      <td>0.829434</td>\n",
       "      <td>10.533543</td>\n",
       "      <td>1</td>\n",
       "    </tr>\n",
       "    <tr>\n",
       "      <th>2761</th>\n",
       "      <td>8.400865</td>\n",
       "      <td>0.250187</td>\n",
       "      <td>0.390029</td>\n",
       "      <td>2.000577</td>\n",
       "      <td>0.041089</td>\n",
       "      <td>4.002883</td>\n",
       "      <td>10.000000</td>\n",
       "      <td>0.993863</td>\n",
       "      <td>3.269798</td>\n",
       "      <td>0.709813</td>\n",
       "      <td>12.499135</td>\n",
       "      <td>1</td>\n",
       "    </tr>\n",
       "    <tr>\n",
       "      <th>2762</th>\n",
       "      <td>7.384886</td>\n",
       "      <td>0.347583</td>\n",
       "      <td>0.384285</td>\n",
       "      <td>1.732417</td>\n",
       "      <td>0.079159</td>\n",
       "      <td>29.593387</td>\n",
       "      <td>104.013740</td>\n",
       "      <td>0.995481</td>\n",
       "      <td>3.381099</td>\n",
       "      <td>0.706071</td>\n",
       "      <td>11.074453</td>\n",
       "      <td>1</td>\n",
       "    </tr>\n",
       "    <tr>\n",
       "      <th>2763</th>\n",
       "      <td>8.454470</td>\n",
       "      <td>0.475312</td>\n",
       "      <td>0.413929</td>\n",
       "      <td>2.176559</td>\n",
       "      <td>0.073690</td>\n",
       "      <td>7.537942</td>\n",
       "      <td>16.537942</td>\n",
       "      <td>0.993399</td>\n",
       "      <td>3.204621</td>\n",
       "      <td>0.706138</td>\n",
       "      <td>12.822765</td>\n",
       "      <td>1</td>\n",
       "    </tr>\n",
       "  </tbody>\n",
       "</table>\n",
       "<p>2764 rows × 12 columns</p>\n",
       "</div>"
      ],
      "text/plain": [
       "      fixed acidity  volatile acidity  citric acid  residual sugar  chlorides  \\\n",
       "0          7.400000          0.700000     0.000000        1.900000   0.076000   \n",
       "1          7.800000          0.880000     0.000000        2.600000   0.098000   \n",
       "2          7.800000          0.760000     0.040000        2.300000   0.092000   \n",
       "3         11.200000          0.280000     0.560000        1.900000   0.075000   \n",
       "4          7.400000          0.700000     0.000000        1.900000   0.076000   \n",
       "...             ...               ...          ...             ...        ...   \n",
       "2759       9.498668          0.308267     0.459600        3.395339   0.071920   \n",
       "2760       8.704400          0.516206     0.220377        2.001257   0.071709   \n",
       "2761       8.400865          0.250187     0.390029        2.000577   0.041089   \n",
       "2762       7.384886          0.347583     0.384285        1.732417   0.079159   \n",
       "2763       8.454470          0.475312     0.413929        2.176559   0.073690   \n",
       "\n",
       "      free sulfur dioxide  total sulfur dioxide   density        pH  \\\n",
       "0               11.000000             34.000000  0.997800  3.510000   \n",
       "1               25.000000             67.000000  0.996800  3.200000   \n",
       "2               15.000000             54.000000  0.997000  3.260000   \n",
       "3               17.000000             60.000000  0.998000  3.160000   \n",
       "4               11.000000             34.000000  0.997800  3.510000   \n",
       "...                   ...                   ...       ...       ...   \n",
       "2759            42.853325             69.760011  0.998092  3.357200   \n",
       "2760             3.670857             16.335429  0.996411  3.336143   \n",
       "2761             4.002883             10.000000  0.993863  3.269798   \n",
       "2762            29.593387            104.013740  0.995481  3.381099   \n",
       "2763             7.537942             16.537942  0.993399  3.204621   \n",
       "\n",
       "      sulphates    alcohol  classify  \n",
       "0      0.560000   9.400000         0  \n",
       "1      0.680000   9.800000         0  \n",
       "2      0.650000   9.800000         0  \n",
       "3      0.580000   9.800000         0  \n",
       "4      0.560000   9.400000         0  \n",
       "...         ...        ...       ...  \n",
       "2759   0.856933  10.752002         1  \n",
       "2760   0.829434  10.533543         1  \n",
       "2761   0.709813  12.499135         1  \n",
       "2762   0.706071  11.074453         1  \n",
       "2763   0.706138  12.822765         1  \n",
       "\n",
       "[2764 rows x 12 columns]"
      ]
     },
     "execution_count": 17,
     "metadata": {},
     "output_type": "execute_result"
    }
   ],
   "source": [
    "dff['classify']=y\n",
    "dff"
   ]
  },
  {
   "cell_type": "markdown",
   "id": "004d13e9",
   "metadata": {},
   "source": [
    "### check the correlation in new dataset to consider relevant columns"
   ]
  },
  {
   "cell_type": "code",
   "execution_count": 18,
   "id": "a886d7bc",
   "metadata": {},
   "outputs": [
    {
     "data": {
      "text/html": [
       "<div>\n",
       "<style scoped>\n",
       "    .dataframe tbody tr th:only-of-type {\n",
       "        vertical-align: middle;\n",
       "    }\n",
       "\n",
       "    .dataframe tbody tr th {\n",
       "        vertical-align: top;\n",
       "    }\n",
       "\n",
       "    .dataframe thead th {\n",
       "        text-align: right;\n",
       "    }\n",
       "</style>\n",
       "<table border=\"1\" class=\"dataframe\">\n",
       "  <thead>\n",
       "    <tr style=\"text-align: right;\">\n",
       "      <th></th>\n",
       "      <th>fixed acidity</th>\n",
       "      <th>volatile acidity</th>\n",
       "      <th>citric acid</th>\n",
       "      <th>residual sugar</th>\n",
       "      <th>chlorides</th>\n",
       "      <th>free sulfur dioxide</th>\n",
       "      <th>total sulfur dioxide</th>\n",
       "      <th>density</th>\n",
       "      <th>pH</th>\n",
       "      <th>sulphates</th>\n",
       "      <th>alcohol</th>\n",
       "      <th>classify</th>\n",
       "    </tr>\n",
       "  </thead>\n",
       "  <tbody>\n",
       "    <tr>\n",
       "      <th>fixed acidity</th>\n",
       "      <td>1.000000</td>\n",
       "      <td>-0.286943</td>\n",
       "      <td>0.717617</td>\n",
       "      <td>0.159821</td>\n",
       "      <td>0.118941</td>\n",
       "      <td>-0.177613</td>\n",
       "      <td>-0.186019</td>\n",
       "      <td>0.673702</td>\n",
       "      <td>-0.728335</td>\n",
       "      <td>0.201113</td>\n",
       "      <td>-0.114944</td>\n",
       "      <td>0.161311</td>\n",
       "    </tr>\n",
       "    <tr>\n",
       "      <th>volatile acidity</th>\n",
       "      <td>-0.286943</td>\n",
       "      <td>1.000000</td>\n",
       "      <td>-0.571810</td>\n",
       "      <td>0.024043</td>\n",
       "      <td>0.128332</td>\n",
       "      <td>0.049749</td>\n",
       "      <td>0.163983</td>\n",
       "      <td>0.095804</td>\n",
       "      <td>0.269118</td>\n",
       "      <td>-0.328562</td>\n",
       "      <td>-0.291298</td>\n",
       "      <td>-0.431968</td>\n",
       "    </tr>\n",
       "    <tr>\n",
       "      <th>citric acid</th>\n",
       "      <td>0.717617</td>\n",
       "      <td>-0.571810</td>\n",
       "      <td>1.000000</td>\n",
       "      <td>0.188998</td>\n",
       "      <td>0.152305</td>\n",
       "      <td>-0.101909</td>\n",
       "      <td>-0.076804</td>\n",
       "      <td>0.349824</td>\n",
       "      <td>-0.606554</td>\n",
       "      <td>0.325081</td>\n",
       "      <td>0.153158</td>\n",
       "      <td>0.313783</td>\n",
       "    </tr>\n",
       "    <tr>\n",
       "      <th>residual sugar</th>\n",
       "      <td>0.159821</td>\n",
       "      <td>0.024043</td>\n",
       "      <td>0.188998</td>\n",
       "      <td>1.000000</td>\n",
       "      <td>0.073923</td>\n",
       "      <td>0.120262</td>\n",
       "      <td>0.174077</td>\n",
       "      <td>0.361894</td>\n",
       "      <td>-0.111052</td>\n",
       "      <td>-0.013970</td>\n",
       "      <td>0.038150</td>\n",
       "      <td>0.033113</td>\n",
       "    </tr>\n",
       "    <tr>\n",
       "      <th>chlorides</th>\n",
       "      <td>0.118941</td>\n",
       "      <td>0.128332</td>\n",
       "      <td>0.152305</td>\n",
       "      <td>0.073923</td>\n",
       "      <td>1.000000</td>\n",
       "      <td>-0.005221</td>\n",
       "      <td>0.028925</td>\n",
       "      <td>0.269741</td>\n",
       "      <td>-0.240807</td>\n",
       "      <td>0.247298</td>\n",
       "      <td>-0.278761</td>\n",
       "      <td>-0.200059</td>\n",
       "    </tr>\n",
       "    <tr>\n",
       "      <th>free sulfur dioxide</th>\n",
       "      <td>-0.177613</td>\n",
       "      <td>0.049749</td>\n",
       "      <td>-0.101909</td>\n",
       "      <td>0.120262</td>\n",
       "      <td>-0.005221</td>\n",
       "      <td>1.000000</td>\n",
       "      <td>0.679982</td>\n",
       "      <td>-0.020168</td>\n",
       "      <td>0.110737</td>\n",
       "      <td>0.022856</td>\n",
       "      <td>-0.099893</td>\n",
       "      <td>-0.113597</td>\n",
       "    </tr>\n",
       "    <tr>\n",
       "      <th>total sulfur dioxide</th>\n",
       "      <td>-0.186019</td>\n",
       "      <td>0.163983</td>\n",
       "      <td>-0.076804</td>\n",
       "      <td>0.174077</td>\n",
       "      <td>0.028925</td>\n",
       "      <td>0.679982</td>\n",
       "      <td>1.000000</td>\n",
       "      <td>0.025712</td>\n",
       "      <td>0.039744</td>\n",
       "      <td>-0.019878</td>\n",
       "      <td>-0.188255</td>\n",
       "      <td>-0.235723</td>\n",
       "    </tr>\n",
       "    <tr>\n",
       "      <th>density</th>\n",
       "      <td>0.673702</td>\n",
       "      <td>0.095804</td>\n",
       "      <td>0.349824</td>\n",
       "      <td>0.361894</td>\n",
       "      <td>0.269741</td>\n",
       "      <td>-0.020168</td>\n",
       "      <td>0.025712</td>\n",
       "      <td>1.000000</td>\n",
       "      <td>-0.379707</td>\n",
       "      <td>0.095170</td>\n",
       "      <td>-0.572761</td>\n",
       "      <td>-0.232550</td>\n",
       "    </tr>\n",
       "    <tr>\n",
       "      <th>pH</th>\n",
       "      <td>-0.728335</td>\n",
       "      <td>0.269118</td>\n",
       "      <td>-0.606554</td>\n",
       "      <td>-0.111052</td>\n",
       "      <td>-0.240807</td>\n",
       "      <td>0.110737</td>\n",
       "      <td>0.039744</td>\n",
       "      <td>-0.379707</td>\n",
       "      <td>1.000000</td>\n",
       "      <td>-0.159721</td>\n",
       "      <td>0.203494</td>\n",
       "      <td>-0.080422</td>\n",
       "    </tr>\n",
       "    <tr>\n",
       "      <th>sulphates</th>\n",
       "      <td>0.201113</td>\n",
       "      <td>-0.328562</td>\n",
       "      <td>0.325081</td>\n",
       "      <td>-0.013970</td>\n",
       "      <td>0.247298</td>\n",
       "      <td>0.022856</td>\n",
       "      <td>-0.019878</td>\n",
       "      <td>0.095170</td>\n",
       "      <td>-0.159721</td>\n",
       "      <td>1.000000</td>\n",
       "      <td>0.181814</td>\n",
       "      <td>0.327410</td>\n",
       "    </tr>\n",
       "    <tr>\n",
       "      <th>alcohol</th>\n",
       "      <td>-0.114944</td>\n",
       "      <td>-0.291298</td>\n",
       "      <td>0.153158</td>\n",
       "      <td>0.038150</td>\n",
       "      <td>-0.278761</td>\n",
       "      <td>-0.099893</td>\n",
       "      <td>-0.188255</td>\n",
       "      <td>-0.572761</td>\n",
       "      <td>0.203494</td>\n",
       "      <td>0.181814</td>\n",
       "      <td>1.000000</td>\n",
       "      <td>0.564278</td>\n",
       "    </tr>\n",
       "    <tr>\n",
       "      <th>classify</th>\n",
       "      <td>0.161311</td>\n",
       "      <td>-0.431968</td>\n",
       "      <td>0.313783</td>\n",
       "      <td>0.033113</td>\n",
       "      <td>-0.200059</td>\n",
       "      <td>-0.113597</td>\n",
       "      <td>-0.235723</td>\n",
       "      <td>-0.232550</td>\n",
       "      <td>-0.080422</td>\n",
       "      <td>0.327410</td>\n",
       "      <td>0.564278</td>\n",
       "      <td>1.000000</td>\n",
       "    </tr>\n",
       "  </tbody>\n",
       "</table>\n",
       "</div>"
      ],
      "text/plain": [
       "                      fixed acidity  volatile acidity  citric acid  \\\n",
       "fixed acidity              1.000000         -0.286943     0.717617   \n",
       "volatile acidity          -0.286943          1.000000    -0.571810   \n",
       "citric acid                0.717617         -0.571810     1.000000   \n",
       "residual sugar             0.159821          0.024043     0.188998   \n",
       "chlorides                  0.118941          0.128332     0.152305   \n",
       "free sulfur dioxide       -0.177613          0.049749    -0.101909   \n",
       "total sulfur dioxide      -0.186019          0.163983    -0.076804   \n",
       "density                    0.673702          0.095804     0.349824   \n",
       "pH                        -0.728335          0.269118    -0.606554   \n",
       "sulphates                  0.201113         -0.328562     0.325081   \n",
       "alcohol                   -0.114944         -0.291298     0.153158   \n",
       "classify                   0.161311         -0.431968     0.313783   \n",
       "\n",
       "                      residual sugar  chlorides  free sulfur dioxide  \\\n",
       "fixed acidity               0.159821   0.118941            -0.177613   \n",
       "volatile acidity            0.024043   0.128332             0.049749   \n",
       "citric acid                 0.188998   0.152305            -0.101909   \n",
       "residual sugar              1.000000   0.073923             0.120262   \n",
       "chlorides                   0.073923   1.000000            -0.005221   \n",
       "free sulfur dioxide         0.120262  -0.005221             1.000000   \n",
       "total sulfur dioxide        0.174077   0.028925             0.679982   \n",
       "density                     0.361894   0.269741            -0.020168   \n",
       "pH                         -0.111052  -0.240807             0.110737   \n",
       "sulphates                  -0.013970   0.247298             0.022856   \n",
       "alcohol                     0.038150  -0.278761            -0.099893   \n",
       "classify                    0.033113  -0.200059            -0.113597   \n",
       "\n",
       "                      total sulfur dioxide   density        pH  sulphates  \\\n",
       "fixed acidity                    -0.186019  0.673702 -0.728335   0.201113   \n",
       "volatile acidity                  0.163983  0.095804  0.269118  -0.328562   \n",
       "citric acid                      -0.076804  0.349824 -0.606554   0.325081   \n",
       "residual sugar                    0.174077  0.361894 -0.111052  -0.013970   \n",
       "chlorides                         0.028925  0.269741 -0.240807   0.247298   \n",
       "free sulfur dioxide               0.679982 -0.020168  0.110737   0.022856   \n",
       "total sulfur dioxide              1.000000  0.025712  0.039744  -0.019878   \n",
       "density                           0.025712  1.000000 -0.379707   0.095170   \n",
       "pH                                0.039744 -0.379707  1.000000  -0.159721   \n",
       "sulphates                        -0.019878  0.095170 -0.159721   1.000000   \n",
       "alcohol                          -0.188255 -0.572761  0.203494   0.181814   \n",
       "classify                         -0.235723 -0.232550 -0.080422   0.327410   \n",
       "\n",
       "                       alcohol  classify  \n",
       "fixed acidity        -0.114944  0.161311  \n",
       "volatile acidity     -0.291298 -0.431968  \n",
       "citric acid           0.153158  0.313783  \n",
       "residual sugar        0.038150  0.033113  \n",
       "chlorides            -0.278761 -0.200059  \n",
       "free sulfur dioxide  -0.099893 -0.113597  \n",
       "total sulfur dioxide -0.188255 -0.235723  \n",
       "density              -0.572761 -0.232550  \n",
       "pH                    0.203494 -0.080422  \n",
       "sulphates             0.181814  0.327410  \n",
       "alcohol               1.000000  0.564278  \n",
       "classify              0.564278  1.000000  "
      ]
     },
     "execution_count": 18,
     "metadata": {},
     "output_type": "execute_result"
    }
   ],
   "source": [
    "dff.corr()"
   ]
  },
  {
   "cell_type": "code",
   "execution_count": 19,
   "id": "a85d4344",
   "metadata": {},
   "outputs": [
    {
     "data": {
      "text/plain": [
       "<AxesSubplot:>"
      ]
     },
     "execution_count": 19,
     "metadata": {},
     "output_type": "execute_result"
    },
    {
     "data": {
      "image/png": "[encoded data removed]",
      "text/plain": [
       "<Figure size 720x720 with 2 Axes>"
      ]
     },
     "metadata": {
      "needs_background": "light"
     },
     "output_type": "display_data"
    }
   ],
   "source": [
    "fig, ax = plt.subplots(figsize=(10,10))\n",
    "sn.heatmap(dff.corr(),annot=True,ax=ax)"
   ]
  },
  {
   "cell_type": "code",
   "execution_count": 20,
   "id": "0092e49a",
   "metadata": {},
   "outputs": [
    {
     "data": {
      "text/html": [
       "<div>\n",
       "<style scoped>\n",
       "    .dataframe tbody tr th:only-of-type {\n",
       "        vertical-align: middle;\n",
       "    }\n",
       "\n",
       "    .dataframe tbody tr th {\n",
       "        vertical-align: top;\n",
       "    }\n",
       "\n",
       "    .dataframe thead th {\n",
       "        text-align: right;\n",
       "    }\n",
       "</style>\n",
       "<table border=\"1\" class=\"dataframe\">\n",
       "  <thead>\n",
       "    <tr style=\"text-align: right;\">\n",
       "      <th></th>\n",
       "      <th>fixed acidity</th>\n",
       "      <th>volatile acidity</th>\n",
       "      <th>citric acid</th>\n",
       "      <th>residual sugar</th>\n",
       "      <th>chlorides</th>\n",
       "      <th>free sulfur dioxide</th>\n",
       "      <th>total sulfur dioxide</th>\n",
       "      <th>density</th>\n",
       "      <th>pH</th>\n",
       "      <th>sulphates</th>\n",
       "      <th>alcohol</th>\n",
       "      <th>classify</th>\n",
       "    </tr>\n",
       "  </thead>\n",
       "  <tbody>\n",
       "    <tr>\n",
       "      <th>count</th>\n",
       "      <td>2764.000000</td>\n",
       "      <td>2764.000000</td>\n",
       "      <td>2764.000000</td>\n",
       "      <td>2764.000000</td>\n",
       "      <td>2764.000000</td>\n",
       "      <td>2764.000000</td>\n",
       "      <td>2764.000000</td>\n",
       "      <td>2764.000000</td>\n",
       "      <td>2764.000000</td>\n",
       "      <td>2764.000000</td>\n",
       "      <td>2764.000000</td>\n",
       "      <td>2764.00000</td>\n",
       "    </tr>\n",
       "    <tr>\n",
       "      <th>mean</th>\n",
       "      <td>8.525335</td>\n",
       "      <td>0.473912</td>\n",
       "      <td>0.314471</td>\n",
       "      <td>2.554222</td>\n",
       "      <td>0.081669</td>\n",
       "      <td>15.011115</td>\n",
       "      <td>40.996406</td>\n",
       "      <td>0.996398</td>\n",
       "      <td>3.302806</td>\n",
       "      <td>0.694806</td>\n",
       "      <td>10.891110</td>\n",
       "      <td>0.50000</td>\n",
       "    </tr>\n",
       "    <tr>\n",
       "      <th>std</th>\n",
       "      <td>1.788818</td>\n",
       "      <td>0.169281</td>\n",
       "      <td>0.191454</td>\n",
       "      <td>1.271691</td>\n",
       "      <td>0.038056</td>\n",
       "      <td>10.223026</td>\n",
       "      <td>30.929195</td>\n",
       "      <td>0.001984</td>\n",
       "      <td>0.146888</td>\n",
       "      <td>0.152901</td>\n",
       "      <td>1.134528</td>\n",
       "      <td>0.50009</td>\n",
       "    </tr>\n",
       "    <tr>\n",
       "      <th>min</th>\n",
       "      <td>4.600000</td>\n",
       "      <td>0.120000</td>\n",
       "      <td>0.000000</td>\n",
       "      <td>0.900000</td>\n",
       "      <td>0.012000</td>\n",
       "      <td>1.000000</td>\n",
       "      <td>6.000000</td>\n",
       "      <td>0.990070</td>\n",
       "      <td>2.740000</td>\n",
       "      <td>0.330000</td>\n",
       "      <td>8.400000</td>\n",
       "      <td>0.00000</td>\n",
       "    </tr>\n",
       "    <tr>\n",
       "      <th>25%</th>\n",
       "      <td>7.200000</td>\n",
       "      <td>0.346770</td>\n",
       "      <td>0.150000</td>\n",
       "      <td>1.930435</td>\n",
       "      <td>0.066621</td>\n",
       "      <td>6.889969</td>\n",
       "      <td>19.000000</td>\n",
       "      <td>0.995124</td>\n",
       "      <td>3.203898</td>\n",
       "      <td>0.590000</td>\n",
       "      <td>9.900000</td>\n",
       "      <td>0.00000</td>\n",
       "    </tr>\n",
       "    <tr>\n",
       "      <th>50%</th>\n",
       "      <td>8.200000</td>\n",
       "      <td>0.440000</td>\n",
       "      <td>0.330000</td>\n",
       "      <td>2.200000</td>\n",
       "      <td>0.076000</td>\n",
       "      <td>12.201101</td>\n",
       "      <td>31.962717</td>\n",
       "      <td>0.996360</td>\n",
       "      <td>3.300000</td>\n",
       "      <td>0.680000</td>\n",
       "      <td>10.900000</td>\n",
       "      <td>0.50000</td>\n",
       "    </tr>\n",
       "    <tr>\n",
       "      <th>75%</th>\n",
       "      <td>9.600000</td>\n",
       "      <td>0.588811</td>\n",
       "      <td>0.460000</td>\n",
       "      <td>2.600000</td>\n",
       "      <td>0.087000</td>\n",
       "      <td>20.000000</td>\n",
       "      <td>52.000000</td>\n",
       "      <td>0.997600</td>\n",
       "      <td>3.390000</td>\n",
       "      <td>0.778443</td>\n",
       "      <td>11.789343</td>\n",
       "      <td>1.00000</td>\n",
       "    </tr>\n",
       "    <tr>\n",
       "      <th>max</th>\n",
       "      <td>15.900000</td>\n",
       "      <td>1.580000</td>\n",
       "      <td>1.000000</td>\n",
       "      <td>15.500000</td>\n",
       "      <td>0.611000</td>\n",
       "      <td>72.000000</td>\n",
       "      <td>289.000000</td>\n",
       "      <td>1.003690</td>\n",
       "      <td>4.010000</td>\n",
       "      <td>2.000000</td>\n",
       "      <td>14.900000</td>\n",
       "      <td>1.00000</td>\n",
       "    </tr>\n",
       "  </tbody>\n",
       "</table>\n",
       "</div>"
      ],
      "text/plain": [
       "       fixed acidity  volatile acidity  citric acid  residual sugar  \\\n",
       "count    2764.000000       2764.000000  2764.000000     2764.000000   \n",
       "mean        8.525335          0.473912     0.314471        2.554222   \n",
       "std         1.788818          0.169281     0.191454        1.271691   \n",
       "min         4.600000          0.120000     0.000000        0.900000   \n",
       "25%         7.200000          0.346770     0.150000        1.930435   \n",
       "50%         8.200000          0.440000     0.330000        2.200000   \n",
       "75%         9.600000          0.588811     0.460000        2.600000   \n",
       "max        15.900000          1.580000     1.000000       15.500000   \n",
       "\n",
       "         chlorides  free sulfur dioxide  total sulfur dioxide      density  \\\n",
       "count  2764.000000          2764.000000           2764.000000  2764.000000   \n",
       "mean      0.081669            15.011115             40.996406     0.996398   \n",
       "std       0.038056            10.223026             30.929195     0.001984   \n",
       "min       0.012000             1.000000              6.000000     0.990070   \n",
       "25%       0.066621             6.889969             19.000000     0.995124   \n",
       "50%       0.076000            12.201101             31.962717     0.996360   \n",
       "75%       0.087000            20.000000             52.000000     0.997600   \n",
       "max       0.611000            72.000000            289.000000     1.003690   \n",
       "\n",
       "                pH    sulphates      alcohol    classify  \n",
       "count  2764.000000  2764.000000  2764.000000  2764.00000  \n",
       "mean      3.302806     0.694806    10.891110     0.50000  \n",
       "std       0.146888     0.152901     1.134528     0.50009  \n",
       "min       2.740000     0.330000     8.400000     0.00000  \n",
       "25%       3.203898     0.590000     9.900000     0.00000  \n",
       "50%       3.300000     0.680000    10.900000     0.50000  \n",
       "75%       3.390000     0.778443    11.789343     1.00000  \n",
       "max       4.010000     2.000000    14.900000     1.00000  "
      ]
     },
     "execution_count": 20,
     "metadata": {},
     "output_type": "execute_result"
    }
   ],
   "source": [
    "dff.describe()"
   ]
  },
  {
   "cell_type": "markdown",
   "id": "6b63a674",
   "metadata": {},
   "source": [
    "### using df.corr() i was unable to find relevant columns lets try finding using bar graph"
   ]
  },
  {
   "cell_type": "code",
   "execution_count": 21,
   "id": "297114e1",
   "metadata": {},
   "outputs": [
    {
     "data": {
      "image/png": "[encoded data removed]",
      "text/plain": [
       "<Figure size 432x288 with 1 Axes>"
      ]
     },
     "metadata": {
      "needs_background": "light"
     },
     "output_type": "display_data"
    }
   ],
   "source": [
    "sn.barplot(x=\"classify\",y=\"alcohol\",data=dff)\n",
    "plt.show()"
   ]
  },
  {
   "cell_type": "code",
   "execution_count": 22,
   "id": "14bb7c03",
   "metadata": {},
   "outputs": [
    {
     "data": {
      "image/png": "[encoded data removed]",
      "text/plain": [
       "<Figure size 432x288 with 1 Axes>"
      ]
     },
     "metadata": {
      "needs_background": "light"
     },
     "output_type": "display_data"
    }
   ],
   "source": [
    "sn.barplot(x=\"classify\",y=\"sulphates\",data=dff)\n",
    "plt.show()"
   ]
  },
  {
   "cell_type": "code",
   "execution_count": 23,
   "id": "9200a934",
   "metadata": {},
   "outputs": [
    {
     "data": {
      "image/png": "[encoded data removed]",
      "text/plain": [
       "<Figure size 432x288 with 1 Axes>"
      ]
     },
     "metadata": {
      "needs_background": "light"
     },
     "output_type": "display_data"
    }
   ],
   "source": [
    "sn.barplot(x=\"classify\",y=\"pH\",data=dff)\n",
    "plt.show()"
   ]
  },
  {
   "cell_type": "code",
   "execution_count": 24,
   "id": "6df46d3b",
   "metadata": {},
   "outputs": [
    {
     "data": {
      "image/png": "[encoded data removed]",
      "text/plain": [
       "<Figure size 432x288 with 1 Axes>"
      ]
     },
     "metadata": {
      "needs_background": "light"
     },
     "output_type": "display_data"
    }
   ],
   "source": [
    "sn.barplot(x=\"classify\",y=\"density\",data=dff)\n",
    "plt.show()"
   ]
  },
  {
   "cell_type": "code",
   "execution_count": 25,
   "id": "bf63ee65",
   "metadata": {},
   "outputs": [
    {
     "data": {
      "image/png": "[encoded data removed]",
      "text/plain": [
       "<Figure size 432x288 with 1 Axes>"
      ]
     },
     "metadata": {
      "needs_background": "light"
     },
     "output_type": "display_data"
    }
   ],
   "source": [
    "sn.barplot(x=\"classify\",y=\"total sulfur dioxide\",data=dff)\n",
    "plt.show()"
   ]
  },
  {
   "cell_type": "code",
   "execution_count": 26,
   "id": "3d6acf91",
   "metadata": {},
   "outputs": [
    {
     "data": {
      "image/png": "[encoded data removed]",
      "text/plain": [
       "<Figure size 432x288 with 1 Axes>"
      ]
     },
     "metadata": {
      "needs_background": "light"
     },
     "output_type": "display_data"
    }
   ],
   "source": [
    "sn.barplot(x=\"classify\",y=\"free sulfur dioxide\",data=dff)\n",
    "plt.show()"
   ]
  },
  {
   "cell_type": "code",
   "execution_count": 27,
   "id": "376e7dae",
   "metadata": {},
   "outputs": [
    {
     "data": {
      "image/png": "[encoded data removed]",
      "text/plain": [
       "<Figure size 432x288 with 1 Axes>"
      ]
     },
     "metadata": {
      "needs_background": "light"
     },
     "output_type": "display_data"
    }
   ],
   "source": [
    "sn.barplot(x=\"classify\",y=\"chlorides\",data=dff)\n",
    "plt.show()"
   ]
  },
  {
   "cell_type": "code",
   "execution_count": 28,
   "id": "989bbfe1",
   "metadata": {},
   "outputs": [
    {
     "data": {
      "image/png": "[encoded data removed]",
      "text/plain": [
       "<Figure size 432x288 with 1 Axes>"
      ]
     },
     "metadata": {
      "needs_background": "light"
     },
     "output_type": "display_data"
    }
   ],
   "source": [
    "sn.barplot(x=\"classify\",y=\"residual sugar\",data=dff)\n",
    "plt.show()"
   ]
  },
  {
   "cell_type": "code",
   "execution_count": 29,
   "id": "4ddce982",
   "metadata": {},
   "outputs": [
    {
     "data": {
      "image/png": "[encoded data removed]",
      "text/plain": [
       "<Figure size 432x288 with 1 Axes>"
      ]
     },
     "metadata": {
      "needs_background": "light"
     },
     "output_type": "display_data"
    }
   ],
   "source": [
    "sn.barplot(x=\"classify\",y=\"citric acid\",data=dff)\n",
    "plt.show()"
   ]
  },
  {
   "cell_type": "code",
   "execution_count": 30,
   "id": "d6bba342",
   "metadata": {},
   "outputs": [
    {
     "data": {
      "image/png": "[encoded data removed]",
      "text/plain": [
       "<Figure size 432x288 with 1 Axes>"
      ]
     },
     "metadata": {
      "needs_background": "light"
     },
     "output_type": "display_data"
    }
   ],
   "source": [
    "sn.barplot(x=\"classify\",y=\"volatile acidity\",data=dff)\n",
    "plt.show()"
   ]
  },
  {
   "cell_type": "code",
   "execution_count": 31,
   "id": "fc87c461",
   "metadata": {},
   "outputs": [
    {
     "data": {
      "image/png": "[encoded data removed]",
      "text/plain": [
       "<Figure size 432x288 with 1 Axes>"
      ]
     },
     "metadata": {
      "needs_background": "light"
     },
     "output_type": "display_data"
    }
   ],
   "source": [
    "sn.barplot(x=\"classify\",y=\"fixed acidity\",data=dff)\n",
    "plt.show()"
   ]
  },
  {
   "cell_type": "markdown",
   "id": "d62dc0df",
   "metadata": {},
   "source": [
    "### PH and density columns values data are not able to distinguish between classes hence to be dropped"
   ]
  },
  {
   "cell_type": "code",
   "execution_count": 32,
   "id": "eb133610",
   "metadata": {},
   "outputs": [
    {
     "data": {
      "text/plain": [
       "<AxesSubplot:>"
      ]
     },
     "execution_count": 32,
     "metadata": {},
     "output_type": "execute_result"
    },
    {
     "data": {
      "image/png": "[encoded data removed]",
      "text/plain": [
       "<Figure size 720x720 with 2 Axes>"
      ]
     },
     "metadata": {
      "needs_background": "light"
     },
     "output_type": "display_data"
    }
   ],
   "source": [
    "fig, ax = plt.subplots(figsize=(10,10))\n",
    "sn.heatmap(dff.drop(['pH','density'],axis=1).corr(),annot=True,ax=ax)"
   ]
  },
  {
   "cell_type": "code",
   "execution_count": 33,
   "id": "1e8f3a3b",
   "metadata": {},
   "outputs": [
    {
     "data": {
      "text/html": [
       "<div>\n",
       "<style scoped>\n",
       "    .dataframe tbody tr th:only-of-type {\n",
       "        vertical-align: middle;\n",
       "    }\n",
       "\n",
       "    .dataframe tbody tr th {\n",
       "        vertical-align: top;\n",
       "    }\n",
       "\n",
       "    .dataframe thead th {\n",
       "        text-align: right;\n",
       "    }\n",
       "</style>\n",
       "<table border=\"1\" class=\"dataframe\">\n",
       "  <thead>\n",
       "    <tr style=\"text-align: right;\">\n",
       "      <th></th>\n",
       "      <th>fixed acidity</th>\n",
       "      <th>volatile acidity</th>\n",
       "      <th>citric acid</th>\n",
       "      <th>residual sugar</th>\n",
       "      <th>chlorides</th>\n",
       "      <th>free sulfur dioxide</th>\n",
       "      <th>total sulfur dioxide</th>\n",
       "      <th>sulphates</th>\n",
       "      <th>alcohol</th>\n",
       "      <th>classify</th>\n",
       "    </tr>\n",
       "  </thead>\n",
       "  <tbody>\n",
       "    <tr>\n",
       "      <th>0</th>\n",
       "      <td>7.400000</td>\n",
       "      <td>0.700000</td>\n",
       "      <td>0.000000</td>\n",
       "      <td>1.900000</td>\n",
       "      <td>0.076000</td>\n",
       "      <td>11.000000</td>\n",
       "      <td>34.000000</td>\n",
       "      <td>0.560000</td>\n",
       "      <td>9.400000</td>\n",
       "      <td>0</td>\n",
       "    </tr>\n",
       "    <tr>\n",
       "      <th>1</th>\n",
       "      <td>7.800000</td>\n",
       "      <td>0.880000</td>\n",
       "      <td>0.000000</td>\n",
       "      <td>2.600000</td>\n",
       "      <td>0.098000</td>\n",
       "      <td>25.000000</td>\n",
       "      <td>67.000000</td>\n",
       "      <td>0.680000</td>\n",
       "      <td>9.800000</td>\n",
       "      <td>0</td>\n",
       "    </tr>\n",
       "    <tr>\n",
       "      <th>2</th>\n",
       "      <td>7.800000</td>\n",
       "      <td>0.760000</td>\n",
       "      <td>0.040000</td>\n",
       "      <td>2.300000</td>\n",
       "      <td>0.092000</td>\n",
       "      <td>15.000000</td>\n",
       "      <td>54.000000</td>\n",
       "      <td>0.650000</td>\n",
       "      <td>9.800000</td>\n",
       "      <td>0</td>\n",
       "    </tr>\n",
       "    <tr>\n",
       "      <th>3</th>\n",
       "      <td>11.200000</td>\n",
       "      <td>0.280000</td>\n",
       "      <td>0.560000</td>\n",
       "      <td>1.900000</td>\n",
       "      <td>0.075000</td>\n",
       "      <td>17.000000</td>\n",
       "      <td>60.000000</td>\n",
       "      <td>0.580000</td>\n",
       "      <td>9.800000</td>\n",
       "      <td>0</td>\n",
       "    </tr>\n",
       "    <tr>\n",
       "      <th>4</th>\n",
       "      <td>7.400000</td>\n",
       "      <td>0.700000</td>\n",
       "      <td>0.000000</td>\n",
       "      <td>1.900000</td>\n",
       "      <td>0.076000</td>\n",
       "      <td>11.000000</td>\n",
       "      <td>34.000000</td>\n",
       "      <td>0.560000</td>\n",
       "      <td>9.400000</td>\n",
       "      <td>0</td>\n",
       "    </tr>\n",
       "    <tr>\n",
       "      <th>...</th>\n",
       "      <td>...</td>\n",
       "      <td>...</td>\n",
       "      <td>...</td>\n",
       "      <td>...</td>\n",
       "      <td>...</td>\n",
       "      <td>...</td>\n",
       "      <td>...</td>\n",
       "      <td>...</td>\n",
       "      <td>...</td>\n",
       "      <td>...</td>\n",
       "    </tr>\n",
       "    <tr>\n",
       "      <th>2759</th>\n",
       "      <td>9.498668</td>\n",
       "      <td>0.308267</td>\n",
       "      <td>0.459600</td>\n",
       "      <td>3.395339</td>\n",
       "      <td>0.071920</td>\n",
       "      <td>42.853325</td>\n",
       "      <td>69.760011</td>\n",
       "      <td>0.856933</td>\n",
       "      <td>10.752002</td>\n",
       "      <td>1</td>\n",
       "    </tr>\n",
       "    <tr>\n",
       "      <th>2760</th>\n",
       "      <td>8.704400</td>\n",
       "      <td>0.516206</td>\n",
       "      <td>0.220377</td>\n",
       "      <td>2.001257</td>\n",
       "      <td>0.071709</td>\n",
       "      <td>3.670857</td>\n",
       "      <td>16.335429</td>\n",
       "      <td>0.829434</td>\n",
       "      <td>10.533543</td>\n",
       "      <td>1</td>\n",
       "    </tr>\n",
       "    <tr>\n",
       "      <th>2761</th>\n",
       "      <td>8.400865</td>\n",
       "      <td>0.250187</td>\n",
       "      <td>0.390029</td>\n",
       "      <td>2.000577</td>\n",
       "      <td>0.041089</td>\n",
       "      <td>4.002883</td>\n",
       "      <td>10.000000</td>\n",
       "      <td>0.709813</td>\n",
       "      <td>12.499135</td>\n",
       "      <td>1</td>\n",
       "    </tr>\n",
       "    <tr>\n",
       "      <th>2762</th>\n",
       "      <td>7.384886</td>\n",
       "      <td>0.347583</td>\n",
       "      <td>0.384285</td>\n",
       "      <td>1.732417</td>\n",
       "      <td>0.079159</td>\n",
       "      <td>29.593387</td>\n",
       "      <td>104.013740</td>\n",
       "      <td>0.706071</td>\n",
       "      <td>11.074453</td>\n",
       "      <td>1</td>\n",
       "    </tr>\n",
       "    <tr>\n",
       "      <th>2763</th>\n",
       "      <td>8.454470</td>\n",
       "      <td>0.475312</td>\n",
       "      <td>0.413929</td>\n",
       "      <td>2.176559</td>\n",
       "      <td>0.073690</td>\n",
       "      <td>7.537942</td>\n",
       "      <td>16.537942</td>\n",
       "      <td>0.706138</td>\n",
       "      <td>12.822765</td>\n",
       "      <td>1</td>\n",
       "    </tr>\n",
       "  </tbody>\n",
       "</table>\n",
       "<p>2764 rows × 10 columns</p>\n",
       "</div>"
      ],
      "text/plain": [
       "      fixed acidity  volatile acidity  citric acid  residual sugar  chlorides  \\\n",
       "0          7.400000          0.700000     0.000000        1.900000   0.076000   \n",
       "1          7.800000          0.880000     0.000000        2.600000   0.098000   \n",
       "2          7.800000          0.760000     0.040000        2.300000   0.092000   \n",
       "3         11.200000          0.280000     0.560000        1.900000   0.075000   \n",
       "4          7.400000          0.700000     0.000000        1.900000   0.076000   \n",
       "...             ...               ...          ...             ...        ...   \n",
       "2759       9.498668          0.308267     0.459600        3.395339   0.071920   \n",
       "2760       8.704400          0.516206     0.220377        2.001257   0.071709   \n",
       "2761       8.400865          0.250187     0.390029        2.000577   0.041089   \n",
       "2762       7.384886          0.347583     0.384285        1.732417   0.079159   \n",
       "2763       8.454470          0.475312     0.413929        2.176559   0.073690   \n",
       "\n",
       "      free sulfur dioxide  total sulfur dioxide  sulphates    alcohol  \\\n",
       "0               11.000000             34.000000   0.560000   9.400000   \n",
       "1               25.000000             67.000000   0.680000   9.800000   \n",
       "2               15.000000             54.000000   0.650000   9.800000   \n",
       "3               17.000000             60.000000   0.580000   9.800000   \n",
       "4               11.000000             34.000000   0.560000   9.400000   \n",
       "...                   ...                   ...        ...        ...   \n",
       "2759            42.853325             69.760011   0.856933  10.752002   \n",
       "2760             3.670857             16.335429   0.829434  10.533543   \n",
       "2761             4.002883             10.000000   0.709813  12.499135   \n",
       "2762            29.593387            104.013740   0.706071  11.074453   \n",
       "2763             7.537942             16.537942   0.706138  12.822765   \n",
       "\n",
       "      classify  \n",
       "0            0  \n",
       "1            0  \n",
       "2            0  \n",
       "3            0  \n",
       "4            0  \n",
       "...        ...  \n",
       "2759         1  \n",
       "2760         1  \n",
       "2761         1  \n",
       "2762         1  \n",
       "2763         1  \n",
       "\n",
       "[2764 rows x 10 columns]"
      ]
     },
     "execution_count": 33,
     "metadata": {},
     "output_type": "execute_result"
    }
   ],
   "source": [
    "dff=dff.drop(['pH','density'],axis=1)\n",
    "dff"
   ]
  },
  {
   "cell_type": "code",
   "execution_count": 34,
   "id": "261e2749",
   "metadata": {},
   "outputs": [
    {
     "data": {
      "text/html": [
       "<div>\n",
       "<style scoped>\n",
       "    .dataframe tbody tr th:only-of-type {\n",
       "        vertical-align: middle;\n",
       "    }\n",
       "\n",
       "    .dataframe tbody tr th {\n",
       "        vertical-align: top;\n",
       "    }\n",
       "\n",
       "    .dataframe thead th {\n",
       "        text-align: right;\n",
       "    }\n",
       "</style>\n",
       "<table border=\"1\" class=\"dataframe\">\n",
       "  <thead>\n",
       "    <tr style=\"text-align: right;\">\n",
       "      <th></th>\n",
       "      <th>fixed acidity</th>\n",
       "      <th>volatile acidity</th>\n",
       "      <th>citric acid</th>\n",
       "      <th>residual sugar</th>\n",
       "      <th>chlorides</th>\n",
       "      <th>free sulfur dioxide</th>\n",
       "      <th>total sulfur dioxide</th>\n",
       "      <th>sulphates</th>\n",
       "      <th>alcohol</th>\n",
       "      <th>classify</th>\n",
       "    </tr>\n",
       "  </thead>\n",
       "  <tbody>\n",
       "    <tr>\n",
       "      <th>count</th>\n",
       "      <td>2764.000000</td>\n",
       "      <td>2764.000000</td>\n",
       "      <td>2764.000000</td>\n",
       "      <td>2764.000000</td>\n",
       "      <td>2764.000000</td>\n",
       "      <td>2764.000000</td>\n",
       "      <td>2764.000000</td>\n",
       "      <td>2764.000000</td>\n",
       "      <td>2764.000000</td>\n",
       "      <td>2764.00000</td>\n",
       "    </tr>\n",
       "    <tr>\n",
       "      <th>mean</th>\n",
       "      <td>8.525335</td>\n",
       "      <td>0.473912</td>\n",
       "      <td>0.314471</td>\n",
       "      <td>2.554222</td>\n",
       "      <td>0.081669</td>\n",
       "      <td>15.011115</td>\n",
       "      <td>40.996406</td>\n",
       "      <td>0.694806</td>\n",
       "      <td>10.891110</td>\n",
       "      <td>0.50000</td>\n",
       "    </tr>\n",
       "    <tr>\n",
       "      <th>std</th>\n",
       "      <td>1.788818</td>\n",
       "      <td>0.169281</td>\n",
       "      <td>0.191454</td>\n",
       "      <td>1.271691</td>\n",
       "      <td>0.038056</td>\n",
       "      <td>10.223026</td>\n",
       "      <td>30.929195</td>\n",
       "      <td>0.152901</td>\n",
       "      <td>1.134528</td>\n",
       "      <td>0.50009</td>\n",
       "    </tr>\n",
       "    <tr>\n",
       "      <th>min</th>\n",
       "      <td>4.600000</td>\n",
       "      <td>0.120000</td>\n",
       "      <td>0.000000</td>\n",
       "      <td>0.900000</td>\n",
       "      <td>0.012000</td>\n",
       "      <td>1.000000</td>\n",
       "      <td>6.000000</td>\n",
       "      <td>0.330000</td>\n",
       "      <td>8.400000</td>\n",
       "      <td>0.00000</td>\n",
       "    </tr>\n",
       "    <tr>\n",
       "      <th>25%</th>\n",
       "      <td>7.200000</td>\n",
       "      <td>0.346770</td>\n",
       "      <td>0.150000</td>\n",
       "      <td>1.930435</td>\n",
       "      <td>0.066621</td>\n",
       "      <td>6.889969</td>\n",
       "      <td>19.000000</td>\n",
       "      <td>0.590000</td>\n",
       "      <td>9.900000</td>\n",
       "      <td>0.00000</td>\n",
       "    </tr>\n",
       "    <tr>\n",
       "      <th>50%</th>\n",
       "      <td>8.200000</td>\n",
       "      <td>0.440000</td>\n",
       "      <td>0.330000</td>\n",
       "      <td>2.200000</td>\n",
       "      <td>0.076000</td>\n",
       "      <td>12.201101</td>\n",
       "      <td>31.962717</td>\n",
       "      <td>0.680000</td>\n",
       "      <td>10.900000</td>\n",
       "      <td>0.50000</td>\n",
       "    </tr>\n",
       "    <tr>\n",
       "      <th>75%</th>\n",
       "      <td>9.600000</td>\n",
       "      <td>0.588811</td>\n",
       "      <td>0.460000</td>\n",
       "      <td>2.600000</td>\n",
       "      <td>0.087000</td>\n",
       "      <td>20.000000</td>\n",
       "      <td>52.000000</td>\n",
       "      <td>0.778443</td>\n",
       "      <td>11.789343</td>\n",
       "      <td>1.00000</td>\n",
       "    </tr>\n",
       "    <tr>\n",
       "      <th>max</th>\n",
       "      <td>15.900000</td>\n",
       "      <td>1.580000</td>\n",
       "      <td>1.000000</td>\n",
       "      <td>15.500000</td>\n",
       "      <td>0.611000</td>\n",
       "      <td>72.000000</td>\n",
       "      <td>289.000000</td>\n",
       "      <td>2.000000</td>\n",
       "      <td>14.900000</td>\n",
       "      <td>1.00000</td>\n",
       "    </tr>\n",
       "  </tbody>\n",
       "</table>\n",
       "</div>"
      ],
      "text/plain": [
       "       fixed acidity  volatile acidity  citric acid  residual sugar  \\\n",
       "count    2764.000000       2764.000000  2764.000000     2764.000000   \n",
       "mean        8.525335          0.473912     0.314471        2.554222   \n",
       "std         1.788818          0.169281     0.191454        1.271691   \n",
       "min         4.600000          0.120000     0.000000        0.900000   \n",
       "25%         7.200000          0.346770     0.150000        1.930435   \n",
       "50%         8.200000          0.440000     0.330000        2.200000   \n",
       "75%         9.600000          0.588811     0.460000        2.600000   \n",
       "max        15.900000          1.580000     1.000000       15.500000   \n",
       "\n",
       "         chlorides  free sulfur dioxide  total sulfur dioxide    sulphates  \\\n",
       "count  2764.000000          2764.000000           2764.000000  2764.000000   \n",
       "mean      0.081669            15.011115             40.996406     0.694806   \n",
       "std       0.038056            10.223026             30.929195     0.152901   \n",
       "min       0.012000             1.000000              6.000000     0.330000   \n",
       "25%       0.066621             6.889969             19.000000     0.590000   \n",
       "50%       0.076000            12.201101             31.962717     0.680000   \n",
       "75%       0.087000            20.000000             52.000000     0.778443   \n",
       "max       0.611000            72.000000            289.000000     2.000000   \n",
       "\n",
       "           alcohol    classify  \n",
       "count  2764.000000  2764.00000  \n",
       "mean     10.891110     0.50000  \n",
       "std       1.134528     0.50009  \n",
       "min       8.400000     0.00000  \n",
       "25%       9.900000     0.00000  \n",
       "50%      10.900000     0.50000  \n",
       "75%      11.789343     1.00000  \n",
       "max      14.900000     1.00000  "
      ]
     },
     "execution_count": 34,
     "metadata": {},
     "output_type": "execute_result"
    }
   ],
   "source": [
    "dff.describe()"
   ]
  },
  {
   "cell_type": "markdown",
   "id": "f949c579",
   "metadata": {},
   "source": [
    "### check for outliers"
   ]
  },
  {
   "cell_type": "code",
   "execution_count": 35,
   "id": "798d1a64",
   "metadata": {},
   "outputs": [
    {
     "data": {
      "text/plain": [
       "<AxesSubplot:xlabel='fixed acidity'>"
      ]
     },
     "execution_count": 35,
     "metadata": {},
     "output_type": "execute_result"
    },
    {
     "data": {
      "image/png": "[encoded data removed]",
      "text/plain": [
       "<Figure size 432x288 with 1 Axes>"
      ]
     },
     "metadata": {
      "needs_background": "light"
     },
     "output_type": "display_data"
    }
   ],
   "source": [
    "sn.boxplot(dff['fixed acidity'])"
   ]
  },
  {
   "cell_type": "code",
   "execution_count": 36,
   "id": "02132ee8",
   "metadata": {},
   "outputs": [
    {
     "data": {
      "text/plain": [
       "<AxesSubplot:xlabel='volatile acidity'>"
      ]
     },
     "execution_count": 36,
     "metadata": {},
     "output_type": "execute_result"
    },
    {
     "data": {
      "image/png": "[encoded data removed]",
      "text/plain": [
       "<Figure size 432x288 with 1 Axes>"
      ]
     },
     "metadata": {
      "needs_background": "light"
     },
     "output_type": "display_data"
    }
   ],
   "source": [
    "sn.boxplot(dff['volatile acidity'])"
   ]
  },
  {
   "cell_type": "code",
   "execution_count": 37,
   "id": "24cb025b",
   "metadata": {},
   "outputs": [
    {
     "data": {
      "text/plain": [
       "<AxesSubplot:xlabel='citric acid'>"
      ]
     },
     "execution_count": 37,
     "metadata": {},
     "output_type": "execute_result"
    },
    {
     "data": {
      "image/png": "[encoded data removed]",
      "text/plain": [
       "<Figure size 432x288 with 1 Axes>"
      ]
     },
     "metadata": {
      "needs_background": "light"
     },
     "output_type": "display_data"
    }
   ],
   "source": [
    "sn.boxplot(dff['citric acid'])"
   ]
  },
  {
   "cell_type": "code",
   "execution_count": 38,
   "id": "51b5bc8f",
   "metadata": {},
   "outputs": [
    {
     "data": {
      "text/plain": [
       "<AxesSubplot:xlabel='residual sugar'>"
      ]
     },
     "execution_count": 38,
     "metadata": {},
     "output_type": "execute_result"
    },
    {
     "data": {
      "image/png": "[encoded data removed]",
      "text/plain": [
       "<Figure size 432x288 with 1 Axes>"
      ]
     },
     "metadata": {
      "needs_background": "light"
     },
     "output_type": "display_data"
    }
   ],
   "source": [
    "sn.boxplot(dff['residual sugar'])"
   ]
  },
  {
   "cell_type": "code",
   "execution_count": 39,
   "id": "6a7a9155",
   "metadata": {},
   "outputs": [
    {
     "data": {
      "text/plain": [
       "<AxesSubplot:xlabel='chlorides'>"
      ]
     },
     "execution_count": 39,
     "metadata": {},
     "output_type": "execute_result"
    },
    {
     "data": {
      "image/png": "[encoded data removed]",
      "text/plain": [
       "<Figure size 432x288 with 1 Axes>"
      ]
     },
     "metadata": {
      "needs_background": "light"
     },
     "output_type": "display_data"
    }
   ],
   "source": [
    "sn.boxplot(dff['chlorides'])"
   ]
  },
  {
   "cell_type": "code",
   "execution_count": 40,
   "id": "53e19c7b",
   "metadata": {},
   "outputs": [
    {
     "data": {
      "text/plain": [
       "<AxesSubplot:xlabel='free sulfur dioxide'>"
      ]
     },
     "execution_count": 40,
     "metadata": {},
     "output_type": "execute_result"
    },
    {
     "data": {
      "image/png": "[encoded data removed]",
      "text/plain": [
       "<Figure size 432x288 with 1 Axes>"
      ]
     },
     "metadata": {
      "needs_background": "light"
     },
     "output_type": "display_data"
    }
   ],
   "source": [
    "sn.boxplot(dff['free sulfur dioxide'])"
   ]
  },
  {
   "cell_type": "code",
   "execution_count": 41,
   "id": "eff71395",
   "metadata": {},
   "outputs": [
    {
     "data": {
      "text/plain": [
       "<AxesSubplot:xlabel='total sulfur dioxide'>"
      ]
     },
     "execution_count": 41,
     "metadata": {},
     "output_type": "execute_result"
    },
    {
     "data": {
      "image/png": "[encoded data removed]",
      "text/plain": [
       "<Figure size 432x288 with 1 Axes>"
      ]
     },
     "metadata": {
      "needs_background": "light"
     },
     "output_type": "display_data"
    }
   ],
   "source": [
    "sn.boxplot(dff['total sulfur dioxide'])"
   ]
  },
  {
   "cell_type": "code",
   "execution_count": 42,
   "id": "3551554a",
   "metadata": {},
   "outputs": [
    {
     "data": {
      "text/plain": [
       "<AxesSubplot:xlabel='sulphates'>"
      ]
     },
     "execution_count": 42,
     "metadata": {},
     "output_type": "execute_result"
    },
    {
     "data": {
      "image/png": "[encoded data removed]",
      "text/plain": [
       "<Figure size 432x288 with 1 Axes>"
      ]
     },
     "metadata": {
      "needs_background": "light"
     },
     "output_type": "display_data"
    }
   ],
   "source": [
    "sn.boxplot(dff['sulphates'])"
   ]
  },
  {
   "cell_type": "code",
   "execution_count": 43,
   "id": "4a91d255",
   "metadata": {},
   "outputs": [
    {
     "data": {
      "text/plain": [
       "<AxesSubplot:xlabel='alcohol'>"
      ]
     },
     "execution_count": 43,
     "metadata": {},
     "output_type": "execute_result"
    },
    {
     "data": {
      "image/png": "[encoded data removed]",
      "text/plain": [
       "<Figure size 432x288 with 1 Axes>"
      ]
     },
     "metadata": {
      "needs_background": "light"
     },
     "output_type": "display_data"
    }
   ],
   "source": [
    "sn.boxplot(dff['alcohol'])"
   ]
  },
  {
   "cell_type": "markdown",
   "id": "9d251dab",
   "metadata": {},
   "source": [
    "### remove outlier using zscaler"
   ]
  },
  {
   "cell_type": "code",
   "execution_count": 44,
   "id": "c4d91ab7",
   "metadata": {},
   "outputs": [
    {
     "name": "stdout",
     "output_type": "stream",
     "text": [
      "(2764, 10)\n",
      "(2554, 10)\n"
     ]
    }
   ],
   "source": [
    "z_scr=zscore(dff)\n",
    "print(dff.shape)\n",
    "dff_new=dff.loc[(abs(z_scr)<3).all(axis=1)]\n",
    "print(dff_new.shape)"
   ]
  },
  {
   "cell_type": "code",
   "execution_count": 45,
   "id": "0648791b",
   "metadata": {},
   "outputs": [
    {
     "data": {
      "text/plain": [
       "7.23589001447178"
      ]
     },
     "execution_count": 45,
     "metadata": {},
     "output_type": "execute_result"
    }
   ],
   "source": [
    "((2764-2564)/2764)*100"
   ]
  },
  {
   "cell_type": "markdown",
   "id": "2b12b372",
   "metadata": {},
   "source": [
    "### outliers  removed as there is less than 10% data loss. now cross check"
   ]
  },
  {
   "cell_type": "code",
   "execution_count": 46,
   "id": "5e31ac4a",
   "metadata": {},
   "outputs": [
    {
     "data": {
      "text/plain": [
       "<AxesSubplot:xlabel='fixed acidity'>"
      ]
     },
     "execution_count": 46,
     "metadata": {},
     "output_type": "execute_result"
    },
    {
     "data": {
      "image/png": "[encoded data removed]",
      "text/plain": [
       "<Figure size 432x288 with 1 Axes>"
      ]
     },
     "metadata": {
      "needs_background": "light"
     },
     "output_type": "display_data"
    }
   ],
   "source": [
    "sn.boxplot(dff_new['fixed acidity'])"
   ]
  },
  {
   "cell_type": "markdown",
   "id": "250e1be6",
   "metadata": {},
   "source": [
    "### nope still outlier exists use iqr to try to remove"
   ]
  },
  {
   "cell_type": "code",
   "execution_count": 47,
   "id": "996ecc46",
   "metadata": {},
   "outputs": [
    {
     "data": {
      "text/plain": [
       "(2115, 10)"
      ]
     },
     "execution_count": 47,
     "metadata": {},
     "output_type": "execute_result"
    }
   ],
   "source": [
    "Q1 = dff.quantile(q=.25)\n",
    "Q3 = dff.quantile(q=.75)\n",
    "IQR = dff.apply(stats.iqr)\n",
    "\n",
    "#only keep rows in dataframe that have values within 1.5*IQR of Q1 and Q3\n",
    "data_clean = dff[~((dff < (Q1-1.5*IQR)) | (dff > (Q3+1.5*IQR))).any(axis=1)]\n",
    "\n",
    "#find how many rows are left in the dataframe \n",
    "data_clean.shape"
   ]
  },
  {
   "cell_type": "code",
   "execution_count": 48,
   "id": "335d6b5b",
   "metadata": {},
   "outputs": [
    {
     "data": {
      "text/plain": [
       "22.9739507959479"
      ]
     },
     "execution_count": 48,
     "metadata": {},
     "output_type": "execute_result"
    }
   ],
   "source": [
    "((2764-2129)/2764)*100"
   ]
  },
  {
   "cell_type": "markdown",
   "id": "93d3b048",
   "metadata": {},
   "source": [
    "### cant use iqr, as data loss more than 10%, use zscore output data as it was able to remove some outlier"
   ]
  },
  {
   "cell_type": "code",
   "execution_count": 49,
   "id": "61dbd814",
   "metadata": {},
   "outputs": [
    {
     "name": "stdout",
     "output_type": "stream",
     "text": [
      "(2554, 10)\n",
      "(2353, 10)\n"
     ]
    }
   ],
   "source": [
    "z_scr=zscore(dff_new)\n",
    "print(dff_new.shape)\n",
    "dff_newy=dff_new.loc[(abs(z_scr)<3).all(axis=1)]\n",
    "print(dff_newy.shape)"
   ]
  },
  {
   "cell_type": "code",
   "execution_count": 50,
   "id": "bfa1726d",
   "metadata": {},
   "outputs": [
    {
     "data": {
      "text/plain": [
       "14.544138929088277"
      ]
     },
     "execution_count": 50,
     "metadata": {},
     "output_type": "execute_result"
    }
   ],
   "source": [
    "((2764-2362)/2764)*100"
   ]
  },
  {
   "cell_type": "markdown",
   "id": "96696494",
   "metadata": {},
   "source": [
    "### further applying of zscore creates a data loss of more 10% hence use dff_new"
   ]
  },
  {
   "cell_type": "code",
   "execution_count": 51,
   "id": "13e33439",
   "metadata": {},
   "outputs": [
    {
     "data": {
      "text/html": [
       "<div>\n",
       "<style scoped>\n",
       "    .dataframe tbody tr th:only-of-type {\n",
       "        vertical-align: middle;\n",
       "    }\n",
       "\n",
       "    .dataframe tbody tr th {\n",
       "        vertical-align: top;\n",
       "    }\n",
       "\n",
       "    .dataframe thead th {\n",
       "        text-align: right;\n",
       "    }\n",
       "</style>\n",
       "<table border=\"1\" class=\"dataframe\">\n",
       "  <thead>\n",
       "    <tr style=\"text-align: right;\">\n",
       "      <th></th>\n",
       "      <th>fixed acidity</th>\n",
       "      <th>volatile acidity</th>\n",
       "      <th>citric acid</th>\n",
       "      <th>residual sugar</th>\n",
       "      <th>chlorides</th>\n",
       "      <th>free sulfur dioxide</th>\n",
       "      <th>total sulfur dioxide</th>\n",
       "      <th>sulphates</th>\n",
       "      <th>alcohol</th>\n",
       "      <th>classify</th>\n",
       "    </tr>\n",
       "  </thead>\n",
       "  <tbody>\n",
       "    <tr>\n",
       "      <th>0</th>\n",
       "      <td>7.400000</td>\n",
       "      <td>0.700000</td>\n",
       "      <td>0.000000</td>\n",
       "      <td>1.900000</td>\n",
       "      <td>0.076000</td>\n",
       "      <td>11.000000</td>\n",
       "      <td>34.000000</td>\n",
       "      <td>0.560000</td>\n",
       "      <td>9.400000</td>\n",
       "      <td>0</td>\n",
       "    </tr>\n",
       "    <tr>\n",
       "      <th>1</th>\n",
       "      <td>7.800000</td>\n",
       "      <td>0.880000</td>\n",
       "      <td>0.000000</td>\n",
       "      <td>2.600000</td>\n",
       "      <td>0.098000</td>\n",
       "      <td>25.000000</td>\n",
       "      <td>67.000000</td>\n",
       "      <td>0.680000</td>\n",
       "      <td>9.800000</td>\n",
       "      <td>0</td>\n",
       "    </tr>\n",
       "    <tr>\n",
       "      <th>2</th>\n",
       "      <td>7.800000</td>\n",
       "      <td>0.760000</td>\n",
       "      <td>0.040000</td>\n",
       "      <td>2.300000</td>\n",
       "      <td>0.092000</td>\n",
       "      <td>15.000000</td>\n",
       "      <td>54.000000</td>\n",
       "      <td>0.650000</td>\n",
       "      <td>9.800000</td>\n",
       "      <td>0</td>\n",
       "    </tr>\n",
       "    <tr>\n",
       "      <th>3</th>\n",
       "      <td>11.200000</td>\n",
       "      <td>0.280000</td>\n",
       "      <td>0.560000</td>\n",
       "      <td>1.900000</td>\n",
       "      <td>0.075000</td>\n",
       "      <td>17.000000</td>\n",
       "      <td>60.000000</td>\n",
       "      <td>0.580000</td>\n",
       "      <td>9.800000</td>\n",
       "      <td>0</td>\n",
       "    </tr>\n",
       "    <tr>\n",
       "      <th>4</th>\n",
       "      <td>7.400000</td>\n",
       "      <td>0.700000</td>\n",
       "      <td>0.000000</td>\n",
       "      <td>1.900000</td>\n",
       "      <td>0.076000</td>\n",
       "      <td>11.000000</td>\n",
       "      <td>34.000000</td>\n",
       "      <td>0.560000</td>\n",
       "      <td>9.400000</td>\n",
       "      <td>0</td>\n",
       "    </tr>\n",
       "    <tr>\n",
       "      <th>...</th>\n",
       "      <td>...</td>\n",
       "      <td>...</td>\n",
       "      <td>...</td>\n",
       "      <td>...</td>\n",
       "      <td>...</td>\n",
       "      <td>...</td>\n",
       "      <td>...</td>\n",
       "      <td>...</td>\n",
       "      <td>...</td>\n",
       "      <td>...</td>\n",
       "    </tr>\n",
       "    <tr>\n",
       "      <th>2759</th>\n",
       "      <td>9.498668</td>\n",
       "      <td>0.308267</td>\n",
       "      <td>0.459600</td>\n",
       "      <td>3.395339</td>\n",
       "      <td>0.071920</td>\n",
       "      <td>42.853325</td>\n",
       "      <td>69.760011</td>\n",
       "      <td>0.856933</td>\n",
       "      <td>10.752002</td>\n",
       "      <td>1</td>\n",
       "    </tr>\n",
       "    <tr>\n",
       "      <th>2760</th>\n",
       "      <td>8.704400</td>\n",
       "      <td>0.516206</td>\n",
       "      <td>0.220377</td>\n",
       "      <td>2.001257</td>\n",
       "      <td>0.071709</td>\n",
       "      <td>3.670857</td>\n",
       "      <td>16.335429</td>\n",
       "      <td>0.829434</td>\n",
       "      <td>10.533543</td>\n",
       "      <td>1</td>\n",
       "    </tr>\n",
       "    <tr>\n",
       "      <th>2761</th>\n",
       "      <td>8.400865</td>\n",
       "      <td>0.250187</td>\n",
       "      <td>0.390029</td>\n",
       "      <td>2.000577</td>\n",
       "      <td>0.041089</td>\n",
       "      <td>4.002883</td>\n",
       "      <td>10.000000</td>\n",
       "      <td>0.709813</td>\n",
       "      <td>12.499135</td>\n",
       "      <td>1</td>\n",
       "    </tr>\n",
       "    <tr>\n",
       "      <th>2762</th>\n",
       "      <td>7.384886</td>\n",
       "      <td>0.347583</td>\n",
       "      <td>0.384285</td>\n",
       "      <td>1.732417</td>\n",
       "      <td>0.079159</td>\n",
       "      <td>29.593387</td>\n",
       "      <td>104.013740</td>\n",
       "      <td>0.706071</td>\n",
       "      <td>11.074453</td>\n",
       "      <td>1</td>\n",
       "    </tr>\n",
       "    <tr>\n",
       "      <th>2763</th>\n",
       "      <td>8.454470</td>\n",
       "      <td>0.475312</td>\n",
       "      <td>0.413929</td>\n",
       "      <td>2.176559</td>\n",
       "      <td>0.073690</td>\n",
       "      <td>7.537942</td>\n",
       "      <td>16.537942</td>\n",
       "      <td>0.706138</td>\n",
       "      <td>12.822765</td>\n",
       "      <td>1</td>\n",
       "    </tr>\n",
       "  </tbody>\n",
       "</table>\n",
       "<p>2554 rows × 10 columns</p>\n",
       "</div>"
      ],
      "text/plain": [
       "      fixed acidity  volatile acidity  citric acid  residual sugar  chlorides  \\\n",
       "0          7.400000          0.700000     0.000000        1.900000   0.076000   \n",
       "1          7.800000          0.880000     0.000000        2.600000   0.098000   \n",
       "2          7.800000          0.760000     0.040000        2.300000   0.092000   \n",
       "3         11.200000          0.280000     0.560000        1.900000   0.075000   \n",
       "4          7.400000          0.700000     0.000000        1.900000   0.076000   \n",
       "...             ...               ...          ...             ...        ...   \n",
       "2759       9.498668          0.308267     0.459600        3.395339   0.071920   \n",
       "2760       8.704400          0.516206     0.220377        2.001257   0.071709   \n",
       "2761       8.400865          0.250187     0.390029        2.000577   0.041089   \n",
       "2762       7.384886          0.347583     0.384285        1.732417   0.079159   \n",
       "2763       8.454470          0.475312     0.413929        2.176559   0.073690   \n",
       "\n",
       "      free sulfur dioxide  total sulfur dioxide  sulphates    alcohol  \\\n",
       "0               11.000000             34.000000   0.560000   9.400000   \n",
       "1               25.000000             67.000000   0.680000   9.800000   \n",
       "2               15.000000             54.000000   0.650000   9.800000   \n",
       "3               17.000000             60.000000   0.580000   9.800000   \n",
       "4               11.000000             34.000000   0.560000   9.400000   \n",
       "...                   ...                   ...        ...        ...   \n",
       "2759            42.853325             69.760011   0.856933  10.752002   \n",
       "2760             3.670857             16.335429   0.829434  10.533543   \n",
       "2761             4.002883             10.000000   0.709813  12.499135   \n",
       "2762            29.593387            104.013740   0.706071  11.074453   \n",
       "2763             7.537942             16.537942   0.706138  12.822765   \n",
       "\n",
       "      classify  \n",
       "0            0  \n",
       "1            0  \n",
       "2            0  \n",
       "3            0  \n",
       "4            0  \n",
       "...        ...  \n",
       "2759         1  \n",
       "2760         1  \n",
       "2761         1  \n",
       "2762         1  \n",
       "2763         1  \n",
       "\n",
       "[2554 rows x 10 columns]"
      ]
     },
     "execution_count": 51,
     "metadata": {},
     "output_type": "execute_result"
    }
   ],
   "source": [
    "dff_new"
   ]
  },
  {
   "cell_type": "markdown",
   "id": "9235cb21",
   "metadata": {},
   "source": [
    "### check if dataset still balanced or not"
   ]
  },
  {
   "cell_type": "code",
   "execution_count": 52,
   "id": "b8799350",
   "metadata": {},
   "outputs": [
    {
     "data": {
      "text/plain": [
       "1    1321\n",
       "0    1233\n",
       "Name: classify, dtype: int64"
      ]
     },
     "execution_count": 52,
     "metadata": {},
     "output_type": "execute_result"
    }
   ],
   "source": [
    "dff_new['classify'].value_counts()"
   ]
  },
  {
   "cell_type": "markdown",
   "id": "f042e958",
   "metadata": {},
   "source": [
    "### check all the distribution plot"
   ]
  },
  {
   "cell_type": "code",
   "execution_count": 53,
   "id": "16ff72df",
   "metadata": {},
   "outputs": [
    {
     "data": {
      "text/plain": [
       "<AxesSubplot:xlabel='fixed acidity', ylabel='Density'>"
      ]
     },
     "execution_count": 53,
     "metadata": {},
     "output_type": "execute_result"
    },
    {
     "data": {
      "image/png": "[encoded data removed]",
      "text/plain": [
       "<Figure size 432x288 with 1 Axes>"
      ]
     },
     "metadata": {
      "needs_background": "light"
     },
     "output_type": "display_data"
    }
   ],
   "source": [
    "good=dff_new[dff_new['classify']==1]\n",
    "bad=dff_new[dff_new['classify']==0]\n",
    "sn.distplot(good['fixed acidity'],label='1')\n",
    "sn.distplot(bad['fixed acidity'],label='0')"
   ]
  },
  {
   "cell_type": "code",
   "execution_count": 54,
   "id": "22d57cb5",
   "metadata": {},
   "outputs": [
    {
     "data": {
      "text/plain": [
       "<AxesSubplot:xlabel='volatile acidity', ylabel='Density'>"
      ]
     },
     "execution_count": 54,
     "metadata": {},
     "output_type": "execute_result"
    },
    {
     "data": {
      "image/png": "[encoded data removed]",
      "text/plain": [
       "<Figure size 432x288 with 1 Axes>"
      ]
     },
     "metadata": {
      "needs_background": "light"
     },
     "output_type": "display_data"
    }
   ],
   "source": [
    "good=dff_new[dff_new['classify']==1]\n",
    "bad=dff_new[dff_new['classify']==0]\n",
    "sn.distplot(good['volatile acidity'],label='1')\n",
    "sn.distplot(bad['volatile acidity'],label='0')"
   ]
  },
  {
   "cell_type": "code",
   "execution_count": 55,
   "id": "bf45b356",
   "metadata": {},
   "outputs": [
    {
     "data": {
      "text/plain": [
       "<AxesSubplot:xlabel='citric acid', ylabel='Density'>"
      ]
     },
     "execution_count": 55,
     "metadata": {},
     "output_type": "execute_result"
    },
    {
     "data": {
      "image/png": "[encoded data removed]",
      "text/plain": [
       "<Figure size 432x288 with 1 Axes>"
      ]
     },
     "metadata": {
      "needs_background": "light"
     },
     "output_type": "display_data"
    }
   ],
   "source": [
    "good=dff_new[dff_new['classify']==1]\n",
    "bad=dff_new[dff_new['classify']==0]\n",
    "sn.distplot(good['citric acid'],label='1')\n",
    "sn.distplot(bad['citric acid'],label='0')"
   ]
  },
  {
   "cell_type": "code",
   "execution_count": 56,
   "id": "d1be9236",
   "metadata": {},
   "outputs": [
    {
     "data": {
      "text/plain": [
       "<AxesSubplot:xlabel='residual sugar', ylabel='Density'>"
      ]
     },
     "execution_count": 56,
     "metadata": {},
     "output_type": "execute_result"
    },
    {
     "data": {
      "image/png": "[encoded data removed]",
      "text/plain": [
       "<Figure size 432x288 with 1 Axes>"
      ]
     },
     "metadata": {
      "needs_background": "light"
     },
     "output_type": "display_data"
    }
   ],
   "source": [
    "good=dff_new[dff_new['classify']==1]\n",
    "bad=dff_new[dff_new['classify']==0]\n",
    "sn.distplot(good['residual sugar'],label='1')\n",
    "sn.distplot(bad['residual sugar'],label='0')"
   ]
  },
  {
   "cell_type": "code",
   "execution_count": 57,
   "id": "4b867c32",
   "metadata": {},
   "outputs": [
    {
     "data": {
      "text/plain": [
       "<AxesSubplot:xlabel='chlorides', ylabel='Density'>"
      ]
     },
     "execution_count": 57,
     "metadata": {},
     "output_type": "execute_result"
    },
    {
     "data": {
      "image/png": "[encoded data removed]",
      "text/plain": [
       "<Figure size 432x288 with 1 Axes>"
      ]
     },
     "metadata": {
      "needs_background": "light"
     },
     "output_type": "display_data"
    }
   ],
   "source": [
    "good=dff_new[dff_new['classify']==1]\n",
    "bad=dff_new[dff_new['classify']==0]\n",
    "sn.distplot(good['chlorides'],label='1')\n",
    "sn.distplot(bad['chlorides'],label='0')"
   ]
  },
  {
   "cell_type": "code",
   "execution_count": 58,
   "id": "a6c7bf5e",
   "metadata": {},
   "outputs": [
    {
     "data": {
      "text/plain": [
       "<AxesSubplot:xlabel='free sulfur dioxide', ylabel='Density'>"
      ]
     },
     "execution_count": 58,
     "metadata": {},
     "output_type": "execute_result"
    },
    {
     "data": {
      "image/png": "[encoded data removed]",
      "text/plain": [
       "<Figure size 432x288 with 1 Axes>"
      ]
     },
     "metadata": {
      "needs_background": "light"
     },
     "output_type": "display_data"
    }
   ],
   "source": [
    "good=dff_new[dff_new['classify']==1]\n",
    "bad=dff_new[dff_new['classify']==0]\n",
    "sn.distplot(good['free sulfur dioxide'],label='1')\n",
    "sn.distplot(bad['free sulfur dioxide'],label='0')"
   ]
  },
  {
   "cell_type": "code",
   "execution_count": 59,
   "id": "622ab3b5",
   "metadata": {},
   "outputs": [
    {
     "data": {
      "text/plain": [
       "<AxesSubplot:xlabel='total sulfur dioxide', ylabel='Density'>"
      ]
     },
     "execution_count": 59,
     "metadata": {},
     "output_type": "execute_result"
    },
    {
     "data": {
      "image/png": "[encoded data removed]",
      "text/plain": [
       "<Figure size 432x288 with 1 Axes>"
      ]
     },
     "metadata": {
      "needs_background": "light"
     },
     "output_type": "display_data"
    }
   ],
   "source": [
    "good=dff_new[dff_new['classify']==1]\n",
    "bad=dff_new[dff_new['classify']==0]\n",
    "sn.distplot(good['total sulfur dioxide'],label='1')\n",
    "sn.distplot(bad['total sulfur dioxide'],label='0')"
   ]
  },
  {
   "cell_type": "code",
   "execution_count": 60,
   "id": "4950de10",
   "metadata": {},
   "outputs": [
    {
     "data": {
      "text/plain": [
       "<AxesSubplot:xlabel='sulphates', ylabel='Density'>"
      ]
     },
     "execution_count": 60,
     "metadata": {},
     "output_type": "execute_result"
    },
    {
     "data": {
      "image/png": "[encoded data removed]",
      "text/plain": [
       "<Figure size 432x288 with 1 Axes>"
      ]
     },
     "metadata": {
      "needs_background": "light"
     },
     "output_type": "display_data"
    }
   ],
   "source": [
    "good=dff_new[dff_new['classify']==1]\n",
    "bad=dff_new[dff_new['classify']==0]\n",
    "sn.distplot(good['sulphates'],label='1')\n",
    "sn.distplot(bad['sulphates'],label='0')"
   ]
  },
  {
   "cell_type": "code",
   "execution_count": 61,
   "id": "b6fec887",
   "metadata": {},
   "outputs": [
    {
     "data": {
      "text/plain": [
       "<AxesSubplot:xlabel='alcohol', ylabel='Density'>"
      ]
     },
     "execution_count": 61,
     "metadata": {},
     "output_type": "execute_result"
    },
    {
     "data": {
      "image/png": "[encoded data removed]",
      "text/plain": [
       "<Figure size 432x288 with 1 Axes>"
      ]
     },
     "metadata": {
      "needs_background": "light"
     },
     "output_type": "display_data"
    }
   ],
   "source": [
    "good=dff_new[dff_new['classify']==1]\n",
    "bad=dff_new[dff_new['classify']==0]\n",
    "sn.distplot(good['alcohol'],label='1')\n",
    "sn.distplot(bad['alcohol'],label='0')"
   ]
  },
  {
   "cell_type": "markdown",
   "id": "6fe59d82",
   "metadata": {},
   "source": [
    "### apply feature scaling"
   ]
  },
  {
   "cell_type": "code",
   "execution_count": 62,
   "id": "edaac657",
   "metadata": {},
   "outputs": [],
   "source": [
    "sc=StandardScaler()\n",
    "sc.fit(dff_new.drop(['classify'],axis=1))\n",
    "fx=sc.transform(dff_new.drop(['classify'],axis=1))\n",
    "x=pd.DataFrame(fx,columns=dff_new.drop(['classify'],axis=1).columns)"
   ]
  },
  {
   "cell_type": "code",
   "execution_count": 63,
   "id": "0ca81062",
   "metadata": {},
   "outputs": [
    {
     "data": {
      "text/html": [
       "<div>\n",
       "<style scoped>\n",
       "    .dataframe tbody tr th:only-of-type {\n",
       "        vertical-align: middle;\n",
       "    }\n",
       "\n",
       "    .dataframe tbody tr th {\n",
       "        vertical-align: top;\n",
       "    }\n",
       "\n",
       "    .dataframe thead th {\n",
       "        text-align: right;\n",
       "    }\n",
       "</style>\n",
       "<table border=\"1\" class=\"dataframe\">\n",
       "  <thead>\n",
       "    <tr style=\"text-align: right;\">\n",
       "      <th></th>\n",
       "      <th>fixed acidity</th>\n",
       "      <th>volatile acidity</th>\n",
       "      <th>citric acid</th>\n",
       "      <th>residual sugar</th>\n",
       "      <th>chlorides</th>\n",
       "      <th>free sulfur dioxide</th>\n",
       "      <th>total sulfur dioxide</th>\n",
       "      <th>sulphates</th>\n",
       "      <th>alcohol</th>\n",
       "    </tr>\n",
       "  </thead>\n",
       "  <tbody>\n",
       "    <tr>\n",
       "      <th>0</th>\n",
       "      <td>-0.630206</td>\n",
       "      <td>1.484026</td>\n",
       "      <td>-1.634254</td>\n",
       "      <td>-0.602504</td>\n",
       "      <td>-0.081237</td>\n",
       "      <td>-0.359322</td>\n",
       "      <td>-0.154550</td>\n",
       "      <td>-0.988081</td>\n",
       "      <td>-1.376374</td>\n",
       "    </tr>\n",
       "    <tr>\n",
       "      <th>1</th>\n",
       "      <td>-0.395796</td>\n",
       "      <td>2.634101</td>\n",
       "      <td>-1.634254</td>\n",
       "      <td>0.182806</td>\n",
       "      <td>1.093462</td>\n",
       "      <td>1.184101</td>\n",
       "      <td>1.133025</td>\n",
       "      <td>-0.053251</td>\n",
       "      <td>-1.019866</td>\n",
       "    </tr>\n",
       "    <tr>\n",
       "      <th>2</th>\n",
       "      <td>-0.395796</td>\n",
       "      <td>1.867384</td>\n",
       "      <td>-1.422848</td>\n",
       "      <td>-0.153755</td>\n",
       "      <td>0.773090</td>\n",
       "      <td>0.081656</td>\n",
       "      <td>0.625798</td>\n",
       "      <td>-0.286958</td>\n",
       "      <td>-1.019866</td>\n",
       "    </tr>\n",
       "    <tr>\n",
       "      <th>3</th>\n",
       "      <td>1.596684</td>\n",
       "      <td>-1.199480</td>\n",
       "      <td>1.325425</td>\n",
       "      <td>-0.602504</td>\n",
       "      <td>-0.134633</td>\n",
       "      <td>0.302145</td>\n",
       "      <td>0.859903</td>\n",
       "      <td>-0.832276</td>\n",
       "      <td>-1.019866</td>\n",
       "    </tr>\n",
       "    <tr>\n",
       "      <th>4</th>\n",
       "      <td>-0.630206</td>\n",
       "      <td>1.484026</td>\n",
       "      <td>-1.634254</td>\n",
       "      <td>-0.602504</td>\n",
       "      <td>-0.081237</td>\n",
       "      <td>-0.359322</td>\n",
       "      <td>-0.154550</td>\n",
       "      <td>-0.988081</td>\n",
       "      <td>-1.376374</td>\n",
       "    </tr>\n",
       "    <tr>\n",
       "      <th>...</th>\n",
       "      <td>...</td>\n",
       "      <td>...</td>\n",
       "      <td>...</td>\n",
       "      <td>...</td>\n",
       "      <td>...</td>\n",
       "      <td>...</td>\n",
       "      <td>...</td>\n",
       "      <td>...</td>\n",
       "      <td>...</td>\n",
       "    </tr>\n",
       "    <tr>\n",
       "      <th>2549</th>\n",
       "      <td>0.599663</td>\n",
       "      <td>-1.018875</td>\n",
       "      <td>0.794799</td>\n",
       "      <td>1.075075</td>\n",
       "      <td>-0.299091</td>\n",
       "      <td>3.152333</td>\n",
       "      <td>1.240713</td>\n",
       "      <td>1.325104</td>\n",
       "      <td>-0.171373</td>\n",
       "    </tr>\n",
       "    <tr>\n",
       "      <th>2550</th>\n",
       "      <td>0.134203</td>\n",
       "      <td>0.309709</td>\n",
       "      <td>-0.469530</td>\n",
       "      <td>-0.488906</td>\n",
       "      <td>-0.310380</td>\n",
       "      <td>-1.167320</td>\n",
       "      <td>-0.843776</td>\n",
       "      <td>1.110880</td>\n",
       "      <td>-0.366080</td>\n",
       "    </tr>\n",
       "    <tr>\n",
       "      <th>2551</th>\n",
       "      <td>-0.043675</td>\n",
       "      <td>-1.389962</td>\n",
       "      <td>0.427103</td>\n",
       "      <td>-0.489670</td>\n",
       "      <td>-1.945306</td>\n",
       "      <td>-1.130716</td>\n",
       "      <td>-1.090968</td>\n",
       "      <td>0.178997</td>\n",
       "      <td>1.385796</td>\n",
       "    </tr>\n",
       "    <tr>\n",
       "      <th>2552</th>\n",
       "      <td>-0.639063</td>\n",
       "      <td>-0.767674</td>\n",
       "      <td>0.396747</td>\n",
       "      <td>-0.790510</td>\n",
       "      <td>0.087454</td>\n",
       "      <td>1.690497</td>\n",
       "      <td>2.577205</td>\n",
       "      <td>0.149851</td>\n",
       "      <td>0.116017</td>\n",
       "    </tr>\n",
       "    <tr>\n",
       "      <th>2553</th>\n",
       "      <td>-0.012262</td>\n",
       "      <td>0.048426</td>\n",
       "      <td>0.553420</td>\n",
       "      <td>-0.292240</td>\n",
       "      <td>-0.204596</td>\n",
       "      <td>-0.740995</td>\n",
       "      <td>-0.835874</td>\n",
       "      <td>0.150373</td>\n",
       "      <td>1.674239</td>\n",
       "    </tr>\n",
       "  </tbody>\n",
       "</table>\n",
       "<p>2554 rows × 9 columns</p>\n",
       "</div>"
      ],
      "text/plain": [
       "      fixed acidity  volatile acidity  citric acid  residual sugar  chlorides  \\\n",
       "0         -0.630206          1.484026    -1.634254       -0.602504  -0.081237   \n",
       "1         -0.395796          2.634101    -1.634254        0.182806   1.093462   \n",
       "2         -0.395796          1.867384    -1.422848       -0.153755   0.773090   \n",
       "3          1.596684         -1.199480     1.325425       -0.602504  -0.134633   \n",
       "4         -0.630206          1.484026    -1.634254       -0.602504  -0.081237   \n",
       "...             ...               ...          ...             ...        ...   \n",
       "2549       0.599663         -1.018875     0.794799        1.075075  -0.299091   \n",
       "2550       0.134203          0.309709    -0.469530       -0.488906  -0.310380   \n",
       "2551      -0.043675         -1.389962     0.427103       -0.489670  -1.945306   \n",
       "2552      -0.639063         -0.767674     0.396747       -0.790510   0.087454   \n",
       "2553      -0.012262          0.048426     0.553420       -0.292240  -0.204596   \n",
       "\n",
       "      free sulfur dioxide  total sulfur dioxide  sulphates   alcohol  \n",
       "0               -0.359322             -0.154550  -0.988081 -1.376374  \n",
       "1                1.184101              1.133025  -0.053251 -1.019866  \n",
       "2                0.081656              0.625798  -0.286958 -1.019866  \n",
       "3                0.302145              0.859903  -0.832276 -1.019866  \n",
       "4               -0.359322             -0.154550  -0.988081 -1.376374  \n",
       "...                   ...                   ...        ...       ...  \n",
       "2549             3.152333              1.240713   1.325104 -0.171373  \n",
       "2550            -1.167320             -0.843776   1.110880 -0.366080  \n",
       "2551            -1.130716             -1.090968   0.178997  1.385796  \n",
       "2552             1.690497              2.577205   0.149851  0.116017  \n",
       "2553            -0.740995             -0.835874   0.150373  1.674239  \n",
       "\n",
       "[2554 rows x 9 columns]"
      ]
     },
     "execution_count": 63,
     "metadata": {},
     "output_type": "execute_result"
    }
   ],
   "source": [
    "x"
   ]
  },
  {
   "cell_type": "markdown",
   "id": "7bc0f8a6",
   "metadata": {},
   "source": [
    "### check for biasing in data"
   ]
  },
  {
   "cell_type": "code",
   "execution_count": 64,
   "id": "b575e159",
   "metadata": {},
   "outputs": [
    {
     "name": "stdout",
     "output_type": "stream",
     "text": [
      "fixed acidity           0.553034\n",
      "volatile acidity        0.638726\n",
      "citric acid            -0.018850\n",
      "residual sugar          2.214569\n",
      "chlorides               1.310440\n",
      "free sulfur dioxide     1.039652\n",
      "total sulfur dioxide    1.279065\n",
      "sulphates               0.356745\n",
      "alcohol                 0.231013\n",
      "dtype: float64\n"
     ]
    }
   ],
   "source": [
    "print(x.skew())"
   ]
  },
  {
   "cell_type": "code",
   "execution_count": 65,
   "id": "4b747d00",
   "metadata": {},
   "outputs": [
    {
     "name": "stdout",
     "output_type": "stream",
     "text": [
      "6\n"
     ]
    }
   ],
   "source": [
    "print(len(x.skew().loc[x.skew()>0.55]))# Number of features having skewness more than 0.55 "
   ]
  },
  {
   "cell_type": "markdown",
   "id": "beb170ed",
   "metadata": {},
   "source": [
    "### try to remove biasing"
   ]
  },
  {
   "cell_type": "code",
   "execution_count": 66,
   "id": "11b309b6",
   "metadata": {},
   "outputs": [],
   "source": [
    "#Lets treat above skewness\n",
    "for index in x.skew().index:\n",
    "    if x.skew().loc[index] >0.55:\n",
    "        x[index]=np.cbrt(x[index])"
   ]
  },
  {
   "cell_type": "code",
   "execution_count": 67,
   "id": "545e65aa",
   "metadata": {},
   "outputs": [
    {
     "name": "stdout",
     "output_type": "stream",
     "text": [
      "fixed acidity           0.282852\n",
      "volatile acidity        0.242218\n",
      "citric acid            -0.018850\n",
      "residual sugar          0.846377\n",
      "chlorides               0.237284\n",
      "free sulfur dioxide     0.421648\n",
      "total sulfur dioxide    0.499655\n",
      "sulphates               0.356745\n",
      "alcohol                 0.231013\n",
      "dtype: float64\n",
      "\n",
      "1\n"
     ]
    }
   ],
   "source": [
    "#lets again check the skewness\n",
    "print(x.skew())\n",
    "print()\n",
    "print(len(x.skew().loc[x.skew()>0.55]))# Number of features having skewness more than 0.55 "
   ]
  },
  {
   "cell_type": "markdown",
   "id": "ef021986",
   "metadata": {},
   "source": [
    "### check if columns can be further reduced"
   ]
  },
  {
   "cell_type": "code",
   "execution_count": 68,
   "id": "3f3be69d",
   "metadata": {},
   "outputs": [
    {
     "name": "stdout",
     "output_type": "stream",
     "text": [
      "2 0.5043079617714399\n",
      "3 0.6750923822053787\n",
      "4 0.770934404974855\n",
      "5 0.8556036717922487\n",
      "6 0.9069210606730341\n",
      "7 0.9530807009081215\n",
      "8 0.9786826759527001\n",
      "9 1.0\n"
     ]
    }
   ],
   "source": [
    "for i in range(2,10):\n",
    "    pca = PCA(n_components=i)\n",
    "    principalComponents = pca.fit_transform(x)\n",
    "    print(i,sum(pca.explained_variance_ratio_))"
   ]
  },
  {
   "cell_type": "markdown",
   "id": "d1739fd3",
   "metadata": {},
   "source": [
    "### my personal prefernce to use n component value having data retention more than 95%\n",
    "### i shall use 7"
   ]
  },
  {
   "cell_type": "code",
   "execution_count": 69,
   "id": "cbbc7182",
   "metadata": {},
   "outputs": [],
   "source": [
    "pca = PCA(n_components=7)\n",
    "principalComponents = pca.fit_transform(x)"
   ]
  },
  {
   "cell_type": "code",
   "execution_count": 70,
   "id": "ddf6f69e",
   "metadata": {},
   "outputs": [
    {
     "data": {
      "text/plain": [
       "array([[-2.36788743e+00, -1.93219110e-01, -1.45541576e+00, ...,\n",
       "         3.33495962e-01, -5.22930507e-01,  1.28486471e-01],\n",
       "       [-2.57939374e+00, -7.94567517e-01,  1.20640583e+00, ...,\n",
       "         1.06795031e+00,  1.19281461e-02,  3.12271778e-01],\n",
       "       [-2.44572401e+00, -6.39084171e-01,  5.31550535e-01, ...,\n",
       "         8.55026674e-01,  3.46109582e-01, -2.10754787e-01],\n",
       "       ...,\n",
       "       [ 1.42501257e+00,  1.67413807e+00, -1.11044257e+00, ...,\n",
       "        -6.48318370e-01,  1.03528504e-01,  1.97887679e-03],\n",
       "       [-3.69291862e-01,  4.02033675e-01,  1.94863535e+00, ...,\n",
       "        -5.02556049e-01,  1.19736172e+00,  7.04093883e-02],\n",
       "       [ 9.05795869e-01,  1.18146419e+00, -1.07774627e+00, ...,\n",
       "        -1.11985353e-01,  3.77566198e-02, -9.32612206e-01]])"
      ]
     },
     "execution_count": 70,
     "metadata": {},
     "output_type": "execute_result"
    }
   ],
   "source": [
    "principalComponents"
   ]
  },
  {
   "cell_type": "code",
   "execution_count": 71,
   "id": "64b47f43",
   "metadata": {},
   "outputs": [
    {
     "data": {
      "text/plain": [
       "array([0, 0, 0, ..., 1, 1, 1], dtype=int64)"
      ]
     },
     "execution_count": 71,
     "metadata": {},
     "output_type": "execute_result"
    }
   ],
   "source": [
    "y=dff_new['classify'].values\n",
    "y"
   ]
  },
  {
   "cell_type": "markdown",
   "id": "cc08e425",
   "metadata": {},
   "source": [
    "### code to find best random state for train test split"
   ]
  },
  {
   "cell_type": "code",
   "execution_count": 72,
   "id": "ce8a8bc3",
   "metadata": {},
   "outputs": [],
   "source": [
    "def besttrain(model,x,y):\n",
    "    random=0\n",
    "    score=0\n",
    "    for i in range(42,100):\n",
    "        x_train,x_test,y_train,y_test=train_test_split(x,y,random_state = i,test_size=0.20,stratify=y,shuffle=True)\n",
    "        model.fit(x_train,y_train)\n",
    "        tmp=roc_auc_score(y_test,model.predict(x_test))\n",
    "        #print(i,tmp)\n",
    "        if tmp>score:\n",
    "            score=tmp\n",
    "            random=i\n",
    "    print(\"maximum roc_auc_score is at random state :\",random,\" and it is :\",score)"
   ]
  },
  {
   "cell_type": "markdown",
   "id": "5eefe095",
   "metadata": {},
   "source": [
    "### code to find best classifier model among all"
   ]
  },
  {
   "cell_type": "code",
   "execution_count": 73,
   "id": "23e3d773",
   "metadata": {},
   "outputs": [],
   "source": [
    "models=[LogisticRegression(),DecisionTreeClassifier(),KNeighborsClassifier(),RandomForestClassifier(),SVC(),RidgeClassifier(),\n",
    "        BaggingClassifier(),GradientBoostingClassifier(),Lasso(),ElasticNet(),LassoLars(),BayesianRidge(),SGDClassifier()]"
   ]
  },
  {
   "cell_type": "code",
   "execution_count": 74,
   "id": "c0e64cf2",
   "metadata": {},
   "outputs": [
    {
     "name": "stdout",
     "output_type": "stream",
     "text": [
      "RandomForestClassifier()\n",
      "0.9603781341128144\n",
      "0.08446294681332159\n"
     ]
    }
   ],
   "source": [
    "best_model=0\n",
    "best_score=0\n",
    "score=0\n",
    "for i in models:\n",
    "    scores=cross_val_score(i,principalComponents,y,cv=5,scoring='roc_auc')\n",
    "    score=np.mean(scores)\n",
    "    if score>best_score:\n",
    "        best_score=score\n",
    "        best_model=i\n",
    "print(best_model)\n",
    "print(best_score)\n",
    "print(np.std(scores))"
   ]
  },
  {
   "cell_type": "markdown",
   "id": "14df808a",
   "metadata": {},
   "source": [
    "### finetuning model using hyper parameter"
   ]
  },
  {
   "cell_type": "code",
   "execution_count": 75,
   "id": "ad3d5678",
   "metadata": {},
   "outputs": [
    {
     "data": {
      "text/plain": [
       "{'criterion': 'gini', 'max_features': 'log2', 'n_estimators': 500}"
      ]
     },
     "execution_count": 75,
     "metadata": {},
     "output_type": "execute_result"
    }
   ],
   "source": [
    "parameters={\"n_estimators\":[10,100,500],'criterion':['gini', 'entropy'],'max_features':['auto', 'sqrt', 'log2']}\n",
    "clf = GridSearchCV(RandomForestClassifier(), parameters, cv=5,scoring=\"roc_auc\")\n",
    "clf.fit(principalComponents,y)\n",
    "clf.best_params_"
   ]
  },
  {
   "cell_type": "markdown",
   "id": "3f64f13a",
   "metadata": {},
   "source": [
    "### find best random state"
   ]
  },
  {
   "cell_type": "code",
   "execution_count": 76,
   "id": "79ae2fd9",
   "metadata": {},
   "outputs": [
    {
     "name": "stdout",
     "output_type": "stream",
     "text": [
      "maximum roc_auc_score is at random state : 55  and it is : 0.9484112378849221\n"
     ]
    }
   ],
   "source": [
    "besttrain(RandomForestClassifier(n_estimators=500,criterion='gini',max_features='log2'),principalComponents,y)"
   ]
  },
  {
   "cell_type": "markdown",
   "id": "6e9240f2",
   "metadata": {},
   "source": [
    "### finalize model train and fitting"
   ]
  },
  {
   "cell_type": "code",
   "execution_count": 77,
   "id": "4e927509",
   "metadata": {},
   "outputs": [],
   "source": [
    "x_train, x_test, y_train, y_test = train_test_split(principalComponents, y,random_state = 55,test_size=0.20,stratify=y)\n",
    "rf_clf=RandomForestClassifier(n_estimators=500,criterion='gini',max_features='sqrt')\n",
    "rf_clf.fit(x_train,y_train)\n",
    "y_pred=rf_clf.predict(x_test)"
   ]
  },
  {
   "cell_type": "markdown",
   "id": "57a61eb6",
   "metadata": {},
   "source": [
    "### find all metrics required to evaluate the model"
   ]
  },
  {
   "cell_type": "code",
   "execution_count": 78,
   "id": "79efa9c5",
   "metadata": {},
   "outputs": [
    {
     "name": "stdout",
     "output_type": "stream",
     "text": [
      "Confusion matrix \n",
      " [[225  22]\n",
      " [  7 257]]\n",
      "f1 score is :  0.9465930018416207\n",
      "classification report \n",
      "               precision    recall  f1-score   support\n",
      "\n",
      "           0       0.97      0.91      0.94       247\n",
      "           1       0.92      0.97      0.95       264\n",
      "\n",
      "    accuracy                           0.94       511\n",
      "   macro avg       0.95      0.94      0.94       511\n",
      "weighted avg       0.94      0.94      0.94       511\n",
      "\n",
      "AUC ROC Score:  0.9422080112869587\n",
      "CV mean 0.8604926250700344\n",
      "std: 0.035049291714766034\n"
     ]
    }
   ],
   "source": [
    "print(\"Confusion matrix \\n\",confusion_matrix(y_test,y_pred))\n",
    "print(\"f1 score is : \",f1_score(y_test,y_pred))\n",
    "print(\"classification report \\n\",classification_report(y_test,y_pred))\n",
    "print(\"AUC ROC Score: \",roc_auc_score(y_test,y_pred))\n",
    "scores=cross_val_score(i,principalComponents,y,cv=5,scoring='roc_auc')\n",
    "score=np.mean(scores)\n",
    "std=np.std(scores)\n",
    "print('CV mean',score)\n",
    "print('std:',std)"
   ]
  },
  {
   "cell_type": "markdown",
   "id": "8882fc71",
   "metadata": {},
   "source": [
    "### roc curve of model"
   ]
  },
  {
   "cell_type": "code",
   "execution_count": 81,
   "id": "65030a01",
   "metadata": {},
   "outputs": [
    {
     "data": {
      "image/png": "[encoded data removed]",
      "text/plain": [
       "<Figure size 432x288 with 1 Axes>"
      ]
     },
     "metadata": {
      "needs_background": "light"
     },
     "output_type": "display_data"
    }
   ],
   "source": [
    "fpr, tpr, threshold = roc_curve(y_test,y_pred)\n",
    "auc = roc_auc_score(y_test,y_pred)\n",
    "plt.plot(fpr, tpr, color ='orange', label ='ROC')\n",
    "plt.plot([0, 1], [0, 1], color='darkblue', linestyle='--', label ='ROC curve (area = %0.3f)'% auc)\n",
    "plt.xlabel('False Positive Rate')\n",
    "plt.ylabel('True Positive Rate')\n",
    "plt.legend()\n",
    "plt.show()"
   ]
  },
  {
   "cell_type": "markdown",
   "id": "aaa39ed7",
   "metadata": {},
   "source": [
    "### save model"
   ]
  },
  {
   "cell_type": "code",
   "execution_count": 82,
   "id": "1e8c8f35",
   "metadata": {},
   "outputs": [
    {
     "data": {
      "text/plain": [
       "['wine_datset_random_forest.pkl']"
      ]
     },
     "execution_count": 82,
     "metadata": {},
     "output_type": "execute_result"
    }
   ],
   "source": [
    "joblib.dump(rf_clf, 'wine_datset_random_forest.pkl')"
   ]
  }
 ],
 "metadata": {
  "kernelspec": {
   "display_name": "Python 3",
   "language": "python",
   "name": "python3"
  },
  "language_info": {
   "codemirror_mode": {
    "name": "ipython",
    "version": 3
   },
   "file_extension": ".py",
   "mimetype": "text/x-python",
   "name": "python",
   "nbconvert_exporter": "python",
   "pygments_lexer": "ipython3",
   "version": "3.8.8"
  }
 },
 "nbformat": 4,
 "nbformat_minor": 5
}
